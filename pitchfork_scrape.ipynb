{
 "cells": [
  {
   "cell_type": "code",
   "execution_count": null,
   "metadata": {},
   "outputs": [],
   "source": [
    "import pandas as pd\n",
    "import time\n",
    "import tweepy\n",
    "from selenium.webdriver import Chrome"
   ]
  },
  {
   "cell_type": "markdown",
   "metadata": {},
   "source": [
    "Querying our table for all reviewers who have written over 100 reviews. "
   ]
  },
  {
   "cell_type": "code",
   "execution_count": null,
   "metadata": {},
   "outputs": [],
   "source": [
    "query = \"\"\"\n",
    "SELECT\n",
    "    author\n",
    ",   COUNT(author) as reviews\n",
    "FROM\n",
    "    reviews\n",
    "GROUP BY\n",
    "    author;\"\"\"\n",
    "\n",
    "cur.execute(query)\n",
    "authors = [name[0] for name in cur.fetchall() if name[1] > 100]\n",
    "len(authors)"
   ]
  },
  {
   "cell_type": "markdown",
   "metadata": {},
   "source": [
    "Using Selenium to scrape as follows:\n",
    "* Searching Pitchfork by reviewer name\n",
    "* If they have a profile, go to that page\n",
    "* If they have a Twitter account listed, grabbing the link, and returning it to a dictionary."
   ]
  },
  {
   "cell_type": "code",
   "execution_count": null,
   "metadata": {},
   "outputs": [],
   "source": [
    "author_twitter = []\n",
    "baddys = []\n",
    "browser = Chrome()\n",
    "\n",
    "for name in authors:\n",
    "    try:\n",
    "        url_name = name.replace(\" \",\"%20\")\n",
    "        url = \"https://pitchfork.com/search/?query=\" + url_name\n",
    "        browser.get(url)\n",
    "        time.sleep(5)\n",
    "        page = browser.find_element_by_partial_link_text(name.title())\n",
    "        browser.get(page.get_attribute('href'))\n",
    "        social_links = [a.get_attribute('href') for a \n",
    "                        in browser.find_elements_by_class_name('author-socials__link') \n",
    "                        if \"twitter\" in a.get_attribute('href')]\n",
    "        author_dict = {'author': name, 'twitter': social_links[0].replace('http://twitter.com/','') }\n",
    "        author_twitter.append(author_dict)\n",
    "        time.sleep(5)\n",
    "    except Exception:\n",
    "        baddys.append(name)"
   ]
  },
  {
   "cell_type": "markdown",
   "metadata": {},
   "source": [
    "Accessing Twitter API via Tweepy Python package:"
   ]
  },
  {
   "cell_type": "markdown",
   "metadata": {},
   "source": [
    "Finding the reviewers follower count and adding to the dictionary with their details."
   ]
  },
  {
   "cell_type": "code",
   "execution_count": null,
   "metadata": {},
   "outputs": [],
   "source": [
    "keys = []\n",
    "with open('.secret/twitter.json') as f:\n",
    "    for code in f:\n",
    "        keys.append(code)"
   ]
  },
  {
   "cell_type": "code",
   "execution_count": null,
   "metadata": {},
   "outputs": [],
   "source": [
    "auth = tweepy.OAuthHandler(code[0], code[1])\n",
    "auth.set_access_token(code[2], code[3])\n",
    "\n",
    "api = tweepy.API(auth)"
   ]
  },
  {
   "cell_type": "code",
   "execution_count": null,
   "metadata": {},
   "outputs": [],
   "source": [
    "for author in author_twitter:\n",
    "    user = api.get_user(author['twitter'])\n",
    "    author['followers'] = user.followers_count\n",
    "    a_twitter.append(author)"
   ]
  },
  {
   "cell_type": "code",
   "execution_count": null,
   "metadata": {},
   "outputs": [],
   "source": [
    "twitter_df = pd.DataFrame(author_twitter)\n",
    "twitter_df.rename(columns={'name': 'author'}, inplace=True)\n",
    "twitter_df"
   ]
  },
  {
   "cell_type": "markdown",
   "metadata": {},
   "source": [
    "Exporting the data as a CSV, for later import to PostGreSql:"
   ]
  },
  {
   "cell_type": "code",
   "execution_count": null,
   "metadata": {},
   "outputs": [],
   "source": [
    "twitter_df.to_csv('author_twitter.csv')"
   ]
  }
 ],
 "metadata": {
  "kernelspec": {
   "display_name": "Python 3",
   "language": "python",
   "name": "python3"
  },
  "language_info": {
   "codemirror_mode": {
    "name": "ipython",
    "version": 3
   },
   "file_extension": ".py",
   "mimetype": "text/x-python",
   "name": "python",
   "nbconvert_exporter": "python",
   "pygments_lexer": "ipython3",
   "version": "3.6.6"
  }
 },
 "nbformat": 4,
 "nbformat_minor": 2
}
