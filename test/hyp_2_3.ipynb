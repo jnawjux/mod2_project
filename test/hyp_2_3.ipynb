{
 "cells": [
  {
   "cell_type": "markdown",
   "metadata": {},
   "source": [
    "## Loading Dataset"
   ]
  },
  {
   "cell_type": "code",
   "execution_count": 1,
   "metadata": {},
   "outputs": [],
   "source": [
    "import psycopg2\n",
    "import pandas as pd\n",
    "import numpy as np\n",
    "import seaborn as sns\n",
    "from  scipy.stats import ttest_ind\n",
    "import matplotlib.pyplot as plt\n",
    "%matplotlib inline\n",
    "conn = psycopg2.connect(\"dbname=musicdatabase\")\n",
    "cur = conn.cursor()"
   ]
  },
  {
   "cell_type": "markdown",
   "metadata": {},
   "source": [
    "## Creating DataFrames"
   ]
  },
  {
   "cell_type": "code",
   "execution_count": 2,
   "metadata": {},
   "outputs": [],
   "source": [
    "#GENRES:\n",
    "cur.execute(\"SELECT * FROM genres\")\n",
    "names = [description[0] for description in cur.description]\n",
    "genres = cur.fetchall()\n",
    "genres_df = pd.DataFrame(genres, columns=names)\n",
    "\n",
    "# #ARTISTS\n",
    "cur.execute(\"SELECT * FROM artists\")\n",
    "names = [description[0] for description in cur.description]\n",
    "artists = cur.fetchall()\n",
    "artists_df = pd.DataFrame(artists, columns=names)\n",
    "\n",
    "# #CONTENT\n",
    "cur.execute(\"SELECT * FROM content\")\n",
    "names = [description[0] for description in cur.description]\n",
    "content = cur.fetchall()\n",
    "content_df = pd.DataFrame(content, columns=names)\n",
    "\n",
    "# #LABELS\n",
    "cur.execute(\"SELECT * FROM labels\")\n",
    "names = [description[0] for description in cur.description]\n",
    "labels = cur.fetchall()\n",
    "labels_df = pd.DataFrame(labels, columns=names)\n",
    "\n",
    "# #REVIEWS\n",
    "cur.execute(\"SELECT * FROM reviews\")\n",
    "names = [description[0] for description in cur.description]\n",
    "reviews = cur.fetchall()\n",
    "reviews_df = pd.DataFrame(reviews, columns=names)\n",
    "\n",
    "# #YEARS\n",
    "cur.execute(\"SELECT * FROM years\")\n",
    "names = [description[0] for description in cur.description]\n",
    "years = cur.fetchall()\n",
    "years_df = pd.DataFrame(years, columns=names)"
   ]
  },
  {
   "cell_type": "markdown",
   "metadata": {},
   "source": [
    "## Exploring the Data"
   ]
  },
  {
   "cell_type": "code",
   "execution_count": 3,
   "metadata": {},
   "outputs": [
    {
     "name": "stdout",
     "output_type": "stream",
     "text": [
      "genre df length:  22680\n",
      "artists df length:  18831\n",
      "content df length:  18393\n",
      "labels df length:  20190\n",
      "reviews df length:  18393\n",
      "years df length:  19108\n"
     ]
    }
   ],
   "source": [
    "print('genre df length: ', len(genres_df))\n",
    "print('artists df length: ', len(artists_df))\n",
    "print('content df length: ', len(content_df))\n",
    "print('labels df length: ', len(labels_df))\n",
    "print('reviews df length: ', len(reviews_df))\n",
    "print('years df length: ', len(years_df))"
   ]
  },
  {
   "cell_type": "code",
   "execution_count": 4,
   "metadata": {},
   "outputs": [
    {
     "name": "stdout",
     "output_type": "stream",
     "text": [
      "<class 'pandas.core.frame.DataFrame'>\n",
      "RangeIndex: 18393 entries, 0 to 18392\n",
      "Data columns (total 13 columns):\n",
      "reviewid          18393 non-null int64\n",
      "title             18393 non-null object\n",
      "artist            18393 non-null object\n",
      "url               18393 non-null object\n",
      "score             18393 non-null float64\n",
      "best_new_music    18393 non-null int64\n",
      "author            18393 non-null object\n",
      "author_type       14487 non-null object\n",
      "pub_date          18393 non-null object\n",
      "pub_weekday       18393 non-null int64\n",
      "pub_day           18393 non-null int64\n",
      "pub_month         18393 non-null int64\n",
      "pub_year          18393 non-null int64\n",
      "dtypes: float64(1), int64(6), object(6)\n",
      "memory usage: 1.8+ MB\n"
     ]
    }
   ],
   "source": [
    "reviews_df.info()"
   ]
  },
  {
   "cell_type": "code",
   "execution_count": 5,
   "metadata": {},
   "outputs": [
    {
     "data": {
      "text/plain": [
       "reviewid             0\n",
       "title                0\n",
       "artist               0\n",
       "url                  0\n",
       "score                0\n",
       "best_new_music       0\n",
       "author               0\n",
       "author_type       3906\n",
       "pub_date             0\n",
       "pub_weekday          0\n",
       "pub_day              0\n",
       "pub_month            0\n",
       "pub_year             0\n",
       "dtype: int64"
      ]
     },
     "execution_count": 5,
     "metadata": {},
     "output_type": "execute_result"
    }
   ],
   "source": [
    "reviews_df.isna().sum()\n",
    "#no NANs in column 1.. however 2367 in column 2"
   ]
  },
  {
   "cell_type": "markdown",
   "metadata": {},
   "source": [
    "## Scratch Work & More Review"
   ]
  },
  {
   "cell_type": "code",
   "execution_count": 6,
   "metadata": {},
   "outputs": [
    {
     "data": {
      "text/plain": [
       "432"
      ]
     },
     "execution_count": 6,
     "metadata": {},
     "output_type": "execute_result"
    }
   ],
   "source": [
    "reviews_df['author'].value_counts()\n",
    "reviews_df['author'].nunique()"
   ]
  },
  {
   "cell_type": "code",
   "execution_count": 7,
   "metadata": {},
   "outputs": [
    {
     "data": {
      "text/plain": [
       "various artists     688\n",
       "guided by voices     23\n",
       "the beatles          21\n",
       "david bowie          21\n",
       "of montreal          20\n",
       "Name: artist, dtype: int64"
      ]
     },
     "execution_count": 7,
     "metadata": {},
     "output_type": "execute_result"
    }
   ],
   "source": [
    "reviews_df['artist'].value_counts().head()"
   ]
  },
  {
   "cell_type": "code",
   "execution_count": 8,
   "metadata": {},
   "outputs": [
    {
     "data": {
      "text/plain": [
       "18389"
      ]
     },
     "execution_count": 8,
     "metadata": {},
     "output_type": "execute_result"
    }
   ],
   "source": [
    "len(set(reviews_df['reviewid']))\n",
    "#reviews_df['reviewid'].nunique()  #does the same thing"
   ]
  },
  {
   "cell_type": "markdown",
   "metadata": {},
   "source": [
    "## Seeing Which Tables Have Multiple Rows Per Song"
   ]
  },
  {
   "cell_type": "code",
   "execution_count": 9,
   "metadata": {},
   "outputs": [
    {
     "data": {
      "text/html": [
       "<div>\n",
       "<style scoped>\n",
       "    .dataframe tbody tr th:only-of-type {\n",
       "        vertical-align: middle;\n",
       "    }\n",
       "\n",
       "    .dataframe tbody tr th {\n",
       "        vertical-align: top;\n",
       "    }\n",
       "\n",
       "    .dataframe thead th {\n",
       "        text-align: right;\n",
       "    }\n",
       "</style>\n",
       "<table border=\"1\" class=\"dataframe\">\n",
       "  <thead>\n",
       "    <tr style=\"text-align: right;\">\n",
       "      <th></th>\n",
       "      <th>reviewid</th>\n",
       "      <th>label</th>\n",
       "    </tr>\n",
       "  </thead>\n",
       "  <tbody>\n",
       "    <tr>\n",
       "      <th>14612</th>\n",
       "      <td>2626</td>\n",
       "      <td>cleopatra</td>\n",
       "    </tr>\n",
       "    <tr>\n",
       "      <th>14613</th>\n",
       "      <td>2626</td>\n",
       "      <td>alternative tentacles</td>\n",
       "    </tr>\n",
       "    <tr>\n",
       "      <th>14614</th>\n",
       "      <td>2626</td>\n",
       "      <td>manifesto</td>\n",
       "    </tr>\n",
       "    <tr>\n",
       "      <th>14615</th>\n",
       "      <td>2626</td>\n",
       "      <td>cherry red</td>\n",
       "    </tr>\n",
       "    <tr>\n",
       "      <th>14616</th>\n",
       "      <td>2626</td>\n",
       "      <td>irs</td>\n",
       "    </tr>\n",
       "  </tbody>\n",
       "</table>\n",
       "</div>"
      ],
      "text/plain": [
       "       reviewid                  label\n",
       "14612      2626              cleopatra\n",
       "14613      2626  alternative tentacles\n",
       "14614      2626              manifesto\n",
       "14615      2626             cherry red\n",
       "14616      2626                    irs"
      ]
     },
     "execution_count": 9,
     "metadata": {},
     "output_type": "execute_result"
    }
   ],
   "source": [
    "labels_df.loc[labels_df['reviewid'] == 2626]\n",
    "#example, song 6523 has 4 artists"
   ]
  },
  {
   "cell_type": "code",
   "execution_count": 10,
   "metadata": {},
   "outputs": [
    {
     "data": {
      "text/html": [
       "<div>\n",
       "<style scoped>\n",
       "    .dataframe tbody tr th:only-of-type {\n",
       "        vertical-align: middle;\n",
       "    }\n",
       "\n",
       "    .dataframe tbody tr th {\n",
       "        vertical-align: top;\n",
       "    }\n",
       "\n",
       "    .dataframe thead th {\n",
       "        text-align: right;\n",
       "    }\n",
       "</style>\n",
       "<table border=\"1\" class=\"dataframe\">\n",
       "  <thead>\n",
       "    <tr style=\"text-align: right;\">\n",
       "      <th></th>\n",
       "      <th>reviewid</th>\n",
       "      <th>title</th>\n",
       "      <th>artist</th>\n",
       "      <th>url</th>\n",
       "      <th>score</th>\n",
       "      <th>best_new_music</th>\n",
       "      <th>author</th>\n",
       "      <th>author_type</th>\n",
       "      <th>pub_date</th>\n",
       "      <th>pub_weekday</th>\n",
       "      <th>pub_day</th>\n",
       "      <th>pub_month</th>\n",
       "      <th>pub_year</th>\n",
       "    </tr>\n",
       "  </thead>\n",
       "  <tbody>\n",
       "    <tr>\n",
       "      <th>13198</th>\n",
       "      <td>2626</td>\n",
       "      <td>fresh fruit for rotting vegetables</td>\n",
       "      <td>dead kennedys</td>\n",
       "      <td>http://pitchfork.com/reviews/albums/2626-fresh...</td>\n",
       "      <td>7.0</td>\n",
       "      <td>0</td>\n",
       "      <td>cory d. byrom</td>\n",
       "      <td>None</td>\n",
       "      <td>2005-11-09</td>\n",
       "      <td>2</td>\n",
       "      <td>9</td>\n",
       "      <td>11</td>\n",
       "      <td>2005</td>\n",
       "    </tr>\n",
       "  </tbody>\n",
       "</table>\n",
       "</div>"
      ],
      "text/plain": [
       "       reviewid                               title         artist  \\\n",
       "13198      2626  fresh fruit for rotting vegetables  dead kennedys   \n",
       "\n",
       "                                                     url  score  \\\n",
       "13198  http://pitchfork.com/reviews/albums/2626-fresh...    7.0   \n",
       "\n",
       "       best_new_music         author author_type    pub_date  pub_weekday  \\\n",
       "13198               0  cory d. byrom        None  2005-11-09            2   \n",
       "\n",
       "       pub_day  pub_month  pub_year  \n",
       "13198        9         11      2005  "
      ]
     },
     "execution_count": 10,
     "metadata": {},
     "output_type": "execute_result"
    }
   ],
   "source": [
    "reviews_df.loc[reviews_df['reviewid']==2626]"
   ]
  },
  {
   "cell_type": "markdown",
   "metadata": {},
   "source": [
    "* Review Table -- has 4 songs that have 2 reviewid's... i believe this is an error as all rows are identical\n",
    "* Content Table -- also has 4 songs with 2 reviewid's... will remove the duplicated rows\n",
    "* Genres Tabel -- Many songs have 2+ genres\n",
    "* Labels Tabel -- Many songs have 2+ labels\n",
    "* Artists Tabel -- Many songs have 2+ artists\n",
    "* Year Tabel -- Many songs have 2+ release years... this may be an error... considering keeping only oldest year"
   ]
  },
  {
   "cell_type": "code",
   "execution_count": 11,
   "metadata": {},
   "outputs": [
    {
     "data": {
      "text/plain": [
       "2626     5\n",
       "21550    5\n",
       "21387    4\n",
       "17112    4\n",
       "9505     4\n",
       "17920    4\n",
       "16092    4\n",
       "16384    4\n",
       "22065    4\n",
       "22567    3\n",
       "Name: reviewid, dtype: int64"
      ]
     },
     "execution_count": 11,
     "metadata": {},
     "output_type": "execute_result"
    }
   ],
   "source": [
    "labels_df['reviewid'].value_counts().head(10)"
   ]
  },
  {
   "cell_type": "markdown",
   "metadata": {},
   "source": [
    "## Combining Genre and Review Tables"
   ]
  },
  {
   "cell_type": "markdown",
   "metadata": {},
   "source": [
    "First, one hot encode genres table. "
   ]
  },
  {
   "cell_type": "code",
   "execution_count": 12,
   "metadata": {},
   "outputs": [],
   "source": [
    "# genres_df['pop/r&b'] = genres_df['genre'].apply(lambda x: 1 if x == 'pop/r&b' else 0)\n",
    "# genres_df['electronic'] = genres_df['genre'].apply(lambda x: 1 if x == 'electronic' else 0)"
   ]
  },
  {
   "cell_type": "code",
   "execution_count": 13,
   "metadata": {},
   "outputs": [
    {
     "data": {
      "text/html": [
       "<div>\n",
       "<style scoped>\n",
       "    .dataframe tbody tr th:only-of-type {\n",
       "        vertical-align: middle;\n",
       "    }\n",
       "\n",
       "    .dataframe tbody tr th {\n",
       "        vertical-align: top;\n",
       "    }\n",
       "\n",
       "    .dataframe thead th {\n",
       "        text-align: right;\n",
       "    }\n",
       "</style>\n",
       "<table border=\"1\" class=\"dataframe\">\n",
       "  <thead>\n",
       "    <tr style=\"text-align: right;\">\n",
       "      <th></th>\n",
       "      <th>reviewid</th>\n",
       "      <th>genre</th>\n",
       "      <th>electronic</th>\n",
       "      <th>experimental</th>\n",
       "      <th>folk/country</th>\n",
       "      <th>global</th>\n",
       "      <th>jazz</th>\n",
       "      <th>metal</th>\n",
       "      <th>pop/r&amp;b</th>\n",
       "      <th>rap</th>\n",
       "      <th>rock</th>\n",
       "    </tr>\n",
       "  </thead>\n",
       "  <tbody>\n",
       "    <tr>\n",
       "      <th>0</th>\n",
       "      <td>22703</td>\n",
       "      <td>electronic</td>\n",
       "      <td>1</td>\n",
       "      <td>0</td>\n",
       "      <td>0</td>\n",
       "      <td>0</td>\n",
       "      <td>0</td>\n",
       "      <td>0</td>\n",
       "      <td>0</td>\n",
       "      <td>0</td>\n",
       "      <td>0</td>\n",
       "    </tr>\n",
       "    <tr>\n",
       "      <th>1</th>\n",
       "      <td>22721</td>\n",
       "      <td>metal</td>\n",
       "      <td>0</td>\n",
       "      <td>0</td>\n",
       "      <td>0</td>\n",
       "      <td>0</td>\n",
       "      <td>0</td>\n",
       "      <td>1</td>\n",
       "      <td>0</td>\n",
       "      <td>0</td>\n",
       "      <td>0</td>\n",
       "    </tr>\n",
       "    <tr>\n",
       "      <th>2</th>\n",
       "      <td>22659</td>\n",
       "      <td>rock</td>\n",
       "      <td>0</td>\n",
       "      <td>0</td>\n",
       "      <td>0</td>\n",
       "      <td>0</td>\n",
       "      <td>0</td>\n",
       "      <td>0</td>\n",
       "      <td>0</td>\n",
       "      <td>0</td>\n",
       "      <td>1</td>\n",
       "    </tr>\n",
       "    <tr>\n",
       "      <th>3</th>\n",
       "      <td>22661</td>\n",
       "      <td>rock</td>\n",
       "      <td>0</td>\n",
       "      <td>0</td>\n",
       "      <td>0</td>\n",
       "      <td>0</td>\n",
       "      <td>0</td>\n",
       "      <td>0</td>\n",
       "      <td>0</td>\n",
       "      <td>0</td>\n",
       "      <td>1</td>\n",
       "    </tr>\n",
       "    <tr>\n",
       "      <th>4</th>\n",
       "      <td>22725</td>\n",
       "      <td>electronic</td>\n",
       "      <td>1</td>\n",
       "      <td>0</td>\n",
       "      <td>0</td>\n",
       "      <td>0</td>\n",
       "      <td>0</td>\n",
       "      <td>0</td>\n",
       "      <td>0</td>\n",
       "      <td>0</td>\n",
       "      <td>0</td>\n",
       "    </tr>\n",
       "  </tbody>\n",
       "</table>\n",
       "</div>"
      ],
      "text/plain": [
       "   reviewid       genre  electronic  experimental  folk/country  global  jazz  \\\n",
       "0     22703  electronic           1             0             0       0     0   \n",
       "1     22721       metal           0             0             0       0     0   \n",
       "2     22659        rock           0             0             0       0     0   \n",
       "3     22661        rock           0             0             0       0     0   \n",
       "4     22725  electronic           1             0             0       0     0   \n",
       "\n",
       "   metal  pop/r&b  rap  rock  \n",
       "0      0        0    0     0  \n",
       "1      1        0    0     0  \n",
       "2      0        0    0     1  \n",
       "3      0        0    0     1  \n",
       "4      0        0    0     0  "
      ]
     },
     "execution_count": 13,
     "metadata": {},
     "output_type": "execute_result"
    }
   ],
   "source": [
    "genres_one_hot = pd.get_dummies(genres_df['genre'])\n",
    "genres_one_hot.head()\n",
    "genres_hot_df = pd.concat([genres_df, genres_one_hot], axis = 1)\n",
    "genres_hot_df.head()"
   ]
  },
  {
   "cell_type": "markdown",
   "metadata": {},
   "source": [
    "Second, filtered genres table for only pop & electric"
   ]
  },
  {
   "cell_type": "code",
   "execution_count": 14,
   "metadata": {},
   "outputs": [
    {
     "data": {
      "text/html": [
       "<div>\n",
       "<style scoped>\n",
       "    .dataframe tbody tr th:only-of-type {\n",
       "        vertical-align: middle;\n",
       "    }\n",
       "\n",
       "    .dataframe tbody tr th {\n",
       "        vertical-align: top;\n",
       "    }\n",
       "\n",
       "    .dataframe thead th {\n",
       "        text-align: right;\n",
       "    }\n",
       "</style>\n",
       "<table border=\"1\" class=\"dataframe\">\n",
       "  <thead>\n",
       "    <tr style=\"text-align: right;\">\n",
       "      <th></th>\n",
       "      <th>reviewid</th>\n",
       "      <th>electronic</th>\n",
       "      <th>pop/r&amp;b</th>\n",
       "    </tr>\n",
       "  </thead>\n",
       "  <tbody>\n",
       "    <tr>\n",
       "      <th>0</th>\n",
       "      <td>22703</td>\n",
       "      <td>1</td>\n",
       "      <td>0</td>\n",
       "    </tr>\n",
       "    <tr>\n",
       "      <th>4</th>\n",
       "      <td>22725</td>\n",
       "      <td>1</td>\n",
       "      <td>0</td>\n",
       "    </tr>\n",
       "    <tr>\n",
       "      <th>7</th>\n",
       "      <td>22694</td>\n",
       "      <td>1</td>\n",
       "      <td>0</td>\n",
       "    </tr>\n",
       "    <tr>\n",
       "      <th>12</th>\n",
       "      <td>22700</td>\n",
       "      <td>1</td>\n",
       "      <td>0</td>\n",
       "    </tr>\n",
       "    <tr>\n",
       "      <th>18</th>\n",
       "      <td>22719</td>\n",
       "      <td>0</td>\n",
       "      <td>1</td>\n",
       "    </tr>\n",
       "  </tbody>\n",
       "</table>\n",
       "</div>"
      ],
      "text/plain": [
       "    reviewid  electronic  pop/r&b\n",
       "0      22703           1        0\n",
       "4      22725           1        0\n",
       "7      22694           1        0\n",
       "12     22700           1        0\n",
       "18     22719           0        1"
      ]
     },
     "execution_count": 14,
     "metadata": {},
     "output_type": "execute_result"
    }
   ],
   "source": [
    "genres_hot_df_filtered = genres_hot_df[(genres_hot_df['pop/r&b'] == 1) | (genres_hot_df['electronic'] == 1)]\n",
    "genres_hot_df_filtered = genres_hot_df_filtered[['reviewid', 'electronic', 'pop/r&b']]\n",
    "genres_hot_df_filtered.head()"
   ]
  },
  {
   "cell_type": "markdown",
   "metadata": {},
   "source": [
    "Third, add value_count column in order to remove any albums that fall under both electronic & pop."
   ]
  },
  {
   "cell_type": "code",
   "execution_count": 15,
   "metadata": {},
   "outputs": [
    {
     "data": {
      "text/html": [
       "<div>\n",
       "<style scoped>\n",
       "    .dataframe tbody tr th:only-of-type {\n",
       "        vertical-align: middle;\n",
       "    }\n",
       "\n",
       "    .dataframe tbody tr th {\n",
       "        vertical-align: top;\n",
       "    }\n",
       "\n",
       "    .dataframe thead th {\n",
       "        text-align: right;\n",
       "    }\n",
       "</style>\n",
       "<table border=\"1\" class=\"dataframe\">\n",
       "  <thead>\n",
       "    <tr style=\"text-align: right;\">\n",
       "      <th></th>\n",
       "      <th>reviewid</th>\n",
       "      <th>electronic</th>\n",
       "      <th>pop/r&amp;b</th>\n",
       "      <th>value_count</th>\n",
       "    </tr>\n",
       "  </thead>\n",
       "  <tbody>\n",
       "    <tr>\n",
       "      <th>0</th>\n",
       "      <td>22703</td>\n",
       "      <td>1</td>\n",
       "      <td>0</td>\n",
       "      <td>1</td>\n",
       "    </tr>\n",
       "    <tr>\n",
       "      <th>4</th>\n",
       "      <td>22725</td>\n",
       "      <td>1</td>\n",
       "      <td>0</td>\n",
       "      <td>1</td>\n",
       "    </tr>\n",
       "    <tr>\n",
       "      <th>7</th>\n",
       "      <td>22694</td>\n",
       "      <td>1</td>\n",
       "      <td>0</td>\n",
       "      <td>1</td>\n",
       "    </tr>\n",
       "    <tr>\n",
       "      <th>12</th>\n",
       "      <td>22700</td>\n",
       "      <td>1</td>\n",
       "      <td>0</td>\n",
       "      <td>1</td>\n",
       "    </tr>\n",
       "    <tr>\n",
       "      <th>18</th>\n",
       "      <td>22719</td>\n",
       "      <td>0</td>\n",
       "      <td>1</td>\n",
       "      <td>1</td>\n",
       "    </tr>\n",
       "  </tbody>\n",
       "</table>\n",
       "</div>"
      ],
      "text/plain": [
       "    reviewid  electronic  pop/r&b  value_count\n",
       "0      22703           1        0            1\n",
       "4      22725           1        0            1\n",
       "7      22694           1        0            1\n",
       "12     22700           1        0            1\n",
       "18     22719           0        1            1"
      ]
     },
     "execution_count": 15,
     "metadata": {},
     "output_type": "execute_result"
    }
   ],
   "source": [
    "genre_counts = genres_hot_df_filtered['reviewid'].value_counts()\n",
    "genre_dict = genre_counts.to_dict()\n",
    "genres_hot_df_filtered['value_count'] = genres_hot_df_filtered['reviewid'].apply(lambda x: genre_dict[x])\n",
    "genres_hot_df_filtered.head()"
   ]
  },
  {
   "cell_type": "markdown",
   "metadata": {},
   "source": [
    "Remove albums with both electronic and pop (where value_counts = 2)"
   ]
  },
  {
   "cell_type": "code",
   "execution_count": 16,
   "metadata": {},
   "outputs": [
    {
     "data": {
      "text/html": [
       "<div>\n",
       "<style scoped>\n",
       "    .dataframe tbody tr th:only-of-type {\n",
       "        vertical-align: middle;\n",
       "    }\n",
       "\n",
       "    .dataframe tbody tr th {\n",
       "        vertical-align: top;\n",
       "    }\n",
       "\n",
       "    .dataframe thead th {\n",
       "        text-align: right;\n",
       "    }\n",
       "</style>\n",
       "<table border=\"1\" class=\"dataframe\">\n",
       "  <thead>\n",
       "    <tr style=\"text-align: right;\">\n",
       "      <th></th>\n",
       "      <th>reviewid</th>\n",
       "      <th>electronic</th>\n",
       "      <th>pop/r&amp;b</th>\n",
       "      <th>value_count</th>\n",
       "    </tr>\n",
       "  </thead>\n",
       "  <tbody>\n",
       "    <tr>\n",
       "      <th>0</th>\n",
       "      <td>22703</td>\n",
       "      <td>1</td>\n",
       "      <td>0</td>\n",
       "      <td>1</td>\n",
       "    </tr>\n",
       "    <tr>\n",
       "      <th>4</th>\n",
       "      <td>22725</td>\n",
       "      <td>1</td>\n",
       "      <td>0</td>\n",
       "      <td>1</td>\n",
       "    </tr>\n",
       "    <tr>\n",
       "      <th>7</th>\n",
       "      <td>22694</td>\n",
       "      <td>1</td>\n",
       "      <td>0</td>\n",
       "      <td>1</td>\n",
       "    </tr>\n",
       "    <tr>\n",
       "      <th>12</th>\n",
       "      <td>22700</td>\n",
       "      <td>1</td>\n",
       "      <td>0</td>\n",
       "      <td>1</td>\n",
       "    </tr>\n",
       "    <tr>\n",
       "      <th>18</th>\n",
       "      <td>22719</td>\n",
       "      <td>0</td>\n",
       "      <td>1</td>\n",
       "      <td>1</td>\n",
       "    </tr>\n",
       "  </tbody>\n",
       "</table>\n",
       "</div>"
      ],
      "text/plain": [
       "    reviewid  electronic  pop/r&b  value_count\n",
       "0      22703           1        0            1\n",
       "4      22725           1        0            1\n",
       "7      22694           1        0            1\n",
       "12     22700           1        0            1\n",
       "18     22719           0        1            1"
      ]
     },
     "execution_count": 16,
     "metadata": {},
     "output_type": "execute_result"
    }
   ],
   "source": [
    "genre_to_drop = genres_hot_df_filtered[genres_hot_df_filtered['value_count'] == 2]\n",
    "genres_df_new = genres_hot_df_filtered.drop(genre_to_drop.index, axis=0)\n",
    "genres_df_new.head()"
   ]
  },
  {
   "cell_type": "markdown",
   "metadata": {},
   "source": [
    "Merge the new Genre Table with the existing Review Table"
   ]
  },
  {
   "cell_type": "code",
   "execution_count": 17,
   "metadata": {},
   "outputs": [
    {
     "data": {
      "text/html": [
       "<div>\n",
       "<style scoped>\n",
       "    .dataframe tbody tr th:only-of-type {\n",
       "        vertical-align: middle;\n",
       "    }\n",
       "\n",
       "    .dataframe tbody tr th {\n",
       "        vertical-align: top;\n",
       "    }\n",
       "\n",
       "    .dataframe thead th {\n",
       "        text-align: right;\n",
       "    }\n",
       "</style>\n",
       "<table border=\"1\" class=\"dataframe\">\n",
       "  <thead>\n",
       "    <tr style=\"text-align: right;\">\n",
       "      <th></th>\n",
       "      <th>reviewid</th>\n",
       "      <th>title</th>\n",
       "      <th>artist</th>\n",
       "      <th>url</th>\n",
       "      <th>score</th>\n",
       "      <th>best_new_music</th>\n",
       "      <th>author</th>\n",
       "      <th>author_type</th>\n",
       "      <th>pub_date</th>\n",
       "      <th>pub_weekday</th>\n",
       "      <th>pub_day</th>\n",
       "      <th>pub_month</th>\n",
       "      <th>pub_year</th>\n",
       "      <th>electronic</th>\n",
       "      <th>pop/r&amp;b</th>\n",
       "      <th>value_count</th>\n",
       "    </tr>\n",
       "  </thead>\n",
       "  <tbody>\n",
       "    <tr>\n",
       "      <th>0</th>\n",
       "      <td>22703</td>\n",
       "      <td>mezzanine</td>\n",
       "      <td>massive attack</td>\n",
       "      <td>http://pitchfork.com/reviews/albums/22703-mezz...</td>\n",
       "      <td>9.3</td>\n",
       "      <td>0</td>\n",
       "      <td>nate patrin</td>\n",
       "      <td>contributor</td>\n",
       "      <td>2017-01-08</td>\n",
       "      <td>6</td>\n",
       "      <td>8</td>\n",
       "      <td>1</td>\n",
       "      <td>2017</td>\n",
       "      <td>1</td>\n",
       "      <td>0</td>\n",
       "      <td>1</td>\n",
       "    </tr>\n",
       "    <tr>\n",
       "      <th>1</th>\n",
       "      <td>22725</td>\n",
       "      <td>new start</td>\n",
       "      <td>taso</td>\n",
       "      <td>http://pitchfork.com/reviews/albums/22725-new-...</td>\n",
       "      <td>8.1</td>\n",
       "      <td>0</td>\n",
       "      <td>kevin lozano</td>\n",
       "      <td>tracks coordinator</td>\n",
       "      <td>2017-01-06</td>\n",
       "      <td>4</td>\n",
       "      <td>6</td>\n",
       "      <td>1</td>\n",
       "      <td>2017</td>\n",
       "      <td>1</td>\n",
       "      <td>0</td>\n",
       "      <td>1</td>\n",
       "    </tr>\n",
       "    <tr>\n",
       "      <th>2</th>\n",
       "      <td>22694</td>\n",
       "      <td>tehillim</td>\n",
       "      <td>yotam avni</td>\n",
       "      <td>http://pitchfork.com/reviews/albums/22694-tehi...</td>\n",
       "      <td>7.0</td>\n",
       "      <td>0</td>\n",
       "      <td>andy beta</td>\n",
       "      <td>contributor</td>\n",
       "      <td>2017-01-05</td>\n",
       "      <td>3</td>\n",
       "      <td>5</td>\n",
       "      <td>1</td>\n",
       "      <td>2017</td>\n",
       "      <td>1</td>\n",
       "      <td>0</td>\n",
       "      <td>1</td>\n",
       "    </tr>\n",
       "    <tr>\n",
       "      <th>3</th>\n",
       "      <td>22700</td>\n",
       "      <td>nadir</td>\n",
       "      <td>steven warwick</td>\n",
       "      <td>http://pitchfork.com/reviews/albums/22700-nadir/</td>\n",
       "      <td>7.6</td>\n",
       "      <td>0</td>\n",
       "      <td>thea ballard</td>\n",
       "      <td>contributor</td>\n",
       "      <td>2017-01-03</td>\n",
       "      <td>1</td>\n",
       "      <td>3</td>\n",
       "      <td>1</td>\n",
       "      <td>2017</td>\n",
       "      <td>1</td>\n",
       "      <td>0</td>\n",
       "      <td>1</td>\n",
       "    </tr>\n",
       "    <tr>\n",
       "      <th>4</th>\n",
       "      <td>22719</td>\n",
       "      <td>merry christmas lil mama</td>\n",
       "      <td>chance the rapper, jeremih</td>\n",
       "      <td>http://pitchfork.com/reviews/albums/22719-merr...</td>\n",
       "      <td>8.1</td>\n",
       "      <td>0</td>\n",
       "      <td>sheldon pearce</td>\n",
       "      <td>associate staff writer</td>\n",
       "      <td>2016-12-30</td>\n",
       "      <td>4</td>\n",
       "      <td>30</td>\n",
       "      <td>12</td>\n",
       "      <td>2016</td>\n",
       "      <td>0</td>\n",
       "      <td>1</td>\n",
       "      <td>1</td>\n",
       "    </tr>\n",
       "  </tbody>\n",
       "</table>\n",
       "</div>"
      ],
      "text/plain": [
       "   reviewid                     title                      artist  \\\n",
       "0     22703                 mezzanine              massive attack   \n",
       "1     22725                 new start                        taso   \n",
       "2     22694                  tehillim                  yotam avni   \n",
       "3     22700                     nadir              steven warwick   \n",
       "4     22719  merry christmas lil mama  chance the rapper, jeremih   \n",
       "\n",
       "                                                 url  score  best_new_music  \\\n",
       "0  http://pitchfork.com/reviews/albums/22703-mezz...    9.3               0   \n",
       "1  http://pitchfork.com/reviews/albums/22725-new-...    8.1               0   \n",
       "2  http://pitchfork.com/reviews/albums/22694-tehi...    7.0               0   \n",
       "3   http://pitchfork.com/reviews/albums/22700-nadir/    7.6               0   \n",
       "4  http://pitchfork.com/reviews/albums/22719-merr...    8.1               0   \n",
       "\n",
       "           author             author_type    pub_date  pub_weekday  pub_day  \\\n",
       "0     nate patrin             contributor  2017-01-08            6        8   \n",
       "1    kevin lozano      tracks coordinator  2017-01-06            4        6   \n",
       "2       andy beta             contributor  2017-01-05            3        5   \n",
       "3    thea ballard             contributor  2017-01-03            1        3   \n",
       "4  sheldon pearce  associate staff writer  2016-12-30            4       30   \n",
       "\n",
       "   pub_month  pub_year  electronic  pop/r&b  value_count  \n",
       "0          1      2017           1        0            1  \n",
       "1          1      2017           1        0            1  \n",
       "2          1      2017           1        0            1  \n",
       "3          1      2017           1        0            1  \n",
       "4         12      2016           0        1            1  "
      ]
     },
     "execution_count": 17,
     "metadata": {},
     "output_type": "execute_result"
    }
   ],
   "source": [
    "#rg = review & genres\n",
    "rg_df = reviews_df.merge(genres_df_new, left_on='reviewid', right_on='reviewid')\n",
    "rg_df.head()"
   ]
  },
  {
   "cell_type": "markdown",
   "metadata": {},
   "source": [
    "## Combining Label & Review Tables"
   ]
  },
  {
   "cell_type": "markdown",
   "metadata": {},
   "source": [
    "Add value_count column to labels table to find all albums with 2+ labels. "
   ]
  },
  {
   "cell_type": "code",
   "execution_count": 18,
   "metadata": {},
   "outputs": [
    {
     "data": {
      "text/html": [
       "<div>\n",
       "<style scoped>\n",
       "    .dataframe tbody tr th:only-of-type {\n",
       "        vertical-align: middle;\n",
       "    }\n",
       "\n",
       "    .dataframe tbody tr th {\n",
       "        vertical-align: top;\n",
       "    }\n",
       "\n",
       "    .dataframe thead th {\n",
       "        text-align: right;\n",
       "    }\n",
       "</style>\n",
       "<table border=\"1\" class=\"dataframe\">\n",
       "  <thead>\n",
       "    <tr style=\"text-align: right;\">\n",
       "      <th></th>\n",
       "      <th>reviewid</th>\n",
       "      <th>label</th>\n",
       "      <th>value_count</th>\n",
       "    </tr>\n",
       "  </thead>\n",
       "  <tbody>\n",
       "    <tr>\n",
       "      <th>0</th>\n",
       "      <td>22703</td>\n",
       "      <td>virgin</td>\n",
       "      <td>1</td>\n",
       "    </tr>\n",
       "    <tr>\n",
       "      <th>1</th>\n",
       "      <td>22721</td>\n",
       "      <td>hathenter</td>\n",
       "      <td>1</td>\n",
       "    </tr>\n",
       "    <tr>\n",
       "      <th>2</th>\n",
       "      <td>22659</td>\n",
       "      <td>static shock</td>\n",
       "      <td>2</td>\n",
       "    </tr>\n",
       "    <tr>\n",
       "      <th>3</th>\n",
       "      <td>22659</td>\n",
       "      <td>fashionable idiots</td>\n",
       "      <td>2</td>\n",
       "    </tr>\n",
       "    <tr>\n",
       "      <th>4</th>\n",
       "      <td>22661</td>\n",
       "      <td>kill rock stars</td>\n",
       "      <td>2</td>\n",
       "    </tr>\n",
       "  </tbody>\n",
       "</table>\n",
       "</div>"
      ],
      "text/plain": [
       "   reviewid               label  value_count\n",
       "0     22703              virgin            1\n",
       "1     22721           hathenter            1\n",
       "2     22659        static shock            2\n",
       "3     22659  fashionable idiots            2\n",
       "4     22661     kill rock stars            2"
      ]
     },
     "execution_count": 18,
     "metadata": {},
     "output_type": "execute_result"
    }
   ],
   "source": [
    "label_counts = labels_df['reviewid'].value_counts()\n",
    "label_dict = label_counts.to_dict()\n",
    "labels_df['value_count'] = labels_df['reviewid'].apply(lambda x: label_dict[x])\n",
    "labels_df.head()"
   ]
  },
  {
   "cell_type": "markdown",
   "metadata": {},
   "source": [
    "Drop any rows where value_count is greater than 1 (remove any albums with 2+ labels)."
   ]
  },
  {
   "cell_type": "code",
   "execution_count": 19,
   "metadata": {},
   "outputs": [
    {
     "data": {
      "text/html": [
       "<div>\n",
       "<style scoped>\n",
       "    .dataframe tbody tr th:only-of-type {\n",
       "        vertical-align: middle;\n",
       "    }\n",
       "\n",
       "    .dataframe tbody tr th {\n",
       "        vertical-align: top;\n",
       "    }\n",
       "\n",
       "    .dataframe thead th {\n",
       "        text-align: right;\n",
       "    }\n",
       "</style>\n",
       "<table border=\"1\" class=\"dataframe\">\n",
       "  <thead>\n",
       "    <tr style=\"text-align: right;\">\n",
       "      <th></th>\n",
       "      <th>reviewid</th>\n",
       "      <th>label</th>\n",
       "      <th>value_count</th>\n",
       "    </tr>\n",
       "  </thead>\n",
       "  <tbody>\n",
       "    <tr>\n",
       "      <th>0</th>\n",
       "      <td>22703</td>\n",
       "      <td>virgin</td>\n",
       "      <td>1</td>\n",
       "    </tr>\n",
       "    <tr>\n",
       "      <th>1</th>\n",
       "      <td>22721</td>\n",
       "      <td>hathenter</td>\n",
       "      <td>1</td>\n",
       "    </tr>\n",
       "    <tr>\n",
       "      <th>6</th>\n",
       "      <td>22725</td>\n",
       "      <td>teklife</td>\n",
       "      <td>1</td>\n",
       "    </tr>\n",
       "    <tr>\n",
       "      <th>7</th>\n",
       "      <td>22722</td>\n",
       "      <td>rca</td>\n",
       "      <td>1</td>\n",
       "    </tr>\n",
       "    <tr>\n",
       "      <th>8</th>\n",
       "      <td>22704</td>\n",
       "      <td>age 101</td>\n",
       "      <td>1</td>\n",
       "    </tr>\n",
       "  </tbody>\n",
       "</table>\n",
       "</div>"
      ],
      "text/plain": [
       "   reviewid      label  value_count\n",
       "0     22703     virgin            1\n",
       "1     22721  hathenter            1\n",
       "6     22725    teklife            1\n",
       "7     22722        rca            1\n",
       "8     22704    age 101            1"
      ]
     },
     "execution_count": 19,
     "metadata": {},
     "output_type": "execute_result"
    }
   ],
   "source": [
    "label_to_drop = labels_df[labels_df['value_count'] > 1]\n",
    "labels_df_filtered = labels_df.drop(label_to_drop.index, axis=0)\n",
    "labels_df_filtered.head()"
   ]
  },
  {
   "cell_type": "code",
   "execution_count": 20,
   "metadata": {},
   "outputs": [
    {
     "name": "stdout",
     "output_type": "stream",
     "text": [
      "20190\n",
      "16761\n",
      "16761\n"
     ]
    }
   ],
   "source": [
    "print(len(labels_df))\n",
    "print(len(labels_df_filtered))\n",
    "print(labels_df_filtered['reviewid'].nunique())"
   ]
  },
  {
   "cell_type": "markdown",
   "metadata": {},
   "source": [
    "Add column to label table that specifies if the label is self-released or not. "
   ]
  },
  {
   "cell_type": "code",
   "execution_count": 21,
   "metadata": {},
   "outputs": [
    {
     "data": {
      "text/html": [
       "<div>\n",
       "<style scoped>\n",
       "    .dataframe tbody tr th:only-of-type {\n",
       "        vertical-align: middle;\n",
       "    }\n",
       "\n",
       "    .dataframe tbody tr th {\n",
       "        vertical-align: top;\n",
       "    }\n",
       "\n",
       "    .dataframe thead th {\n",
       "        text-align: right;\n",
       "    }\n",
       "</style>\n",
       "<table border=\"1\" class=\"dataframe\">\n",
       "  <thead>\n",
       "    <tr style=\"text-align: right;\">\n",
       "      <th></th>\n",
       "      <th>reviewid</th>\n",
       "      <th>label</th>\n",
       "      <th>value_count</th>\n",
       "      <th>self-released</th>\n",
       "    </tr>\n",
       "  </thead>\n",
       "  <tbody>\n",
       "    <tr>\n",
       "      <th>0</th>\n",
       "      <td>22703</td>\n",
       "      <td>virgin</td>\n",
       "      <td>1</td>\n",
       "      <td>0</td>\n",
       "    </tr>\n",
       "    <tr>\n",
       "      <th>1</th>\n",
       "      <td>22721</td>\n",
       "      <td>hathenter</td>\n",
       "      <td>1</td>\n",
       "      <td>0</td>\n",
       "    </tr>\n",
       "    <tr>\n",
       "      <th>6</th>\n",
       "      <td>22725</td>\n",
       "      <td>teklife</td>\n",
       "      <td>1</td>\n",
       "      <td>0</td>\n",
       "    </tr>\n",
       "    <tr>\n",
       "      <th>7</th>\n",
       "      <td>22722</td>\n",
       "      <td>rca</td>\n",
       "      <td>1</td>\n",
       "      <td>0</td>\n",
       "    </tr>\n",
       "    <tr>\n",
       "      <th>8</th>\n",
       "      <td>22704</td>\n",
       "      <td>age 101</td>\n",
       "      <td>1</td>\n",
       "      <td>0</td>\n",
       "    </tr>\n",
       "  </tbody>\n",
       "</table>\n",
       "</div>"
      ],
      "text/plain": [
       "   reviewid      label  value_count  self-released\n",
       "0     22703     virgin            1              0\n",
       "1     22721  hathenter            1              0\n",
       "6     22725    teklife            1              0\n",
       "7     22722        rca            1              0\n",
       "8     22704    age 101            1              0"
      ]
     },
     "execution_count": 21,
     "metadata": {},
     "output_type": "execute_result"
    }
   ],
   "source": [
    "labels_df_filtered['self-released'] =  labels_df_filtered['label'].apply(lambda x: 1 if x == 'self-released' else 0)\n",
    "labels_df_filtered.head()"
   ]
  },
  {
   "cell_type": "code",
   "execution_count": 22,
   "metadata": {},
   "outputs": [
    {
     "data": {
      "text/plain": [
       "418"
      ]
     },
     "execution_count": 22,
     "metadata": {},
     "output_type": "execute_result"
    }
   ],
   "source": [
    "sum(labels_df_filtered['self-released'])"
   ]
  },
  {
   "cell_type": "markdown",
   "metadata": {},
   "source": [
    "*There were 2 self-released albums that had at least 1 other label assigned to it. We removed these in the dataset (along with any other albums with 2+ labels).*"
   ]
  },
  {
   "cell_type": "markdown",
   "metadata": {},
   "source": [
    "Merge labels table with review table."
   ]
  },
  {
   "cell_type": "code",
   "execution_count": 23,
   "metadata": {},
   "outputs": [
    {
     "data": {
      "text/html": [
       "<div>\n",
       "<style scoped>\n",
       "    .dataframe tbody tr th:only-of-type {\n",
       "        vertical-align: middle;\n",
       "    }\n",
       "\n",
       "    .dataframe tbody tr th {\n",
       "        vertical-align: top;\n",
       "    }\n",
       "\n",
       "    .dataframe thead th {\n",
       "        text-align: right;\n",
       "    }\n",
       "</style>\n",
       "<table border=\"1\" class=\"dataframe\">\n",
       "  <thead>\n",
       "    <tr style=\"text-align: right;\">\n",
       "      <th></th>\n",
       "      <th>reviewid</th>\n",
       "      <th>title</th>\n",
       "      <th>artist</th>\n",
       "      <th>url</th>\n",
       "      <th>score</th>\n",
       "      <th>best_new_music</th>\n",
       "      <th>author</th>\n",
       "      <th>author_type</th>\n",
       "      <th>pub_date</th>\n",
       "      <th>pub_weekday</th>\n",
       "      <th>pub_day</th>\n",
       "      <th>pub_month</th>\n",
       "      <th>pub_year</th>\n",
       "      <th>label</th>\n",
       "      <th>value_count</th>\n",
       "      <th>self-released</th>\n",
       "    </tr>\n",
       "  </thead>\n",
       "  <tbody>\n",
       "    <tr>\n",
       "      <th>0</th>\n",
       "      <td>22703</td>\n",
       "      <td>mezzanine</td>\n",
       "      <td>massive attack</td>\n",
       "      <td>http://pitchfork.com/reviews/albums/22703-mezz...</td>\n",
       "      <td>9.3</td>\n",
       "      <td>0</td>\n",
       "      <td>nate patrin</td>\n",
       "      <td>contributor</td>\n",
       "      <td>2017-01-08</td>\n",
       "      <td>6</td>\n",
       "      <td>8</td>\n",
       "      <td>1</td>\n",
       "      <td>2017</td>\n",
       "      <td>virgin</td>\n",
       "      <td>1</td>\n",
       "      <td>0</td>\n",
       "    </tr>\n",
       "    <tr>\n",
       "      <th>1</th>\n",
       "      <td>22721</td>\n",
       "      <td>prelapsarian</td>\n",
       "      <td>krallice</td>\n",
       "      <td>http://pitchfork.com/reviews/albums/22721-prel...</td>\n",
       "      <td>7.9</td>\n",
       "      <td>0</td>\n",
       "      <td>zoe camp</td>\n",
       "      <td>contributor</td>\n",
       "      <td>2017-01-07</td>\n",
       "      <td>5</td>\n",
       "      <td>7</td>\n",
       "      <td>1</td>\n",
       "      <td>2017</td>\n",
       "      <td>hathenter</td>\n",
       "      <td>1</td>\n",
       "      <td>0</td>\n",
       "    </tr>\n",
       "    <tr>\n",
       "      <th>2</th>\n",
       "      <td>22725</td>\n",
       "      <td>new start</td>\n",
       "      <td>taso</td>\n",
       "      <td>http://pitchfork.com/reviews/albums/22725-new-...</td>\n",
       "      <td>8.1</td>\n",
       "      <td>0</td>\n",
       "      <td>kevin lozano</td>\n",
       "      <td>tracks coordinator</td>\n",
       "      <td>2017-01-06</td>\n",
       "      <td>4</td>\n",
       "      <td>6</td>\n",
       "      <td>1</td>\n",
       "      <td>2017</td>\n",
       "      <td>teklife</td>\n",
       "      <td>1</td>\n",
       "      <td>0</td>\n",
       "    </tr>\n",
       "    <tr>\n",
       "      <th>3</th>\n",
       "      <td>22722</td>\n",
       "      <td>insecure (music from the hbo original series)</td>\n",
       "      <td>various artists</td>\n",
       "      <td>http://pitchfork.com/reviews/albums/22722-inse...</td>\n",
       "      <td>7.4</td>\n",
       "      <td>0</td>\n",
       "      <td>vanessa okoth-obbo</td>\n",
       "      <td>contributor</td>\n",
       "      <td>2017-01-05</td>\n",
       "      <td>3</td>\n",
       "      <td>5</td>\n",
       "      <td>1</td>\n",
       "      <td>2017</td>\n",
       "      <td>rca</td>\n",
       "      <td>1</td>\n",
       "      <td>0</td>\n",
       "    </tr>\n",
       "    <tr>\n",
       "      <th>4</th>\n",
       "      <td>22704</td>\n",
       "      <td>stillness in wonderland</td>\n",
       "      <td>little simz</td>\n",
       "      <td>http://pitchfork.com/reviews/albums/22704-litt...</td>\n",
       "      <td>7.1</td>\n",
       "      <td>0</td>\n",
       "      <td>katherine st. asaph</td>\n",
       "      <td>contributor</td>\n",
       "      <td>2017-01-05</td>\n",
       "      <td>3</td>\n",
       "      <td>5</td>\n",
       "      <td>1</td>\n",
       "      <td>2017</td>\n",
       "      <td>age 101</td>\n",
       "      <td>1</td>\n",
       "      <td>0</td>\n",
       "    </tr>\n",
       "  </tbody>\n",
       "</table>\n",
       "</div>"
      ],
      "text/plain": [
       "   reviewid                                          title           artist  \\\n",
       "0     22703                                      mezzanine   massive attack   \n",
       "1     22721                                   prelapsarian         krallice   \n",
       "2     22725                                      new start             taso   \n",
       "3     22722  insecure (music from the hbo original series)  various artists   \n",
       "4     22704                        stillness in wonderland      little simz   \n",
       "\n",
       "                                                 url  score  best_new_music  \\\n",
       "0  http://pitchfork.com/reviews/albums/22703-mezz...    9.3               0   \n",
       "1  http://pitchfork.com/reviews/albums/22721-prel...    7.9               0   \n",
       "2  http://pitchfork.com/reviews/albums/22725-new-...    8.1               0   \n",
       "3  http://pitchfork.com/reviews/albums/22722-inse...    7.4               0   \n",
       "4  http://pitchfork.com/reviews/albums/22704-litt...    7.1               0   \n",
       "\n",
       "                author         author_type    pub_date  pub_weekday  pub_day  \\\n",
       "0          nate patrin         contributor  2017-01-08            6        8   \n",
       "1             zoe camp         contributor  2017-01-07            5        7   \n",
       "2         kevin lozano  tracks coordinator  2017-01-06            4        6   \n",
       "3   vanessa okoth-obbo         contributor  2017-01-05            3        5   \n",
       "4  katherine st. asaph         contributor  2017-01-05            3        5   \n",
       "\n",
       "   pub_month  pub_year      label  value_count  self-released  \n",
       "0          1      2017     virgin            1              0  \n",
       "1          1      2017  hathenter            1              0  \n",
       "2          1      2017    teklife            1              0  \n",
       "3          1      2017        rca            1              0  \n",
       "4          1      2017    age 101            1              0  "
      ]
     },
     "execution_count": 23,
     "metadata": {},
     "output_type": "execute_result"
    }
   ],
   "source": [
    "#rl = review & labels\n",
    "rl_df = reviews_df.merge(labels_df_filtered, left_on='reviewid', right_on='reviewid')\n",
    "rl_df.head()"
   ]
  },
  {
   "cell_type": "markdown",
   "metadata": {},
   "source": [
    "## Hypothesis Test #1 \n",
    "* Null: There is no statistically significant difference between the reviews for pop/R&B albums and electronic music albums.\n",
    "* Alternative: The reviews for pop/R&B albums and electronic albums have a statistically significant difference between how they are reviewed, either positively or negatively. "
   ]
  },
  {
   "cell_type": "code",
   "execution_count": 24,
   "metadata": {},
   "outputs": [],
   "source": [
    "pop_df = rg_df[rg_df['pop/r&b'] == 1].copy()\n",
    "elec_df = rg_df[rg_df['electronic'] == 1].copy()"
   ]
  },
  {
   "cell_type": "code",
   "execution_count": 25,
   "metadata": {},
   "outputs": [
    {
     "name": "stderr",
     "output_type": "stream",
     "text": [
      "/anaconda3/lib/python3.7/site-packages/scipy/stats/stats.py:1713: FutureWarning: Using a non-tuple sequence for multidimensional indexing is deprecated; use `arr[tuple(seq)]` instead of `arr[seq]`. In the future this will be interpreted as an array index, `arr[np.array(seq)]`, which will result either in an error or a different result.\n",
      "  return np.add.reduce(sorted[indexer] * weights, axis=axis) / sumval\n"
     ]
    },
    {
     "data": {
      "image/png": "[encoded data removed]",
      "text/plain": [
       "<Figure size 792x432 with 1 Axes>"
      ]
     },
     "metadata": {
      "needs_background": "light"
     },
     "output_type": "display_data"
    }
   ],
   "source": [
    "plt.figure(figsize=(11,6))\n",
    "sns.distplot(pop_df['score'], label=\"Pop/R&B Music\")\n",
    "sns.distplot(elec_df['score'], label=\"Electronic Music\");\n",
    "plt.legend();"
   ]
  },
  {
   "cell_type": "code",
   "execution_count": 26,
   "metadata": {},
   "outputs": [
    {
     "data": {
      "text/plain": [
       "-0.015732026906106533"
      ]
     },
     "execution_count": 26,
     "metadata": {},
     "output_type": "execute_result"
    }
   ],
   "source": [
    "pop_df['score'].mean() - elec_df['score'].mean()"
   ]
  },
  {
   "cell_type": "code",
   "execution_count": 27,
   "metadata": {},
   "outputs": [
    {
     "name": "stdout",
     "output_type": "stream",
     "text": [
      "T-Statistic: -0.36421091026425517\n",
      "P-Value: 0.7157164040794012\n"
     ]
    }
   ],
   "source": [
    "t_stat, p_val = ttest_ind(pop_df['score'],elec_df['score'])\n",
    "print(f\"T-Statistic: {t_stat}\\nP-Value: {p_val}\")"
   ]
  },
  {
   "cell_type": "markdown",
   "metadata": {},
   "source": [
    "#### Finding Appropriate Sample Size"
   ]
  },
  {
   "cell_type": "code",
   "execution_count": 28,
   "metadata": {},
   "outputs": [
    {
     "data": {
      "text/plain": [
       "87.64595381733686"
      ]
     },
     "execution_count": 28,
     "metadata": {},
     "output_type": "execute_result"
    }
   ],
   "source": [
    "std_pop = pop_df['score'].std()\n",
    "std_elec = elec_df['score'].std()\n",
    "count_pop = len(pop_df)\n",
    "count_elec = len(elec_df)\n",
    "margin_of_error = 0.5\n",
    "\n",
    "std_p = (( (count_pop-1)*(std_pop**2) ) + ( (count_elec-1)* (std_elec**2) )) / (count_pop + count_elec - 2)\n",
    "samp_size_temp = 2*( ((1.96 * std_p)/margin_of_error)**2 )\n",
    "samp_size_temp"
   ]
  },
  {
   "cell_type": "markdown",
   "metadata": {},
   "source": [
    "Appropriate sample size must be greater than 87.6"
   ]
  },
  {
   "cell_type": "code",
   "execution_count": 29,
   "metadata": {},
   "outputs": [],
   "source": [
    "samp_size = 90"
   ]
  },
  {
   "cell_type": "markdown",
   "metadata": {},
   "source": [
    "#### Bootstrap Check"
   ]
  },
  {
   "cell_type": "code",
   "execution_count": 30,
   "metadata": {},
   "outputs": [
    {
     "name": "stdout",
     "output_type": "stream",
     "text": [
      "Pop Sample Means Stdv:  0.14763645539961656\n",
      "Electric Sample Means Stdv:  0.12744626512309853\n",
      "Pop 2.5 Percentile:  6.661361111111111\n",
      "Pop 97.5 Percentile:  7.214138888888889\n",
      "Electronic 2.5 Percentile:  6.675611111111111\n",
      "Electronic 97.5 Percentile:  7.16525\n"
     ]
    }
   ],
   "source": [
    "bootstrap_pop_sample = []\n",
    "bootstrap_elec_sample = []\n",
    "\n",
    "bootstrap_pop_sample_means = np.zeros(100)\n",
    "bootstrap_elec_sample_means = np.zeros(100)\n",
    "\n",
    "# boostrap_sample_means = np.zeros(1000)\n",
    "# boostrap_sample_95pcts = np.zeros(1000)\n",
    "\n",
    "for i in range(100):\n",
    "    bootstrap_pop_samp = np.random.choice(pop_df['score'], size=samp_size, replace=True)\n",
    "    bootstrap_elec_samp = np.random.choice(elec_df['score'], size=samp_size, replace=True)\n",
    "    \n",
    "    bootstrap_pop_sample.append(bootstrap_pop_samp)\n",
    "    bootstrap_elec_sample.append(bootstrap_elec_samp)\n",
    "    \n",
    "    bootstrap_pop_sample_means[i] = bootstrap_pop_samp.mean()\n",
    "    bootstrap_elec_sample_means[i] = bootstrap_elec_samp.mean()\n",
    "#     bootstrap_sample_95pct = np.percent(a=boostrap_sample, q=95)\n",
    "#     boostrap_sample_95pcts[i] = boostrap_sample_95pcts\n",
    "\n",
    "print('Pop Sample Means Stdv: ', bootstrap_pop_sample_means.std())\n",
    "print('Electric Sample Means Stdv: ', bootstrap_elec_sample_means.std())\n",
    "\n",
    "print('Pop 2.5 Percentile: ', np.percentile(a=bootstrap_pop_sample_means, q=2.5))\n",
    "print('Pop 97.5 Percentile: ', np.percentile(a=bootstrap_pop_sample_means, q=97.5))\n",
    "\n",
    "print('Electronic 2.5 Percentile: ', np.percentile(a=bootstrap_elec_sample_means, q=2.5))\n",
    "print('Electronic 97.5 Percentile: ', np.percentile(a=bootstrap_elec_sample_means, q=97.5))\n",
    "\n",
    "# pop.mean()"
   ]
  },
  {
   "cell_type": "markdown",
   "metadata": {},
   "source": [
    "#### Summary: Hypothesis #1\n",
    "\n",
    "Through our exploration, we found there to be very little variability between the rating of the two genres. We found a p-value of .716, which far exceeds our threshold of .05, telling us that we must accept our null hypothesis that there is not a statistically significant difference between the rating of pop/R&B and electronic albums.\n",
    "\n",
    "In our further bootstrap test, sampling our data, we did not find significant variability in the performance of our two groups."
   ]
  },
  {
   "cell_type": "markdown",
   "metadata": {},
   "source": [
    "## Hypothesis Test #2\n",
    "* Null: There is no statistically significant difference between self-released album ratings and all others. \n",
    "* Alternative: Self-released albums have a statistically significant decrease in ratings compared to other labels."
   ]
  },
  {
   "cell_type": "code",
   "execution_count": 31,
   "metadata": {},
   "outputs": [],
   "source": [
    "self_df = rl_df[rl_df['self-released'] == 1].copy()\n",
    "other_df = rl_df[rl_df['self-released'] == 0].copy()"
   ]
  },
  {
   "cell_type": "code",
   "execution_count": 32,
   "metadata": {},
   "outputs": [
    {
     "data": {
      "image/png": "[encoded data removed]",
      "text/plain": [
       "<Figure size 792x432 with 1 Axes>"
      ]
     },
     "metadata": {
      "needs_background": "light"
     },
     "output_type": "display_data"
    }
   ],
   "source": [
    "plt.figure(figsize=(11,6))\n",
    "sns.distplot(self_df['score'], label=\"Self-Released\")\n",
    "sns.distplot(other_df['score'], label=\"Other Labels\");\n",
    "plt.legend();"
   ]
  },
  {
   "cell_type": "code",
   "execution_count": 33,
   "metadata": {},
   "outputs": [
    {
     "name": "stdout",
     "output_type": "stream",
     "text": [
      "Self-Released Mean Review:  6.918181818181823\n",
      "Other Labels Mean Review:  7.0096126782108055\n",
      "Difference:  -0.09143086002898215\n"
     ]
    }
   ],
   "source": [
    "print('Self-Released Mean Review: ', self_df['score'].mean())\n",
    "print('Other Labels Mean Review: ', other_df['score'].mean())\n",
    "print('Difference: ', self_df['score'].mean() - other_df['score'].mean())\n",
    "\n"
   ]
  },
  {
   "cell_type": "code",
   "execution_count": 34,
   "metadata": {},
   "outputs": [
    {
     "name": "stdout",
     "output_type": "stream",
     "text": [
      "T-Statistic: -1.4400160399176198\n",
      "P-Value: 0.14988154041527244\n"
     ]
    }
   ],
   "source": [
    "t_stat, p_val = ttest_ind(self_df['score'],other_df['score'])\n",
    "print(f\"T-Statistic: {t_stat}\\nP-Value: {p_val}\")"
   ]
  },
  {
   "cell_type": "markdown",
   "metadata": {},
   "source": [
    "\n",
    "* **Are there any reviewers who are harsher on specific genres over others, or just in general harsher? (reviews over??)** \n",
    "* **Are there words more commonly used in positive reviews, regardless of genre?**"
   ]
  },
  {
   "cell_type": "markdown",
   "metadata": {},
   "source": [
    "## Possible Hypothesis:  Reviewer Comparisons\n",
    "* Null Hypothesis: There is no statistical difference between reviewers with >200 album reviews and all others.\n",
    "* Alternative: Reviews with >200 album reviews have a statistically significant different in their review scores. "
   ]
  },
  {
   "cell_type": "code",
   "execution_count": 50,
   "metadata": {},
   "outputs": [
    {
     "data": {
      "text/html": [
       "<div>\n",
       "<style scoped>\n",
       "    .dataframe tbody tr th:only-of-type {\n",
       "        vertical-align: middle;\n",
       "    }\n",
       "\n",
       "    .dataframe tbody tr th {\n",
       "        vertical-align: top;\n",
       "    }\n",
       "\n",
       "    .dataframe thead th {\n",
       "        text-align: right;\n",
       "    }\n",
       "</style>\n",
       "<table border=\"1\" class=\"dataframe\">\n",
       "  <thead>\n",
       "    <tr style=\"text-align: right;\">\n",
       "      <th></th>\n",
       "      <th>reviewid</th>\n",
       "      <th>title</th>\n",
       "      <th>artist</th>\n",
       "      <th>url</th>\n",
       "      <th>score</th>\n",
       "      <th>best_new_music</th>\n",
       "      <th>author</th>\n",
       "      <th>author_type</th>\n",
       "      <th>pub_date</th>\n",
       "      <th>pub_weekday</th>\n",
       "      <th>pub_day</th>\n",
       "      <th>pub_month</th>\n",
       "      <th>pub_year</th>\n",
       "      <th>author_review_count</th>\n",
       "      <th>&gt;200_reviews</th>\n",
       "    </tr>\n",
       "  </thead>\n",
       "  <tbody>\n",
       "    <tr>\n",
       "      <th>0</th>\n",
       "      <td>22703</td>\n",
       "      <td>mezzanine</td>\n",
       "      <td>massive attack</td>\n",
       "      <td>http://pitchfork.com/reviews/albums/22703-mezz...</td>\n",
       "      <td>9.3</td>\n",
       "      <td>0</td>\n",
       "      <td>nate patrin</td>\n",
       "      <td>contributor</td>\n",
       "      <td>2017-01-08</td>\n",
       "      <td>6</td>\n",
       "      <td>8</td>\n",
       "      <td>1</td>\n",
       "      <td>2017</td>\n",
       "      <td>347</td>\n",
       "      <td>1</td>\n",
       "    </tr>\n",
       "    <tr>\n",
       "      <th>1</th>\n",
       "      <td>22721</td>\n",
       "      <td>prelapsarian</td>\n",
       "      <td>krallice</td>\n",
       "      <td>http://pitchfork.com/reviews/albums/22721-prel...</td>\n",
       "      <td>7.9</td>\n",
       "      <td>0</td>\n",
       "      <td>zoe camp</td>\n",
       "      <td>contributor</td>\n",
       "      <td>2017-01-07</td>\n",
       "      <td>5</td>\n",
       "      <td>7</td>\n",
       "      <td>1</td>\n",
       "      <td>2017</td>\n",
       "      <td>69</td>\n",
       "      <td>0</td>\n",
       "    </tr>\n",
       "    <tr>\n",
       "      <th>2</th>\n",
       "      <td>22659</td>\n",
       "      <td>all of them naturals</td>\n",
       "      <td>uranium club</td>\n",
       "      <td>http://pitchfork.com/reviews/albums/22659-all-...</td>\n",
       "      <td>7.3</td>\n",
       "      <td>0</td>\n",
       "      <td>david glickman</td>\n",
       "      <td>contributor</td>\n",
       "      <td>2017-01-07</td>\n",
       "      <td>5</td>\n",
       "      <td>7</td>\n",
       "      <td>1</td>\n",
       "      <td>2017</td>\n",
       "      <td>4</td>\n",
       "      <td>0</td>\n",
       "    </tr>\n",
       "    <tr>\n",
       "      <th>3</th>\n",
       "      <td>22661</td>\n",
       "      <td>first songs</td>\n",
       "      <td>kleenex, liliput</td>\n",
       "      <td>http://pitchfork.com/reviews/albums/22661-firs...</td>\n",
       "      <td>9.0</td>\n",
       "      <td>1</td>\n",
       "      <td>jenn pelly</td>\n",
       "      <td>associate reviews editor</td>\n",
       "      <td>2017-01-06</td>\n",
       "      <td>4</td>\n",
       "      <td>6</td>\n",
       "      <td>1</td>\n",
       "      <td>2017</td>\n",
       "      <td>41</td>\n",
       "      <td>0</td>\n",
       "    </tr>\n",
       "    <tr>\n",
       "      <th>4</th>\n",
       "      <td>22725</td>\n",
       "      <td>new start</td>\n",
       "      <td>taso</td>\n",
       "      <td>http://pitchfork.com/reviews/albums/22725-new-...</td>\n",
       "      <td>8.1</td>\n",
       "      <td>0</td>\n",
       "      <td>kevin lozano</td>\n",
       "      <td>tracks coordinator</td>\n",
       "      <td>2017-01-06</td>\n",
       "      <td>4</td>\n",
       "      <td>6</td>\n",
       "      <td>1</td>\n",
       "      <td>2017</td>\n",
       "      <td>51</td>\n",
       "      <td>0</td>\n",
       "    </tr>\n",
       "  </tbody>\n",
       "</table>\n",
       "</div>"
      ],
      "text/plain": [
       "   reviewid                 title            artist  \\\n",
       "0     22703             mezzanine    massive attack   \n",
       "1     22721          prelapsarian          krallice   \n",
       "2     22659  all of them naturals      uranium club   \n",
       "3     22661           first songs  kleenex, liliput   \n",
       "4     22725             new start              taso   \n",
       "\n",
       "                                                 url  score  best_new_music  \\\n",
       "0  http://pitchfork.com/reviews/albums/22703-mezz...    9.3               0   \n",
       "1  http://pitchfork.com/reviews/albums/22721-prel...    7.9               0   \n",
       "2  http://pitchfork.com/reviews/albums/22659-all-...    7.3               0   \n",
       "3  http://pitchfork.com/reviews/albums/22661-firs...    9.0               1   \n",
       "4  http://pitchfork.com/reviews/albums/22725-new-...    8.1               0   \n",
       "\n",
       "           author               author_type    pub_date  pub_weekday  pub_day  \\\n",
       "0     nate patrin               contributor  2017-01-08            6        8   \n",
       "1        zoe camp               contributor  2017-01-07            5        7   \n",
       "2  david glickman               contributor  2017-01-07            5        7   \n",
       "3      jenn pelly  associate reviews editor  2017-01-06            4        6   \n",
       "4    kevin lozano        tracks coordinator  2017-01-06            4        6   \n",
       "\n",
       "   pub_month  pub_year  author_review_count  >200_reviews  \n",
       "0          1      2017                  347             1  \n",
       "1          1      2017                   69             0  \n",
       "2          1      2017                    4             0  \n",
       "3          1      2017                   41             0  \n",
       "4          1      2017                   51             0  "
      ]
     },
     "execution_count": 50,
     "metadata": {},
     "output_type": "execute_result"
    }
   ],
   "source": [
    "#genres_hot_df\n",
    "author_reviews_df = reviews_df.copy()\n",
    "\n",
    "author_counts = reviews_df['author'].value_counts()\n",
    "author_dict = author_counts.to_dict()\n",
    "author_reviews_df['author_review_count'] = author_reviews_df['author'].apply(lambda x: author_dict[x])\n",
    "author_reviews_df['>200_reviews'] = author_reviews_df['author_review_count'].apply(lambda x: 1 if x >199 else 0)\n",
    "author_reviews_df.head()"
   ]
  },
  {
   "cell_type": "code",
   "execution_count": 78,
   "metadata": {},
   "outputs": [
    {
     "data": {
      "text/html": [
       "<div>\n",
       "<style scoped>\n",
       "    .dataframe tbody tr th:only-of-type {\n",
       "        vertical-align: middle;\n",
       "    }\n",
       "\n",
       "    .dataframe tbody tr th {\n",
       "        vertical-align: top;\n",
       "    }\n",
       "\n",
       "    .dataframe thead th {\n",
       "        text-align: right;\n",
       "    }\n",
       "</style>\n",
       "<table border=\"1\" class=\"dataframe\">\n",
       "  <thead>\n",
       "    <tr style=\"text-align: right;\">\n",
       "      <th></th>\n",
       "      <th>reviewid</th>\n",
       "      <th>title</th>\n",
       "      <th>artist</th>\n",
       "      <th>url</th>\n",
       "      <th>score</th>\n",
       "      <th>best_new_music</th>\n",
       "      <th>author</th>\n",
       "      <th>author_type</th>\n",
       "      <th>pub_date</th>\n",
       "      <th>pub_weekday</th>\n",
       "      <th>pub_day</th>\n",
       "      <th>pub_month</th>\n",
       "      <th>pub_year</th>\n",
       "      <th>author_review_count</th>\n",
       "      <th>&gt;200_reviews</th>\n",
       "    </tr>\n",
       "  </thead>\n",
       "  <tbody>\n",
       "    <tr>\n",
       "      <th>0</th>\n",
       "      <td>22703</td>\n",
       "      <td>mezzanine</td>\n",
       "      <td>massive attack</td>\n",
       "      <td>http://pitchfork.com/reviews/albums/22703-mezz...</td>\n",
       "      <td>9.3</td>\n",
       "      <td>0</td>\n",
       "      <td>nate patrin</td>\n",
       "      <td>contributor</td>\n",
       "      <td>2017-01-08</td>\n",
       "      <td>6</td>\n",
       "      <td>8</td>\n",
       "      <td>1</td>\n",
       "      <td>2017</td>\n",
       "      <td>347</td>\n",
       "      <td>1</td>\n",
       "    </tr>\n",
       "    <tr>\n",
       "      <th>7</th>\n",
       "      <td>22694</td>\n",
       "      <td>tehillim</td>\n",
       "      <td>yotam avni</td>\n",
       "      <td>http://pitchfork.com/reviews/albums/22694-tehi...</td>\n",
       "      <td>7.0</td>\n",
       "      <td>0</td>\n",
       "      <td>andy beta</td>\n",
       "      <td>contributor</td>\n",
       "      <td>2017-01-05</td>\n",
       "      <td>3</td>\n",
       "      <td>5</td>\n",
       "      <td>1</td>\n",
       "      <td>2017</td>\n",
       "      <td>250</td>\n",
       "      <td>1</td>\n",
       "    </tr>\n",
       "    <tr>\n",
       "      <th>8</th>\n",
       "      <td>22714</td>\n",
       "      <td>reflection</td>\n",
       "      <td>brian eno</td>\n",
       "      <td>http://pitchfork.com/reviews/albums/22714-refl...</td>\n",
       "      <td>7.7</td>\n",
       "      <td>0</td>\n",
       "      <td>andy beta</td>\n",
       "      <td>contributor</td>\n",
       "      <td>2017-01-04</td>\n",
       "      <td>2</td>\n",
       "      <td>4</td>\n",
       "      <td>1</td>\n",
       "      <td>2017</td>\n",
       "      <td>250</td>\n",
       "      <td>1</td>\n",
       "    </tr>\n",
       "    <tr>\n",
       "      <th>9</th>\n",
       "      <td>22724</td>\n",
       "      <td>filthy america its beautiful</td>\n",
       "      <td>the lox</td>\n",
       "      <td>http://pitchfork.com/reviews/albums/22724-filt...</td>\n",
       "      <td>5.3</td>\n",
       "      <td>0</td>\n",
       "      <td>ian cohen</td>\n",
       "      <td>contributor</td>\n",
       "      <td>2017-01-04</td>\n",
       "      <td>2</td>\n",
       "      <td>4</td>\n",
       "      <td>1</td>\n",
       "      <td>2017</td>\n",
       "      <td>699</td>\n",
       "      <td>1</td>\n",
       "    </tr>\n",
       "    <tr>\n",
       "      <th>10</th>\n",
       "      <td>22715</td>\n",
       "      <td>clear sounds/perfetta</td>\n",
       "      <td>harry bertoia</td>\n",
       "      <td>http://pitchfork.com/reviews/albums/22715-clea...</td>\n",
       "      <td>8.0</td>\n",
       "      <td>0</td>\n",
       "      <td>marc masters</td>\n",
       "      <td>contributor</td>\n",
       "      <td>2017-01-04</td>\n",
       "      <td>2</td>\n",
       "      <td>4</td>\n",
       "      <td>1</td>\n",
       "      <td>2017</td>\n",
       "      <td>312</td>\n",
       "      <td>1</td>\n",
       "    </tr>\n",
       "  </tbody>\n",
       "</table>\n",
       "</div>"
      ],
      "text/plain": [
       "    reviewid                         title          artist  \\\n",
       "0      22703                     mezzanine  massive attack   \n",
       "7      22694                      tehillim      yotam avni   \n",
       "8      22714                    reflection       brian eno   \n",
       "9      22724  filthy america its beautiful         the lox   \n",
       "10     22715         clear sounds/perfetta   harry bertoia   \n",
       "\n",
       "                                                  url  score  best_new_music  \\\n",
       "0   http://pitchfork.com/reviews/albums/22703-mezz...    9.3               0   \n",
       "7   http://pitchfork.com/reviews/albums/22694-tehi...    7.0               0   \n",
       "8   http://pitchfork.com/reviews/albums/22714-refl...    7.7               0   \n",
       "9   http://pitchfork.com/reviews/albums/22724-filt...    5.3               0   \n",
       "10  http://pitchfork.com/reviews/albums/22715-clea...    8.0               0   \n",
       "\n",
       "          author  author_type    pub_date  pub_weekday  pub_day  pub_month  \\\n",
       "0    nate patrin  contributor  2017-01-08            6        8          1   \n",
       "7      andy beta  contributor  2017-01-05            3        5          1   \n",
       "8      andy beta  contributor  2017-01-04            2        4          1   \n",
       "9      ian cohen  contributor  2017-01-04            2        4          1   \n",
       "10  marc masters  contributor  2017-01-04            2        4          1   \n",
       "\n",
       "    pub_year  author_review_count  >200_reviews  \n",
       "0       2017                  347             1  \n",
       "7       2017                  250             1  \n",
       "8       2017                  250             1  \n",
       "9       2017                  699             1  \n",
       "10      2017                  312             1  "
      ]
     },
     "execution_count": 78,
     "metadata": {},
     "output_type": "execute_result"
    }
   ],
   "source": [
    "author_to_drop = author_reviews_df[author_reviews_df['>200_reviews'] < 1]\n",
    "author_reviews_df = author_reviews_df.drop(author_to_drop.index, axis=0)\n",
    "author_reviews_df.head()"
   ]
  },
  {
   "cell_type": "code",
   "execution_count": 83,
   "metadata": {},
   "outputs": [
    {
     "data": {
      "text/html": [
       "<div>\n",
       "<style scoped>\n",
       "    .dataframe tbody tr th:only-of-type {\n",
       "        vertical-align: middle;\n",
       "    }\n",
       "\n",
       "    .dataframe tbody tr th {\n",
       "        vertical-align: top;\n",
       "    }\n",
       "\n",
       "    .dataframe thead th {\n",
       "        text-align: right;\n",
       "    }\n",
       "</style>\n",
       "<table border=\"1\" class=\"dataframe\">\n",
       "  <thead>\n",
       "    <tr style=\"text-align: right;\">\n",
       "      <th></th>\n",
       "      <th>reviewid</th>\n",
       "      <th>title</th>\n",
       "      <th>artist</th>\n",
       "      <th>url</th>\n",
       "      <th>score</th>\n",
       "      <th>best_new_music</th>\n",
       "      <th>author</th>\n",
       "      <th>author_type</th>\n",
       "      <th>pub_date</th>\n",
       "      <th>pub_weekday</th>\n",
       "      <th>...</th>\n",
       "      <th>mark richardson</th>\n",
       "      <th>matthew murphy</th>\n",
       "      <th>nate patrin</th>\n",
       "      <th>nick neyland</th>\n",
       "      <th>paul thompson</th>\n",
       "      <th>philip sherburne</th>\n",
       "      <th>rob mitchum</th>\n",
       "      <th>stephen m. deusner</th>\n",
       "      <th>stuart berman</th>\n",
       "      <th>tom breihan</th>\n",
       "    </tr>\n",
       "  </thead>\n",
       "  <tbody>\n",
       "    <tr>\n",
       "      <th>0</th>\n",
       "      <td>22703</td>\n",
       "      <td>mezzanine</td>\n",
       "      <td>massive attack</td>\n",
       "      <td>http://pitchfork.com/reviews/albums/22703-mezz...</td>\n",
       "      <td>9.3</td>\n",
       "      <td>0</td>\n",
       "      <td>nate patrin</td>\n",
       "      <td>contributor</td>\n",
       "      <td>2017-01-08</td>\n",
       "      <td>6</td>\n",
       "      <td>...</td>\n",
       "      <td>0</td>\n",
       "      <td>0</td>\n",
       "      <td>1</td>\n",
       "      <td>0</td>\n",
       "      <td>0</td>\n",
       "      <td>0</td>\n",
       "      <td>0</td>\n",
       "      <td>0</td>\n",
       "      <td>0</td>\n",
       "      <td>0</td>\n",
       "    </tr>\n",
       "    <tr>\n",
       "      <th>7</th>\n",
       "      <td>22694</td>\n",
       "      <td>tehillim</td>\n",
       "      <td>yotam avni</td>\n",
       "      <td>http://pitchfork.com/reviews/albums/22694-tehi...</td>\n",
       "      <td>7.0</td>\n",
       "      <td>0</td>\n",
       "      <td>andy beta</td>\n",
       "      <td>contributor</td>\n",
       "      <td>2017-01-05</td>\n",
       "      <td>3</td>\n",
       "      <td>...</td>\n",
       "      <td>0</td>\n",
       "      <td>0</td>\n",
       "      <td>0</td>\n",
       "      <td>0</td>\n",
       "      <td>0</td>\n",
       "      <td>0</td>\n",
       "      <td>0</td>\n",
       "      <td>0</td>\n",
       "      <td>0</td>\n",
       "      <td>0</td>\n",
       "    </tr>\n",
       "    <tr>\n",
       "      <th>8</th>\n",
       "      <td>22714</td>\n",
       "      <td>reflection</td>\n",
       "      <td>brian eno</td>\n",
       "      <td>http://pitchfork.com/reviews/albums/22714-refl...</td>\n",
       "      <td>7.7</td>\n",
       "      <td>0</td>\n",
       "      <td>andy beta</td>\n",
       "      <td>contributor</td>\n",
       "      <td>2017-01-04</td>\n",
       "      <td>2</td>\n",
       "      <td>...</td>\n",
       "      <td>0</td>\n",
       "      <td>0</td>\n",
       "      <td>0</td>\n",
       "      <td>0</td>\n",
       "      <td>0</td>\n",
       "      <td>0</td>\n",
       "      <td>0</td>\n",
       "      <td>0</td>\n",
       "      <td>0</td>\n",
       "      <td>0</td>\n",
       "    </tr>\n",
       "    <tr>\n",
       "      <th>9</th>\n",
       "      <td>22724</td>\n",
       "      <td>filthy america its beautiful</td>\n",
       "      <td>the lox</td>\n",
       "      <td>http://pitchfork.com/reviews/albums/22724-filt...</td>\n",
       "      <td>5.3</td>\n",
       "      <td>0</td>\n",
       "      <td>ian cohen</td>\n",
       "      <td>contributor</td>\n",
       "      <td>2017-01-04</td>\n",
       "      <td>2</td>\n",
       "      <td>...</td>\n",
       "      <td>0</td>\n",
       "      <td>0</td>\n",
       "      <td>0</td>\n",
       "      <td>0</td>\n",
       "      <td>0</td>\n",
       "      <td>0</td>\n",
       "      <td>0</td>\n",
       "      <td>0</td>\n",
       "      <td>0</td>\n",
       "      <td>0</td>\n",
       "    </tr>\n",
       "    <tr>\n",
       "      <th>10</th>\n",
       "      <td>22715</td>\n",
       "      <td>clear sounds/perfetta</td>\n",
       "      <td>harry bertoia</td>\n",
       "      <td>http://pitchfork.com/reviews/albums/22715-clea...</td>\n",
       "      <td>8.0</td>\n",
       "      <td>0</td>\n",
       "      <td>marc masters</td>\n",
       "      <td>contributor</td>\n",
       "      <td>2017-01-04</td>\n",
       "      <td>2</td>\n",
       "      <td>...</td>\n",
       "      <td>0</td>\n",
       "      <td>0</td>\n",
       "      <td>0</td>\n",
       "      <td>0</td>\n",
       "      <td>0</td>\n",
       "      <td>0</td>\n",
       "      <td>0</td>\n",
       "      <td>0</td>\n",
       "      <td>0</td>\n",
       "      <td>0</td>\n",
       "    </tr>\n",
       "  </tbody>\n",
       "</table>\n",
       "<p>5 rows × 43 columns</p>\n",
       "</div>"
      ],
      "text/plain": [
       "    reviewid                         title          artist  \\\n",
       "0      22703                     mezzanine  massive attack   \n",
       "7      22694                      tehillim      yotam avni   \n",
       "8      22714                    reflection       brian eno   \n",
       "9      22724  filthy america its beautiful         the lox   \n",
       "10     22715         clear sounds/perfetta   harry bertoia   \n",
       "\n",
       "                                                  url  score  best_new_music  \\\n",
       "0   http://pitchfork.com/reviews/albums/22703-mezz...    9.3               0   \n",
       "7   http://pitchfork.com/reviews/albums/22694-tehi...    7.0               0   \n",
       "8   http://pitchfork.com/reviews/albums/22714-refl...    7.7               0   \n",
       "9   http://pitchfork.com/reviews/albums/22724-filt...    5.3               0   \n",
       "10  http://pitchfork.com/reviews/albums/22715-clea...    8.0               0   \n",
       "\n",
       "          author  author_type    pub_date  pub_weekday     ...       \\\n",
       "0    nate patrin  contributor  2017-01-08            6     ...        \n",
       "7      andy beta  contributor  2017-01-05            3     ...        \n",
       "8      andy beta  contributor  2017-01-04            2     ...        \n",
       "9      ian cohen  contributor  2017-01-04            2     ...        \n",
       "10  marc masters  contributor  2017-01-04            2     ...        \n",
       "\n",
       "    mark richardson  matthew murphy  nate patrin  nick neyland  paul thompson  \\\n",
       "0                 0               0            1             0              0   \n",
       "7                 0               0            0             0              0   \n",
       "8                 0               0            0             0              0   \n",
       "9                 0               0            0             0              0   \n",
       "10                0               0            0             0              0   \n",
       "\n",
       "    philip sherburne  rob mitchum  stephen m. deusner  stuart berman  \\\n",
       "0                  0            0                   0              0   \n",
       "7                  0            0                   0              0   \n",
       "8                  0            0                   0              0   \n",
       "9                  0            0                   0              0   \n",
       "10                 0            0                   0              0   \n",
       "\n",
       "    tom breihan  \n",
       "0             0  \n",
       "7             0  \n",
       "8             0  \n",
       "9             0  \n",
       "10            0  \n",
       "\n",
       "[5 rows x 43 columns]"
      ]
     },
     "execution_count": 83,
     "metadata": {},
     "output_type": "execute_result"
    }
   ],
   "source": [
    "authors_one_hot = pd.get_dummies(author_reviews_df['author'])\n",
    "authors_one_hot.head().T\n",
    "authors_hot_df = pd.concat([author_reviews_df, authors_one_hot], axis = 1)\n",
    "authors_hot_df.head()"
   ]
  },
  {
   "cell_type": "code",
   "execution_count": 45,
   "metadata": {},
   "outputs": [
    {
     "data": {
      "text/html": [
       "<div>\n",
       "<style scoped>\n",
       "    .dataframe tbody tr th:only-of-type {\n",
       "        vertical-align: middle;\n",
       "    }\n",
       "\n",
       "    .dataframe tbody tr th {\n",
       "        vertical-align: top;\n",
       "    }\n",
       "\n",
       "    .dataframe thead th {\n",
       "        text-align: right;\n",
       "    }\n",
       "</style>\n",
       "<table border=\"1\" class=\"dataframe\">\n",
       "  <thead>\n",
       "    <tr style=\"text-align: right;\">\n",
       "      <th></th>\n",
       "      <th>reviewid</th>\n",
       "      <th>genre</th>\n",
       "      <th>electronic</th>\n",
       "      <th>experimental</th>\n",
       "      <th>folk/country</th>\n",
       "      <th>global</th>\n",
       "      <th>jazz</th>\n",
       "      <th>metal</th>\n",
       "      <th>pop/r&amp;b</th>\n",
       "      <th>rap</th>\n",
       "      <th>rock</th>\n",
       "      <th>genre_count</th>\n",
       "    </tr>\n",
       "  </thead>\n",
       "  <tbody>\n",
       "    <tr>\n",
       "      <th>0</th>\n",
       "      <td>22703</td>\n",
       "      <td>electronic</td>\n",
       "      <td>1</td>\n",
       "      <td>0</td>\n",
       "      <td>0</td>\n",
       "      <td>0</td>\n",
       "      <td>0</td>\n",
       "      <td>0</td>\n",
       "      <td>0</td>\n",
       "      <td>0</td>\n",
       "      <td>0</td>\n",
       "      <td>1</td>\n",
       "    </tr>\n",
       "    <tr>\n",
       "      <th>1</th>\n",
       "      <td>22721</td>\n",
       "      <td>metal</td>\n",
       "      <td>0</td>\n",
       "      <td>0</td>\n",
       "      <td>0</td>\n",
       "      <td>0</td>\n",
       "      <td>0</td>\n",
       "      <td>1</td>\n",
       "      <td>0</td>\n",
       "      <td>0</td>\n",
       "      <td>0</td>\n",
       "      <td>1</td>\n",
       "    </tr>\n",
       "    <tr>\n",
       "      <th>2</th>\n",
       "      <td>22659</td>\n",
       "      <td>rock</td>\n",
       "      <td>0</td>\n",
       "      <td>0</td>\n",
       "      <td>0</td>\n",
       "      <td>0</td>\n",
       "      <td>0</td>\n",
       "      <td>0</td>\n",
       "      <td>0</td>\n",
       "      <td>0</td>\n",
       "      <td>1</td>\n",
       "      <td>1</td>\n",
       "    </tr>\n",
       "    <tr>\n",
       "      <th>3</th>\n",
       "      <td>22661</td>\n",
       "      <td>rock</td>\n",
       "      <td>0</td>\n",
       "      <td>0</td>\n",
       "      <td>0</td>\n",
       "      <td>0</td>\n",
       "      <td>0</td>\n",
       "      <td>0</td>\n",
       "      <td>0</td>\n",
       "      <td>0</td>\n",
       "      <td>1</td>\n",
       "      <td>1</td>\n",
       "    </tr>\n",
       "    <tr>\n",
       "      <th>4</th>\n",
       "      <td>22725</td>\n",
       "      <td>electronic</td>\n",
       "      <td>1</td>\n",
       "      <td>0</td>\n",
       "      <td>0</td>\n",
       "      <td>0</td>\n",
       "      <td>0</td>\n",
       "      <td>0</td>\n",
       "      <td>0</td>\n",
       "      <td>0</td>\n",
       "      <td>0</td>\n",
       "      <td>1</td>\n",
       "    </tr>\n",
       "  </tbody>\n",
       "</table>\n",
       "</div>"
      ],
      "text/plain": [
       "   reviewid       genre  electronic  experimental  folk/country  global  jazz  \\\n",
       "0     22703  electronic           1             0             0       0     0   \n",
       "1     22721       metal           0             0             0       0     0   \n",
       "2     22659        rock           0             0             0       0     0   \n",
       "3     22661        rock           0             0             0       0     0   \n",
       "4     22725  electronic           1             0             0       0     0   \n",
       "\n",
       "   metal  pop/r&b  rap  rock  genre_count  \n",
       "0      0        0    0     0            1  \n",
       "1      1        0    0     0            1  \n",
       "2      0        0    0     1            1  \n",
       "3      0        0    0     1            1  \n",
       "4      0        0    0     0            1  "
      ]
     },
     "execution_count": 45,
     "metadata": {},
     "output_type": "execute_result"
    }
   ],
   "source": [
    "genre_count2 = genres_hot_df['reviewid'].value_counts()\n",
    "genre_dict2 = genre_count2.to_dict()\n",
    "genres_hot_df['genre_count'] = genres_hot_df['reviewid'].apply(lambda x: genre_dict2[x])\n",
    "genres_hot_df.head()"
   ]
  },
  {
   "cell_type": "code",
   "execution_count": 85,
   "metadata": {},
   "outputs": [
    {
     "data": {
      "text/html": [
       "<div>\n",
       "<style scoped>\n",
       "    .dataframe tbody tr th:only-of-type {\n",
       "        vertical-align: middle;\n",
       "    }\n",
       "\n",
       "    .dataframe tbody tr th {\n",
       "        vertical-align: top;\n",
       "    }\n",
       "\n",
       "    .dataframe thead th {\n",
       "        text-align: right;\n",
       "    }\n",
       "</style>\n",
       "<table border=\"1\" class=\"dataframe\">\n",
       "  <thead>\n",
       "    <tr style=\"text-align: right;\">\n",
       "      <th></th>\n",
       "      <th>reviewid</th>\n",
       "      <th>title</th>\n",
       "      <th>artist</th>\n",
       "      <th>url</th>\n",
       "      <th>score</th>\n",
       "      <th>best_new_music</th>\n",
       "      <th>author</th>\n",
       "      <th>author_type</th>\n",
       "      <th>pub_date</th>\n",
       "      <th>pub_weekday</th>\n",
       "      <th>...</th>\n",
       "      <th>electronic</th>\n",
       "      <th>experimental</th>\n",
       "      <th>folk/country</th>\n",
       "      <th>global</th>\n",
       "      <th>jazz</th>\n",
       "      <th>metal</th>\n",
       "      <th>pop/r&amp;b</th>\n",
       "      <th>rap</th>\n",
       "      <th>rock</th>\n",
       "      <th>genre_count</th>\n",
       "    </tr>\n",
       "  </thead>\n",
       "  <tbody>\n",
       "    <tr>\n",
       "      <th>0</th>\n",
       "      <td>22703</td>\n",
       "      <td>mezzanine</td>\n",
       "      <td>massive attack</td>\n",
       "      <td>http://pitchfork.com/reviews/albums/22703-mezz...</td>\n",
       "      <td>9.3</td>\n",
       "      <td>0</td>\n",
       "      <td>nate patrin</td>\n",
       "      <td>contributor</td>\n",
       "      <td>2017-01-08</td>\n",
       "      <td>6</td>\n",
       "      <td>...</td>\n",
       "      <td>1</td>\n",
       "      <td>0</td>\n",
       "      <td>0</td>\n",
       "      <td>0</td>\n",
       "      <td>0</td>\n",
       "      <td>0</td>\n",
       "      <td>0</td>\n",
       "      <td>0</td>\n",
       "      <td>0</td>\n",
       "      <td>1</td>\n",
       "    </tr>\n",
       "    <tr>\n",
       "      <th>1</th>\n",
       "      <td>22694</td>\n",
       "      <td>tehillim</td>\n",
       "      <td>yotam avni</td>\n",
       "      <td>http://pitchfork.com/reviews/albums/22694-tehi...</td>\n",
       "      <td>7.0</td>\n",
       "      <td>0</td>\n",
       "      <td>andy beta</td>\n",
       "      <td>contributor</td>\n",
       "      <td>2017-01-05</td>\n",
       "      <td>3</td>\n",
       "      <td>...</td>\n",
       "      <td>1</td>\n",
       "      <td>0</td>\n",
       "      <td>0</td>\n",
       "      <td>0</td>\n",
       "      <td>0</td>\n",
       "      <td>0</td>\n",
       "      <td>0</td>\n",
       "      <td>0</td>\n",
       "      <td>0</td>\n",
       "      <td>1</td>\n",
       "    </tr>\n",
       "    <tr>\n",
       "      <th>2</th>\n",
       "      <td>22714</td>\n",
       "      <td>reflection</td>\n",
       "      <td>brian eno</td>\n",
       "      <td>http://pitchfork.com/reviews/albums/22714-refl...</td>\n",
       "      <td>7.7</td>\n",
       "      <td>0</td>\n",
       "      <td>andy beta</td>\n",
       "      <td>contributor</td>\n",
       "      <td>2017-01-04</td>\n",
       "      <td>2</td>\n",
       "      <td>...</td>\n",
       "      <td>0</td>\n",
       "      <td>1</td>\n",
       "      <td>0</td>\n",
       "      <td>0</td>\n",
       "      <td>0</td>\n",
       "      <td>0</td>\n",
       "      <td>0</td>\n",
       "      <td>0</td>\n",
       "      <td>0</td>\n",
       "      <td>1</td>\n",
       "    </tr>\n",
       "    <tr>\n",
       "      <th>3</th>\n",
       "      <td>22724</td>\n",
       "      <td>filthy america its beautiful</td>\n",
       "      <td>the lox</td>\n",
       "      <td>http://pitchfork.com/reviews/albums/22724-filt...</td>\n",
       "      <td>5.3</td>\n",
       "      <td>0</td>\n",
       "      <td>ian cohen</td>\n",
       "      <td>contributor</td>\n",
       "      <td>2017-01-04</td>\n",
       "      <td>2</td>\n",
       "      <td>...</td>\n",
       "      <td>0</td>\n",
       "      <td>0</td>\n",
       "      <td>0</td>\n",
       "      <td>0</td>\n",
       "      <td>0</td>\n",
       "      <td>0</td>\n",
       "      <td>0</td>\n",
       "      <td>1</td>\n",
       "      <td>0</td>\n",
       "      <td>1</td>\n",
       "    </tr>\n",
       "    <tr>\n",
       "      <th>4</th>\n",
       "      <td>22715</td>\n",
       "      <td>clear sounds/perfetta</td>\n",
       "      <td>harry bertoia</td>\n",
       "      <td>http://pitchfork.com/reviews/albums/22715-clea...</td>\n",
       "      <td>8.0</td>\n",
       "      <td>0</td>\n",
       "      <td>marc masters</td>\n",
       "      <td>contributor</td>\n",
       "      <td>2017-01-04</td>\n",
       "      <td>2</td>\n",
       "      <td>...</td>\n",
       "      <td>0</td>\n",
       "      <td>1</td>\n",
       "      <td>0</td>\n",
       "      <td>0</td>\n",
       "      <td>0</td>\n",
       "      <td>0</td>\n",
       "      <td>0</td>\n",
       "      <td>0</td>\n",
       "      <td>0</td>\n",
       "      <td>1</td>\n",
       "    </tr>\n",
       "  </tbody>\n",
       "</table>\n",
       "<p>5 rows × 54 columns</p>\n",
       "</div>"
      ],
      "text/plain": [
       "   reviewid                         title          artist  \\\n",
       "0     22703                     mezzanine  massive attack   \n",
       "1     22694                      tehillim      yotam avni   \n",
       "2     22714                    reflection       brian eno   \n",
       "3     22724  filthy america its beautiful         the lox   \n",
       "4     22715         clear sounds/perfetta   harry bertoia   \n",
       "\n",
       "                                                 url  score  best_new_music  \\\n",
       "0  http://pitchfork.com/reviews/albums/22703-mezz...    9.3               0   \n",
       "1  http://pitchfork.com/reviews/albums/22694-tehi...    7.0               0   \n",
       "2  http://pitchfork.com/reviews/albums/22714-refl...    7.7               0   \n",
       "3  http://pitchfork.com/reviews/albums/22724-filt...    5.3               0   \n",
       "4  http://pitchfork.com/reviews/albums/22715-clea...    8.0               0   \n",
       "\n",
       "         author  author_type    pub_date  pub_weekday     ...       \\\n",
       "0   nate patrin  contributor  2017-01-08            6     ...        \n",
       "1     andy beta  contributor  2017-01-05            3     ...        \n",
       "2     andy beta  contributor  2017-01-04            2     ...        \n",
       "3     ian cohen  contributor  2017-01-04            2     ...        \n",
       "4  marc masters  contributor  2017-01-04            2     ...        \n",
       "\n",
       "   electronic  experimental  folk/country  global  jazz  metal  pop/r&b  rap  \\\n",
       "0           1             0             0       0     0      0        0    0   \n",
       "1           1             0             0       0     0      0        0    0   \n",
       "2           0             1             0       0     0      0        0    0   \n",
       "3           0             0             0       0     0      0        0    1   \n",
       "4           0             1             0       0     0      0        0    0   \n",
       "\n",
       "   rock  genre_count  \n",
       "0     0            1  \n",
       "1     0            1  \n",
       "2     0            1  \n",
       "3     0            1  \n",
       "4     0            1  \n",
       "\n",
       "[5 rows x 54 columns]"
      ]
     },
     "execution_count": 85,
     "metadata": {},
     "output_type": "execute_result"
    }
   ],
   "source": [
    "#rg2 = review & genres v2\n",
    "rg2_df = authors_hot_df.merge(genres_hot_df, left_on='reviewid', right_on='reviewid')\n",
    "rg2_df.head()"
   ]
  },
  {
   "cell_type": "code",
   "execution_count": 89,
   "metadata": {},
   "outputs": [],
   "source": [
    "#Each genre for authors with >200 reviews:\n",
    "rock_df = rg2_df[(rg2_df['rock'] == 1) & (rg2_df['>200_reviews'] == 1)]\n",
    "elec_df = rg2_df[(rg2_df['electronic'] == 1) & (rg2_df['>200_reviews'] == 1)]\n",
    "exper_df = rg2_df[(rg2_df['experimental'] == 1) & (rg2_df['>200_reviews'] == 1)]\n",
    "rap_df = rg2_df[(rg2_df['rap'] == 1) & (rg2_df['>200_reviews'] == 1)]\n",
    "pop_df = rg2_df[(rg2_df['pop/r&b'] == 1) & (rg2_df['>200_reviews'] == 1)]\n",
    "metal_df = rg2_df[(rg2_df['metal'] == 1) & (rg2_df['>200_reviews'] == 1)]\n",
    "folk_df = rg2_df[(rg2_df['folk/country'] == 1) & (rg2_df['>200_reviews'] == 1)]\n",
    "jazz_df = rg2_df[(rg2_df['jazz'] == 1) & (rg2_df['>200_reviews'] == 1)]\n",
    "global_df = rg2_df[(rg2_df['global'] == 1) & (rg2_df['>200_reviews'] == 1)]"
   ]
  },
  {
   "cell_type": "code",
   "execution_count": 92,
   "metadata": {},
   "outputs": [],
   "source": [
    "#Each of the top 5 authors by each of the 9 categories:\n",
    "#joe tangari .  ian cohen .  stephen m. deusner .  brian howe .  mark richardson . \n",
    "rock_df_joe = rock_df[(rock_df['author'] == 'joe tangari')]\n",
    "rock_df_ian = rock_df[(rock_df['author'] == 'ian cohen')]\n",
    "rock_df_stephen = rock_df[(rock_df['author'] == 'stephen m. deusner')]\n",
    "rock_df_brian = rock_df[(rock_df['author'] == 'brian howe')]\n",
    "rock_df_mark = rock_df[(rock_df['author'] == 'mark richardson')]"
   ]
  },
  {
   "cell_type": "code",
   "execution_count": 190,
   "metadata": {},
   "outputs": [],
   "source": [
    "def compare_hist(df1, df2=None, df3=None, df4=None, df5=None):\n",
    "    plt.figure(figsize=(11,6))\n",
    "    sns.distplot(df1['score'], label='df1', hist=True, kde=True)\n",
    "    sns.distplot(df2['score'], label='df2', hist=True, kde=True)\n",
    "    sns.distplot(df3['score'], label='df3', hist=True, kde=True)\n",
    "    sns.distplot(df4['score'], label='df4', hist=True, kde=True)\n",
    "    sns.distplot(df5['score'], label='df5', hist=True, kde=True);\n",
    "    return plt.legend()\n",
    "#True False"
   ]
  },
  {
   "cell_type": "code",
   "execution_count": 191,
   "metadata": {},
   "outputs": [
    {
     "data": {
      "image/png": "[encoded data removed]",
      "text/plain": [
       "<Figure size 792x432 with 1 Axes>"
      ]
     },
     "metadata": {
      "needs_background": "light"
     },
     "output_type": "display_data"
    }
   ],
   "source": [
    "compare_hist(rock_df_joe, rock_df_ian, rock_df_stephen, rock_df_brian, rock_df_mark);"
   ]
  },
  {
   "cell_type": "code",
   "execution_count": 102,
   "metadata": {},
   "outputs": [],
   "source": [
    "def output (df1, df2):\n",
    "    print('df1 Review Mean: ', df1['score'].mean())\n",
    "    print('df2 Review Mean: ', df2['score'].mean())\n",
    "    print('Difference: ', df1['score'].mean() - df2['score'].mean())\n",
    "    t_stat, p_val = ttest_ind(df1['score'],df2['score'])\n",
    "    print(f\"T-Statistic: {t_stat}\\nP-Value: {p_val}\")"
   ]
  },
  {
   "cell_type": "code",
   "execution_count": 103,
   "metadata": {
    "scrolled": true
   },
   "outputs": [
    {
     "name": "stdout",
     "output_type": "stream",
     "text": [
      "df1 Review Mean:  7.234166666666671\n",
      "df2 Review Mean:  6.331521739130442\n",
      "Difference:  0.9026449275362296\n",
      "T-Statistic: 10.662012139533278\n",
      "P-Value: 3.9363960042276256e-25\n"
     ]
    }
   ],
   "source": [
    "output(rock_df_joe, rock_df_ian)"
   ]
  },
  {
   "cell_type": "code",
   "execution_count": 120,
   "metadata": {},
   "outputs": [],
   "source": [
    "def sample_size(df1, df2, moe=.5):\n",
    "    std_df1 = df1['score'].std()\n",
    "    std_df2 = df2['score'].std()\n",
    "    count_df1 = len(df1['score'])\n",
    "    count_df2 = len(df2['score'])\n",
    "    \n",
    "    std_p = (( (count_df1-1)*(std_df1**2) ) + ( (count_df2-1)* (std_df2**2) )) / (count_df1 + count_df2 - 2)\n",
    "    samp_size = 2*( ((1.96 * std_p)/moe)**2 )\n",
    "    return samp_size"
   ]
  },
  {
   "cell_type": "code",
   "execution_count": 125,
   "metadata": {},
   "outputs": [
    {
     "data": {
      "text/plain": [
       "87.10752089337349"
      ]
     },
     "execution_count": 125,
     "metadata": {},
     "output_type": "execute_result"
    }
   ],
   "source": [
    "sample_size(rock_df_joe, rock_df_ian, moe=0.5)"
   ]
  },
  {
   "cell_type": "code",
   "execution_count": 131,
   "metadata": {},
   "outputs": [],
   "source": [
    "def bootstrap(df1, df2, moe=0.5):\n",
    "    bootstrap_df1_sample = []\n",
    "    bootstrap_df2_sample = []\n",
    "\n",
    "    bootstrap_df1_sample_means = np.zeros(100)\n",
    "    bootstrap_df2_sample_means = np.zeros(100)\n",
    "\n",
    "    for i in range(100):\n",
    "        bootstrap_df1_samp = np.random.choice(df1['score'], size=int(sample_size(df1, df2, moe)), replace=True)\n",
    "        bootstrap_df2_samp = np.random.choice(df2['score'], size=int(sample_size(df1, df2, moe)), replace=True)\n",
    "    \n",
    "        bootstrap_df1_sample.append(bootstrap_df1_samp)\n",
    "        bootstrap_df2_sample.append(bootstrap_df2_samp)\n",
    "    \n",
    "        bootstrap_df1_sample_means[i] = bootstrap_df1_samp.mean()\n",
    "        bootstrap_df2_sample_means[i] = bootstrap_df2_samp.mean()\n",
    "\n",
    "    print('df1 Means Stdv: ', bootstrap_df1_sample_means.std())\n",
    "    print('df2 Means Stdv: ', bootstrap_df2_sample_means.std())\n",
    "\n",
    "    print('df1 2.5 Percentile: ', np.percentile(a=bootstrap_df1_sample_means, q=2.5))\n",
    "    print('df1 97.5 Percentile: ', np.percentile(a=bootstrap_df1_sample_means, q=97.5))\n",
    "\n",
    "    print('df2 2.5 Percentile: ', np.percentile(a=bootstrap_df2_sample_means, q=2.5))\n",
    "    print('df2 97.5 Percentile: ', np.percentile(a=bootstrap_df2_sample_means, q=97.5))\n"
   ]
  },
  {
   "cell_type": "code",
   "execution_count": 193,
   "metadata": {},
   "outputs": [
    {
     "name": "stdout",
     "output_type": "stream",
     "text": [
      "df1 Means Stdv:  0.121239429429734\n",
      "df2 Means Stdv:  0.12031460940856113\n",
      "df1 2.5 Percentile:  7.428411949685534\n",
      "df1 97.5 Percentile:  7.885188679245282\n",
      "df2 2.5 Percentile:  6.103553459119496\n",
      "df2 97.5 Percentile:  6.542688679245282\n"
     ]
    }
   ],
   "source": [
    "bootstrap(rock_df_mark, rock_df_ian, moe=.5)"
   ]
  },
  {
   "cell_type": "code",
   "execution_count": null,
   "metadata": {},
   "outputs": [],
   "source": []
  },
  {
   "cell_type": "code",
   "execution_count": null,
   "metadata": {},
   "outputs": [],
   "source": []
  },
  {
   "cell_type": "code",
   "execution_count": null,
   "metadata": {},
   "outputs": [],
   "source": []
  }
 ],
 "metadata": {
  "kernelspec": {
   "display_name": "Python 3",
   "language": "python",
   "name": "python3"
  },
  "language_info": {
   "codemirror_mode": {
    "name": "ipython",
    "version": 3
   },
   "file_extension": ".py",
   "mimetype": "text/x-python",
   "name": "python",
   "nbconvert_exporter": "python",
   "pygments_lexer": "ipython3",
   "version": "3.7.1"
  }
 },
 "nbformat": 4,
 "nbformat_minor": 2
}
