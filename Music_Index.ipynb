{
 "cells": [
  {
   "cell_type": "markdown",
   "metadata": {},
   "source": [
    "## Loading Dataset"
   ]
  },
  {
   "cell_type": "code",
   "execution_count": 25,
   "metadata": {},
   "outputs": [],
   "source": [
    "import psycopg2\n",
    "import pandas as pd\n",
    "import numpy as np\n",
    "import seaborn as sns\n",
    "from  scipy.stats import ttest_ind\n",
    "import matplotlib.pyplot as plt\n",
    "import statsmodels.api as sm\n",
    "from statsmodels.formula.api import ols\n",
    "from pitchfork_functions import query_to_df, sample_size_calc, bootstrap_mean_stats, two_sample_ttest_stats\n",
    "%matplotlib inline\n",
    "conn = psycopg2.connect(\"dbname=musicdatabase\")\n",
    "cur = conn.cursor()"
   ]
  },
  {
   "cell_type": "markdown",
   "metadata": {},
   "source": [
    "#### Loading SQLite into PostGreSQL:\n",
    "Our original source file was a sqlite file which we wanted to load into PostGreSQL to be able to work safely locally and not rely on the original file.  We did so through the command line with the help of pgloader.  The steps we took were:\n",
    "* Installing pgloader:  \n",
    "    ```brew install pgloader```\n",
    "* Creating our local database:  \n",
    "    ```CREATEDB msuicdatabase```\n",
    "* Executing pgloader:  \n",
    "   ```pgloader music.sqlite postgresql:///musicdatabase```"
   ]
  },
  {
   "cell_type": "markdown",
   "metadata": {},
   "source": [
    "## Creating DataFrames"
   ]
  },
  {
   "cell_type": "code",
   "execution_count": 26,
   "metadata": {},
   "outputs": [],
   "source": [
    "# Genre table\n",
    "genres_df = query_to_df(\"SELECT * FROM genres\")\n",
    "\n",
    "# Artists table\n",
    "artists_df = query_to_df(\"SELECT * FROM artists\")\n",
    "\n",
    "# Content table\n",
    "content_df = query_to_df(\"SELECT * FROM content\")\n",
    "\n",
    "# Labels table\n",
    "labels_df = query_to_df(\"SELECT * FROM labels\")\n",
    "\n",
    "# Reviews table\n",
    "reviews_df = query_to_df(\"SELECT * FROM reviews\")\n",
    "\n",
    "#Years table\n",
    "years_df = query_to_df(\"SELECT * FROM years\")\n"
   ]
  },
  {
   "cell_type": "markdown",
   "metadata": {},
   "source": [
    "## Exploring the Data"
   ]
  },
  {
   "cell_type": "code",
   "execution_count": 27,
   "metadata": {},
   "outputs": [
    {
     "name": "stdout",
     "output_type": "stream",
     "text": [
      "genre df length:  22680\n",
      "artists df length:  18831\n",
      "content df length:  18393\n",
      "labels df length:  20190\n",
      "reviews df length:  18393\n",
      "years df length:  19108\n"
     ]
    }
   ],
   "source": [
    "print('genre df length: ', len(genres_df))\n",
    "print('artists df length: ', len(artists_df))\n",
    "print('content df length: ', len(content_df))\n",
    "print('labels df length: ', len(labels_df))\n",
    "print('reviews df length: ', len(reviews_df))\n",
    "print('years df length: ', len(years_df))"
   ]
  },
  {
   "cell_type": "code",
   "execution_count": 28,
   "metadata": {},
   "outputs": [
    {
     "name": "stdout",
     "output_type": "stream",
     "text": [
      "<class 'pandas.core.frame.DataFrame'>\n",
      "RangeIndex: 18393 entries, 0 to 18392\n",
      "Data columns (total 13 columns):\n",
      "reviewid          18393 non-null int64\n",
      "title             18393 non-null object\n",
      "artist            18393 non-null object\n",
      "url               18393 non-null object\n",
      "score             18393 non-null float64\n",
      "best_new_music    18393 non-null int64\n",
      "author            18393 non-null object\n",
      "author_type       14487 non-null object\n",
      "pub_date          18393 non-null object\n",
      "pub_weekday       18393 non-null int64\n",
      "pub_day           18393 non-null int64\n",
      "pub_month         18393 non-null int64\n",
      "pub_year          18393 non-null int64\n",
      "dtypes: float64(1), int64(6), object(6)\n",
      "memory usage: 1.8+ MB\n"
     ]
    }
   ],
   "source": [
    "reviews_df.info()"
   ]
  },
  {
   "cell_type": "code",
   "execution_count": 29,
   "metadata": {},
   "outputs": [
    {
     "data": {
      "text/plain": [
       "reviewid             0\n",
       "title                0\n",
       "artist               0\n",
       "url                  0\n",
       "score                0\n",
       "best_new_music       0\n",
       "author               0\n",
       "author_type       3906\n",
       "pub_date             0\n",
       "pub_weekday          0\n",
       "pub_day              0\n",
       "pub_month            0\n",
       "pub_year             0\n",
       "dtype: int64"
      ]
     },
     "execution_count": 29,
     "metadata": {},
     "output_type": "execute_result"
    }
   ],
   "source": [
    "reviews_df.isna().sum()\n",
    "#no NANs in column 1.. however 2367 in column 2"
   ]
  },
  {
   "cell_type": "markdown",
   "metadata": {},
   "source": [
    "## Scratch Work & More Review"
   ]
  },
  {
   "cell_type": "code",
   "execution_count": 30,
   "metadata": {},
   "outputs": [
    {
     "data": {
      "text/plain": [
       "432"
      ]
     },
     "execution_count": 30,
     "metadata": {},
     "output_type": "execute_result"
    }
   ],
   "source": [
    "reviews_df['author'].value_counts()\n",
    "reviews_df['author'].nunique()"
   ]
  },
  {
   "cell_type": "code",
   "execution_count": 31,
   "metadata": {},
   "outputs": [
    {
     "data": {
      "text/plain": [
       "various artists     688\n",
       "guided by voices     23\n",
       "david bowie          21\n",
       "the beatles          21\n",
       "mogwai               20\n",
       "Name: artist, dtype: int64"
      ]
     },
     "execution_count": 31,
     "metadata": {},
     "output_type": "execute_result"
    }
   ],
   "source": [
    "reviews_df['artist'].value_counts().head()"
   ]
  },
  {
   "cell_type": "code",
   "execution_count": 32,
   "metadata": {},
   "outputs": [
    {
     "data": {
      "text/plain": [
       "18389"
      ]
     },
     "execution_count": 32,
     "metadata": {},
     "output_type": "execute_result"
    }
   ],
   "source": [
    "len(set(reviews_df['reviewid']))\n",
    "#reviews_df['reviewid'].nunique()  #does the same thing"
   ]
  },
  {
   "cell_type": "markdown",
   "metadata": {},
   "source": [
    "## Seeing Which Tables Have Multiple Rows Per Song"
   ]
  },
  {
   "cell_type": "code",
   "execution_count": 33,
   "metadata": {},
   "outputs": [
    {
     "data": {
      "text/html": [
       "<div>\n",
       "<style scoped>\n",
       "    .dataframe tbody tr th:only-of-type {\n",
       "        vertical-align: middle;\n",
       "    }\n",
       "\n",
       "    .dataframe tbody tr th {\n",
       "        vertical-align: top;\n",
       "    }\n",
       "\n",
       "    .dataframe thead th {\n",
       "        text-align: right;\n",
       "    }\n",
       "</style>\n",
       "<table border=\"1\" class=\"dataframe\">\n",
       "  <thead>\n",
       "    <tr style=\"text-align: right;\">\n",
       "      <th></th>\n",
       "      <th>reviewid</th>\n",
       "      <th>label</th>\n",
       "    </tr>\n",
       "  </thead>\n",
       "  <tbody>\n",
       "    <tr>\n",
       "      <th>14612</th>\n",
       "      <td>2626</td>\n",
       "      <td>cleopatra</td>\n",
       "    </tr>\n",
       "    <tr>\n",
       "      <th>14613</th>\n",
       "      <td>2626</td>\n",
       "      <td>alternative tentacles</td>\n",
       "    </tr>\n",
       "    <tr>\n",
       "      <th>14614</th>\n",
       "      <td>2626</td>\n",
       "      <td>manifesto</td>\n",
       "    </tr>\n",
       "    <tr>\n",
       "      <th>14615</th>\n",
       "      <td>2626</td>\n",
       "      <td>cherry red</td>\n",
       "    </tr>\n",
       "    <tr>\n",
       "      <th>14616</th>\n",
       "      <td>2626</td>\n",
       "      <td>irs</td>\n",
       "    </tr>\n",
       "  </tbody>\n",
       "</table>\n",
       "</div>"
      ],
      "text/plain": [
       "       reviewid                  label\n",
       "14612      2626              cleopatra\n",
       "14613      2626  alternative tentacles\n",
       "14614      2626              manifesto\n",
       "14615      2626             cherry red\n",
       "14616      2626                    irs"
      ]
     },
     "execution_count": 33,
     "metadata": {},
     "output_type": "execute_result"
    }
   ],
   "source": [
    "labels_df.loc[labels_df['reviewid'] == 2626]\n",
    "#example, song 6523 has 4 artists"
   ]
  },
  {
   "cell_type": "code",
   "execution_count": 34,
   "metadata": {},
   "outputs": [
    {
     "data": {
      "text/html": [
       "<div>\n",
       "<style scoped>\n",
       "    .dataframe tbody tr th:only-of-type {\n",
       "        vertical-align: middle;\n",
       "    }\n",
       "\n",
       "    .dataframe tbody tr th {\n",
       "        vertical-align: top;\n",
       "    }\n",
       "\n",
       "    .dataframe thead th {\n",
       "        text-align: right;\n",
       "    }\n",
       "</style>\n",
       "<table border=\"1\" class=\"dataframe\">\n",
       "  <thead>\n",
       "    <tr style=\"text-align: right;\">\n",
       "      <th></th>\n",
       "      <th>reviewid</th>\n",
       "      <th>title</th>\n",
       "      <th>artist</th>\n",
       "      <th>url</th>\n",
       "      <th>score</th>\n",
       "      <th>best_new_music</th>\n",
       "      <th>author</th>\n",
       "      <th>author_type</th>\n",
       "      <th>pub_date</th>\n",
       "      <th>pub_weekday</th>\n",
       "      <th>pub_day</th>\n",
       "      <th>pub_month</th>\n",
       "      <th>pub_year</th>\n",
       "    </tr>\n",
       "  </thead>\n",
       "  <tbody>\n",
       "    <tr>\n",
       "      <th>13198</th>\n",
       "      <td>2626</td>\n",
       "      <td>fresh fruit for rotting vegetables</td>\n",
       "      <td>dead kennedys</td>\n",
       "      <td>http://pitchfork.com/reviews/albums/2626-fresh...</td>\n",
       "      <td>7.0</td>\n",
       "      <td>0</td>\n",
       "      <td>cory d. byrom</td>\n",
       "      <td>None</td>\n",
       "      <td>2005-11-09</td>\n",
       "      <td>2</td>\n",
       "      <td>9</td>\n",
       "      <td>11</td>\n",
       "      <td>2005</td>\n",
       "    </tr>\n",
       "  </tbody>\n",
       "</table>\n",
       "</div>"
      ],
      "text/plain": [
       "       reviewid                               title         artist  \\\n",
       "13198      2626  fresh fruit for rotting vegetables  dead kennedys   \n",
       "\n",
       "                                                     url  score  \\\n",
       "13198  http://pitchfork.com/reviews/albums/2626-fresh...    7.0   \n",
       "\n",
       "       best_new_music         author author_type    pub_date  pub_weekday  \\\n",
       "13198               0  cory d. byrom        None  2005-11-09            2   \n",
       "\n",
       "       pub_day  pub_month  pub_year  \n",
       "13198        9         11      2005  "
      ]
     },
     "execution_count": 34,
     "metadata": {},
     "output_type": "execute_result"
    }
   ],
   "source": [
    "reviews_df.loc[reviews_df['reviewid']==2626]"
   ]
  },
  {
   "cell_type": "markdown",
   "metadata": {},
   "source": [
    "* Review Table -- has 4 songs that have 2 reviewid's... i believe this is an error as all rows are identical\n",
    "* Content Table -- also has 4 songs with 2 reviewid's... will remove the duplicated rows\n",
    "* Genres Tabel -- Many songs have 2+ genres\n",
    "* Labels Tabel -- Many songs have 2+ labels\n",
    "* Artists Tabel -- Many songs have 2+ artists\n",
    "* Year Tabel -- Many songs have 2+ release years... this may be an error... considering keeping only oldest year"
   ]
  },
  {
   "cell_type": "code",
   "execution_count": 35,
   "metadata": {},
   "outputs": [
    {
     "data": {
      "text/plain": [
       "2626     5\n",
       "21550    5\n",
       "21387    4\n",
       "17112    4\n",
       "9505     4\n",
       "17920    4\n",
       "16092    4\n",
       "16384    4\n",
       "22065    4\n",
       "22567    3\n",
       "Name: reviewid, dtype: int64"
      ]
     },
     "execution_count": 35,
     "metadata": {},
     "output_type": "execute_result"
    }
   ],
   "source": [
    "labels_df['reviewid'].value_counts().head(10)"
   ]
  },
  {
   "cell_type": "markdown",
   "metadata": {},
   "source": [
    "## Combining Genre and Review Tables"
   ]
  },
  {
   "cell_type": "markdown",
   "metadata": {},
   "source": [
    "First, one hot encode genres table. "
   ]
  },
  {
   "cell_type": "code",
   "execution_count": 36,
   "metadata": {},
   "outputs": [],
   "source": [
    "# genres_df['pop/r&b'] = genres_df['genre'].apply(lambda x: 1 if x == 'pop/r&b' else 0)\n",
    "# genres_df['electronic'] = genres_df['genre'].apply(lambda x: 1 if x == 'electronic' else 0)"
   ]
  },
  {
   "cell_type": "code",
   "execution_count": 37,
   "metadata": {},
   "outputs": [
    {
     "data": {
      "text/html": [
       "<div>\n",
       "<style scoped>\n",
       "    .dataframe tbody tr th:only-of-type {\n",
       "        vertical-align: middle;\n",
       "    }\n",
       "\n",
       "    .dataframe tbody tr th {\n",
       "        vertical-align: top;\n",
       "    }\n",
       "\n",
       "    .dataframe thead th {\n",
       "        text-align: right;\n",
       "    }\n",
       "</style>\n",
       "<table border=\"1\" class=\"dataframe\">\n",
       "  <thead>\n",
       "    <tr style=\"text-align: right;\">\n",
       "      <th></th>\n",
       "      <th>reviewid</th>\n",
       "      <th>genre</th>\n",
       "      <th>electronic</th>\n",
       "      <th>experimental</th>\n",
       "      <th>folk/country</th>\n",
       "      <th>global</th>\n",
       "      <th>jazz</th>\n",
       "      <th>metal</th>\n",
       "      <th>pop/r&amp;b</th>\n",
       "      <th>rap</th>\n",
       "      <th>rock</th>\n",
       "    </tr>\n",
       "  </thead>\n",
       "  <tbody>\n",
       "    <tr>\n",
       "      <th>0</th>\n",
       "      <td>22703</td>\n",
       "      <td>electronic</td>\n",
       "      <td>1</td>\n",
       "      <td>0</td>\n",
       "      <td>0</td>\n",
       "      <td>0</td>\n",
       "      <td>0</td>\n",
       "      <td>0</td>\n",
       "      <td>0</td>\n",
       "      <td>0</td>\n",
       "      <td>0</td>\n",
       "    </tr>\n",
       "    <tr>\n",
       "      <th>1</th>\n",
       "      <td>22721</td>\n",
       "      <td>metal</td>\n",
       "      <td>0</td>\n",
       "      <td>0</td>\n",
       "      <td>0</td>\n",
       "      <td>0</td>\n",
       "      <td>0</td>\n",
       "      <td>1</td>\n",
       "      <td>0</td>\n",
       "      <td>0</td>\n",
       "      <td>0</td>\n",
       "    </tr>\n",
       "    <tr>\n",
       "      <th>2</th>\n",
       "      <td>22659</td>\n",
       "      <td>rock</td>\n",
       "      <td>0</td>\n",
       "      <td>0</td>\n",
       "      <td>0</td>\n",
       "      <td>0</td>\n",
       "      <td>0</td>\n",
       "      <td>0</td>\n",
       "      <td>0</td>\n",
       "      <td>0</td>\n",
       "      <td>1</td>\n",
       "    </tr>\n",
       "    <tr>\n",
       "      <th>3</th>\n",
       "      <td>22661</td>\n",
       "      <td>rock</td>\n",
       "      <td>0</td>\n",
       "      <td>0</td>\n",
       "      <td>0</td>\n",
       "      <td>0</td>\n",
       "      <td>0</td>\n",
       "      <td>0</td>\n",
       "      <td>0</td>\n",
       "      <td>0</td>\n",
       "      <td>1</td>\n",
       "    </tr>\n",
       "    <tr>\n",
       "      <th>4</th>\n",
       "      <td>22725</td>\n",
       "      <td>electronic</td>\n",
       "      <td>1</td>\n",
       "      <td>0</td>\n",
       "      <td>0</td>\n",
       "      <td>0</td>\n",
       "      <td>0</td>\n",
       "      <td>0</td>\n",
       "      <td>0</td>\n",
       "      <td>0</td>\n",
       "      <td>0</td>\n",
       "    </tr>\n",
       "  </tbody>\n",
       "</table>\n",
       "</div>"
      ],
      "text/plain": [
       "   reviewid       genre  electronic  experimental  folk/country  global  jazz  \\\n",
       "0     22703  electronic           1             0             0       0     0   \n",
       "1     22721       metal           0             0             0       0     0   \n",
       "2     22659        rock           0             0             0       0     0   \n",
       "3     22661        rock           0             0             0       0     0   \n",
       "4     22725  electronic           1             0             0       0     0   \n",
       "\n",
       "   metal  pop/r&b  rap  rock  \n",
       "0      0        0    0     0  \n",
       "1      1        0    0     0  \n",
       "2      0        0    0     1  \n",
       "3      0        0    0     1  \n",
       "4      0        0    0     0  "
      ]
     },
     "execution_count": 37,
     "metadata": {},
     "output_type": "execute_result"
    }
   ],
   "source": [
    "genres_one_hot = pd.get_dummies(genres_df['genre'])\n",
    "genres_one_hot.head()\n",
    "genres_hot_df = pd.concat([genres_df, genres_one_hot], axis = 1)\n",
    "genres_hot_df.head()"
   ]
  },
  {
   "cell_type": "markdown",
   "metadata": {},
   "source": [
    "Second, filtered genres table for only pop & electric"
   ]
  },
  {
   "cell_type": "code",
   "execution_count": 38,
   "metadata": {},
   "outputs": [
    {
     "data": {
      "text/html": [
       "<div>\n",
       "<style scoped>\n",
       "    .dataframe tbody tr th:only-of-type {\n",
       "        vertical-align: middle;\n",
       "    }\n",
       "\n",
       "    .dataframe tbody tr th {\n",
       "        vertical-align: top;\n",
       "    }\n",
       "\n",
       "    .dataframe thead th {\n",
       "        text-align: right;\n",
       "    }\n",
       "</style>\n",
       "<table border=\"1\" class=\"dataframe\">\n",
       "  <thead>\n",
       "    <tr style=\"text-align: right;\">\n",
       "      <th></th>\n",
       "      <th>reviewid</th>\n",
       "      <th>electronic</th>\n",
       "      <th>pop/r&amp;b</th>\n",
       "    </tr>\n",
       "  </thead>\n",
       "  <tbody>\n",
       "    <tr>\n",
       "      <th>0</th>\n",
       "      <td>22703</td>\n",
       "      <td>1</td>\n",
       "      <td>0</td>\n",
       "    </tr>\n",
       "    <tr>\n",
       "      <th>4</th>\n",
       "      <td>22725</td>\n",
       "      <td>1</td>\n",
       "      <td>0</td>\n",
       "    </tr>\n",
       "    <tr>\n",
       "      <th>7</th>\n",
       "      <td>22694</td>\n",
       "      <td>1</td>\n",
       "      <td>0</td>\n",
       "    </tr>\n",
       "    <tr>\n",
       "      <th>12</th>\n",
       "      <td>22700</td>\n",
       "      <td>1</td>\n",
       "      <td>0</td>\n",
       "    </tr>\n",
       "    <tr>\n",
       "      <th>18</th>\n",
       "      <td>22719</td>\n",
       "      <td>0</td>\n",
       "      <td>1</td>\n",
       "    </tr>\n",
       "  </tbody>\n",
       "</table>\n",
       "</div>"
      ],
      "text/plain": [
       "    reviewid  electronic  pop/r&b\n",
       "0      22703           1        0\n",
       "4      22725           1        0\n",
       "7      22694           1        0\n",
       "12     22700           1        0\n",
       "18     22719           0        1"
      ]
     },
     "execution_count": 38,
     "metadata": {},
     "output_type": "execute_result"
    }
   ],
   "source": [
    "genres_hot_df_filtered = genres_hot_df[(genres_hot_df['pop/r&b'] == 1) | (genres_hot_df['electronic'] == 1)]\n",
    "genres_hot_df_filtered = genres_hot_df_filtered[['reviewid', 'electronic', 'pop/r&b']]\n",
    "genres_hot_df_filtered.head()"
   ]
  },
  {
   "cell_type": "markdown",
   "metadata": {},
   "source": [
    "Third, add value_count column in order to remove any albums that fall under both electronic & pop."
   ]
  },
  {
   "cell_type": "code",
   "execution_count": 39,
   "metadata": {},
   "outputs": [
    {
     "data": {
      "text/html": [
       "<div>\n",
       "<style scoped>\n",
       "    .dataframe tbody tr th:only-of-type {\n",
       "        vertical-align: middle;\n",
       "    }\n",
       "\n",
       "    .dataframe tbody tr th {\n",
       "        vertical-align: top;\n",
       "    }\n",
       "\n",
       "    .dataframe thead th {\n",
       "        text-align: right;\n",
       "    }\n",
       "</style>\n",
       "<table border=\"1\" class=\"dataframe\">\n",
       "  <thead>\n",
       "    <tr style=\"text-align: right;\">\n",
       "      <th></th>\n",
       "      <th>reviewid</th>\n",
       "      <th>electronic</th>\n",
       "      <th>pop/r&amp;b</th>\n",
       "      <th>value_count</th>\n",
       "    </tr>\n",
       "  </thead>\n",
       "  <tbody>\n",
       "    <tr>\n",
       "      <th>0</th>\n",
       "      <td>22703</td>\n",
       "      <td>1</td>\n",
       "      <td>0</td>\n",
       "      <td>1</td>\n",
       "    </tr>\n",
       "    <tr>\n",
       "      <th>4</th>\n",
       "      <td>22725</td>\n",
       "      <td>1</td>\n",
       "      <td>0</td>\n",
       "      <td>1</td>\n",
       "    </tr>\n",
       "    <tr>\n",
       "      <th>7</th>\n",
       "      <td>22694</td>\n",
       "      <td>1</td>\n",
       "      <td>0</td>\n",
       "      <td>1</td>\n",
       "    </tr>\n",
       "    <tr>\n",
       "      <th>12</th>\n",
       "      <td>22700</td>\n",
       "      <td>1</td>\n",
       "      <td>0</td>\n",
       "      <td>1</td>\n",
       "    </tr>\n",
       "    <tr>\n",
       "      <th>18</th>\n",
       "      <td>22719</td>\n",
       "      <td>0</td>\n",
       "      <td>1</td>\n",
       "      <td>1</td>\n",
       "    </tr>\n",
       "  </tbody>\n",
       "</table>\n",
       "</div>"
      ],
      "text/plain": [
       "    reviewid  electronic  pop/r&b  value_count\n",
       "0      22703           1        0            1\n",
       "4      22725           1        0            1\n",
       "7      22694           1        0            1\n",
       "12     22700           1        0            1\n",
       "18     22719           0        1            1"
      ]
     },
     "execution_count": 39,
     "metadata": {},
     "output_type": "execute_result"
    }
   ],
   "source": [
    "genre_counts = genres_hot_df_filtered['reviewid'].value_counts()\n",
    "genre_dict = genre_counts.to_dict()\n",
    "genres_hot_df_filtered['value_count'] = genres_hot_df_filtered['reviewid'].apply(lambda x: genre_dict[x])\n",
    "genres_hot_df_filtered.head()"
   ]
  },
  {
   "cell_type": "markdown",
   "metadata": {},
   "source": [
    "Remove albums with both electronic and pop (where value_counts = 2)"
   ]
  },
  {
   "cell_type": "code",
   "execution_count": 40,
   "metadata": {},
   "outputs": [
    {
     "data": {
      "text/html": [
       "<div>\n",
       "<style scoped>\n",
       "    .dataframe tbody tr th:only-of-type {\n",
       "        vertical-align: middle;\n",
       "    }\n",
       "\n",
       "    .dataframe tbody tr th {\n",
       "        vertical-align: top;\n",
       "    }\n",
       "\n",
       "    .dataframe thead th {\n",
       "        text-align: right;\n",
       "    }\n",
       "</style>\n",
       "<table border=\"1\" class=\"dataframe\">\n",
       "  <thead>\n",
       "    <tr style=\"text-align: right;\">\n",
       "      <th></th>\n",
       "      <th>reviewid</th>\n",
       "      <th>electronic</th>\n",
       "      <th>pop/r&amp;b</th>\n",
       "      <th>value_count</th>\n",
       "    </tr>\n",
       "  </thead>\n",
       "  <tbody>\n",
       "    <tr>\n",
       "      <th>0</th>\n",
       "      <td>22703</td>\n",
       "      <td>1</td>\n",
       "      <td>0</td>\n",
       "      <td>1</td>\n",
       "    </tr>\n",
       "    <tr>\n",
       "      <th>4</th>\n",
       "      <td>22725</td>\n",
       "      <td>1</td>\n",
       "      <td>0</td>\n",
       "      <td>1</td>\n",
       "    </tr>\n",
       "    <tr>\n",
       "      <th>7</th>\n",
       "      <td>22694</td>\n",
       "      <td>1</td>\n",
       "      <td>0</td>\n",
       "      <td>1</td>\n",
       "    </tr>\n",
       "    <tr>\n",
       "      <th>12</th>\n",
       "      <td>22700</td>\n",
       "      <td>1</td>\n",
       "      <td>0</td>\n",
       "      <td>1</td>\n",
       "    </tr>\n",
       "    <tr>\n",
       "      <th>18</th>\n",
       "      <td>22719</td>\n",
       "      <td>0</td>\n",
       "      <td>1</td>\n",
       "      <td>1</td>\n",
       "    </tr>\n",
       "  </tbody>\n",
       "</table>\n",
       "</div>"
      ],
      "text/plain": [
       "    reviewid  electronic  pop/r&b  value_count\n",
       "0      22703           1        0            1\n",
       "4      22725           1        0            1\n",
       "7      22694           1        0            1\n",
       "12     22700           1        0            1\n",
       "18     22719           0        1            1"
      ]
     },
     "execution_count": 40,
     "metadata": {},
     "output_type": "execute_result"
    }
   ],
   "source": [
    "genre_to_drop = genres_hot_df_filtered[genres_hot_df_filtered['value_count'] == 2]\n",
    "genres_df_new = genres_hot_df_filtered.drop(genre_to_drop.index, axis=0)\n",
    "genres_df_new.head()"
   ]
  },
  {
   "cell_type": "markdown",
   "metadata": {},
   "source": [
    "Merge the new Genre Table with the existing Review Table"
   ]
  },
  {
   "cell_type": "code",
   "execution_count": 41,
   "metadata": {},
   "outputs": [
    {
     "data": {
      "text/html": [
       "<div>\n",
       "<style scoped>\n",
       "    .dataframe tbody tr th:only-of-type {\n",
       "        vertical-align: middle;\n",
       "    }\n",
       "\n",
       "    .dataframe tbody tr th {\n",
       "        vertical-align: top;\n",
       "    }\n",
       "\n",
       "    .dataframe thead th {\n",
       "        text-align: right;\n",
       "    }\n",
       "</style>\n",
       "<table border=\"1\" class=\"dataframe\">\n",
       "  <thead>\n",
       "    <tr style=\"text-align: right;\">\n",
       "      <th></th>\n",
       "      <th>reviewid</th>\n",
       "      <th>title</th>\n",
       "      <th>artist</th>\n",
       "      <th>url</th>\n",
       "      <th>score</th>\n",
       "      <th>best_new_music</th>\n",
       "      <th>author</th>\n",
       "      <th>author_type</th>\n",
       "      <th>pub_date</th>\n",
       "      <th>pub_weekday</th>\n",
       "      <th>pub_day</th>\n",
       "      <th>pub_month</th>\n",
       "      <th>pub_year</th>\n",
       "      <th>electronic</th>\n",
       "      <th>pop/r&amp;b</th>\n",
       "      <th>value_count</th>\n",
       "    </tr>\n",
       "  </thead>\n",
       "  <tbody>\n",
       "    <tr>\n",
       "      <th>0</th>\n",
       "      <td>22703</td>\n",
       "      <td>mezzanine</td>\n",
       "      <td>massive attack</td>\n",
       "      <td>http://pitchfork.com/reviews/albums/22703-mezz...</td>\n",
       "      <td>9.3</td>\n",
       "      <td>0</td>\n",
       "      <td>nate patrin</td>\n",
       "      <td>contributor</td>\n",
       "      <td>2017-01-08</td>\n",
       "      <td>6</td>\n",
       "      <td>8</td>\n",
       "      <td>1</td>\n",
       "      <td>2017</td>\n",
       "      <td>1</td>\n",
       "      <td>0</td>\n",
       "      <td>1</td>\n",
       "    </tr>\n",
       "    <tr>\n",
       "      <th>1</th>\n",
       "      <td>22725</td>\n",
       "      <td>new start</td>\n",
       "      <td>taso</td>\n",
       "      <td>http://pitchfork.com/reviews/albums/22725-new-...</td>\n",
       "      <td>8.1</td>\n",
       "      <td>0</td>\n",
       "      <td>kevin lozano</td>\n",
       "      <td>tracks coordinator</td>\n",
       "      <td>2017-01-06</td>\n",
       "      <td>4</td>\n",
       "      <td>6</td>\n",
       "      <td>1</td>\n",
       "      <td>2017</td>\n",
       "      <td>1</td>\n",
       "      <td>0</td>\n",
       "      <td>1</td>\n",
       "    </tr>\n",
       "    <tr>\n",
       "      <th>2</th>\n",
       "      <td>22694</td>\n",
       "      <td>tehillim</td>\n",
       "      <td>yotam avni</td>\n",
       "      <td>http://pitchfork.com/reviews/albums/22694-tehi...</td>\n",
       "      <td>7.0</td>\n",
       "      <td>0</td>\n",
       "      <td>andy beta</td>\n",
       "      <td>contributor</td>\n",
       "      <td>2017-01-05</td>\n",
       "      <td>3</td>\n",
       "      <td>5</td>\n",
       "      <td>1</td>\n",
       "      <td>2017</td>\n",
       "      <td>1</td>\n",
       "      <td>0</td>\n",
       "      <td>1</td>\n",
       "    </tr>\n",
       "    <tr>\n",
       "      <th>3</th>\n",
       "      <td>22700</td>\n",
       "      <td>nadir</td>\n",
       "      <td>steven warwick</td>\n",
       "      <td>http://pitchfork.com/reviews/albums/22700-nadir/</td>\n",
       "      <td>7.6</td>\n",
       "      <td>0</td>\n",
       "      <td>thea ballard</td>\n",
       "      <td>contributor</td>\n",
       "      <td>2017-01-03</td>\n",
       "      <td>1</td>\n",
       "      <td>3</td>\n",
       "      <td>1</td>\n",
       "      <td>2017</td>\n",
       "      <td>1</td>\n",
       "      <td>0</td>\n",
       "      <td>1</td>\n",
       "    </tr>\n",
       "    <tr>\n",
       "      <th>4</th>\n",
       "      <td>22719</td>\n",
       "      <td>merry christmas lil mama</td>\n",
       "      <td>chance the rapper, jeremih</td>\n",
       "      <td>http://pitchfork.com/reviews/albums/22719-merr...</td>\n",
       "      <td>8.1</td>\n",
       "      <td>0</td>\n",
       "      <td>sheldon pearce</td>\n",
       "      <td>associate staff writer</td>\n",
       "      <td>2016-12-30</td>\n",
       "      <td>4</td>\n",
       "      <td>30</td>\n",
       "      <td>12</td>\n",
       "      <td>2016</td>\n",
       "      <td>0</td>\n",
       "      <td>1</td>\n",
       "      <td>1</td>\n",
       "    </tr>\n",
       "  </tbody>\n",
       "</table>\n",
       "</div>"
      ],
      "text/plain": [
       "   reviewid                     title                      artist  \\\n",
       "0     22703                 mezzanine              massive attack   \n",
       "1     22725                 new start                        taso   \n",
       "2     22694                  tehillim                  yotam avni   \n",
       "3     22700                     nadir              steven warwick   \n",
       "4     22719  merry christmas lil mama  chance the rapper, jeremih   \n",
       "\n",
       "                                                 url  score  best_new_music  \\\n",
       "0  http://pitchfork.com/reviews/albums/22703-mezz...    9.3               0   \n",
       "1  http://pitchfork.com/reviews/albums/22725-new-...    8.1               0   \n",
       "2  http://pitchfork.com/reviews/albums/22694-tehi...    7.0               0   \n",
       "3   http://pitchfork.com/reviews/albums/22700-nadir/    7.6               0   \n",
       "4  http://pitchfork.com/reviews/albums/22719-merr...    8.1               0   \n",
       "\n",
       "           author             author_type    pub_date  pub_weekday  pub_day  \\\n",
       "0     nate patrin             contributor  2017-01-08            6        8   \n",
       "1    kevin lozano      tracks coordinator  2017-01-06            4        6   \n",
       "2       andy beta             contributor  2017-01-05            3        5   \n",
       "3    thea ballard             contributor  2017-01-03            1        3   \n",
       "4  sheldon pearce  associate staff writer  2016-12-30            4       30   \n",
       "\n",
       "   pub_month  pub_year  electronic  pop/r&b  value_count  \n",
       "0          1      2017           1        0            1  \n",
       "1          1      2017           1        0            1  \n",
       "2          1      2017           1        0            1  \n",
       "3          1      2017           1        0            1  \n",
       "4         12      2016           0        1            1  "
      ]
     },
     "execution_count": 41,
     "metadata": {},
     "output_type": "execute_result"
    }
   ],
   "source": [
    "#rg = review & genres\n",
    "rg_df = reviews_df.merge(genres_df_new, left_on='reviewid', right_on='reviewid')\n",
    "rg_df.head()"
   ]
  },
  {
   "cell_type": "markdown",
   "metadata": {},
   "source": [
    "## Hypothesis Test #1 \n",
    "* Null: There is no statistically significant difference between the reviews for pop/R&B albums and electronic music albums.\n",
    "* Alternative: The reviews for pop/R&B albums and electronic albums have a statistically significant difference between how they are reviewed, either positively or negatively. "
   ]
  },
  {
   "cell_type": "code",
   "execution_count": 42,
   "metadata": {},
   "outputs": [],
   "source": [
    "pop_df = rg_df[rg_df['pop/r&b'] == 1].copy()\n",
    "elec_df = rg_df[rg_df['electronic'] == 1].copy()"
   ]
  },
  {
   "cell_type": "code",
   "execution_count": 43,
   "metadata": {},
   "outputs": [
    {
     "name": "stderr",
     "output_type": "stream",
     "text": [
      "/Users/nawjux/anaconda3/lib/python3.7/site-packages/scipy/stats/stats.py:1713: FutureWarning: Using a non-tuple sequence for multidimensional indexing is deprecated; use `arr[tuple(seq)]` instead of `arr[seq]`. In the future this will be interpreted as an array index, `arr[np.array(seq)]`, which will result either in an error or a different result.\n",
      "  return np.add.reduce(sorted[indexer] * weights, axis=axis) / sumval\n"
     ]
    },
    {
     "data": {
      "image/png": "[encoded data removed]",
      "text/plain": [
       "<Figure size 792x432 with 1 Axes>"
      ]
     },
     "metadata": {
      "needs_background": "light"
     },
     "output_type": "display_data"
    }
   ],
   "source": [
    "plt.figure(figsize=(11,6))\n",
    "sns.distplot(pop_df['score'], label=\"Pop/R&B Music\")\n",
    "sns.distplot(elec_df['score'], label=\"Electronic Music\");\n",
    "plt.legend();"
   ]
  },
  {
   "cell_type": "code",
   "execution_count": 44,
   "metadata": {},
   "outputs": [
    {
     "name": "stdout",
     "output_type": "stream",
     "text": [
      "Sample 1 Review Mean:  6.918853820598014\n",
      "Sampe 2 Review Mean:  6.93458584750412\n",
      "Difference:  -0.015732026906106533\n",
      "T-Statistic: -0.36421091026425517\n",
      "P-Value: 0.7157164040794012\n"
     ]
    }
   ],
   "source": [
    "# Created a helper function for Two Sample T-Test for our categorical comparissions.\n",
    "two_sample_ttest_stats(pop_df['score'], elec_df['score'])"
   ]
  },
  {
   "cell_type": "markdown",
   "metadata": {},
   "source": [
    "#### Finding Appropriate Sample Size"
   ]
  },
  {
   "cell_type": "code",
   "execution_count": 45,
   "metadata": {},
   "outputs": [
    {
     "data": {
      "text/plain": [
       "87.64595381733686"
      ]
     },
     "execution_count": 45,
     "metadata": {},
     "output_type": "execute_result"
    }
   ],
   "source": [
    "# Using sample size calculation converted into a function\n",
    "sample_size_calc(pop_df['score'],elec_df['score'], moe=.5)"
   ]
  },
  {
   "cell_type": "markdown",
   "metadata": {},
   "source": [
    "Appropriate sample size must be greater than 87.6"
   ]
  },
  {
   "cell_type": "code",
   "execution_count": 46,
   "metadata": {},
   "outputs": [],
   "source": [
    "samp_size = 90"
   ]
  },
  {
   "cell_type": "markdown",
   "metadata": {},
   "source": [
    "#### Bootstrap Check"
   ]
  },
  {
   "cell_type": "code",
   "execution_count": 47,
   "metadata": {},
   "outputs": [
    {
     "name": "stdout",
     "output_type": "stream",
     "text": [
      "Pop Sample Means Stdv: 0.1445\n",
      "Pop 2.5 Percentile: 6.61\n",
      "Pop 97.5 Percentile: 7.1764\n"
     ]
    }
   ],
   "source": [
    "std, low_p, high_p = bootstrap_mean_stats(pop_df['score'], sample_size=90, n_tests=100)\n",
    "print(f\"Pop Sample Means Stdv: {std}\\nPop 2.5 Percentile: {low_p}\\nPop 97.5 Percentile: {high_p}\")"
   ]
  },
  {
   "cell_type": "code",
   "execution_count": 48,
   "metadata": {},
   "outputs": [
    {
     "name": "stdout",
     "output_type": "stream",
     "text": [
      "Elec Sample Means Stdv: 0.1313\n",
      "Elec 2.5 Percentile: 6.6411\n",
      "Elec 97.5 Percentile: 7.1602\n"
     ]
    }
   ],
   "source": [
    "std, low_p, high_p = bootstrap_mean_stats(elec_df['score'], sample_size=90, n_tests=100)\n",
    "print(f\"Elec Sample Means Stdv: {std}\\nElec 2.5 Percentile: {low_p}\\nElec 97.5 Percentile: {high_p}\")"
   ]
  },
  {
   "cell_type": "markdown",
   "metadata": {},
   "source": [
    "#### Summary: Hypothesis #1\n",
    "\n",
    "Through our exploration, we found there to be very little variability between the rating of the two genres. We found a p-value of .716, which far exceeds our threshold of .05, telling us that we must accept our null hypothesis that there is not a statistically significant difference between the rating of pop/R&B and electronic albums.\n",
    "\n",
    "In our further bootstrap test, sampling our data, we did not find significant variability in the performance of our two groups."
   ]
  },
  {
   "cell_type": "markdown",
   "metadata": {},
   "source": [
    "## Hypothesis Test #2\n",
    "* Null: There is no statistically significant difference between self-released album ratings and all others. \n",
    "* Alternative: Self-released albums have a statistically significant decrease in ratings compared to other labels."
   ]
  },
  {
   "cell_type": "code",
   "execution_count": 49,
   "metadata": {},
   "outputs": [
    {
     "data": {
      "text/html": [
       "<div>\n",
       "<style scoped>\n",
       "    .dataframe tbody tr th:only-of-type {\n",
       "        vertical-align: middle;\n",
       "    }\n",
       "\n",
       "    .dataframe tbody tr th {\n",
       "        vertical-align: top;\n",
       "    }\n",
       "\n",
       "    .dataframe thead th {\n",
       "        text-align: right;\n",
       "    }\n",
       "</style>\n",
       "<table border=\"1\" class=\"dataframe\">\n",
       "  <thead>\n",
       "    <tr style=\"text-align: right;\">\n",
       "      <th></th>\n",
       "      <th>reviewid</th>\n",
       "      <th>label</th>\n",
       "      <th>label count</th>\n",
       "    </tr>\n",
       "  </thead>\n",
       "  <tbody>\n",
       "    <tr>\n",
       "      <th>0</th>\n",
       "      <td>22703</td>\n",
       "      <td>virgin</td>\n",
       "      <td>1</td>\n",
       "    </tr>\n",
       "    <tr>\n",
       "      <th>1</th>\n",
       "      <td>22721</td>\n",
       "      <td>hathenter</td>\n",
       "      <td>1</td>\n",
       "    </tr>\n",
       "    <tr>\n",
       "      <th>2</th>\n",
       "      <td>22659</td>\n",
       "      <td>static shock</td>\n",
       "      <td>2</td>\n",
       "    </tr>\n",
       "    <tr>\n",
       "      <th>3</th>\n",
       "      <td>22659</td>\n",
       "      <td>fashionable idiots</td>\n",
       "      <td>2</td>\n",
       "    </tr>\n",
       "    <tr>\n",
       "      <th>4</th>\n",
       "      <td>22661</td>\n",
       "      <td>kill rock stars</td>\n",
       "      <td>2</td>\n",
       "    </tr>\n",
       "  </tbody>\n",
       "</table>\n",
       "</div>"
      ],
      "text/plain": [
       "   reviewid               label  label count\n",
       "0     22703              virgin            1\n",
       "1     22721           hathenter            1\n",
       "2     22659        static shock            2\n",
       "3     22659  fashionable idiots            2\n",
       "4     22661     kill rock stars            2"
      ]
     },
     "execution_count": 49,
     "metadata": {},
     "output_type": "execute_result"
    }
   ],
   "source": [
    "multi_label = dict(labels_df['reviewid'].value_counts())\n",
    "labels_df['label count'] = labels_df['reviewid'].apply(lambda x: multi_label[x])\n",
    "labels_df.head()"
   ]
  },
  {
   "cell_type": "code",
   "execution_count": 50,
   "metadata": {},
   "outputs": [],
   "source": [
    "to_drop = labels_df[labels_df['label count'] > 1]\n",
    "label_solo_df = labels_df.drop(to_drop.index, axis=0)"
   ]
  },
  {
   "cell_type": "code",
   "execution_count": 51,
   "metadata": {},
   "outputs": [],
   "source": [
    "revlab_df = reviews_df.merge(label_solo_df, left_on='reviewid', right_on='reviewid')"
   ]
  },
  {
   "cell_type": "code",
   "execution_count": 56,
   "metadata": {},
   "outputs": [],
   "source": [
    "self_df = revlab_df[revlab_df['label'] == 'self-released'].copy()\n",
    "label_df = revlab_df[revlab_df['label'] != 'self-released'].copy()"
   ]
  },
  {
   "cell_type": "code",
   "execution_count": 57,
   "metadata": {},
   "outputs": [
    {
     "data": {
      "image/png": "[encoded data removed]",
      "text/plain": [
       "<Figure size 792x432 with 1 Axes>"
      ]
     },
     "metadata": {
      "needs_background": "light"
     },
     "output_type": "display_data"
    }
   ],
   "source": [
    "plt.figure(figsize=(11,6))\n",
    "sns.distplot(self_df['score'], label='Self-released albums');\n",
    "sns.distplot(label_df['score'], label='Label released albums');\n",
    "plt.legend()\n",
    "plt.show();"
   ]
  },
  {
   "cell_type": "code",
   "execution_count": 59,
   "metadata": {},
   "outputs": [
    {
     "name": "stdout",
     "output_type": "stream",
     "text": [
      "Sample 1 Review Mean:  6.918181818181823\n",
      "Sampe 2 Review Mean:  7.0096126782108055\n",
      "Difference:  -0.09143086002898215\n",
      "T-Statistic: -1.4400160399176198\n",
      "P-Value: 0.14988154041527244\n"
     ]
    }
   ],
   "source": [
    "two_sample_ttest_stats(self_df['score'], label_df['score'])"
   ]
  },
  {
   "cell_type": "code",
   "execution_count": 35,
   "metadata": {},
   "outputs": [
    {
     "data": {
      "text/plain": [
       "20.742462442038164"
      ]
     },
     "execution_count": 35,
     "metadata": {},
     "output_type": "execute_result"
    }
   ],
   "source": [
    "sample_size_calc(self_df['score'],label_df['score'])"
   ]
  },
  {
   "cell_type": "markdown",
   "metadata": {},
   "source": [
    "## Hypothesis Test #3\n",
    "* Null Hypothesis: There is no statistical difference between reviewers with >200 album reviews and all others.\n",
    "* Alternative: Reviews with >200 album reviews have a statistically significant different in their review scores. "
   ]
  },
  {
   "cell_type": "code",
   "execution_count": 60,
   "metadata": {},
   "outputs": [
    {
     "data": {
      "text/html": [
       "<div>\n",
       "<style scoped>\n",
       "    .dataframe tbody tr th:only-of-type {\n",
       "        vertical-align: middle;\n",
       "    }\n",
       "\n",
       "    .dataframe tbody tr th {\n",
       "        vertical-align: top;\n",
       "    }\n",
       "\n",
       "    .dataframe thead th {\n",
       "        text-align: right;\n",
       "    }\n",
       "</style>\n",
       "<table border=\"1\" class=\"dataframe\">\n",
       "  <thead>\n",
       "    <tr style=\"text-align: right;\">\n",
       "      <th></th>\n",
       "      <th>reviewid</th>\n",
       "      <th>title</th>\n",
       "      <th>artist</th>\n",
       "      <th>url</th>\n",
       "      <th>score</th>\n",
       "      <th>best_new_music</th>\n",
       "      <th>author</th>\n",
       "      <th>author_type</th>\n",
       "      <th>pub_date</th>\n",
       "      <th>pub_weekday</th>\n",
       "      <th>pub_day</th>\n",
       "      <th>pub_month</th>\n",
       "      <th>pub_year</th>\n",
       "      <th>author_review_count</th>\n",
       "      <th>&gt;200_reviews</th>\n",
       "    </tr>\n",
       "  </thead>\n",
       "  <tbody>\n",
       "    <tr>\n",
       "      <th>0</th>\n",
       "      <td>22703</td>\n",
       "      <td>mezzanine</td>\n",
       "      <td>massive attack</td>\n",
       "      <td>http://pitchfork.com/reviews/albums/22703-mezz...</td>\n",
       "      <td>9.3</td>\n",
       "      <td>0</td>\n",
       "      <td>nate patrin</td>\n",
       "      <td>contributor</td>\n",
       "      <td>2017-01-08</td>\n",
       "      <td>6</td>\n",
       "      <td>8</td>\n",
       "      <td>1</td>\n",
       "      <td>2017</td>\n",
       "      <td>347</td>\n",
       "      <td>1</td>\n",
       "    </tr>\n",
       "    <tr>\n",
       "      <th>1</th>\n",
       "      <td>22721</td>\n",
       "      <td>prelapsarian</td>\n",
       "      <td>krallice</td>\n",
       "      <td>http://pitchfork.com/reviews/albums/22721-prel...</td>\n",
       "      <td>7.9</td>\n",
       "      <td>0</td>\n",
       "      <td>zoe camp</td>\n",
       "      <td>contributor</td>\n",
       "      <td>2017-01-07</td>\n",
       "      <td>5</td>\n",
       "      <td>7</td>\n",
       "      <td>1</td>\n",
       "      <td>2017</td>\n",
       "      <td>69</td>\n",
       "      <td>0</td>\n",
       "    </tr>\n",
       "    <tr>\n",
       "      <th>2</th>\n",
       "      <td>22659</td>\n",
       "      <td>all of them naturals</td>\n",
       "      <td>uranium club</td>\n",
       "      <td>http://pitchfork.com/reviews/albums/22659-all-...</td>\n",
       "      <td>7.3</td>\n",
       "      <td>0</td>\n",
       "      <td>david glickman</td>\n",
       "      <td>contributor</td>\n",
       "      <td>2017-01-07</td>\n",
       "      <td>5</td>\n",
       "      <td>7</td>\n",
       "      <td>1</td>\n",
       "      <td>2017</td>\n",
       "      <td>4</td>\n",
       "      <td>0</td>\n",
       "    </tr>\n",
       "    <tr>\n",
       "      <th>3</th>\n",
       "      <td>22661</td>\n",
       "      <td>first songs</td>\n",
       "      <td>kleenex, liliput</td>\n",
       "      <td>http://pitchfork.com/reviews/albums/22661-firs...</td>\n",
       "      <td>9.0</td>\n",
       "      <td>1</td>\n",
       "      <td>jenn pelly</td>\n",
       "      <td>associate reviews editor</td>\n",
       "      <td>2017-01-06</td>\n",
       "      <td>4</td>\n",
       "      <td>6</td>\n",
       "      <td>1</td>\n",
       "      <td>2017</td>\n",
       "      <td>41</td>\n",
       "      <td>0</td>\n",
       "    </tr>\n",
       "    <tr>\n",
       "      <th>4</th>\n",
       "      <td>22725</td>\n",
       "      <td>new start</td>\n",
       "      <td>taso</td>\n",
       "      <td>http://pitchfork.com/reviews/albums/22725-new-...</td>\n",
       "      <td>8.1</td>\n",
       "      <td>0</td>\n",
       "      <td>kevin lozano</td>\n",
       "      <td>tracks coordinator</td>\n",
       "      <td>2017-01-06</td>\n",
       "      <td>4</td>\n",
       "      <td>6</td>\n",
       "      <td>1</td>\n",
       "      <td>2017</td>\n",
       "      <td>51</td>\n",
       "      <td>0</td>\n",
       "    </tr>\n",
       "  </tbody>\n",
       "</table>\n",
       "</div>"
      ],
      "text/plain": [
       "   reviewid                 title            artist  \\\n",
       "0     22703             mezzanine    massive attack   \n",
       "1     22721          prelapsarian          krallice   \n",
       "2     22659  all of them naturals      uranium club   \n",
       "3     22661           first songs  kleenex, liliput   \n",
       "4     22725             new start              taso   \n",
       "\n",
       "                                                 url  score  best_new_music  \\\n",
       "0  http://pitchfork.com/reviews/albums/22703-mezz...    9.3               0   \n",
       "1  http://pitchfork.com/reviews/albums/22721-prel...    7.9               0   \n",
       "2  http://pitchfork.com/reviews/albums/22659-all-...    7.3               0   \n",
       "3  http://pitchfork.com/reviews/albums/22661-firs...    9.0               1   \n",
       "4  http://pitchfork.com/reviews/albums/22725-new-...    8.1               0   \n",
       "\n",
       "           author               author_type    pub_date  pub_weekday  pub_day  \\\n",
       "0     nate patrin               contributor  2017-01-08            6        8   \n",
       "1        zoe camp               contributor  2017-01-07            5        7   \n",
       "2  david glickman               contributor  2017-01-07            5        7   \n",
       "3      jenn pelly  associate reviews editor  2017-01-06            4        6   \n",
       "4    kevin lozano        tracks coordinator  2017-01-06            4        6   \n",
       "\n",
       "   pub_month  pub_year  author_review_count  >200_reviews  \n",
       "0          1      2017                  347             1  \n",
       "1          1      2017                   69             0  \n",
       "2          1      2017                    4             0  \n",
       "3          1      2017                   41             0  \n",
       "4          1      2017                   51             0  "
      ]
     },
     "execution_count": 60,
     "metadata": {},
     "output_type": "execute_result"
    }
   ],
   "source": [
    "#genres_hot_df\n",
    "author_reviews_df = reviews_df.copy()\n",
    "\n",
    "author_counts = reviews_df['author'].value_counts()\n",
    "author_dict = author_counts.to_dict()\n",
    "author_reviews_df['author_review_count'] = author_reviews_df['author'].apply(lambda x: author_dict[x])\n",
    "author_reviews_df['>200_reviews'] = author_reviews_df['author_review_count'].apply(lambda x: 1 if x >199 else 0)\n",
    "author_reviews_df.head()"
   ]
  },
  {
   "cell_type": "code",
   "execution_count": 61,
   "metadata": {},
   "outputs": [
    {
     "data": {
      "text/html": [
       "<div>\n",
       "<style scoped>\n",
       "    .dataframe tbody tr th:only-of-type {\n",
       "        vertical-align: middle;\n",
       "    }\n",
       "\n",
       "    .dataframe tbody tr th {\n",
       "        vertical-align: top;\n",
       "    }\n",
       "\n",
       "    .dataframe thead th {\n",
       "        text-align: right;\n",
       "    }\n",
       "</style>\n",
       "<table border=\"1\" class=\"dataframe\">\n",
       "  <thead>\n",
       "    <tr style=\"text-align: right;\">\n",
       "      <th></th>\n",
       "      <th>reviewid</th>\n",
       "      <th>title</th>\n",
       "      <th>artist</th>\n",
       "      <th>url</th>\n",
       "      <th>score</th>\n",
       "      <th>best_new_music</th>\n",
       "      <th>author</th>\n",
       "      <th>author_type</th>\n",
       "      <th>pub_date</th>\n",
       "      <th>pub_weekday</th>\n",
       "      <th>pub_day</th>\n",
       "      <th>pub_month</th>\n",
       "      <th>pub_year</th>\n",
       "      <th>author_review_count</th>\n",
       "      <th>&gt;200_reviews</th>\n",
       "    </tr>\n",
       "  </thead>\n",
       "  <tbody>\n",
       "    <tr>\n",
       "      <th>0</th>\n",
       "      <td>22703</td>\n",
       "      <td>mezzanine</td>\n",
       "      <td>massive attack</td>\n",
       "      <td>http://pitchfork.com/reviews/albums/22703-mezz...</td>\n",
       "      <td>9.3</td>\n",
       "      <td>0</td>\n",
       "      <td>nate patrin</td>\n",
       "      <td>contributor</td>\n",
       "      <td>2017-01-08</td>\n",
       "      <td>6</td>\n",
       "      <td>8</td>\n",
       "      <td>1</td>\n",
       "      <td>2017</td>\n",
       "      <td>347</td>\n",
       "      <td>1</td>\n",
       "    </tr>\n",
       "    <tr>\n",
       "      <th>7</th>\n",
       "      <td>22694</td>\n",
       "      <td>tehillim</td>\n",
       "      <td>yotam avni</td>\n",
       "      <td>http://pitchfork.com/reviews/albums/22694-tehi...</td>\n",
       "      <td>7.0</td>\n",
       "      <td>0</td>\n",
       "      <td>andy beta</td>\n",
       "      <td>contributor</td>\n",
       "      <td>2017-01-05</td>\n",
       "      <td>3</td>\n",
       "      <td>5</td>\n",
       "      <td>1</td>\n",
       "      <td>2017</td>\n",
       "      <td>250</td>\n",
       "      <td>1</td>\n",
       "    </tr>\n",
       "    <tr>\n",
       "      <th>8</th>\n",
       "      <td>22714</td>\n",
       "      <td>reflection</td>\n",
       "      <td>brian eno</td>\n",
       "      <td>http://pitchfork.com/reviews/albums/22714-refl...</td>\n",
       "      <td>7.7</td>\n",
       "      <td>0</td>\n",
       "      <td>andy beta</td>\n",
       "      <td>contributor</td>\n",
       "      <td>2017-01-04</td>\n",
       "      <td>2</td>\n",
       "      <td>4</td>\n",
       "      <td>1</td>\n",
       "      <td>2017</td>\n",
       "      <td>250</td>\n",
       "      <td>1</td>\n",
       "    </tr>\n",
       "    <tr>\n",
       "      <th>9</th>\n",
       "      <td>22724</td>\n",
       "      <td>filthy america its beautiful</td>\n",
       "      <td>the lox</td>\n",
       "      <td>http://pitchfork.com/reviews/albums/22724-filt...</td>\n",
       "      <td>5.3</td>\n",
       "      <td>0</td>\n",
       "      <td>ian cohen</td>\n",
       "      <td>contributor</td>\n",
       "      <td>2017-01-04</td>\n",
       "      <td>2</td>\n",
       "      <td>4</td>\n",
       "      <td>1</td>\n",
       "      <td>2017</td>\n",
       "      <td>699</td>\n",
       "      <td>1</td>\n",
       "    </tr>\n",
       "    <tr>\n",
       "      <th>10</th>\n",
       "      <td>22715</td>\n",
       "      <td>clear sounds/perfetta</td>\n",
       "      <td>harry bertoia</td>\n",
       "      <td>http://pitchfork.com/reviews/albums/22715-clea...</td>\n",
       "      <td>8.0</td>\n",
       "      <td>0</td>\n",
       "      <td>marc masters</td>\n",
       "      <td>contributor</td>\n",
       "      <td>2017-01-04</td>\n",
       "      <td>2</td>\n",
       "      <td>4</td>\n",
       "      <td>1</td>\n",
       "      <td>2017</td>\n",
       "      <td>312</td>\n",
       "      <td>1</td>\n",
       "    </tr>\n",
       "  </tbody>\n",
       "</table>\n",
       "</div>"
      ],
      "text/plain": [
       "    reviewid                         title          artist  \\\n",
       "0      22703                     mezzanine  massive attack   \n",
       "7      22694                      tehillim      yotam avni   \n",
       "8      22714                    reflection       brian eno   \n",
       "9      22724  filthy america its beautiful         the lox   \n",
       "10     22715         clear sounds/perfetta   harry bertoia   \n",
       "\n",
       "                                                  url  score  best_new_music  \\\n",
       "0   http://pitchfork.com/reviews/albums/22703-mezz...    9.3               0   \n",
       "7   http://pitchfork.com/reviews/albums/22694-tehi...    7.0               0   \n",
       "8   http://pitchfork.com/reviews/albums/22714-refl...    7.7               0   \n",
       "9   http://pitchfork.com/reviews/albums/22724-filt...    5.3               0   \n",
       "10  http://pitchfork.com/reviews/albums/22715-clea...    8.0               0   \n",
       "\n",
       "          author  author_type    pub_date  pub_weekday  pub_day  pub_month  \\\n",
       "0    nate patrin  contributor  2017-01-08            6        8          1   \n",
       "7      andy beta  contributor  2017-01-05            3        5          1   \n",
       "8      andy beta  contributor  2017-01-04            2        4          1   \n",
       "9      ian cohen  contributor  2017-01-04            2        4          1   \n",
       "10  marc masters  contributor  2017-01-04            2        4          1   \n",
       "\n",
       "    pub_year  author_review_count  >200_reviews  \n",
       "0       2017                  347             1  \n",
       "7       2017                  250             1  \n",
       "8       2017                  250             1  \n",
       "9       2017                  699             1  \n",
       "10      2017                  312             1  "
      ]
     },
     "execution_count": 61,
     "metadata": {},
     "output_type": "execute_result"
    }
   ],
   "source": [
    "author_to_drop = author_reviews_df[author_reviews_df['>200_reviews'] < 1]\n",
    "author_reviews_df = author_reviews_df.drop(author_to_drop.index, axis=0)\n",
    "author_reviews_df.head()"
   ]
  },
  {
   "cell_type": "code",
   "execution_count": 62,
   "metadata": {},
   "outputs": [
    {
     "data": {
      "text/html": [
       "<div>\n",
       "<style scoped>\n",
       "    .dataframe tbody tr th:only-of-type {\n",
       "        vertical-align: middle;\n",
       "    }\n",
       "\n",
       "    .dataframe tbody tr th {\n",
       "        vertical-align: top;\n",
       "    }\n",
       "\n",
       "    .dataframe thead th {\n",
       "        text-align: right;\n",
       "    }\n",
       "</style>\n",
       "<table border=\"1\" class=\"dataframe\">\n",
       "  <thead>\n",
       "    <tr style=\"text-align: right;\">\n",
       "      <th></th>\n",
       "      <th>reviewid</th>\n",
       "      <th>title</th>\n",
       "      <th>artist</th>\n",
       "      <th>url</th>\n",
       "      <th>score</th>\n",
       "      <th>best_new_music</th>\n",
       "      <th>author</th>\n",
       "      <th>author_type</th>\n",
       "      <th>pub_date</th>\n",
       "      <th>pub_weekday</th>\n",
       "      <th>...</th>\n",
       "      <th>mark richardson</th>\n",
       "      <th>matthew murphy</th>\n",
       "      <th>nate patrin</th>\n",
       "      <th>nick neyland</th>\n",
       "      <th>paul thompson</th>\n",
       "      <th>philip sherburne</th>\n",
       "      <th>rob mitchum</th>\n",
       "      <th>stephen m. deusner</th>\n",
       "      <th>stuart berman</th>\n",
       "      <th>tom breihan</th>\n",
       "    </tr>\n",
       "  </thead>\n",
       "  <tbody>\n",
       "    <tr>\n",
       "      <th>0</th>\n",
       "      <td>22703</td>\n",
       "      <td>mezzanine</td>\n",
       "      <td>massive attack</td>\n",
       "      <td>http://pitchfork.com/reviews/albums/22703-mezz...</td>\n",
       "      <td>9.3</td>\n",
       "      <td>0</td>\n",
       "      <td>nate patrin</td>\n",
       "      <td>contributor</td>\n",
       "      <td>2017-01-08</td>\n",
       "      <td>6</td>\n",
       "      <td>...</td>\n",
       "      <td>0</td>\n",
       "      <td>0</td>\n",
       "      <td>1</td>\n",
       "      <td>0</td>\n",
       "      <td>0</td>\n",
       "      <td>0</td>\n",
       "      <td>0</td>\n",
       "      <td>0</td>\n",
       "      <td>0</td>\n",
       "      <td>0</td>\n",
       "    </tr>\n",
       "    <tr>\n",
       "      <th>7</th>\n",
       "      <td>22694</td>\n",
       "      <td>tehillim</td>\n",
       "      <td>yotam avni</td>\n",
       "      <td>http://pitchfork.com/reviews/albums/22694-tehi...</td>\n",
       "      <td>7.0</td>\n",
       "      <td>0</td>\n",
       "      <td>andy beta</td>\n",
       "      <td>contributor</td>\n",
       "      <td>2017-01-05</td>\n",
       "      <td>3</td>\n",
       "      <td>...</td>\n",
       "      <td>0</td>\n",
       "      <td>0</td>\n",
       "      <td>0</td>\n",
       "      <td>0</td>\n",
       "      <td>0</td>\n",
       "      <td>0</td>\n",
       "      <td>0</td>\n",
       "      <td>0</td>\n",
       "      <td>0</td>\n",
       "      <td>0</td>\n",
       "    </tr>\n",
       "    <tr>\n",
       "      <th>8</th>\n",
       "      <td>22714</td>\n",
       "      <td>reflection</td>\n",
       "      <td>brian eno</td>\n",
       "      <td>http://pitchfork.com/reviews/albums/22714-refl...</td>\n",
       "      <td>7.7</td>\n",
       "      <td>0</td>\n",
       "      <td>andy beta</td>\n",
       "      <td>contributor</td>\n",
       "      <td>2017-01-04</td>\n",
       "      <td>2</td>\n",
       "      <td>...</td>\n",
       "      <td>0</td>\n",
       "      <td>0</td>\n",
       "      <td>0</td>\n",
       "      <td>0</td>\n",
       "      <td>0</td>\n",
       "      <td>0</td>\n",
       "      <td>0</td>\n",
       "      <td>0</td>\n",
       "      <td>0</td>\n",
       "      <td>0</td>\n",
       "    </tr>\n",
       "    <tr>\n",
       "      <th>9</th>\n",
       "      <td>22724</td>\n",
       "      <td>filthy america its beautiful</td>\n",
       "      <td>the lox</td>\n",
       "      <td>http://pitchfork.com/reviews/albums/22724-filt...</td>\n",
       "      <td>5.3</td>\n",
       "      <td>0</td>\n",
       "      <td>ian cohen</td>\n",
       "      <td>contributor</td>\n",
       "      <td>2017-01-04</td>\n",
       "      <td>2</td>\n",
       "      <td>...</td>\n",
       "      <td>0</td>\n",
       "      <td>0</td>\n",
       "      <td>0</td>\n",
       "      <td>0</td>\n",
       "      <td>0</td>\n",
       "      <td>0</td>\n",
       "      <td>0</td>\n",
       "      <td>0</td>\n",
       "      <td>0</td>\n",
       "      <td>0</td>\n",
       "    </tr>\n",
       "    <tr>\n",
       "      <th>10</th>\n",
       "      <td>22715</td>\n",
       "      <td>clear sounds/perfetta</td>\n",
       "      <td>harry bertoia</td>\n",
       "      <td>http://pitchfork.com/reviews/albums/22715-clea...</td>\n",
       "      <td>8.0</td>\n",
       "      <td>0</td>\n",
       "      <td>marc masters</td>\n",
       "      <td>contributor</td>\n",
       "      <td>2017-01-04</td>\n",
       "      <td>2</td>\n",
       "      <td>...</td>\n",
       "      <td>0</td>\n",
       "      <td>0</td>\n",
       "      <td>0</td>\n",
       "      <td>0</td>\n",
       "      <td>0</td>\n",
       "      <td>0</td>\n",
       "      <td>0</td>\n",
       "      <td>0</td>\n",
       "      <td>0</td>\n",
       "      <td>0</td>\n",
       "    </tr>\n",
       "  </tbody>\n",
       "</table>\n",
       "<p>5 rows × 43 columns</p>\n",
       "</div>"
      ],
      "text/plain": [
       "    reviewid                         title          artist  \\\n",
       "0      22703                     mezzanine  massive attack   \n",
       "7      22694                      tehillim      yotam avni   \n",
       "8      22714                    reflection       brian eno   \n",
       "9      22724  filthy america its beautiful         the lox   \n",
       "10     22715         clear sounds/perfetta   harry bertoia   \n",
       "\n",
       "                                                  url  score  best_new_music  \\\n",
       "0   http://pitchfork.com/reviews/albums/22703-mezz...    9.3               0   \n",
       "7   http://pitchfork.com/reviews/albums/22694-tehi...    7.0               0   \n",
       "8   http://pitchfork.com/reviews/albums/22714-refl...    7.7               0   \n",
       "9   http://pitchfork.com/reviews/albums/22724-filt...    5.3               0   \n",
       "10  http://pitchfork.com/reviews/albums/22715-clea...    8.0               0   \n",
       "\n",
       "          author  author_type    pub_date  pub_weekday     ...       \\\n",
       "0    nate patrin  contributor  2017-01-08            6     ...        \n",
       "7      andy beta  contributor  2017-01-05            3     ...        \n",
       "8      andy beta  contributor  2017-01-04            2     ...        \n",
       "9      ian cohen  contributor  2017-01-04            2     ...        \n",
       "10  marc masters  contributor  2017-01-04            2     ...        \n",
       "\n",
       "    mark richardson  matthew murphy  nate patrin  nick neyland  paul thompson  \\\n",
       "0                 0               0            1             0              0   \n",
       "7                 0               0            0             0              0   \n",
       "8                 0               0            0             0              0   \n",
       "9                 0               0            0             0              0   \n",
       "10                0               0            0             0              0   \n",
       "\n",
       "    philip sherburne  rob mitchum  stephen m. deusner  stuart berman  \\\n",
       "0                  0            0                   0              0   \n",
       "7                  0            0                   0              0   \n",
       "8                  0            0                   0              0   \n",
       "9                  0            0                   0              0   \n",
       "10                 0            0                   0              0   \n",
       "\n",
       "    tom breihan  \n",
       "0             0  \n",
       "7             0  \n",
       "8             0  \n",
       "9             0  \n",
       "10            0  \n",
       "\n",
       "[5 rows x 43 columns]"
      ]
     },
     "execution_count": 62,
     "metadata": {},
     "output_type": "execute_result"
    }
   ],
   "source": [
    "authors_one_hot = pd.get_dummies(author_reviews_df['author'])\n",
    "authors_one_hot.head().T\n",
    "authors_hot_df = pd.concat([author_reviews_df, authors_one_hot], axis = 1)\n",
    "authors_hot_df.head()"
   ]
  },
  {
   "cell_type": "code",
   "execution_count": 63,
   "metadata": {},
   "outputs": [
    {
     "data": {
      "text/html": [
       "<div>\n",
       "<style scoped>\n",
       "    .dataframe tbody tr th:only-of-type {\n",
       "        vertical-align: middle;\n",
       "    }\n",
       "\n",
       "    .dataframe tbody tr th {\n",
       "        vertical-align: top;\n",
       "    }\n",
       "\n",
       "    .dataframe thead th {\n",
       "        text-align: right;\n",
       "    }\n",
       "</style>\n",
       "<table border=\"1\" class=\"dataframe\">\n",
       "  <thead>\n",
       "    <tr style=\"text-align: right;\">\n",
       "      <th></th>\n",
       "      <th>reviewid</th>\n",
       "      <th>genre</th>\n",
       "      <th>electronic</th>\n",
       "      <th>experimental</th>\n",
       "      <th>folk/country</th>\n",
       "      <th>global</th>\n",
       "      <th>jazz</th>\n",
       "      <th>metal</th>\n",
       "      <th>pop/r&amp;b</th>\n",
       "      <th>rap</th>\n",
       "      <th>rock</th>\n",
       "      <th>genre_count</th>\n",
       "    </tr>\n",
       "  </thead>\n",
       "  <tbody>\n",
       "    <tr>\n",
       "      <th>0</th>\n",
       "      <td>22703</td>\n",
       "      <td>electronic</td>\n",
       "      <td>1</td>\n",
       "      <td>0</td>\n",
       "      <td>0</td>\n",
       "      <td>0</td>\n",
       "      <td>0</td>\n",
       "      <td>0</td>\n",
       "      <td>0</td>\n",
       "      <td>0</td>\n",
       "      <td>0</td>\n",
       "      <td>1</td>\n",
       "    </tr>\n",
       "    <tr>\n",
       "      <th>1</th>\n",
       "      <td>22721</td>\n",
       "      <td>metal</td>\n",
       "      <td>0</td>\n",
       "      <td>0</td>\n",
       "      <td>0</td>\n",
       "      <td>0</td>\n",
       "      <td>0</td>\n",
       "      <td>1</td>\n",
       "      <td>0</td>\n",
       "      <td>0</td>\n",
       "      <td>0</td>\n",
       "      <td>1</td>\n",
       "    </tr>\n",
       "    <tr>\n",
       "      <th>2</th>\n",
       "      <td>22659</td>\n",
       "      <td>rock</td>\n",
       "      <td>0</td>\n",
       "      <td>0</td>\n",
       "      <td>0</td>\n",
       "      <td>0</td>\n",
       "      <td>0</td>\n",
       "      <td>0</td>\n",
       "      <td>0</td>\n",
       "      <td>0</td>\n",
       "      <td>1</td>\n",
       "      <td>1</td>\n",
       "    </tr>\n",
       "    <tr>\n",
       "      <th>3</th>\n",
       "      <td>22661</td>\n",
       "      <td>rock</td>\n",
       "      <td>0</td>\n",
       "      <td>0</td>\n",
       "      <td>0</td>\n",
       "      <td>0</td>\n",
       "      <td>0</td>\n",
       "      <td>0</td>\n",
       "      <td>0</td>\n",
       "      <td>0</td>\n",
       "      <td>1</td>\n",
       "      <td>1</td>\n",
       "    </tr>\n",
       "    <tr>\n",
       "      <th>4</th>\n",
       "      <td>22725</td>\n",
       "      <td>electronic</td>\n",
       "      <td>1</td>\n",
       "      <td>0</td>\n",
       "      <td>0</td>\n",
       "      <td>0</td>\n",
       "      <td>0</td>\n",
       "      <td>0</td>\n",
       "      <td>0</td>\n",
       "      <td>0</td>\n",
       "      <td>0</td>\n",
       "      <td>1</td>\n",
       "    </tr>\n",
       "  </tbody>\n",
       "</table>\n",
       "</div>"
      ],
      "text/plain": [
       "   reviewid       genre  electronic  experimental  folk/country  global  jazz  \\\n",
       "0     22703  electronic           1             0             0       0     0   \n",
       "1     22721       metal           0             0             0       0     0   \n",
       "2     22659        rock           0             0             0       0     0   \n",
       "3     22661        rock           0             0             0       0     0   \n",
       "4     22725  electronic           1             0             0       0     0   \n",
       "\n",
       "   metal  pop/r&b  rap  rock  genre_count  \n",
       "0      0        0    0     0            1  \n",
       "1      1        0    0     0            1  \n",
       "2      0        0    0     1            1  \n",
       "3      0        0    0     1            1  \n",
       "4      0        0    0     0            1  "
      ]
     },
     "execution_count": 63,
     "metadata": {},
     "output_type": "execute_result"
    }
   ],
   "source": [
    "genre_count2 = genres_hot_df['reviewid'].value_counts()\n",
    "genre_dict2 = genre_count2.to_dict()\n",
    "genres_hot_df['genre_count'] = genres_hot_df['reviewid'].apply(lambda x: genre_dict2[x])\n",
    "genres_hot_df.head()"
   ]
  },
  {
   "cell_type": "code",
   "execution_count": 64,
   "metadata": {},
   "outputs": [
    {
     "data": {
      "text/html": [
       "<div>\n",
       "<style scoped>\n",
       "    .dataframe tbody tr th:only-of-type {\n",
       "        vertical-align: middle;\n",
       "    }\n",
       "\n",
       "    .dataframe tbody tr th {\n",
       "        vertical-align: top;\n",
       "    }\n",
       "\n",
       "    .dataframe thead th {\n",
       "        text-align: right;\n",
       "    }\n",
       "</style>\n",
       "<table border=\"1\" class=\"dataframe\">\n",
       "  <thead>\n",
       "    <tr style=\"text-align: right;\">\n",
       "      <th></th>\n",
       "      <th>reviewid</th>\n",
       "      <th>title</th>\n",
       "      <th>artist</th>\n",
       "      <th>url</th>\n",
       "      <th>score</th>\n",
       "      <th>best_new_music</th>\n",
       "      <th>author</th>\n",
       "      <th>author_type</th>\n",
       "      <th>pub_date</th>\n",
       "      <th>pub_weekday</th>\n",
       "      <th>...</th>\n",
       "      <th>electronic</th>\n",
       "      <th>experimental</th>\n",
       "      <th>folk/country</th>\n",
       "      <th>global</th>\n",
       "      <th>jazz</th>\n",
       "      <th>metal</th>\n",
       "      <th>pop/r&amp;b</th>\n",
       "      <th>rap</th>\n",
       "      <th>rock</th>\n",
       "      <th>genre_count</th>\n",
       "    </tr>\n",
       "  </thead>\n",
       "  <tbody>\n",
       "    <tr>\n",
       "      <th>0</th>\n",
       "      <td>22703</td>\n",
       "      <td>mezzanine</td>\n",
       "      <td>massive attack</td>\n",
       "      <td>http://pitchfork.com/reviews/albums/22703-mezz...</td>\n",
       "      <td>9.3</td>\n",
       "      <td>0</td>\n",
       "      <td>nate patrin</td>\n",
       "      <td>contributor</td>\n",
       "      <td>2017-01-08</td>\n",
       "      <td>6</td>\n",
       "      <td>...</td>\n",
       "      <td>1</td>\n",
       "      <td>0</td>\n",
       "      <td>0</td>\n",
       "      <td>0</td>\n",
       "      <td>0</td>\n",
       "      <td>0</td>\n",
       "      <td>0</td>\n",
       "      <td>0</td>\n",
       "      <td>0</td>\n",
       "      <td>1</td>\n",
       "    </tr>\n",
       "    <tr>\n",
       "      <th>1</th>\n",
       "      <td>22694</td>\n",
       "      <td>tehillim</td>\n",
       "      <td>yotam avni</td>\n",
       "      <td>http://pitchfork.com/reviews/albums/22694-tehi...</td>\n",
       "      <td>7.0</td>\n",
       "      <td>0</td>\n",
       "      <td>andy beta</td>\n",
       "      <td>contributor</td>\n",
       "      <td>2017-01-05</td>\n",
       "      <td>3</td>\n",
       "      <td>...</td>\n",
       "      <td>1</td>\n",
       "      <td>0</td>\n",
       "      <td>0</td>\n",
       "      <td>0</td>\n",
       "      <td>0</td>\n",
       "      <td>0</td>\n",
       "      <td>0</td>\n",
       "      <td>0</td>\n",
       "      <td>0</td>\n",
       "      <td>1</td>\n",
       "    </tr>\n",
       "    <tr>\n",
       "      <th>2</th>\n",
       "      <td>22714</td>\n",
       "      <td>reflection</td>\n",
       "      <td>brian eno</td>\n",
       "      <td>http://pitchfork.com/reviews/albums/22714-refl...</td>\n",
       "      <td>7.7</td>\n",
       "      <td>0</td>\n",
       "      <td>andy beta</td>\n",
       "      <td>contributor</td>\n",
       "      <td>2017-01-04</td>\n",
       "      <td>2</td>\n",
       "      <td>...</td>\n",
       "      <td>0</td>\n",
       "      <td>1</td>\n",
       "      <td>0</td>\n",
       "      <td>0</td>\n",
       "      <td>0</td>\n",
       "      <td>0</td>\n",
       "      <td>0</td>\n",
       "      <td>0</td>\n",
       "      <td>0</td>\n",
       "      <td>1</td>\n",
       "    </tr>\n",
       "    <tr>\n",
       "      <th>3</th>\n",
       "      <td>22724</td>\n",
       "      <td>filthy america its beautiful</td>\n",
       "      <td>the lox</td>\n",
       "      <td>http://pitchfork.com/reviews/albums/22724-filt...</td>\n",
       "      <td>5.3</td>\n",
       "      <td>0</td>\n",
       "      <td>ian cohen</td>\n",
       "      <td>contributor</td>\n",
       "      <td>2017-01-04</td>\n",
       "      <td>2</td>\n",
       "      <td>...</td>\n",
       "      <td>0</td>\n",
       "      <td>0</td>\n",
       "      <td>0</td>\n",
       "      <td>0</td>\n",
       "      <td>0</td>\n",
       "      <td>0</td>\n",
       "      <td>0</td>\n",
       "      <td>1</td>\n",
       "      <td>0</td>\n",
       "      <td>1</td>\n",
       "    </tr>\n",
       "    <tr>\n",
       "      <th>4</th>\n",
       "      <td>22715</td>\n",
       "      <td>clear sounds/perfetta</td>\n",
       "      <td>harry bertoia</td>\n",
       "      <td>http://pitchfork.com/reviews/albums/22715-clea...</td>\n",
       "      <td>8.0</td>\n",
       "      <td>0</td>\n",
       "      <td>marc masters</td>\n",
       "      <td>contributor</td>\n",
       "      <td>2017-01-04</td>\n",
       "      <td>2</td>\n",
       "      <td>...</td>\n",
       "      <td>0</td>\n",
       "      <td>1</td>\n",
       "      <td>0</td>\n",
       "      <td>0</td>\n",
       "      <td>0</td>\n",
       "      <td>0</td>\n",
       "      <td>0</td>\n",
       "      <td>0</td>\n",
       "      <td>0</td>\n",
       "      <td>1</td>\n",
       "    </tr>\n",
       "  </tbody>\n",
       "</table>\n",
       "<p>5 rows × 54 columns</p>\n",
       "</div>"
      ],
      "text/plain": [
       "   reviewid                         title          artist  \\\n",
       "0     22703                     mezzanine  massive attack   \n",
       "1     22694                      tehillim      yotam avni   \n",
       "2     22714                    reflection       brian eno   \n",
       "3     22724  filthy america its beautiful         the lox   \n",
       "4     22715         clear sounds/perfetta   harry bertoia   \n",
       "\n",
       "                                                 url  score  best_new_music  \\\n",
       "0  http://pitchfork.com/reviews/albums/22703-mezz...    9.3               0   \n",
       "1  http://pitchfork.com/reviews/albums/22694-tehi...    7.0               0   \n",
       "2  http://pitchfork.com/reviews/albums/22714-refl...    7.7               0   \n",
       "3  http://pitchfork.com/reviews/albums/22724-filt...    5.3               0   \n",
       "4  http://pitchfork.com/reviews/albums/22715-clea...    8.0               0   \n",
       "\n",
       "         author  author_type    pub_date  pub_weekday     ...       \\\n",
       "0   nate patrin  contributor  2017-01-08            6     ...        \n",
       "1     andy beta  contributor  2017-01-05            3     ...        \n",
       "2     andy beta  contributor  2017-01-04            2     ...        \n",
       "3     ian cohen  contributor  2017-01-04            2     ...        \n",
       "4  marc masters  contributor  2017-01-04            2     ...        \n",
       "\n",
       "   electronic  experimental  folk/country  global  jazz  metal  pop/r&b  rap  \\\n",
       "0           1             0             0       0     0      0        0    0   \n",
       "1           1             0             0       0     0      0        0    0   \n",
       "2           0             1             0       0     0      0        0    0   \n",
       "3           0             0             0       0     0      0        0    1   \n",
       "4           0             1             0       0     0      0        0    0   \n",
       "\n",
       "   rock  genre_count  \n",
       "0     0            1  \n",
       "1     0            1  \n",
       "2     0            1  \n",
       "3     0            1  \n",
       "4     0            1  \n",
       "\n",
       "[5 rows x 54 columns]"
      ]
     },
     "execution_count": 64,
     "metadata": {},
     "output_type": "execute_result"
    }
   ],
   "source": [
    "#rg2 = review & genres v2\n",
    "rg2_df = authors_hot_df.merge(genres_hot_df, left_on='reviewid', right_on='reviewid')\n",
    "rg2_df.head()"
   ]
  },
  {
   "cell_type": "code",
   "execution_count": 65,
   "metadata": {},
   "outputs": [],
   "source": [
    "#Each genre for authors with >200 reviews:\n",
    "rock_df = rg2_df[(rg2_df['rock'] == 1) & (rg2_df['>200_reviews'] == 1)]\n",
    "elec_df = rg2_df[(rg2_df['electronic'] == 1) & (rg2_df['>200_reviews'] == 1)]\n",
    "exper_df = rg2_df[(rg2_df['experimental'] == 1) & (rg2_df['>200_reviews'] == 1)]\n",
    "rap_df = rg2_df[(rg2_df['rap'] == 1) & (rg2_df['>200_reviews'] == 1)]\n",
    "pop_df = rg2_df[(rg2_df['pop/r&b'] == 1) & (rg2_df['>200_reviews'] == 1)]\n",
    "metal_df = rg2_df[(rg2_df['metal'] == 1) & (rg2_df['>200_reviews'] == 1)]\n",
    "folk_df = rg2_df[(rg2_df['folk/country'] == 1) & (rg2_df['>200_reviews'] == 1)]\n",
    "jazz_df = rg2_df[(rg2_df['jazz'] == 1) & (rg2_df['>200_reviews'] == 1)]\n",
    "global_df = rg2_df[(rg2_df['global'] == 1) & (rg2_df['>200_reviews'] == 1)]"
   ]
  },
  {
   "cell_type": "code",
   "execution_count": 66,
   "metadata": {},
   "outputs": [],
   "source": [
    "#Each of the top 5 authors by each of the 9 categories:\n",
    "#joe tangari .  ian cohen .  stephen m. deusner .  brian howe .  mark richardson . \n",
    "rock_df_joe = rock_df[(rock_df['author'] == 'joe tangari')]\n",
    "rock_df_ian = rock_df[(rock_df['author'] == 'ian cohen')]\n",
    "rock_df_stephen = rock_df[(rock_df['author'] == 'stephen m. deusner')]\n",
    "rock_df_brian = rock_df[(rock_df['author'] == 'brian howe')]\n",
    "rock_df_mark = rock_df[(rock_df['author'] == 'mark richardson')]"
   ]
  },
  {
   "cell_type": "code",
   "execution_count": 117,
   "metadata": {},
   "outputs": [
    {
     "data": {
      "image/png": "[encoded data removed]",
      "text/plain": [
       "<Figure size 792x432 with 1 Axes>"
      ]
     },
     "metadata": {
      "needs_background": "light"
     },
     "output_type": "display_data"
    }
   ],
   "source": [
    "authors = ['joe tangari', 'ian cohen', 'stephen m. deusner', 'brian howe', 'mark richardson']\n",
    "rap_df = rg2_df[(rg2_df['rap'] == 1) & (rg2_df['>200_reviews'] == 1)]\n",
    "\n",
    "plt.figure(figsize=(11,6))\n",
    "for name in authors:\n",
    "    sns.distplot(rap_df.loc[rap_df['author'] == name, 'score'], label=name.title(), hist=True, kde=True)\n",
    "plt.title(\"Reviews of Rap Albums by Top 5 Authors\")\n",
    "plt.xlabel(\"Score\")\n",
    "plt.legend()\n",
    "plt.show();"
   ]
  },
  {
   "cell_type": "code",
   "execution_count": 114,
   "metadata": {},
   "outputs": [
    {
     "data": {
      "image/png": "[encoded data removed]",
      "text/plain": [
       "<Figure size 792x432 with 1 Axes>"
      ]
     },
     "metadata": {
      "needs_background": "light"
     },
     "output_type": "display_data"
    }
   ],
   "source": [
    "rock_df = rg2_df[(rg2_df['rock'] == 1) & (rg2_df['>200_reviews'] == 1)]\n",
    "\n",
    "plt.figure(figsize=(11,6))\n",
    "for name in authors:\n",
    "    sns.distplot(rock_df.loc[rock_df['author'] == name, 'score'], label=name.title(), hist=True, kde=True)\n",
    "plt.title(\"Reviews of Rock Albums by Top 5 Authors\")\n",
    "plt.xlabel(\"Score\")\n",
    "plt.legend()\n",
    "plt.show();"
   ]
  },
  {
   "cell_type": "code",
   "execution_count": 69,
   "metadata": {},
   "outputs": [
    {
     "name": "stdout",
     "output_type": "stream",
     "text": [
      "Sample 1 Review Mean:  7.234166666666671\n",
      "Sampe 2 Review Mean:  6.331521739130442\n",
      "Difference:  0.9026449275362296\n",
      "T-Statistic: 10.662012139533278\n",
      "P-Value: 3.9363960042276256e-25\n"
     ]
    }
   ],
   "source": [
    "two_sample_ttest_stats(rock_df_joe['score'], rock_df_ian['score'])"
   ]
  },
  {
   "cell_type": "code",
   "execution_count": 71,
   "metadata": {},
   "outputs": [
    {
     "data": {
      "text/plain": [
       "87.10752089337349"
      ]
     },
     "execution_count": 71,
     "metadata": {},
     "output_type": "execute_result"
    }
   ],
   "source": [
    "sample_size_calc(rock_df_joe['score'], rock_df_ian['score'], moe=0.5)"
   ]
  },
  {
   "cell_type": "code",
   "execution_count": 72,
   "metadata": {},
   "outputs": [
    {
     "name": "stdout",
     "output_type": "stream",
     "text": [
      "Mark Means Stdv: 0.1436\n",
      "Mark 2.5 Percentile: 7.4435\n",
      "Mark 97.5 Percentile: 7.9637\n"
     ]
    }
   ],
   "source": [
    "std, low_p, high_p = bootstrap_mean_stats(rock_df_mark['score'], sample_size=90, n_tests=100)\n",
    "print(f\"Mark Means Stdv: {std}\\nMark 2.5 Percentile: {low_p}\\nMark 97.5 Percentile: {high_p}\")"
   ]
  },
  {
   "cell_type": "code",
   "execution_count": 73,
   "metadata": {},
   "outputs": [
    {
     "name": "stdout",
     "output_type": "stream",
     "text": [
      "Ian Means Stdv: 0.1388\n",
      "Ian 2.5 Percentile: 7.4125\n",
      "Ian 97.5 Percentile: 7.9448\n"
     ]
    }
   ],
   "source": [
    "std, low_p, high_p = bootstrap_mean_stats(rock_df_mark['score'], sample_size=90, n_tests=100)\n",
    "print(f\"Ian Means Stdv: {std}\\nIan 2.5 Percentile: {low_p}\\nIan 97.5 Percentile: {high_p}\")"
   ]
  },
  {
   "cell_type": "markdown",
   "metadata": {},
   "source": [
    "## Hypothesis Test #4\n",
    "* Null: In sampling the 500 worst and 500 best reviewed albums, there is no statistically significant difference in the genres each represents with regards to score. \n",
    "* Alternative: The 500 worst reviewed and 500 best reviewed albums have a statistically significant difference in the genres they have. "
   ]
  },
  {
   "cell_type": "markdown",
   "metadata": {},
   "source": [
    "### 500 Best Rated Albums"
   ]
  },
  {
   "cell_type": "code",
   "execution_count": 79,
   "metadata": {},
   "outputs": [
    {
     "data": {
      "text/html": [
       "<div>\n",
       "<style scoped>\n",
       "    .dataframe tbody tr th:only-of-type {\n",
       "        vertical-align: middle;\n",
       "    }\n",
       "\n",
       "    .dataframe tbody tr th {\n",
       "        vertical-align: top;\n",
       "    }\n",
       "\n",
       "    .dataframe thead th {\n",
       "        text-align: right;\n",
       "    }\n",
       "</style>\n",
       "<table border=\"1\" class=\"dataframe\">\n",
       "  <thead>\n",
       "    <tr style=\"text-align: right;\">\n",
       "      <th></th>\n",
       "      <th>reviewid</th>\n",
       "      <th>genre</th>\n",
       "      <th>electronic</th>\n",
       "      <th>experimental</th>\n",
       "      <th>folk/country</th>\n",
       "      <th>global</th>\n",
       "      <th>jazz</th>\n",
       "      <th>metal</th>\n",
       "      <th>pop/r&amp;b</th>\n",
       "      <th>rap</th>\n",
       "      <th>rock</th>\n",
       "      <th>genre_count</th>\n",
       "      <th>score</th>\n",
       "      <th>author</th>\n",
       "      <th>author_type</th>\n",
       "    </tr>\n",
       "  </thead>\n",
       "  <tbody>\n",
       "    <tr>\n",
       "      <th>0</th>\n",
       "      <td>22703</td>\n",
       "      <td>electronic</td>\n",
       "      <td>1</td>\n",
       "      <td>0</td>\n",
       "      <td>0</td>\n",
       "      <td>0</td>\n",
       "      <td>0</td>\n",
       "      <td>0</td>\n",
       "      <td>0</td>\n",
       "      <td>0</td>\n",
       "      <td>0</td>\n",
       "      <td>1</td>\n",
       "      <td>9.3</td>\n",
       "      <td>nate patrin</td>\n",
       "      <td>contributor</td>\n",
       "    </tr>\n",
       "    <tr>\n",
       "      <th>1</th>\n",
       "      <td>22661</td>\n",
       "      <td>rock</td>\n",
       "      <td>0</td>\n",
       "      <td>0</td>\n",
       "      <td>0</td>\n",
       "      <td>0</td>\n",
       "      <td>0</td>\n",
       "      <td>0</td>\n",
       "      <td>0</td>\n",
       "      <td>0</td>\n",
       "      <td>1</td>\n",
       "      <td>1</td>\n",
       "      <td>9.0</td>\n",
       "      <td>jenn pelly</td>\n",
       "      <td>associate reviews editor</td>\n",
       "    </tr>\n",
       "    <tr>\n",
       "      <th>2</th>\n",
       "      <td>22707</td>\n",
       "      <td>jazz</td>\n",
       "      <td>0</td>\n",
       "      <td>0</td>\n",
       "      <td>0</td>\n",
       "      <td>0</td>\n",
       "      <td>1</td>\n",
       "      <td>0</td>\n",
       "      <td>0</td>\n",
       "      <td>0</td>\n",
       "      <td>0</td>\n",
       "      <td>1</td>\n",
       "      <td>9.0</td>\n",
       "      <td>seth colter-walls</td>\n",
       "      <td>contributor</td>\n",
       "    </tr>\n",
       "    <tr>\n",
       "      <th>3</th>\n",
       "      <td>22643</td>\n",
       "      <td>rock</td>\n",
       "      <td>0</td>\n",
       "      <td>0</td>\n",
       "      <td>0</td>\n",
       "      <td>0</td>\n",
       "      <td>0</td>\n",
       "      <td>0</td>\n",
       "      <td>0</td>\n",
       "      <td>0</td>\n",
       "      <td>1</td>\n",
       "      <td>1</td>\n",
       "      <td>9.3</td>\n",
       "      <td>jesse jarnow</td>\n",
       "      <td>contributor</td>\n",
       "    </tr>\n",
       "    <tr>\n",
       "      <th>4</th>\n",
       "      <td>22555</td>\n",
       "      <td>electronic</td>\n",
       "      <td>1</td>\n",
       "      <td>0</td>\n",
       "      <td>0</td>\n",
       "      <td>0</td>\n",
       "      <td>0</td>\n",
       "      <td>0</td>\n",
       "      <td>0</td>\n",
       "      <td>0</td>\n",
       "      <td>0</td>\n",
       "      <td>1</td>\n",
       "      <td>9.5</td>\n",
       "      <td>andy beta</td>\n",
       "      <td>contributor</td>\n",
       "    </tr>\n",
       "  </tbody>\n",
       "</table>\n",
       "</div>"
      ],
      "text/plain": [
       "   reviewid       genre  electronic  experimental  folk/country  global  jazz  \\\n",
       "0     22703  electronic           1             0             0       0     0   \n",
       "1     22661        rock           0             0             0       0     0   \n",
       "2     22707        jazz           0             0             0       0     1   \n",
       "3     22643        rock           0             0             0       0     0   \n",
       "4     22555  electronic           1             0             0       0     0   \n",
       "\n",
       "   metal  pop/r&b  rap  rock  genre_count  score             author  \\\n",
       "0      0        0    0     0            1    9.3        nate patrin   \n",
       "1      0        0    0     1            1    9.0         jenn pelly   \n",
       "2      0        0    0     0            1    9.0  seth colter-walls   \n",
       "3      0        0    0     1            1    9.3       jesse jarnow   \n",
       "4      0        0    0     0            1    9.5          andy beta   \n",
       "\n",
       "                author_type  \n",
       "0               contributor  \n",
       "1  associate reviews editor  \n",
       "2               contributor  \n",
       "3               contributor  \n",
       "4               contributor  "
      ]
     },
     "execution_count": 79,
     "metadata": {},
     "output_type": "execute_result"
    }
   ],
   "source": [
    "query = \"\"\"\n",
    "SELECT \n",
    "    reviewid\n",
    ",   score\n",
    ",   author\n",
    ",   author_type\n",
    "FROM \n",
    "    reviews\n",
    "ORDER BY \n",
    "    score DESC\n",
    "LIMIT 500;\n",
    "\"\"\"\n",
    "\n",
    "cur = conn.cursor()\n",
    "cur.execute(query)\n",
    "names = [description[0] for description in cur.description]\n",
    "best_100 = pd.DataFrame(cur.fetchall(),columns=names)\n",
    "best_wgenres = genres_hot_df.merge(best_100, on='reviewid')\n",
    "best_wgenres.head()"
   ]
  },
  {
   "cell_type": "markdown",
   "metadata": {},
   "source": [
    "### 500 Worst Rated Albums"
   ]
  },
  {
   "cell_type": "code",
   "execution_count": 80,
   "metadata": {},
   "outputs": [
    {
     "data": {
      "text/html": [
       "<div>\n",
       "<style scoped>\n",
       "    .dataframe tbody tr th:only-of-type {\n",
       "        vertical-align: middle;\n",
       "    }\n",
       "\n",
       "    .dataframe tbody tr th {\n",
       "        vertical-align: top;\n",
       "    }\n",
       "\n",
       "    .dataframe thead th {\n",
       "        text-align: right;\n",
       "    }\n",
       "</style>\n",
       "<table border=\"1\" class=\"dataframe\">\n",
       "  <thead>\n",
       "    <tr style=\"text-align: right;\">\n",
       "      <th></th>\n",
       "      <th>reviewid</th>\n",
       "      <th>genre</th>\n",
       "      <th>electronic</th>\n",
       "      <th>experimental</th>\n",
       "      <th>folk/country</th>\n",
       "      <th>global</th>\n",
       "      <th>jazz</th>\n",
       "      <th>metal</th>\n",
       "      <th>pop/r&amp;b</th>\n",
       "      <th>rap</th>\n",
       "      <th>rock</th>\n",
       "      <th>genre_count</th>\n",
       "      <th>score</th>\n",
       "      <th>author</th>\n",
       "      <th>author_type</th>\n",
       "    </tr>\n",
       "  </thead>\n",
       "  <tbody>\n",
       "    <tr>\n",
       "      <th>0</th>\n",
       "      <td>22720</td>\n",
       "      <td>rap</td>\n",
       "      <td>0</td>\n",
       "      <td>0</td>\n",
       "      <td>0</td>\n",
       "      <td>0</td>\n",
       "      <td>0</td>\n",
       "      <td>0</td>\n",
       "      <td>0</td>\n",
       "      <td>1</td>\n",
       "      <td>0</td>\n",
       "      <td>1</td>\n",
       "      <td>3.5</td>\n",
       "      <td>marcus j. moore</td>\n",
       "      <td>contributor</td>\n",
       "    </tr>\n",
       "    <tr>\n",
       "      <th>1</th>\n",
       "      <td>22589</td>\n",
       "      <td>electronic</td>\n",
       "      <td>1</td>\n",
       "      <td>0</td>\n",
       "      <td>0</td>\n",
       "      <td>0</td>\n",
       "      <td>0</td>\n",
       "      <td>0</td>\n",
       "      <td>0</td>\n",
       "      <td>0</td>\n",
       "      <td>0</td>\n",
       "      <td>1</td>\n",
       "      <td>3.5</td>\n",
       "      <td>kevin lozano</td>\n",
       "      <td>tracks coordinator</td>\n",
       "    </tr>\n",
       "    <tr>\n",
       "      <th>2</th>\n",
       "      <td>22319</td>\n",
       "      <td>rock</td>\n",
       "      <td>0</td>\n",
       "      <td>0</td>\n",
       "      <td>0</td>\n",
       "      <td>0</td>\n",
       "      <td>0</td>\n",
       "      <td>0</td>\n",
       "      <td>0</td>\n",
       "      <td>0</td>\n",
       "      <td>1</td>\n",
       "      <td>2</td>\n",
       "      <td>2.0</td>\n",
       "      <td>ian cohen</td>\n",
       "      <td>contributor</td>\n",
       "    </tr>\n",
       "    <tr>\n",
       "      <th>3</th>\n",
       "      <td>22319</td>\n",
       "      <td>rap</td>\n",
       "      <td>0</td>\n",
       "      <td>0</td>\n",
       "      <td>0</td>\n",
       "      <td>0</td>\n",
       "      <td>0</td>\n",
       "      <td>0</td>\n",
       "      <td>0</td>\n",
       "      <td>1</td>\n",
       "      <td>0</td>\n",
       "      <td>2</td>\n",
       "      <td>2.0</td>\n",
       "      <td>ian cohen</td>\n",
       "      <td>contributor</td>\n",
       "    </tr>\n",
       "    <tr>\n",
       "      <th>4</th>\n",
       "      <td>22143</td>\n",
       "      <td>electronic</td>\n",
       "      <td>1</td>\n",
       "      <td>0</td>\n",
       "      <td>0</td>\n",
       "      <td>0</td>\n",
       "      <td>0</td>\n",
       "      <td>0</td>\n",
       "      <td>0</td>\n",
       "      <td>0</td>\n",
       "      <td>0</td>\n",
       "      <td>1</td>\n",
       "      <td>2.5</td>\n",
       "      <td>stacey anderson</td>\n",
       "      <td>associate features editor</td>\n",
       "    </tr>\n",
       "  </tbody>\n",
       "</table>\n",
       "</div>"
      ],
      "text/plain": [
       "   reviewid       genre  electronic  experimental  folk/country  global  jazz  \\\n",
       "0     22720         rap           0             0             0       0     0   \n",
       "1     22589  electronic           1             0             0       0     0   \n",
       "2     22319        rock           0             0             0       0     0   \n",
       "3     22319         rap           0             0             0       0     0   \n",
       "4     22143  electronic           1             0             0       0     0   \n",
       "\n",
       "   metal  pop/r&b  rap  rock  genre_count  score           author  \\\n",
       "0      0        0    1     0            1    3.5  marcus j. moore   \n",
       "1      0        0    0     0            1    3.5     kevin lozano   \n",
       "2      0        0    0     1            2    2.0        ian cohen   \n",
       "3      0        0    1     0            2    2.0        ian cohen   \n",
       "4      0        0    0     0            1    2.5  stacey anderson   \n",
       "\n",
       "                 author_type  \n",
       "0                contributor  \n",
       "1         tracks coordinator  \n",
       "2                contributor  \n",
       "3                contributor  \n",
       "4  associate features editor  "
      ]
     },
     "execution_count": 80,
     "metadata": {},
     "output_type": "execute_result"
    }
   ],
   "source": [
    "query = \"\"\"\n",
    "SELECT \n",
    "    reviewid\n",
    ",   score\n",
    ",   author\n",
    ",   author_type\n",
    "FROM \n",
    "    reviews\n",
    "ORDER BY \n",
    "    score ASC\n",
    "LIMIT 500;\n",
    "\"\"\"\n",
    "\n",
    "cur = conn.cursor()\n",
    "cur.execute(query)\n",
    "names = [description[0] for description in cur.description]\n",
    "worst_100 = pd.DataFrame(cur.fetchall(),columns=names)\n",
    "worst_wgenres = genres_hot_df.merge(worst_100, on='reviewid')\n",
    "worst_wgenres.head()"
   ]
  },
  {
   "cell_type": "code",
   "execution_count": 81,
   "metadata": {},
   "outputs": [],
   "source": [
    "# Creating binary genre columns\n",
    "genres = list(genres_df['genre'].value_counts().index)"
   ]
  },
  {
   "cell_type": "code",
   "execution_count": 82,
   "metadata": {},
   "outputs": [],
   "source": [
    "for genre in genres:\n",
    "    best_wgenres[genre] = best_wgenres['genre'].apply(lambda x: 1 if x == genre else 0)\n",
    "    worst_wgenres[genre] = worst_wgenres['genre'].apply(lambda x: 1 if x == genre else 0)"
   ]
  },
  {
   "cell_type": "code",
   "execution_count": 83,
   "metadata": {},
   "outputs": [],
   "source": [
    "# Correcting column names for use in ANOVA test\n",
    "best_wgenres.rename(columns={'pop/r&b': 'pop_rb', 'folk/country': 'folk_country'}, inplace=True)\n",
    "worst_wgenres.rename(columns={'pop/r&b': 'pop_rb', 'folk/country': 'folk_country'}, inplace=True)"
   ]
  },
  {
   "cell_type": "code",
   "execution_count": 84,
   "metadata": {},
   "outputs": [
    {
     "name": "stdout",
     "output_type": "stream",
     "text": [
      "                    sum_sq     df          F    PR(>F)\n",
      "C(rock)           0.407402    1.0   3.708124  0.054633\n",
      "C(electronic)     0.018879    1.0   0.171834  0.678639\n",
      "C(rap)            0.544781    1.0   4.958531  0.026342\n",
      "C(metal)          0.062107    1.0   0.565292  0.452438\n",
      "C(experimental)   0.019272    1.0   0.175411  0.675500\n",
      "C(jazz)           0.157476    1.0   1.433328  0.231707\n",
      "C(pop_rb)         1.148879    1.0  10.456954  0.001291\n",
      "C(folk_country)   0.019713    1.0   0.179424  0.672025\n",
      "Residual         64.272491  585.0        NaN       NaN\n"
     ]
    }
   ],
   "source": [
    "formula = \"\"\"score ~ C(rock) + C(electronic) + C(rap) + C(metal) \n",
    "            + C(experimental) +C(jazz) + C(pop_rb) + C(folk_country)\"\"\"\n",
    "lm = ols(formula, best_wgenres).fit()\n",
    "table = sm.stats.anova_lm(lm, typ=2)\n",
    "print(table)"
   ]
  },
  {
   "cell_type": "markdown",
   "metadata": {},
   "source": [
    "### Creating ANOVA tables for Worst rated songs:"
   ]
  },
  {
   "cell_type": "code",
   "execution_count": 85,
   "metadata": {},
   "outputs": [
    {
     "name": "stdout",
     "output_type": "stream",
     "text": [
      "                     sum_sq     df         F    PR(>F)\n",
      "C(rock)            0.172404    1.0  0.225969  0.634690\n",
      "C(electronic)      1.091531    1.0  1.430664  0.232096\n",
      "C(rap)             0.101879    1.0  0.133532  0.714918\n",
      "C(metal)           0.023072    1.0  0.030241  0.862000\n",
      "C(experimental)    0.146514    1.0  0.192035  0.661375\n",
      "C(jazz)            0.686205    1.0  0.899406  0.343297\n",
      "C(pop_rb)          0.126617    1.0  0.165956  0.683867\n",
      "C(folk_country)    0.556711    1.0  0.729678  0.393305\n",
      "Residual         491.342202  644.0       NaN       NaN\n"
     ]
    }
   ],
   "source": [
    "formula = \"\"\"score ~ C(rock) + C(electronic) + C(rap) + C(metal) \n",
    "            + C(experimental) +C(jazz) + C(pop_rb) + C(folk_country)\"\"\"\n",
    "lm = ols(formula, worst_wgenres).fit()\n",
    "table = sm.stats.anova_lm(lm, typ=2)\n",
    "print(table)"
   ]
  },
  {
   "cell_type": "markdown",
   "metadata": {},
   "source": [
    "### Creating ANOVA table for Best reviews by author type:"
   ]
  },
  {
   "cell_type": "code",
   "execution_count": 86,
   "metadata": {},
   "outputs": [
    {
     "data": {
      "text/plain": [
       "{'contributor': 'contributor',\n",
       " 'executive editor': 'executive_editor',\n",
       " 'senior editor': 'senior_editor',\n",
       " 'editor-in-chief': 'editor-in-chief',\n",
       " 'contributing editor': 'contributing_editor',\n",
       " 'associate reviews editor': 'associate_reviews_editor',\n",
       " 'senior staff writer': 'senior_staff_writer',\n",
       " 'deputy news editor': 'deputy_news_editor'}"
      ]
     },
     "execution_count": 86,
     "metadata": {},
     "output_type": "execute_result"
    }
   ],
   "source": [
    "# Create reviewer types\n",
    "reviewer = list(best_wgenres['author_type'].value_counts().index)\n",
    "\n",
    "rev_names = {}\n",
    "for r in reviewer:\n",
    "    rev_names[r] = r.replace(\" \",\"_\")\n",
    "rev_names"
   ]
  },
  {
   "cell_type": "code",
   "execution_count": 87,
   "metadata": {},
   "outputs": [],
   "source": [
    "for old, new in rev_names.items():\n",
    "    best_wgenres[new] = best_wgenres['author_type'].apply(lambda x: 1 if x == old else 0)\n",
    "    worst_wgenres[new] = worst_wgenres['author_type'].apply(lambda x: 1 if x == old else 0)"
   ]
  },
  {
   "cell_type": "code",
   "execution_count": 88,
   "metadata": {},
   "outputs": [
    {
     "data": {
      "text/html": [
       "<div>\n",
       "<style scoped>\n",
       "    .dataframe tbody tr th:only-of-type {\n",
       "        vertical-align: middle;\n",
       "    }\n",
       "\n",
       "    .dataframe tbody tr th {\n",
       "        vertical-align: top;\n",
       "    }\n",
       "\n",
       "    .dataframe thead th {\n",
       "        text-align: right;\n",
       "    }\n",
       "</style>\n",
       "<table border=\"1\" class=\"dataframe\">\n",
       "  <thead>\n",
       "    <tr style=\"text-align: right;\">\n",
       "      <th></th>\n",
       "      <th>reviewid</th>\n",
       "      <th>genre</th>\n",
       "      <th>electronic</th>\n",
       "      <th>experimental</th>\n",
       "      <th>folk_country</th>\n",
       "      <th>global</th>\n",
       "      <th>jazz</th>\n",
       "      <th>metal</th>\n",
       "      <th>pop_rb</th>\n",
       "      <th>rap</th>\n",
       "      <th>...</th>\n",
       "      <th>author</th>\n",
       "      <th>author_type</th>\n",
       "      <th>contributor</th>\n",
       "      <th>executive_editor</th>\n",
       "      <th>senior_editor</th>\n",
       "      <th>ec</th>\n",
       "      <th>contributing_editor</th>\n",
       "      <th>associate_reviews_editor</th>\n",
       "      <th>senior_staff_writer</th>\n",
       "      <th>deputy_news_editor</th>\n",
       "    </tr>\n",
       "  </thead>\n",
       "  <tbody>\n",
       "    <tr>\n",
       "      <th>0</th>\n",
       "      <td>22720</td>\n",
       "      <td>rap</td>\n",
       "      <td>0</td>\n",
       "      <td>0</td>\n",
       "      <td>0</td>\n",
       "      <td>0</td>\n",
       "      <td>0</td>\n",
       "      <td>0</td>\n",
       "      <td>0</td>\n",
       "      <td>1</td>\n",
       "      <td>...</td>\n",
       "      <td>marcus j. moore</td>\n",
       "      <td>contributor</td>\n",
       "      <td>1</td>\n",
       "      <td>0</td>\n",
       "      <td>0</td>\n",
       "      <td>0</td>\n",
       "      <td>0</td>\n",
       "      <td>0</td>\n",
       "      <td>0</td>\n",
       "      <td>0</td>\n",
       "    </tr>\n",
       "    <tr>\n",
       "      <th>1</th>\n",
       "      <td>22589</td>\n",
       "      <td>electronic</td>\n",
       "      <td>1</td>\n",
       "      <td>0</td>\n",
       "      <td>0</td>\n",
       "      <td>0</td>\n",
       "      <td>0</td>\n",
       "      <td>0</td>\n",
       "      <td>0</td>\n",
       "      <td>0</td>\n",
       "      <td>...</td>\n",
       "      <td>kevin lozano</td>\n",
       "      <td>tracks coordinator</td>\n",
       "      <td>0</td>\n",
       "      <td>0</td>\n",
       "      <td>0</td>\n",
       "      <td>0</td>\n",
       "      <td>0</td>\n",
       "      <td>0</td>\n",
       "      <td>0</td>\n",
       "      <td>0</td>\n",
       "    </tr>\n",
       "    <tr>\n",
       "      <th>2</th>\n",
       "      <td>22319</td>\n",
       "      <td>rock</td>\n",
       "      <td>0</td>\n",
       "      <td>0</td>\n",
       "      <td>0</td>\n",
       "      <td>0</td>\n",
       "      <td>0</td>\n",
       "      <td>0</td>\n",
       "      <td>0</td>\n",
       "      <td>0</td>\n",
       "      <td>...</td>\n",
       "      <td>ian cohen</td>\n",
       "      <td>contributor</td>\n",
       "      <td>1</td>\n",
       "      <td>0</td>\n",
       "      <td>0</td>\n",
       "      <td>0</td>\n",
       "      <td>0</td>\n",
       "      <td>0</td>\n",
       "      <td>0</td>\n",
       "      <td>0</td>\n",
       "    </tr>\n",
       "    <tr>\n",
       "      <th>3</th>\n",
       "      <td>22319</td>\n",
       "      <td>rap</td>\n",
       "      <td>0</td>\n",
       "      <td>0</td>\n",
       "      <td>0</td>\n",
       "      <td>0</td>\n",
       "      <td>0</td>\n",
       "      <td>0</td>\n",
       "      <td>0</td>\n",
       "      <td>1</td>\n",
       "      <td>...</td>\n",
       "      <td>ian cohen</td>\n",
       "      <td>contributor</td>\n",
       "      <td>1</td>\n",
       "      <td>0</td>\n",
       "      <td>0</td>\n",
       "      <td>0</td>\n",
       "      <td>0</td>\n",
       "      <td>0</td>\n",
       "      <td>0</td>\n",
       "      <td>0</td>\n",
       "    </tr>\n",
       "    <tr>\n",
       "      <th>4</th>\n",
       "      <td>22143</td>\n",
       "      <td>electronic</td>\n",
       "      <td>1</td>\n",
       "      <td>0</td>\n",
       "      <td>0</td>\n",
       "      <td>0</td>\n",
       "      <td>0</td>\n",
       "      <td>0</td>\n",
       "      <td>0</td>\n",
       "      <td>0</td>\n",
       "      <td>...</td>\n",
       "      <td>stacey anderson</td>\n",
       "      <td>associate features editor</td>\n",
       "      <td>0</td>\n",
       "      <td>0</td>\n",
       "      <td>0</td>\n",
       "      <td>0</td>\n",
       "      <td>0</td>\n",
       "      <td>0</td>\n",
       "      <td>0</td>\n",
       "      <td>0</td>\n",
       "    </tr>\n",
       "  </tbody>\n",
       "</table>\n",
       "<p>5 rows × 23 columns</p>\n",
       "</div>"
      ],
      "text/plain": [
       "   reviewid       genre  electronic  experimental  folk_country  global  jazz  \\\n",
       "0     22720         rap           0             0             0       0     0   \n",
       "1     22589  electronic           1             0             0       0     0   \n",
       "2     22319        rock           0             0             0       0     0   \n",
       "3     22319         rap           0             0             0       0     0   \n",
       "4     22143  electronic           1             0             0       0     0   \n",
       "\n",
       "   metal  pop_rb  rap         ...                   author  \\\n",
       "0      0       0    1         ...          marcus j. moore   \n",
       "1      0       0    0         ...             kevin lozano   \n",
       "2      0       0    0         ...                ian cohen   \n",
       "3      0       0    1         ...                ian cohen   \n",
       "4      0       0    0         ...          stacey anderson   \n",
       "\n",
       "                 author_type  contributor executive_editor senior_editor  ec  \\\n",
       "0                contributor            1                0             0   0   \n",
       "1         tracks coordinator            0                0             0   0   \n",
       "2                contributor            1                0             0   0   \n",
       "3                contributor            1                0             0   0   \n",
       "4  associate features editor            0                0             0   0   \n",
       "\n",
       "   contributing_editor  associate_reviews_editor  senior_staff_writer  \\\n",
       "0                    0                         0                    0   \n",
       "1                    0                         0                    0   \n",
       "2                    0                         0                    0   \n",
       "3                    0                         0                    0   \n",
       "4                    0                         0                    0   \n",
       "\n",
       "   deputy_news_editor  \n",
       "0                   0  \n",
       "1                   0  \n",
       "2                   0  \n",
       "3                   0  \n",
       "4                   0  \n",
       "\n",
       "[5 rows x 23 columns]"
      ]
     },
     "execution_count": 88,
     "metadata": {},
     "output_type": "execute_result"
    }
   ],
   "source": [
    "best_wgenres.rename(columns={'editor-in-chief':'ec'}, inplace=True)\n",
    "worst_wgenres.rename(columns={'editor-in-chief':'ec'}, inplace=True)\n",
    "worst_wgenres.head()"
   ]
  },
  {
   "cell_type": "markdown",
   "metadata": {},
   "source": [
    "### ANOVA Table for author type by review score: Best scores"
   ]
  },
  {
   "cell_type": "code",
   "execution_count": 89,
   "metadata": {},
   "outputs": [
    {
     "name": "stdout",
     "output_type": "stream",
     "text": [
      "                                sum_sq     df         F    PR(>F)\n",
      "C(contributor)                0.099847    1.0  0.895279  0.344441\n",
      "C(executive_editor)           0.632875    1.0  5.674655  0.017530\n",
      "C(senior_editor)              0.080004    1.0  0.717355  0.397359\n",
      "C(ec)                         0.200698    1.0  1.799553  0.180287\n",
      "C(contributing_editor)        0.066484    1.0  0.596123  0.440373\n",
      "C(associate_reviews_editor)   0.277094    1.0  2.484554  0.115510\n",
      "C(senior_staff_writer)        0.099482    1.0  0.892007  0.345324\n",
      "C(deputy_news_editor)         0.047042    1.0  0.421799  0.516296\n",
      "Residual                     65.243010  585.0       NaN       NaN\n"
     ]
    }
   ],
   "source": [
    "formula = \"\"\"score ~ C(contributor) + C(executive_editor) + C(senior_editor) \n",
    "            + C(ec) + C(contributing_editor) + C(associate_reviews_editor) \n",
    "            + C(senior_staff_writer) + C(deputy_news_editor)\"\"\"\n",
    "lm = ols(formula, best_wgenres).fit()\n",
    "table = sm.stats.anova_lm(lm, typ=2)\n",
    "print(table)"
   ]
  },
  {
   "cell_type": "code",
   "execution_count": 108,
   "metadata": {},
   "outputs": [
    {
     "data": {
      "image/png": "[encoded data removed]",
      "text/plain": [
       "<Figure size 432x288 with 1 Axes>"
      ]
     },
     "metadata": {
      "needs_background": "light"
     },
     "output_type": "display_data"
    }
   ],
   "source": [
    "# Looking at scoring for the one Executive Editor - Mark Richardson\n",
    "mark_richardson = reviews_df[reviews_df['author_type'] == 'executive editor'].copy()\n",
    "sns.distplot(mark_richardson['score'], bins=30, kde=False)\n",
    "plt.title(\"Review scores for Mark Richardson in Top 500 Reviews\")\n",
    "plt.xlabel(\"Score\")\n",
    "plt.ylabel(\"Count\")\n",
    "plt.xticks(np.arange(0,11))\n",
    "plt.show();"
   ]
  },
  {
   "cell_type": "markdown",
   "metadata": {},
   "source": [
    "### ANOVA Table for author type by review score: Worst scores"
   ]
  },
  {
   "cell_type": "code",
   "execution_count": 100,
   "metadata": {},
   "outputs": [
    {
     "name": "stdout",
     "output_type": "stream",
     "text": [
      "                            sum_sq     df         F    PR(>F)\n",
      "C(contributor)            0.207015    1.0  0.273110  0.601432\n",
      "C(executive_editor)       0.398292    1.0  0.525460  0.468784\n",
      "C(senior_editor)          0.463840    1.0  0.611935  0.434346\n",
      "C(ec)                     2.182150    1.0  2.878869  0.090230\n",
      "C(senior_staff_writer)    0.470435    1.0  0.620636  0.431099\n",
      "Residual                490.418612  647.0       NaN       NaN\n"
     ]
    }
   ],
   "source": [
    "formula = \"\"\"score ~ C(contributor) + C(executive_editor) + C(senior_editor) \n",
    "            + C(ec) + C(senior_staff_writer)\"\"\"\n",
    "worst = ols(formula, worst_wgenres).fit()\n",
    "table = sm.stats.anova_lm(worst, typ=2)\n",
    "print(table)"
   ]
  }
 ],
 "metadata": {
  "kernelspec": {
   "display_name": "Python 3",
   "language": "python",
   "name": "python3"
  },
  "language_info": {
   "codemirror_mode": {
    "name": "ipython",
    "version": 3
   },
   "file_extension": ".py",
   "mimetype": "text/x-python",
   "name": "python",
   "nbconvert_exporter": "python",
   "pygments_lexer": "ipython3",
   "version": "3.7.1"
  }
 },
 "nbformat": 4,
 "nbformat_minor": 2
}
