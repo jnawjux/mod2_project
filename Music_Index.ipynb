{
 "cells": [
  {
   "cell_type": "markdown",
   "metadata": {},
   "source": [
    "## Loading Dataset"
   ]
  },
  {
   "cell_type": "code",
   "execution_count": 110,
   "metadata": {},
   "outputs": [],
   "source": [
    "import psycopg2\n",
    "import pandas as pd\n",
    "import numpy as np\n",
    "import seaborn as sns\n",
    "from  scipy.stats import ttest_ind\n",
    "import matplotlib.pyplot as plt\n",
    "import statsmodels.api as sm\n",
    "from statsmodels.formula.api import ols\n",
    "%matplotlib inline\n",
    "conn = psycopg2.connect(\"dbname=musicdatabase\")\n",
    "cur = conn.cursor()"
   ]
  },
  {
   "cell_type": "markdown",
   "metadata": {},
   "source": [
    "## Creating DataFrames"
   ]
  },
  {
   "cell_type": "code",
   "execution_count": 111,
   "metadata": {},
   "outputs": [],
   "source": [
    "#GENRES:\n",
    "cur.execute(\"SELECT * FROM genres\")\n",
    "names = [description[0] for description in cur.description]\n",
    "genres = cur.fetchall()\n",
    "genres_df = pd.DataFrame(genres, columns=names)\n",
    "\n",
    "# #ARTISTS\n",
    "cur.execute(\"SELECT * FROM artists\")\n",
    "names = [description[0] for description in cur.description]\n",
    "artists = cur.fetchall()\n",
    "artists_df = pd.DataFrame(artists, columns=names)\n",
    "\n",
    "# #CONTENT\n",
    "cur.execute(\"SELECT * FROM content\")\n",
    "names = [description[0] for description in cur.description]\n",
    "content = cur.fetchall()\n",
    "content_df = pd.DataFrame(content, columns=names)\n",
    "\n",
    "# #LABELS\n",
    "cur.execute(\"SELECT * FROM labels\")\n",
    "names = [description[0] for description in cur.description]\n",
    "labels = cur.fetchall()\n",
    "labels_df = pd.DataFrame(labels, columns=names)\n",
    "\n",
    "# #REVIEWS\n",
    "cur.execute(\"SELECT * FROM reviews\")\n",
    "names = [description[0] for description in cur.description]\n",
    "reviews = cur.fetchall()\n",
    "reviews_df = pd.DataFrame(reviews, columns=names)\n",
    "\n",
    "# #YEARS\n",
    "cur.execute(\"SELECT * FROM years\")\n",
    "names = [description[0] for description in cur.description]\n",
    "years = cur.fetchall()\n",
    "years_df = pd.DataFrame(years, columns=names)"
   ]
  },
  {
   "cell_type": "markdown",
   "metadata": {},
   "source": [
    "## Exploring the Data"
   ]
  },
  {
   "cell_type": "code",
   "execution_count": 112,
   "metadata": {},
   "outputs": [
    {
     "name": "stdout",
     "output_type": "stream",
     "text": [
      "genre df length:  22680\n",
      "artists df length:  18831\n",
      "content df length:  18393\n",
      "labels df length:  20190\n",
      "reviews df length:  18393\n",
      "years df length:  19108\n"
     ]
    }
   ],
   "source": [
    "print('genre df length: ', len(genres_df))\n",
    "print('artists df length: ', len(artists_df))\n",
    "print('content df length: ', len(content_df))\n",
    "print('labels df length: ', len(labels_df))\n",
    "print('reviews df length: ', len(reviews_df))\n",
    "print('years df length: ', len(years_df))"
   ]
  },
  {
   "cell_type": "code",
   "execution_count": 113,
   "metadata": {},
   "outputs": [
    {
     "name": "stdout",
     "output_type": "stream",
     "text": [
      "<class 'pandas.core.frame.DataFrame'>\n",
      "RangeIndex: 18393 entries, 0 to 18392\n",
      "Data columns (total 13 columns):\n",
      "reviewid          18393 non-null int64\n",
      "title             18393 non-null object\n",
      "artist            18393 non-null object\n",
      "url               18393 non-null object\n",
      "score             18393 non-null float64\n",
      "best_new_music    18393 non-null int64\n",
      "author            18393 non-null object\n",
      "author_type       14487 non-null object\n",
      "pub_date          18393 non-null object\n",
      "pub_weekday       18393 non-null int64\n",
      "pub_day           18393 non-null int64\n",
      "pub_month         18393 non-null int64\n",
      "pub_year          18393 non-null int64\n",
      "dtypes: float64(1), int64(6), object(6)\n",
      "memory usage: 1.8+ MB\n"
     ]
    }
   ],
   "source": [
    "reviews_df.info()"
   ]
  },
  {
   "cell_type": "code",
   "execution_count": 114,
   "metadata": {},
   "outputs": [
    {
     "data": {
      "text/plain": [
       "reviewid             0\n",
       "title                0\n",
       "artist               0\n",
       "url                  0\n",
       "score                0\n",
       "best_new_music       0\n",
       "author               0\n",
       "author_type       3906\n",
       "pub_date             0\n",
       "pub_weekday          0\n",
       "pub_day              0\n",
       "pub_month            0\n",
       "pub_year             0\n",
       "dtype: int64"
      ]
     },
     "execution_count": 114,
     "metadata": {},
     "output_type": "execute_result"
    }
   ],
   "source": [
    "reviews_df.isna().sum()\n",
    "#no NANs in column 1.. however 2367 in column 2"
   ]
  },
  {
   "cell_type": "markdown",
   "metadata": {},
   "source": [
    "## Scratch Work & More Review"
   ]
  },
  {
   "cell_type": "code",
   "execution_count": 115,
   "metadata": {},
   "outputs": [
    {
     "data": {
      "text/plain": [
       "432"
      ]
     },
     "execution_count": 115,
     "metadata": {},
     "output_type": "execute_result"
    }
   ],
   "source": [
    "reviews_df['author'].value_counts()\n",
    "reviews_df['author'].nunique()"
   ]
  },
  {
   "cell_type": "code",
   "execution_count": 116,
   "metadata": {},
   "outputs": [
    {
     "data": {
      "text/plain": [
       "various artists     688\n",
       "guided by voices     23\n",
       "david bowie          21\n",
       "the beatles          21\n",
       "mogwai               20\n",
       "Name: artist, dtype: int64"
      ]
     },
     "execution_count": 116,
     "metadata": {},
     "output_type": "execute_result"
    }
   ],
   "source": [
    "reviews_df['artist'].value_counts().head()"
   ]
  },
  {
   "cell_type": "code",
   "execution_count": 117,
   "metadata": {},
   "outputs": [
    {
     "data": {
      "text/plain": [
       "18389"
      ]
     },
     "execution_count": 117,
     "metadata": {},
     "output_type": "execute_result"
    }
   ],
   "source": [
    "len(set(reviews_df['reviewid']))\n",
    "#reviews_df['reviewid'].nunique()  #does the same thing"
   ]
  },
  {
   "cell_type": "markdown",
   "metadata": {},
   "source": [
    "## Seeing Which Tables Have Multiple Rows Per Song"
   ]
  },
  {
   "cell_type": "code",
   "execution_count": 118,
   "metadata": {},
   "outputs": [
    {
     "data": {
      "text/html": [
       "<div>\n",
       "<style scoped>\n",
       "    .dataframe tbody tr th:only-of-type {\n",
       "        vertical-align: middle;\n",
       "    }\n",
       "\n",
       "    .dataframe tbody tr th {\n",
       "        vertical-align: top;\n",
       "    }\n",
       "\n",
       "    .dataframe thead th {\n",
       "        text-align: right;\n",
       "    }\n",
       "</style>\n",
       "<table border=\"1\" class=\"dataframe\">\n",
       "  <thead>\n",
       "    <tr style=\"text-align: right;\">\n",
       "      <th></th>\n",
       "      <th>reviewid</th>\n",
       "      <th>genre</th>\n",
       "    </tr>\n",
       "  </thead>\n",
       "  <tbody>\n",
       "    <tr>\n",
       "      <th>15417</th>\n",
       "      <td>11733</td>\n",
       "      <td>rock</td>\n",
       "    </tr>\n",
       "    <tr>\n",
       "      <th>15418</th>\n",
       "      <td>11733</td>\n",
       "      <td>global</td>\n",
       "    </tr>\n",
       "    <tr>\n",
       "      <th>15419</th>\n",
       "      <td>11733</td>\n",
       "      <td>experimental</td>\n",
       "    </tr>\n",
       "    <tr>\n",
       "      <th>15420</th>\n",
       "      <td>11733</td>\n",
       "      <td>electronic</td>\n",
       "    </tr>\n",
       "  </tbody>\n",
       "</table>\n",
       "</div>"
      ],
      "text/plain": [
       "       reviewid         genre\n",
       "15417     11733          rock\n",
       "15418     11733        global\n",
       "15419     11733  experimental\n",
       "15420     11733    electronic"
      ]
     },
     "execution_count": 118,
     "metadata": {},
     "output_type": "execute_result"
    }
   ],
   "source": [
    "genres_df.loc[genres_df['reviewid'] == 11733]\n",
    "#example, song 6523 has 4 artists"
   ]
  },
  {
   "cell_type": "markdown",
   "metadata": {},
   "source": [
    "* Review Table -- has 4 songs that have 2 reviewid's... i believe this is an error as all rows are identical\n",
    "* Content Table -- also has 4 songs with 2 reviewid's... will remove the duplicated rows\n",
    "* Genres Tabel -- Many songs have 2+ genres\n",
    "* Labels Tabel -- Many songs have 2+ labels\n",
    "* Artists Tabel -- Many songs have 2+ artists\n",
    "* Year Tabel -- Many songs have 2+ release years... this may be an error... considering keeping only oldest year"
   ]
  },
  {
   "cell_type": "code",
   "execution_count": 119,
   "metadata": {},
   "outputs": [
    {
     "data": {
      "text/plain": [
       "11733    4\n",
       "21701    4\n",
       "7683     4\n",
       "757      4\n",
       "12222    4\n",
       "14812    4\n",
       "12625    4\n",
       "22465    4\n",
       "9530     4\n",
       "9036     4\n",
       "Name: reviewid, dtype: int64"
      ]
     },
     "execution_count": 119,
     "metadata": {},
     "output_type": "execute_result"
    }
   ],
   "source": [
    "genres_df['reviewid'].value_counts().head(10)"
   ]
  },
  {
   "cell_type": "markdown",
   "metadata": {},
   "source": [
    "## Combining Genre and Review Tables"
   ]
  },
  {
   "cell_type": "markdown",
   "metadata": {},
   "source": [
    "First, one hot encode genres table. "
   ]
  },
  {
   "cell_type": "code",
   "execution_count": 120,
   "metadata": {},
   "outputs": [],
   "source": [
    "# genres_df['pop/r&b'] = genres_df['genre'].apply(lambda x: 1 if x == 'pop/r&b' else 0)\n",
    "# genres_df['electronic'] = genres_df['genre'].apply(lambda x: 1 if x == 'electronic' else 0)"
   ]
  },
  {
   "cell_type": "code",
   "execution_count": 121,
   "metadata": {},
   "outputs": [
    {
     "data": {
      "text/html": [
       "<div>\n",
       "<style scoped>\n",
       "    .dataframe tbody tr th:only-of-type {\n",
       "        vertical-align: middle;\n",
       "    }\n",
       "\n",
       "    .dataframe tbody tr th {\n",
       "        vertical-align: top;\n",
       "    }\n",
       "\n",
       "    .dataframe thead th {\n",
       "        text-align: right;\n",
       "    }\n",
       "</style>\n",
       "<table border=\"1\" class=\"dataframe\">\n",
       "  <thead>\n",
       "    <tr style=\"text-align: right;\">\n",
       "      <th></th>\n",
       "      <th>reviewid</th>\n",
       "      <th>genre</th>\n",
       "      <th>electronic</th>\n",
       "      <th>experimental</th>\n",
       "      <th>folk/country</th>\n",
       "      <th>global</th>\n",
       "      <th>jazz</th>\n",
       "      <th>metal</th>\n",
       "      <th>pop/r&amp;b</th>\n",
       "      <th>rap</th>\n",
       "      <th>rock</th>\n",
       "    </tr>\n",
       "  </thead>\n",
       "  <tbody>\n",
       "    <tr>\n",
       "      <th>0</th>\n",
       "      <td>22703</td>\n",
       "      <td>electronic</td>\n",
       "      <td>1</td>\n",
       "      <td>0</td>\n",
       "      <td>0</td>\n",
       "      <td>0</td>\n",
       "      <td>0</td>\n",
       "      <td>0</td>\n",
       "      <td>0</td>\n",
       "      <td>0</td>\n",
       "      <td>0</td>\n",
       "    </tr>\n",
       "    <tr>\n",
       "      <th>1</th>\n",
       "      <td>22721</td>\n",
       "      <td>metal</td>\n",
       "      <td>0</td>\n",
       "      <td>0</td>\n",
       "      <td>0</td>\n",
       "      <td>0</td>\n",
       "      <td>0</td>\n",
       "      <td>1</td>\n",
       "      <td>0</td>\n",
       "      <td>0</td>\n",
       "      <td>0</td>\n",
       "    </tr>\n",
       "    <tr>\n",
       "      <th>2</th>\n",
       "      <td>22659</td>\n",
       "      <td>rock</td>\n",
       "      <td>0</td>\n",
       "      <td>0</td>\n",
       "      <td>0</td>\n",
       "      <td>0</td>\n",
       "      <td>0</td>\n",
       "      <td>0</td>\n",
       "      <td>0</td>\n",
       "      <td>0</td>\n",
       "      <td>1</td>\n",
       "    </tr>\n",
       "    <tr>\n",
       "      <th>3</th>\n",
       "      <td>22661</td>\n",
       "      <td>rock</td>\n",
       "      <td>0</td>\n",
       "      <td>0</td>\n",
       "      <td>0</td>\n",
       "      <td>0</td>\n",
       "      <td>0</td>\n",
       "      <td>0</td>\n",
       "      <td>0</td>\n",
       "      <td>0</td>\n",
       "      <td>1</td>\n",
       "    </tr>\n",
       "    <tr>\n",
       "      <th>4</th>\n",
       "      <td>22725</td>\n",
       "      <td>electronic</td>\n",
       "      <td>1</td>\n",
       "      <td>0</td>\n",
       "      <td>0</td>\n",
       "      <td>0</td>\n",
       "      <td>0</td>\n",
       "      <td>0</td>\n",
       "      <td>0</td>\n",
       "      <td>0</td>\n",
       "      <td>0</td>\n",
       "    </tr>\n",
       "  </tbody>\n",
       "</table>\n",
       "</div>"
      ],
      "text/plain": [
       "   reviewid       genre  electronic  experimental  folk/country  global  jazz  \\\n",
       "0     22703  electronic           1             0             0       0     0   \n",
       "1     22721       metal           0             0             0       0     0   \n",
       "2     22659        rock           0             0             0       0     0   \n",
       "3     22661        rock           0             0             0       0     0   \n",
       "4     22725  electronic           1             0             0       0     0   \n",
       "\n",
       "   metal  pop/r&b  rap  rock  \n",
       "0      0        0    0     0  \n",
       "1      1        0    0     0  \n",
       "2      0        0    0     1  \n",
       "3      0        0    0     1  \n",
       "4      0        0    0     0  "
      ]
     },
     "execution_count": 121,
     "metadata": {},
     "output_type": "execute_result"
    }
   ],
   "source": [
    "genres_one_hot = pd.get_dummies(genres_df['genre'])\n",
    "genres_one_hot.head()\n",
    "genres_hot_df = pd.concat([genres_df, genres_one_hot], axis = 1)\n",
    "genres_hot_df.head()"
   ]
  },
  {
   "cell_type": "markdown",
   "metadata": {},
   "source": [
    "Second, filtered genres table for only pop & electric"
   ]
  },
  {
   "cell_type": "code",
   "execution_count": 122,
   "metadata": {},
   "outputs": [
    {
     "data": {
      "text/html": [
       "<div>\n",
       "<style scoped>\n",
       "    .dataframe tbody tr th:only-of-type {\n",
       "        vertical-align: middle;\n",
       "    }\n",
       "\n",
       "    .dataframe tbody tr th {\n",
       "        vertical-align: top;\n",
       "    }\n",
       "\n",
       "    .dataframe thead th {\n",
       "        text-align: right;\n",
       "    }\n",
       "</style>\n",
       "<table border=\"1\" class=\"dataframe\">\n",
       "  <thead>\n",
       "    <tr style=\"text-align: right;\">\n",
       "      <th></th>\n",
       "      <th>reviewid</th>\n",
       "      <th>electronic</th>\n",
       "      <th>pop/r&amp;b</th>\n",
       "    </tr>\n",
       "  </thead>\n",
       "  <tbody>\n",
       "    <tr>\n",
       "      <th>0</th>\n",
       "      <td>22703</td>\n",
       "      <td>1</td>\n",
       "      <td>0</td>\n",
       "    </tr>\n",
       "    <tr>\n",
       "      <th>4</th>\n",
       "      <td>22725</td>\n",
       "      <td>1</td>\n",
       "      <td>0</td>\n",
       "    </tr>\n",
       "    <tr>\n",
       "      <th>7</th>\n",
       "      <td>22694</td>\n",
       "      <td>1</td>\n",
       "      <td>0</td>\n",
       "    </tr>\n",
       "    <tr>\n",
       "      <th>12</th>\n",
       "      <td>22700</td>\n",
       "      <td>1</td>\n",
       "      <td>0</td>\n",
       "    </tr>\n",
       "    <tr>\n",
       "      <th>18</th>\n",
       "      <td>22719</td>\n",
       "      <td>0</td>\n",
       "      <td>1</td>\n",
       "    </tr>\n",
       "  </tbody>\n",
       "</table>\n",
       "</div>"
      ],
      "text/plain": [
       "    reviewid  electronic  pop/r&b\n",
       "0      22703           1        0\n",
       "4      22725           1        0\n",
       "7      22694           1        0\n",
       "12     22700           1        0\n",
       "18     22719           0        1"
      ]
     },
     "execution_count": 122,
     "metadata": {},
     "output_type": "execute_result"
    }
   ],
   "source": [
    "genres_hot_df_filtered = genres_hot_df[(genres_hot_df['pop/r&b'] == 1) | (genres_hot_df['electronic'] == 1)]\n",
    "genres_hot_df_filtered = genres_hot_df_filtered[['reviewid', 'electronic', 'pop/r&b']]\n",
    "genres_hot_df_filtered.head()"
   ]
  },
  {
   "cell_type": "markdown",
   "metadata": {},
   "source": [
    "Third, add value_count column in order to remove any albums that fall under both electronic & pop."
   ]
  },
  {
   "cell_type": "code",
   "execution_count": 123,
   "metadata": {},
   "outputs": [
    {
     "data": {
      "text/html": [
       "<div>\n",
       "<style scoped>\n",
       "    .dataframe tbody tr th:only-of-type {\n",
       "        vertical-align: middle;\n",
       "    }\n",
       "\n",
       "    .dataframe tbody tr th {\n",
       "        vertical-align: top;\n",
       "    }\n",
       "\n",
       "    .dataframe thead th {\n",
       "        text-align: right;\n",
       "    }\n",
       "</style>\n",
       "<table border=\"1\" class=\"dataframe\">\n",
       "  <thead>\n",
       "    <tr style=\"text-align: right;\">\n",
       "      <th></th>\n",
       "      <th>reviewid</th>\n",
       "      <th>electronic</th>\n",
       "      <th>pop/r&amp;b</th>\n",
       "      <th>value_count</th>\n",
       "    </tr>\n",
       "  </thead>\n",
       "  <tbody>\n",
       "    <tr>\n",
       "      <th>0</th>\n",
       "      <td>22703</td>\n",
       "      <td>1</td>\n",
       "      <td>0</td>\n",
       "      <td>1</td>\n",
       "    </tr>\n",
       "    <tr>\n",
       "      <th>4</th>\n",
       "      <td>22725</td>\n",
       "      <td>1</td>\n",
       "      <td>0</td>\n",
       "      <td>1</td>\n",
       "    </tr>\n",
       "    <tr>\n",
       "      <th>7</th>\n",
       "      <td>22694</td>\n",
       "      <td>1</td>\n",
       "      <td>0</td>\n",
       "      <td>1</td>\n",
       "    </tr>\n",
       "    <tr>\n",
       "      <th>12</th>\n",
       "      <td>22700</td>\n",
       "      <td>1</td>\n",
       "      <td>0</td>\n",
       "      <td>1</td>\n",
       "    </tr>\n",
       "    <tr>\n",
       "      <th>18</th>\n",
       "      <td>22719</td>\n",
       "      <td>0</td>\n",
       "      <td>1</td>\n",
       "      <td>1</td>\n",
       "    </tr>\n",
       "  </tbody>\n",
       "</table>\n",
       "</div>"
      ],
      "text/plain": [
       "    reviewid  electronic  pop/r&b  value_count\n",
       "0      22703           1        0            1\n",
       "4      22725           1        0            1\n",
       "7      22694           1        0            1\n",
       "12     22700           1        0            1\n",
       "18     22719           0        1            1"
      ]
     },
     "execution_count": 123,
     "metadata": {},
     "output_type": "execute_result"
    }
   ],
   "source": [
    "z = genres_hot_df_filtered['reviewid'].value_counts()\n",
    "z1 = z.to_dict()\n",
    "genres_hot_df_filtered['value_count'] = genres_hot_df_filtered['reviewid'].apply(lambda x: z1[x])\n",
    "genres_hot_df_filtered.head()"
   ]
  },
  {
   "cell_type": "markdown",
   "metadata": {},
   "source": [
    "Remove albums with both electronic and pop (where value_counts = 2)"
   ]
  },
  {
   "cell_type": "code",
   "execution_count": 124,
   "metadata": {},
   "outputs": [
    {
     "data": {
      "text/html": [
       "<div>\n",
       "<style scoped>\n",
       "    .dataframe tbody tr th:only-of-type {\n",
       "        vertical-align: middle;\n",
       "    }\n",
       "\n",
       "    .dataframe tbody tr th {\n",
       "        vertical-align: top;\n",
       "    }\n",
       "\n",
       "    .dataframe thead th {\n",
       "        text-align: right;\n",
       "    }\n",
       "</style>\n",
       "<table border=\"1\" class=\"dataframe\">\n",
       "  <thead>\n",
       "    <tr style=\"text-align: right;\">\n",
       "      <th></th>\n",
       "      <th>reviewid</th>\n",
       "      <th>electronic</th>\n",
       "      <th>pop/r&amp;b</th>\n",
       "      <th>value_count</th>\n",
       "    </tr>\n",
       "  </thead>\n",
       "  <tbody>\n",
       "    <tr>\n",
       "      <th>0</th>\n",
       "      <td>22703</td>\n",
       "      <td>1</td>\n",
       "      <td>0</td>\n",
       "      <td>1</td>\n",
       "    </tr>\n",
       "    <tr>\n",
       "      <th>4</th>\n",
       "      <td>22725</td>\n",
       "      <td>1</td>\n",
       "      <td>0</td>\n",
       "      <td>1</td>\n",
       "    </tr>\n",
       "    <tr>\n",
       "      <th>7</th>\n",
       "      <td>22694</td>\n",
       "      <td>1</td>\n",
       "      <td>0</td>\n",
       "      <td>1</td>\n",
       "    </tr>\n",
       "    <tr>\n",
       "      <th>12</th>\n",
       "      <td>22700</td>\n",
       "      <td>1</td>\n",
       "      <td>0</td>\n",
       "      <td>1</td>\n",
       "    </tr>\n",
       "    <tr>\n",
       "      <th>18</th>\n",
       "      <td>22719</td>\n",
       "      <td>0</td>\n",
       "      <td>1</td>\n",
       "      <td>1</td>\n",
       "    </tr>\n",
       "  </tbody>\n",
       "</table>\n",
       "</div>"
      ],
      "text/plain": [
       "    reviewid  electronic  pop/r&b  value_count\n",
       "0      22703           1        0            1\n",
       "4      22725           1        0            1\n",
       "7      22694           1        0            1\n",
       "12     22700           1        0            1\n",
       "18     22719           0        1            1"
      ]
     },
     "execution_count": 124,
     "metadata": {},
     "output_type": "execute_result"
    }
   ],
   "source": [
    "to_drop = genres_hot_df_filtered[genres_hot_df_filtered['value_count'] == 2]\n",
    "genres_df = genres_hot_df_filtered.drop(to_drop.index, axis=0)\n",
    "genres_df.head()"
   ]
  },
  {
   "cell_type": "markdown",
   "metadata": {},
   "source": [
    "Merge the new Genre Table with the existing Review Table"
   ]
  },
  {
   "cell_type": "code",
   "execution_count": 125,
   "metadata": {},
   "outputs": [
    {
     "data": {
      "text/html": [
       "<div>\n",
       "<style scoped>\n",
       "    .dataframe tbody tr th:only-of-type {\n",
       "        vertical-align: middle;\n",
       "    }\n",
       "\n",
       "    .dataframe tbody tr th {\n",
       "        vertical-align: top;\n",
       "    }\n",
       "\n",
       "    .dataframe thead th {\n",
       "        text-align: right;\n",
       "    }\n",
       "</style>\n",
       "<table border=\"1\" class=\"dataframe\">\n",
       "  <thead>\n",
       "    <tr style=\"text-align: right;\">\n",
       "      <th></th>\n",
       "      <th>reviewid</th>\n",
       "      <th>title</th>\n",
       "      <th>artist</th>\n",
       "      <th>url</th>\n",
       "      <th>score</th>\n",
       "      <th>best_new_music</th>\n",
       "      <th>author</th>\n",
       "      <th>author_type</th>\n",
       "      <th>pub_date</th>\n",
       "      <th>pub_weekday</th>\n",
       "      <th>pub_day</th>\n",
       "      <th>pub_month</th>\n",
       "      <th>pub_year</th>\n",
       "      <th>electronic</th>\n",
       "      <th>pop/r&amp;b</th>\n",
       "      <th>value_count</th>\n",
       "    </tr>\n",
       "  </thead>\n",
       "  <tbody>\n",
       "    <tr>\n",
       "      <th>0</th>\n",
       "      <td>22703</td>\n",
       "      <td>mezzanine</td>\n",
       "      <td>massive attack</td>\n",
       "      <td>http://pitchfork.com/reviews/albums/22703-mezz...</td>\n",
       "      <td>9.3</td>\n",
       "      <td>0</td>\n",
       "      <td>nate patrin</td>\n",
       "      <td>contributor</td>\n",
       "      <td>2017-01-08</td>\n",
       "      <td>6</td>\n",
       "      <td>8</td>\n",
       "      <td>1</td>\n",
       "      <td>2017</td>\n",
       "      <td>1</td>\n",
       "      <td>0</td>\n",
       "      <td>1</td>\n",
       "    </tr>\n",
       "    <tr>\n",
       "      <th>1</th>\n",
       "      <td>22725</td>\n",
       "      <td>new start</td>\n",
       "      <td>taso</td>\n",
       "      <td>http://pitchfork.com/reviews/albums/22725-new-...</td>\n",
       "      <td>8.1</td>\n",
       "      <td>0</td>\n",
       "      <td>kevin lozano</td>\n",
       "      <td>tracks coordinator</td>\n",
       "      <td>2017-01-06</td>\n",
       "      <td>4</td>\n",
       "      <td>6</td>\n",
       "      <td>1</td>\n",
       "      <td>2017</td>\n",
       "      <td>1</td>\n",
       "      <td>0</td>\n",
       "      <td>1</td>\n",
       "    </tr>\n",
       "    <tr>\n",
       "      <th>2</th>\n",
       "      <td>22694</td>\n",
       "      <td>tehillim</td>\n",
       "      <td>yotam avni</td>\n",
       "      <td>http://pitchfork.com/reviews/albums/22694-tehi...</td>\n",
       "      <td>7.0</td>\n",
       "      <td>0</td>\n",
       "      <td>andy beta</td>\n",
       "      <td>contributor</td>\n",
       "      <td>2017-01-05</td>\n",
       "      <td>3</td>\n",
       "      <td>5</td>\n",
       "      <td>1</td>\n",
       "      <td>2017</td>\n",
       "      <td>1</td>\n",
       "      <td>0</td>\n",
       "      <td>1</td>\n",
       "    </tr>\n",
       "    <tr>\n",
       "      <th>3</th>\n",
       "      <td>22700</td>\n",
       "      <td>nadir</td>\n",
       "      <td>steven warwick</td>\n",
       "      <td>http://pitchfork.com/reviews/albums/22700-nadir/</td>\n",
       "      <td>7.6</td>\n",
       "      <td>0</td>\n",
       "      <td>thea ballard</td>\n",
       "      <td>contributor</td>\n",
       "      <td>2017-01-03</td>\n",
       "      <td>1</td>\n",
       "      <td>3</td>\n",
       "      <td>1</td>\n",
       "      <td>2017</td>\n",
       "      <td>1</td>\n",
       "      <td>0</td>\n",
       "      <td>1</td>\n",
       "    </tr>\n",
       "    <tr>\n",
       "      <th>4</th>\n",
       "      <td>22719</td>\n",
       "      <td>merry christmas lil mama</td>\n",
       "      <td>chance the rapper, jeremih</td>\n",
       "      <td>http://pitchfork.com/reviews/albums/22719-merr...</td>\n",
       "      <td>8.1</td>\n",
       "      <td>0</td>\n",
       "      <td>sheldon pearce</td>\n",
       "      <td>associate staff writer</td>\n",
       "      <td>2016-12-30</td>\n",
       "      <td>4</td>\n",
       "      <td>30</td>\n",
       "      <td>12</td>\n",
       "      <td>2016</td>\n",
       "      <td>0</td>\n",
       "      <td>1</td>\n",
       "      <td>1</td>\n",
       "    </tr>\n",
       "  </tbody>\n",
       "</table>\n",
       "</div>"
      ],
      "text/plain": [
       "   reviewid                     title                      artist  \\\n",
       "0     22703                 mezzanine              massive attack   \n",
       "1     22725                 new start                        taso   \n",
       "2     22694                  tehillim                  yotam avni   \n",
       "3     22700                     nadir              steven warwick   \n",
       "4     22719  merry christmas lil mama  chance the rapper, jeremih   \n",
       "\n",
       "                                                 url  score  best_new_music  \\\n",
       "0  http://pitchfork.com/reviews/albums/22703-mezz...    9.3               0   \n",
       "1  http://pitchfork.com/reviews/albums/22725-new-...    8.1               0   \n",
       "2  http://pitchfork.com/reviews/albums/22694-tehi...    7.0               0   \n",
       "3   http://pitchfork.com/reviews/albums/22700-nadir/    7.6               0   \n",
       "4  http://pitchfork.com/reviews/albums/22719-merr...    8.1               0   \n",
       "\n",
       "           author             author_type    pub_date  pub_weekday  pub_day  \\\n",
       "0     nate patrin             contributor  2017-01-08            6        8   \n",
       "1    kevin lozano      tracks coordinator  2017-01-06            4        6   \n",
       "2       andy beta             contributor  2017-01-05            3        5   \n",
       "3    thea ballard             contributor  2017-01-03            1        3   \n",
       "4  sheldon pearce  associate staff writer  2016-12-30            4       30   \n",
       "\n",
       "   pub_month  pub_year  electronic  pop/r&b  value_count  \n",
       "0          1      2017           1        0            1  \n",
       "1          1      2017           1        0            1  \n",
       "2          1      2017           1        0            1  \n",
       "3          1      2017           1        0            1  \n",
       "4         12      2016           0        1            1  "
      ]
     },
     "execution_count": 125,
     "metadata": {},
     "output_type": "execute_result"
    }
   ],
   "source": [
    "#rg = review & genres\n",
    "rg_df = reviews_df.merge(genres_df, left_on='reviewid', right_on='reviewid')\n",
    "rg_df.head()"
   ]
  },
  {
   "cell_type": "markdown",
   "metadata": {},
   "source": [
    "## Hypothesis Test #1 \n",
    "* Null: There is no statistically significant difference between the reviews for pop/R&B albums and electronic music albums.\n",
    "* Alternative: The reviews for pop/R&B albums and electronic albums have a statistically significant difference between how they are reviewed, either positively or negatively. "
   ]
  },
  {
   "cell_type": "code",
   "execution_count": 126,
   "metadata": {},
   "outputs": [],
   "source": [
    "pop_df = rg_df[rg_df['pop/r&b'] == 1].copy()\n",
    "elec_df = rg_df[rg_df['electronic'] == 1].copy()"
   ]
  },
  {
   "cell_type": "code",
   "execution_count": 127,
   "metadata": {},
   "outputs": [
    {
     "data": {
      "image/png": "[encoded data removed]",
      "text/plain": [
       "<Figure size 792x432 with 1 Axes>"
      ]
     },
     "metadata": {
      "needs_background": "light"
     },
     "output_type": "display_data"
    }
   ],
   "source": [
    "plt.figure(figsize=(11,6))\n",
    "sns.distplot(pop_df['score'], label=\"Pop/R&B Music\")\n",
    "sns.distplot(elec_df['score'], label=\"Electronic Music\");\n",
    "plt.legend();"
   ]
  },
  {
   "cell_type": "code",
   "execution_count": 128,
   "metadata": {},
   "outputs": [
    {
     "data": {
      "text/plain": [
       "-0.01573202690610831"
      ]
     },
     "execution_count": 128,
     "metadata": {},
     "output_type": "execute_result"
    }
   ],
   "source": [
    "pop_df['score'].mean() - elec_df['score'].mean()"
   ]
  },
  {
   "cell_type": "code",
   "execution_count": 129,
   "metadata": {},
   "outputs": [
    {
     "name": "stdout",
     "output_type": "stream",
     "text": [
      "T-Statistic: -0.36421091026425517\n",
      "P-Value: 0.7157164040794012\n"
     ]
    }
   ],
   "source": [
    "t_stat, p_val = ttest_ind(pop_df['score'],elec_df['score'])\n",
    "print(f\"T-Statistic: {t_stat}\\nP-Value: {p_val}\")"
   ]
  },
  {
   "cell_type": "markdown",
   "metadata": {},
   "source": [
    "#### Finding Appropriate Sample Size"
   ]
  },
  {
   "cell_type": "code",
   "execution_count": 130,
   "metadata": {},
   "outputs": [],
   "source": [
    "def sample_size_calc(var1, var2, moe=.5):\n",
    "    std_var1 = var1.std()\n",
    "    std_var2 = var2.std()\n",
    "    count_var1 = len(var1)\n",
    "    count_var2 = len(var2)\n",
    "\n",
    "    std_p = (( (count_var1-1) * (std_var1**2) ) + ( (count_var2-1) * (std_var2**2) )) / (count_var1 + count_var2 - 2)\n",
    "    return 2*( ((1.96 * std_p)/moe)**2 )"
   ]
  },
  {
   "cell_type": "code",
   "execution_count": 131,
   "metadata": {},
   "outputs": [
    {
     "data": {
      "text/plain": [
       "87.64595381733723"
      ]
     },
     "execution_count": 131,
     "metadata": {},
     "output_type": "execute_result"
    }
   ],
   "source": [
    "sample_size_calc(pop_df['score'],elec_df['score'])"
   ]
  },
  {
   "cell_type": "markdown",
   "metadata": {},
   "source": [
    "Appropriate sample size must be greater than 87.6"
   ]
  },
  {
   "cell_type": "code",
   "execution_count": 132,
   "metadata": {},
   "outputs": [],
   "source": [
    "samp_size = 90"
   ]
  },
  {
   "cell_type": "markdown",
   "metadata": {},
   "source": [
    "#### Bootstrap Check"
   ]
  },
  {
   "cell_type": "code",
   "execution_count": 133,
   "metadata": {},
   "outputs": [
    {
     "name": "stdout",
     "output_type": "stream",
     "text": [
      "Pop Sample Means Stdv:  0.12235965202812742\n",
      "Electric Sample Means Stdv:  0.14381891005319464\n",
      "Pop 2.5 Percentile:  6.674527777777778\n",
      "Pop 97.5 Percentile:  7.162444444444443\n",
      "Electronic 2.5 Percentile:  6.65936111111111\n",
      "Electronic 97.5 Percentile:  7.185833333333333\n"
     ]
    }
   ],
   "source": [
    "bootstrap_pop_sample = []\n",
    "bootstrap_elec_sample = []\n",
    "\n",
    "bootstrap_pop_sample_means = np.zeros(100)\n",
    "bootstrap_elec_sample_means = np.zeros(100)\n",
    "\n",
    "# boostrap_sample_means = np.zeros(1000)\n",
    "# boostrap_sample_95pcts = np.zeros(1000)\n",
    "\n",
    "for i in range(100):\n",
    "    bootstrap_pop_samp = np.random.choice(pop_df['score'], size=samp_size, replace=True)\n",
    "    bootstrap_elec_samp = np.random.choice(elec_df['score'], size=samp_size, replace=True)\n",
    "    \n",
    "    bootstrap_pop_sample.append(bootstrap_pop_samp)\n",
    "    bootstrap_elec_sample.append(bootstrap_elec_samp)\n",
    "    \n",
    "    bootstrap_pop_sample_means[i] = bootstrap_pop_samp.mean()\n",
    "    bootstrap_elec_sample_means[i] = bootstrap_elec_samp.mean()\n",
    "#     bootstrap_sample_95pct = np.percent(a=boostrap_sample, q=95)\n",
    "#     boostrap_sample_95pcts[i] = boostrap_sample_95pcts\n",
    "\n",
    "print('Pop Sample Means Stdv: ', bootstrap_pop_sample_means.std())\n",
    "print('Electric Sample Means Stdv: ', bootstrap_elec_sample_means.std())\n",
    "\n",
    "print('Pop 2.5 Percentile: ', np.percentile(a=bootstrap_pop_sample_means, q=2.5))\n",
    "print('Pop 97.5 Percentile: ', np.percentile(a=bootstrap_pop_sample_means, q=97.5))\n",
    "\n",
    "print('Electronic 2.5 Percentile: ', np.percentile(a=bootstrap_elec_sample_means, q=2.5))\n",
    "print('Electronic 97.5 Percentile: ', np.percentile(a=bootstrap_elec_sample_means, q=97.5))\n",
    "\n",
    "# pop.mean()"
   ]
  },
  {
   "cell_type": "markdown",
   "metadata": {},
   "source": [
    "#### Summary\n",
    "\n",
    "Through our exploration, we found there to be very little variability between the rating of the two genres. We found a p-value of .716, which far exceeds our threshold of .05, telling us that we must accept our null hypothesis that there is not a statistically significant difference between the rating of pop/R&B and electronic albums.\n",
    "\n",
    "In our further bootstrap test, sampling our data, we did not find significant variability in the performance of our two groups."
   ]
  },
  {
   "cell_type": "markdown",
   "metadata": {},
   "source": [
    "## Hypothesis Test #2\n",
    "* Null: There is no statistically significant difference between sel-released albums and ratings from all others.\n",
    "* Alternative: Self-released albums peform worse than those produced by record companies."
   ]
  },
  {
   "cell_type": "code",
   "execution_count": 134,
   "metadata": {},
   "outputs": [
    {
     "data": {
      "text/html": [
       "<div>\n",
       "<style scoped>\n",
       "    .dataframe tbody tr th:only-of-type {\n",
       "        vertical-align: middle;\n",
       "    }\n",
       "\n",
       "    .dataframe tbody tr th {\n",
       "        vertical-align: top;\n",
       "    }\n",
       "\n",
       "    .dataframe thead th {\n",
       "        text-align: right;\n",
       "    }\n",
       "</style>\n",
       "<table border=\"1\" class=\"dataframe\">\n",
       "  <thead>\n",
       "    <tr style=\"text-align: right;\">\n",
       "      <th></th>\n",
       "      <th>reviewid</th>\n",
       "      <th>label</th>\n",
       "      <th>label count</th>\n",
       "    </tr>\n",
       "  </thead>\n",
       "  <tbody>\n",
       "    <tr>\n",
       "      <th>0</th>\n",
       "      <td>22703</td>\n",
       "      <td>virgin</td>\n",
       "      <td>1</td>\n",
       "    </tr>\n",
       "    <tr>\n",
       "      <th>1</th>\n",
       "      <td>22721</td>\n",
       "      <td>hathenter</td>\n",
       "      <td>1</td>\n",
       "    </tr>\n",
       "    <tr>\n",
       "      <th>2</th>\n",
       "      <td>22659</td>\n",
       "      <td>static shock</td>\n",
       "      <td>2</td>\n",
       "    </tr>\n",
       "    <tr>\n",
       "      <th>3</th>\n",
       "      <td>22659</td>\n",
       "      <td>fashionable idiots</td>\n",
       "      <td>2</td>\n",
       "    </tr>\n",
       "    <tr>\n",
       "      <th>4</th>\n",
       "      <td>22661</td>\n",
       "      <td>kill rock stars</td>\n",
       "      <td>2</td>\n",
       "    </tr>\n",
       "  </tbody>\n",
       "</table>\n",
       "</div>"
      ],
      "text/plain": [
       "   reviewid               label  label count\n",
       "0     22703              virgin            1\n",
       "1     22721           hathenter            1\n",
       "2     22659        static shock            2\n",
       "3     22659  fashionable idiots            2\n",
       "4     22661     kill rock stars            2"
      ]
     },
     "execution_count": 134,
     "metadata": {},
     "output_type": "execute_result"
    }
   ],
   "source": [
    "multi_label = dict(labels_df['reviewid'].value_counts())\n",
    "labels_df['label count'] = labels_df['reviewid'].apply(lambda x: multi_label[x])\n",
    "labels_df.head()"
   ]
  },
  {
   "cell_type": "code",
   "execution_count": 135,
   "metadata": {},
   "outputs": [],
   "source": [
    "to_drop = labels_df[labels_df['label count'] > 1]\n",
    "label_solo_df = labels_df.drop(to_drop.index, axis=0)"
   ]
  },
  {
   "cell_type": "code",
   "execution_count": 136,
   "metadata": {},
   "outputs": [],
   "source": [
    "revlab_df = reviews_df.merge(label_solo_df, left_on='reviewid', right_on='reviewid')"
   ]
  },
  {
   "cell_type": "code",
   "execution_count": 137,
   "metadata": {},
   "outputs": [],
   "source": [
    "self_df = revlab_df[revlab_df['label'] == 'self-released']\n",
    "label_df = revlab_df[revlab_df['label'] != 'self-released']"
   ]
  },
  {
   "cell_type": "code",
   "execution_count": 138,
   "metadata": {},
   "outputs": [
    {
     "data": {
      "text/plain": [
       "<matplotlib.legend.Legend at 0x12003d470>"
      ]
     },
     "execution_count": 138,
     "metadata": {},
     "output_type": "execute_result"
    },
    {
     "data": {
      "image/png": "[encoded data removed]",
      "text/plain": [
       "<Figure size 792x432 with 1 Axes>"
      ]
     },
     "metadata": {
      "needs_background": "light"
     },
     "output_type": "display_data"
    }
   ],
   "source": [
    "plt.figure(figsize=(11,6))\n",
    "sns.distplot(self_df['score'], label='Self-released albums');\n",
    "sns.distplot(label_df['score'], label='Label released albums');\n",
    "plt.legend()"
   ]
  },
  {
   "cell_type": "code",
   "execution_count": 139,
   "metadata": {},
   "outputs": [
    {
     "data": {
      "text/plain": [
       "-0.09143086002903633"
      ]
     },
     "execution_count": 139,
     "metadata": {},
     "output_type": "execute_result"
    }
   ],
   "source": [
    "self_df['score'].mean() - label_df['score'].mean()"
   ]
  },
  {
   "cell_type": "code",
   "execution_count": 140,
   "metadata": {},
   "outputs": [
    {
     "name": "stdout",
     "output_type": "stream",
     "text": [
      "T-Statistic: -1.4400160399176198\n",
      "P-Value: 0.14988154041527244\n"
     ]
    }
   ],
   "source": [
    "t_stat, p_val = ttest_ind(self_df['score'],label_df['score'])\n",
    "print(f\"T-Statistic: {t_stat}\\nP-Value: {p_val}\")"
   ]
  },
  {
   "cell_type": "code",
   "execution_count": 141,
   "metadata": {},
   "outputs": [
    {
     "data": {
      "text/plain": [
       "82.96984976815433"
      ]
     },
     "execution_count": 141,
     "metadata": {},
     "output_type": "execute_result"
    }
   ],
   "source": [
    "sample_size_calc(self_df['score'],label_df['score'])"
   ]
  },
  {
   "cell_type": "markdown",
   "metadata": {},
   "source": [
    "## Hypothesis test (3?4?)\n",
    "* Null: In sampling the 500 worst and 500 best reviewed albums, there is no statistically significant difference in the genres each represents with regards to score. \n",
    "* Alternative: The 500 worst reviewed and 500 best reviewed albums have a statistically significant difference in the genres they have. "
   ]
  },
  {
   "cell_type": "markdown",
   "metadata": {},
   "source": [
    "### 500 Best Rated Albums"
   ]
  },
  {
   "cell_type": "code",
   "execution_count": 142,
   "metadata": {},
   "outputs": [
    {
     "data": {
      "text/html": [
       "<div>\n",
       "<style scoped>\n",
       "    .dataframe tbody tr th:only-of-type {\n",
       "        vertical-align: middle;\n",
       "    }\n",
       "\n",
       "    .dataframe tbody tr th {\n",
       "        vertical-align: top;\n",
       "    }\n",
       "\n",
       "    .dataframe thead th {\n",
       "        text-align: right;\n",
       "    }\n",
       "</style>\n",
       "<table border=\"1\" class=\"dataframe\">\n",
       "  <thead>\n",
       "    <tr style=\"text-align: right;\">\n",
       "      <th></th>\n",
       "      <th>reviewid</th>\n",
       "      <th>genre</th>\n",
       "      <th>electronic</th>\n",
       "      <th>experimental</th>\n",
       "      <th>folk/country</th>\n",
       "      <th>global</th>\n",
       "      <th>jazz</th>\n",
       "      <th>metal</th>\n",
       "      <th>pop/r&amp;b</th>\n",
       "      <th>rap</th>\n",
       "      <th>rock</th>\n",
       "      <th>score</th>\n",
       "      <th>author</th>\n",
       "      <th>author_type</th>\n",
       "    </tr>\n",
       "  </thead>\n",
       "  <tbody>\n",
       "    <tr>\n",
       "      <th>0</th>\n",
       "      <td>22703</td>\n",
       "      <td>electronic</td>\n",
       "      <td>1</td>\n",
       "      <td>0</td>\n",
       "      <td>0</td>\n",
       "      <td>0</td>\n",
       "      <td>0</td>\n",
       "      <td>0</td>\n",
       "      <td>0</td>\n",
       "      <td>0</td>\n",
       "      <td>0</td>\n",
       "      <td>9.3</td>\n",
       "      <td>nate patrin</td>\n",
       "      <td>contributor</td>\n",
       "    </tr>\n",
       "    <tr>\n",
       "      <th>1</th>\n",
       "      <td>22661</td>\n",
       "      <td>rock</td>\n",
       "      <td>0</td>\n",
       "      <td>0</td>\n",
       "      <td>0</td>\n",
       "      <td>0</td>\n",
       "      <td>0</td>\n",
       "      <td>0</td>\n",
       "      <td>0</td>\n",
       "      <td>0</td>\n",
       "      <td>1</td>\n",
       "      <td>9.0</td>\n",
       "      <td>jenn pelly</td>\n",
       "      <td>associate reviews editor</td>\n",
       "    </tr>\n",
       "    <tr>\n",
       "      <th>2</th>\n",
       "      <td>22707</td>\n",
       "      <td>jazz</td>\n",
       "      <td>0</td>\n",
       "      <td>0</td>\n",
       "      <td>0</td>\n",
       "      <td>0</td>\n",
       "      <td>1</td>\n",
       "      <td>0</td>\n",
       "      <td>0</td>\n",
       "      <td>0</td>\n",
       "      <td>0</td>\n",
       "      <td>9.0</td>\n",
       "      <td>seth colter-walls</td>\n",
       "      <td>contributor</td>\n",
       "    </tr>\n",
       "    <tr>\n",
       "      <th>3</th>\n",
       "      <td>22643</td>\n",
       "      <td>rock</td>\n",
       "      <td>0</td>\n",
       "      <td>0</td>\n",
       "      <td>0</td>\n",
       "      <td>0</td>\n",
       "      <td>0</td>\n",
       "      <td>0</td>\n",
       "      <td>0</td>\n",
       "      <td>0</td>\n",
       "      <td>1</td>\n",
       "      <td>9.3</td>\n",
       "      <td>jesse jarnow</td>\n",
       "      <td>contributor</td>\n",
       "    </tr>\n",
       "    <tr>\n",
       "      <th>4</th>\n",
       "      <td>22555</td>\n",
       "      <td>electronic</td>\n",
       "      <td>1</td>\n",
       "      <td>0</td>\n",
       "      <td>0</td>\n",
       "      <td>0</td>\n",
       "      <td>0</td>\n",
       "      <td>0</td>\n",
       "      <td>0</td>\n",
       "      <td>0</td>\n",
       "      <td>0</td>\n",
       "      <td>9.5</td>\n",
       "      <td>andy beta</td>\n",
       "      <td>contributor</td>\n",
       "    </tr>\n",
       "  </tbody>\n",
       "</table>\n",
       "</div>"
      ],
      "text/plain": [
       "   reviewid       genre  electronic  experimental  folk/country  global  jazz  \\\n",
       "0     22703  electronic           1             0             0       0     0   \n",
       "1     22661        rock           0             0             0       0     0   \n",
       "2     22707        jazz           0             0             0       0     1   \n",
       "3     22643        rock           0             0             0       0     0   \n",
       "4     22555  electronic           1             0             0       0     0   \n",
       "\n",
       "   metal  pop/r&b  rap  rock  score             author  \\\n",
       "0      0        0    0     0    9.3        nate patrin   \n",
       "1      0        0    0     1    9.0         jenn pelly   \n",
       "2      0        0    0     0    9.0  seth colter-walls   \n",
       "3      0        0    0     1    9.3       jesse jarnow   \n",
       "4      0        0    0     0    9.5          andy beta   \n",
       "\n",
       "                author_type  \n",
       "0               contributor  \n",
       "1  associate reviews editor  \n",
       "2               contributor  \n",
       "3               contributor  \n",
       "4               contributor  "
      ]
     },
     "execution_count": 142,
     "metadata": {},
     "output_type": "execute_result"
    }
   ],
   "source": [
    "query = \"\"\"\n",
    "SELECT \n",
    "    reviewid\n",
    ",   score\n",
    ",   author\n",
    ",   author_type\n",
    "FROM \n",
    "    reviews\n",
    "ORDER BY \n",
    "    score DESC\n",
    "LIMIT 500;\n",
    "\"\"\"\n",
    "\n",
    "cur = conn.cursor()\n",
    "cur.execute(query)\n",
    "names = [description[0] for description in cur.description]\n",
    "best_100 = pd.DataFrame(cur.fetchall(),columns=names)\n",
    "best_wgenres = genres_hot_df.merge(best_100, on='reviewid')\n",
    "best_wgenres.head()"
   ]
  },
  {
   "cell_type": "markdown",
   "metadata": {},
   "source": [
    "### 500 Worst Rated Albums"
   ]
  },
  {
   "cell_type": "code",
   "execution_count": 143,
   "metadata": {},
   "outputs": [
    {
     "data": {
      "text/html": [
       "<div>\n",
       "<style scoped>\n",
       "    .dataframe tbody tr th:only-of-type {\n",
       "        vertical-align: middle;\n",
       "    }\n",
       "\n",
       "    .dataframe tbody tr th {\n",
       "        vertical-align: top;\n",
       "    }\n",
       "\n",
       "    .dataframe thead th {\n",
       "        text-align: right;\n",
       "    }\n",
       "</style>\n",
       "<table border=\"1\" class=\"dataframe\">\n",
       "  <thead>\n",
       "    <tr style=\"text-align: right;\">\n",
       "      <th></th>\n",
       "      <th>reviewid</th>\n",
       "      <th>genre</th>\n",
       "      <th>electronic</th>\n",
       "      <th>experimental</th>\n",
       "      <th>folk/country</th>\n",
       "      <th>global</th>\n",
       "      <th>jazz</th>\n",
       "      <th>metal</th>\n",
       "      <th>pop/r&amp;b</th>\n",
       "      <th>rap</th>\n",
       "      <th>rock</th>\n",
       "      <th>score</th>\n",
       "      <th>author</th>\n",
       "      <th>author_type</th>\n",
       "    </tr>\n",
       "  </thead>\n",
       "  <tbody>\n",
       "    <tr>\n",
       "      <th>0</th>\n",
       "      <td>22720</td>\n",
       "      <td>rap</td>\n",
       "      <td>0</td>\n",
       "      <td>0</td>\n",
       "      <td>0</td>\n",
       "      <td>0</td>\n",
       "      <td>0</td>\n",
       "      <td>0</td>\n",
       "      <td>0</td>\n",
       "      <td>1</td>\n",
       "      <td>0</td>\n",
       "      <td>3.5</td>\n",
       "      <td>marcus j. moore</td>\n",
       "      <td>contributor</td>\n",
       "    </tr>\n",
       "    <tr>\n",
       "      <th>1</th>\n",
       "      <td>22589</td>\n",
       "      <td>electronic</td>\n",
       "      <td>1</td>\n",
       "      <td>0</td>\n",
       "      <td>0</td>\n",
       "      <td>0</td>\n",
       "      <td>0</td>\n",
       "      <td>0</td>\n",
       "      <td>0</td>\n",
       "      <td>0</td>\n",
       "      <td>0</td>\n",
       "      <td>3.5</td>\n",
       "      <td>kevin lozano</td>\n",
       "      <td>tracks coordinator</td>\n",
       "    </tr>\n",
       "    <tr>\n",
       "      <th>2</th>\n",
       "      <td>22319</td>\n",
       "      <td>rock</td>\n",
       "      <td>0</td>\n",
       "      <td>0</td>\n",
       "      <td>0</td>\n",
       "      <td>0</td>\n",
       "      <td>0</td>\n",
       "      <td>0</td>\n",
       "      <td>0</td>\n",
       "      <td>0</td>\n",
       "      <td>1</td>\n",
       "      <td>2.0</td>\n",
       "      <td>ian cohen</td>\n",
       "      <td>contributor</td>\n",
       "    </tr>\n",
       "    <tr>\n",
       "      <th>3</th>\n",
       "      <td>22319</td>\n",
       "      <td>rap</td>\n",
       "      <td>0</td>\n",
       "      <td>0</td>\n",
       "      <td>0</td>\n",
       "      <td>0</td>\n",
       "      <td>0</td>\n",
       "      <td>0</td>\n",
       "      <td>0</td>\n",
       "      <td>1</td>\n",
       "      <td>0</td>\n",
       "      <td>2.0</td>\n",
       "      <td>ian cohen</td>\n",
       "      <td>contributor</td>\n",
       "    </tr>\n",
       "    <tr>\n",
       "      <th>4</th>\n",
       "      <td>22143</td>\n",
       "      <td>electronic</td>\n",
       "      <td>1</td>\n",
       "      <td>0</td>\n",
       "      <td>0</td>\n",
       "      <td>0</td>\n",
       "      <td>0</td>\n",
       "      <td>0</td>\n",
       "      <td>0</td>\n",
       "      <td>0</td>\n",
       "      <td>0</td>\n",
       "      <td>2.5</td>\n",
       "      <td>stacey anderson</td>\n",
       "      <td>associate features editor</td>\n",
       "    </tr>\n",
       "  </tbody>\n",
       "</table>\n",
       "</div>"
      ],
      "text/plain": [
       "   reviewid       genre  electronic  experimental  folk/country  global  jazz  \\\n",
       "0     22720         rap           0             0             0       0     0   \n",
       "1     22589  electronic           1             0             0       0     0   \n",
       "2     22319        rock           0             0             0       0     0   \n",
       "3     22319         rap           0             0             0       0     0   \n",
       "4     22143  electronic           1             0             0       0     0   \n",
       "\n",
       "   metal  pop/r&b  rap  rock  score           author  \\\n",
       "0      0        0    1     0    3.5  marcus j. moore   \n",
       "1      0        0    0     0    3.5     kevin lozano   \n",
       "2      0        0    0     1    2.0        ian cohen   \n",
       "3      0        0    1     0    2.0        ian cohen   \n",
       "4      0        0    0     0    2.5  stacey anderson   \n",
       "\n",
       "                 author_type  \n",
       "0                contributor  \n",
       "1         tracks coordinator  \n",
       "2                contributor  \n",
       "3                contributor  \n",
       "4  associate features editor  "
      ]
     },
     "execution_count": 143,
     "metadata": {},
     "output_type": "execute_result"
    }
   ],
   "source": [
    "query = \"\"\"\n",
    "SELECT \n",
    "    reviewid\n",
    ",   score\n",
    ",   author\n",
    ",   author_type\n",
    "FROM \n",
    "    reviews\n",
    "ORDER BY \n",
    "    score ASC\n",
    "LIMIT 500;\n",
    "\"\"\"\n",
    "\n",
    "cur = conn.cursor()\n",
    "cur.execute(query)\n",
    "names = [description[0] for description in cur.description]\n",
    "worst_100 = pd.DataFrame(cur.fetchall(),columns=names)\n",
    "worst_wgenres = genres_hot_df.merge(worst_100, on='reviewid')\n",
    "worst_wgenres.head()"
   ]
  },
  {
   "cell_type": "code",
   "execution_count": 144,
   "metadata": {},
   "outputs": [],
   "source": [
    "# Creating binary genre columns\n",
    "genres = ['rock', 'electronic', 'pop/r&b', 'rap', 'metal', 'experimental', 'jazz', 'folk/country', 'global']\n",
    "\n",
    "for genre in genres:\n",
    "    best_wgenres[genre] = best_wgenres['genre'].apply(lambda x: 1 if x == genre else 0)\n",
    "    worst_wgenres[genre] = worst_wgenres['genre'].apply(lambda x: 1 if x == genre else 0)\n",
    "    "
   ]
  },
  {
   "cell_type": "code",
   "execution_count": 145,
   "metadata": {},
   "outputs": [],
   "source": [
    "# Correcting column names for use in ANOVA test\n",
    "best_wgenres.rename(columns={'pop/r&b': 'pop_rb', 'folk/country': 'folk_country'}, inplace=True)\n",
    "worst_wgenres.rename(columns={'pop/r&b': 'pop_rb', 'folk/country': 'folk_country'}, inplace=True)"
   ]
  },
  {
   "cell_type": "markdown",
   "metadata": {},
   "source": [
    "### Creating ANOVA table with Best rated songs to look for styles that perform the best"
   ]
  },
  {
   "cell_type": "code",
   "execution_count": 146,
   "metadata": {},
   "outputs": [
    {
     "name": "stdout",
     "output_type": "stream",
     "text": [
      "                    sum_sq     df          F    PR(>F)\n",
      "C(rock)           0.407402    1.0   3.708124  0.054633\n",
      "C(electronic)     0.018879    1.0   0.171834  0.678639\n",
      "C(rap)            0.544781    1.0   4.958531  0.026342\n",
      "C(metal)          0.062107    1.0   0.565292  0.452438\n",
      "C(experimental)   0.019272    1.0   0.175411  0.675500\n",
      "C(jazz)           0.157476    1.0   1.433328  0.231707\n",
      "C(pop_rb)         1.148879    1.0  10.456954  0.001291\n",
      "C(folk_country)   0.019713    1.0   0.179424  0.672025\n",
      "Residual         64.272491  585.0        NaN       NaN\n"
     ]
    }
   ],
   "source": [
    "formula = \"\"\"score ~ C(rock) + C(electronic) + C(rap) + C(metal) \n",
    "            + C(experimental) +C(jazz) + C(pop_rb) + C(folk_country)\"\"\"\n",
    "lm = ols(formula, best_wgenres).fit()\n",
    "table = sm.stats.anova_lm(lm, typ=2)\n",
    "print(table)"
   ]
  },
  {
   "cell_type": "markdown",
   "metadata": {},
   "source": [
    "### Creating ANOVA tables for Worst rated songs:"
   ]
  },
  {
   "cell_type": "code",
   "execution_count": 147,
   "metadata": {},
   "outputs": [
    {
     "name": "stdout",
     "output_type": "stream",
     "text": [
      "                     sum_sq     df         F    PR(>F)\n",
      "C(rock)            0.172404    1.0  0.225969  0.634690\n",
      "C(electronic)      1.091531    1.0  1.430664  0.232096\n",
      "C(rap)             0.101879    1.0  0.133532  0.714918\n",
      "C(metal)           0.023072    1.0  0.030241  0.862000\n",
      "C(experimental)    0.146514    1.0  0.192035  0.661375\n",
      "C(jazz)            0.686205    1.0  0.899406  0.343297\n",
      "C(pop_rb)          0.126617    1.0  0.165956  0.683867\n",
      "C(folk_country)    0.556711    1.0  0.729678  0.393305\n",
      "Residual         491.342202  644.0       NaN       NaN\n"
     ]
    }
   ],
   "source": [
    "formula = \"\"\"score ~ C(rock) + C(electronic) + C(rap) + C(metal) \n",
    "            + C(experimental) +C(jazz) + C(pop_rb) + C(folk_country)\"\"\"\n",
    "lm = ols(formula, worst_wgenres).fit()\n",
    "table = sm.stats.anova_lm(lm, typ=2)\n",
    "print(table)"
   ]
  },
  {
   "cell_type": "markdown",
   "metadata": {},
   "source": [
    "### Creating ANOVA table for Best reviews by author type:"
   ]
  },
  {
   "cell_type": "code",
   "execution_count": 148,
   "metadata": {},
   "outputs": [
    {
     "data": {
      "text/plain": [
       "{'contributor': 'contributor',\n",
       " 'executive editor': 'executive_editor',\n",
       " 'senior editor': 'senior_editor',\n",
       " 'editor-in-chief': 'editor-in-chief',\n",
       " 'contributing editor': 'contributing_editor',\n",
       " 'associate reviews editor': 'associate_reviews_editor',\n",
       " 'senior staff writer': 'senior_staff_writer',\n",
       " 'deputy news editor': 'deputy_news_editor'}"
      ]
     },
     "execution_count": 148,
     "metadata": {},
     "output_type": "execute_result"
    }
   ],
   "source": [
    "# Create reviewer types\n",
    "reviewer = list(best_wgenres['author_type'].value_counts().index)\n",
    "\n",
    "rev_names = {}\n",
    "for r in reviewer:\n",
    "    rev_names[r] = r.replace(\" \",\"_\")\n",
    "rev_names"
   ]
  },
  {
   "cell_type": "code",
   "execution_count": 149,
   "metadata": {},
   "outputs": [],
   "source": [
    "for old, new in rev_names.items():\n",
    "    best_wgenres[new] = best_wgenres['author_type'].apply(lambda x: 1 if x == old else 0)\n",
    "    worst_wgenres[new] = worst_wgenres['author_type'].apply(lambda x: 1 if x == old else 0)"
   ]
  },
  {
   "cell_type": "code",
   "execution_count": 150,
   "metadata": {},
   "outputs": [
    {
     "data": {
      "text/html": [
       "<div>\n",
       "<style scoped>\n",
       "    .dataframe tbody tr th:only-of-type {\n",
       "        vertical-align: middle;\n",
       "    }\n",
       "\n",
       "    .dataframe tbody tr th {\n",
       "        vertical-align: top;\n",
       "    }\n",
       "\n",
       "    .dataframe thead th {\n",
       "        text-align: right;\n",
       "    }\n",
       "</style>\n",
       "<table border=\"1\" class=\"dataframe\">\n",
       "  <thead>\n",
       "    <tr style=\"text-align: right;\">\n",
       "      <th></th>\n",
       "      <th>reviewid</th>\n",
       "      <th>genre</th>\n",
       "      <th>electronic</th>\n",
       "      <th>experimental</th>\n",
       "      <th>folk_country</th>\n",
       "      <th>global</th>\n",
       "      <th>jazz</th>\n",
       "      <th>metal</th>\n",
       "      <th>pop_rb</th>\n",
       "      <th>rap</th>\n",
       "      <th>...</th>\n",
       "      <th>author</th>\n",
       "      <th>author_type</th>\n",
       "      <th>contributor</th>\n",
       "      <th>executive_editor</th>\n",
       "      <th>senior_editor</th>\n",
       "      <th>ec</th>\n",
       "      <th>contributing_editor</th>\n",
       "      <th>associate_reviews_editor</th>\n",
       "      <th>senior_staff_writer</th>\n",
       "      <th>deputy_news_editor</th>\n",
       "    </tr>\n",
       "  </thead>\n",
       "  <tbody>\n",
       "    <tr>\n",
       "      <th>0</th>\n",
       "      <td>22720</td>\n",
       "      <td>rap</td>\n",
       "      <td>0</td>\n",
       "      <td>0</td>\n",
       "      <td>0</td>\n",
       "      <td>0</td>\n",
       "      <td>0</td>\n",
       "      <td>0</td>\n",
       "      <td>0</td>\n",
       "      <td>1</td>\n",
       "      <td>...</td>\n",
       "      <td>marcus j. moore</td>\n",
       "      <td>contributor</td>\n",
       "      <td>1</td>\n",
       "      <td>0</td>\n",
       "      <td>0</td>\n",
       "      <td>0</td>\n",
       "      <td>0</td>\n",
       "      <td>0</td>\n",
       "      <td>0</td>\n",
       "      <td>0</td>\n",
       "    </tr>\n",
       "    <tr>\n",
       "      <th>1</th>\n",
       "      <td>22589</td>\n",
       "      <td>electronic</td>\n",
       "      <td>1</td>\n",
       "      <td>0</td>\n",
       "      <td>0</td>\n",
       "      <td>0</td>\n",
       "      <td>0</td>\n",
       "      <td>0</td>\n",
       "      <td>0</td>\n",
       "      <td>0</td>\n",
       "      <td>...</td>\n",
       "      <td>kevin lozano</td>\n",
       "      <td>tracks coordinator</td>\n",
       "      <td>0</td>\n",
       "      <td>0</td>\n",
       "      <td>0</td>\n",
       "      <td>0</td>\n",
       "      <td>0</td>\n",
       "      <td>0</td>\n",
       "      <td>0</td>\n",
       "      <td>0</td>\n",
       "    </tr>\n",
       "    <tr>\n",
       "      <th>2</th>\n",
       "      <td>22319</td>\n",
       "      <td>rock</td>\n",
       "      <td>0</td>\n",
       "      <td>0</td>\n",
       "      <td>0</td>\n",
       "      <td>0</td>\n",
       "      <td>0</td>\n",
       "      <td>0</td>\n",
       "      <td>0</td>\n",
       "      <td>0</td>\n",
       "      <td>...</td>\n",
       "      <td>ian cohen</td>\n",
       "      <td>contributor</td>\n",
       "      <td>1</td>\n",
       "      <td>0</td>\n",
       "      <td>0</td>\n",
       "      <td>0</td>\n",
       "      <td>0</td>\n",
       "      <td>0</td>\n",
       "      <td>0</td>\n",
       "      <td>0</td>\n",
       "    </tr>\n",
       "    <tr>\n",
       "      <th>3</th>\n",
       "      <td>22319</td>\n",
       "      <td>rap</td>\n",
       "      <td>0</td>\n",
       "      <td>0</td>\n",
       "      <td>0</td>\n",
       "      <td>0</td>\n",
       "      <td>0</td>\n",
       "      <td>0</td>\n",
       "      <td>0</td>\n",
       "      <td>1</td>\n",
       "      <td>...</td>\n",
       "      <td>ian cohen</td>\n",
       "      <td>contributor</td>\n",
       "      <td>1</td>\n",
       "      <td>0</td>\n",
       "      <td>0</td>\n",
       "      <td>0</td>\n",
       "      <td>0</td>\n",
       "      <td>0</td>\n",
       "      <td>0</td>\n",
       "      <td>0</td>\n",
       "    </tr>\n",
       "    <tr>\n",
       "      <th>4</th>\n",
       "      <td>22143</td>\n",
       "      <td>electronic</td>\n",
       "      <td>1</td>\n",
       "      <td>0</td>\n",
       "      <td>0</td>\n",
       "      <td>0</td>\n",
       "      <td>0</td>\n",
       "      <td>0</td>\n",
       "      <td>0</td>\n",
       "      <td>0</td>\n",
       "      <td>...</td>\n",
       "      <td>stacey anderson</td>\n",
       "      <td>associate features editor</td>\n",
       "      <td>0</td>\n",
       "      <td>0</td>\n",
       "      <td>0</td>\n",
       "      <td>0</td>\n",
       "      <td>0</td>\n",
       "      <td>0</td>\n",
       "      <td>0</td>\n",
       "      <td>0</td>\n",
       "    </tr>\n",
       "  </tbody>\n",
       "</table>\n",
       "<p>5 rows × 22 columns</p>\n",
       "</div>"
      ],
      "text/plain": [
       "   reviewid       genre  electronic  experimental  folk_country  global  jazz  \\\n",
       "0     22720         rap           0             0             0       0     0   \n",
       "1     22589  electronic           1             0             0       0     0   \n",
       "2     22319        rock           0             0             0       0     0   \n",
       "3     22319         rap           0             0             0       0     0   \n",
       "4     22143  electronic           1             0             0       0     0   \n",
       "\n",
       "   metal  pop_rb  rap         ...                   author  \\\n",
       "0      0       0    1         ...          marcus j. moore   \n",
       "1      0       0    0         ...             kevin lozano   \n",
       "2      0       0    0         ...                ian cohen   \n",
       "3      0       0    1         ...                ian cohen   \n",
       "4      0       0    0         ...          stacey anderson   \n",
       "\n",
       "                 author_type contributor executive_editor  senior_editor  ec  \\\n",
       "0                contributor           1                0              0   0   \n",
       "1         tracks coordinator           0                0              0   0   \n",
       "2                contributor           1                0              0   0   \n",
       "3                contributor           1                0              0   0   \n",
       "4  associate features editor           0                0              0   0   \n",
       "\n",
       "   contributing_editor  associate_reviews_editor  senior_staff_writer  \\\n",
       "0                    0                         0                    0   \n",
       "1                    0                         0                    0   \n",
       "2                    0                         0                    0   \n",
       "3                    0                         0                    0   \n",
       "4                    0                         0                    0   \n",
       "\n",
       "   deputy_news_editor  \n",
       "0                   0  \n",
       "1                   0  \n",
       "2                   0  \n",
       "3                   0  \n",
       "4                   0  \n",
       "\n",
       "[5 rows x 22 columns]"
      ]
     },
     "execution_count": 150,
     "metadata": {},
     "output_type": "execute_result"
    }
   ],
   "source": [
    "best_wgenres.rename(columns={'editor-in-chief':'ec'}, inplace=True)\n",
    "worst_wgenres.rename(columns={'editor-in-chief':'ec'}, inplace=True)\n",
    "worst_wgenres.head()"
   ]
  },
  {
   "cell_type": "markdown",
   "metadata": {},
   "source": [
    "### ANOVA Table for author type by review score: Best scores"
   ]
  },
  {
   "cell_type": "code",
   "execution_count": 151,
   "metadata": {},
   "outputs": [
    {
     "name": "stdout",
     "output_type": "stream",
     "text": [
      "                                sum_sq     df         F    PR(>F)\n",
      "C(contributor)                0.099847    1.0  0.895279  0.344441\n",
      "C(executive_editor)           0.632875    1.0  5.674655  0.017530\n",
      "C(senior_editor)              0.080004    1.0  0.717355  0.397359\n",
      "C(ec)                         0.200698    1.0  1.799553  0.180287\n",
      "C(contributing_editor)        0.066484    1.0  0.596123  0.440373\n",
      "C(associate_reviews_editor)   0.277094    1.0  2.484554  0.115510\n",
      "C(senior_staff_writer)        0.099482    1.0  0.892007  0.345324\n",
      "C(deputy_news_editor)         0.047042    1.0  0.421799  0.516296\n",
      "Residual                     65.243010  585.0       NaN       NaN\n"
     ]
    }
   ],
   "source": [
    "formula = \"\"\"score ~ C(contributor) + C(executive_editor) + C(senior_editor) \n",
    "            + C(ec) + C(contributing_editor) + C(associate_reviews_editor) \n",
    "            + C(senior_staff_writer) + C(deputy_news_editor)\"\"\"\n",
    "lm = ols(formula, best_wgenres).fit()\n",
    "table = sm.stats.anova_lm(lm, typ=2)\n",
    "print(table)"
   ]
  },
  {
   "cell_type": "code",
   "execution_count": 152,
   "metadata": {},
   "outputs": [
    {
     "data": {
      "text/plain": [
       "<matplotlib.axes._subplots.AxesSubplot at 0x11d188208>"
      ]
     },
     "execution_count": 152,
     "metadata": {},
     "output_type": "execute_result"
    },
    {
     "data": {
      "image/png": "[encoded data removed]",
      "text/plain": [
       "<Figure size 432x288 with 1 Axes>"
      ]
     },
     "metadata": {
      "needs_background": "light"
     },
     "output_type": "display_data"
    }
   ],
   "source": [
    "# Looking at scoring for the one Executive Editor - Mark Richardson\n",
    "mark_richardson = reviews_df[reviews_df['author_type'] == 'executive editor'].copy()\n",
    "sns.distplot(mark_richardson['score'], kde=False)"
   ]
  },
  {
   "cell_type": "markdown",
   "metadata": {},
   "source": [
    "### ANOVA Table for author type by review score: Worst scores"
   ]
  },
  {
   "cell_type": "code",
   "execution_count": 153,
   "metadata": {},
   "outputs": [
    {
     "name": "stdout",
     "output_type": "stream",
     "text": [
      "                            sum_sq     df         F    PR(>F)\n",
      "C(contributor)            0.207015    1.0  0.273110  0.601432\n",
      "C(executive_editor)       0.398292    1.0  0.525460  0.468784\n",
      "C(senior_editor)          0.463840    1.0  0.611935  0.434346\n",
      "C(ec)                     2.182150    1.0  2.878869  0.090230\n",
      "C(senior_staff_writer)    0.470435    1.0  0.620636  0.431099\n",
      "Residual                490.418612  647.0       NaN       NaN\n"
     ]
    }
   ],
   "source": [
    "formula = \"\"\"score ~ C(contributor) + C(executive_editor) + C(senior_editor) \n",
    "            + C(ec) + C(senior_staff_writer)\"\"\"\n",
    "worst = ols(formula, worst_wgenres).fit()\n",
    "table = sm.stats.anova_lm(worst, typ=2)\n",
    "print(table)"
   ]
  },
  {
   "cell_type": "code",
   "execution_count": null,
   "metadata": {},
   "outputs": [],
   "source": []
  }
 ],
 "metadata": {
  "kernelspec": {
   "display_name": "Python 3",
   "language": "python",
   "name": "python3"
  },
  "language_info": {
   "codemirror_mode": {
    "name": "ipython",
    "version": 3
   },
   "file_extension": ".py",
   "mimetype": "text/x-python",
   "name": "python",
   "nbconvert_exporter": "python",
   "pygments_lexer": "ipython3",
   "version": "3.6.6"
  }
 },
 "nbformat": 4,
 "nbformat_minor": 2
}
