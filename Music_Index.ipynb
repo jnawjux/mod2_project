{
 "cells": [
  {
   "cell_type": "markdown",
   "metadata": {},
   "source": [
    "## Loading Dataset"
   ]
  },
  {
   "cell_type": "code",
   "execution_count": 1,
   "metadata": {},
   "outputs": [],
   "source": [
    "import psycopg2\n",
    "import pandas as pd\n",
    "import numpy as np\n",
    "import seaborn as sns\n",
    "from  scipy.stats import ttest_ind\n",
    "import matplotlib.pyplot as plt\n",
    "import statsmodels.api as sm\n",
    "from itertools import combinations\n",
    "from statsmodels.formula.api import ols\n",
    "from pitchfork_functions import query_to_df, sample_size_calc, bootstrap_mean_stats, two_sample_ttest_stats\n",
    "%matplotlib inline\n",
    "conn = psycopg2.connect(\"dbname=musicdatabase\")\n",
    "cur = conn.cursor()"
   ]
  },
  {
   "cell_type": "markdown",
   "metadata": {},
   "source": [
    "#### Loading SQLite into PostGreSQL:\n",
    "Our original source file was a sqlite file which we wanted to load into PostGreSQL to be able to work safely locally and not rely on the original file.  We did so through the command line with the help of pgloader.  The steps we took were:\n",
    "* Installing pgloader:  \n",
    "    ```brew install pgloader```\n",
    "* Creating our local database:  \n",
    "    ```CREATEDB msuicdatabase```\n",
    "* Executing pgloader:  \n",
    "   ```pgloader music.sqlite postgresql:///musicdatabase```"
   ]
  },
  {
   "cell_type": "markdown",
   "metadata": {},
   "source": [
    "## Creating DataFrames"
   ]
  },
  {
   "cell_type": "code",
   "execution_count": 2,
   "metadata": {},
   "outputs": [],
   "source": [
    "# Genre table\n",
    "genres_df = query_to_df(\"SELECT * FROM genres\")\n",
    "\n",
    "# Artists table\n",
    "artists_df = query_to_df(\"SELECT * FROM artists\")\n",
    "\n",
    "# Content table\n",
    "content_df = query_to_df(\"SELECT * FROM content\")\n",
    "\n",
    "# Labels table\n",
    "labels_df = query_to_df(\"SELECT * FROM labels\")\n",
    "\n",
    "# Reviews table\n",
    "reviews_df = query_to_df(\"SELECT * FROM reviews\")\n",
    "\n",
    "#Years table\n",
    "years_df = query_to_df(\"SELECT * FROM years\")"
   ]
  },
  {
   "cell_type": "markdown",
   "metadata": {},
   "source": [
    "## Exploring the Data"
   ]
  },
  {
   "cell_type": "code",
   "execution_count": 3,
   "metadata": {},
   "outputs": [
    {
     "name": "stdout",
     "output_type": "stream",
     "text": [
      "genre df length:  22680\n",
      "artists df length:  18831\n",
      "content df length:  18393\n",
      "labels df length:  20190\n",
      "reviews df length:  18393\n",
      "years df length:  19108\n"
     ]
    }
   ],
   "source": [
    "print('genre df length: ', len(genres_df))\n",
    "print('artists df length: ', len(artists_df))\n",
    "print('content df length: ', len(content_df))\n",
    "print('labels df length: ', len(labels_df))\n",
    "print('reviews df length: ', len(reviews_df))\n",
    "print('years df length: ', len(years_df))"
   ]
  },
  {
   "cell_type": "code",
   "execution_count": 4,
   "metadata": {},
   "outputs": [
    {
     "name": "stdout",
     "output_type": "stream",
     "text": [
      "<class 'pandas.core.frame.DataFrame'>\n",
      "RangeIndex: 18393 entries, 0 to 18392\n",
      "Data columns (total 13 columns):\n",
      "reviewid          18393 non-null int64\n",
      "title             18393 non-null object\n",
      "artist            18393 non-null object\n",
      "url               18393 non-null object\n",
      "score             18393 non-null float64\n",
      "best_new_music    18393 non-null int64\n",
      "author            18393 non-null object\n",
      "author_type       14487 non-null object\n",
      "pub_date          18393 non-null object\n",
      "pub_weekday       18393 non-null int64\n",
      "pub_day           18393 non-null int64\n",
      "pub_month         18393 non-null int64\n",
      "pub_year          18393 non-null int64\n",
      "dtypes: float64(1), int64(6), object(6)\n",
      "memory usage: 1.8+ MB\n"
     ]
    }
   ],
   "source": [
    "reviews_df.info()"
   ]
  },
  {
   "cell_type": "code",
   "execution_count": 5,
   "metadata": {},
   "outputs": [
    {
     "data": {
      "text/plain": [
       "reviewid             0\n",
       "title                0\n",
       "artist               0\n",
       "url                  0\n",
       "score                0\n",
       "best_new_music       0\n",
       "author               0\n",
       "author_type       3906\n",
       "pub_date             0\n",
       "pub_weekday          0\n",
       "pub_day              0\n",
       "pub_month            0\n",
       "pub_year             0\n",
       "dtype: int64"
      ]
     },
     "execution_count": 5,
     "metadata": {},
     "output_type": "execute_result"
    }
   ],
   "source": [
    "reviews_df.isna().sum()\n",
    "#no NANs in column 1.. however 2367 in column 2"
   ]
  },
  {
   "cell_type": "markdown",
   "metadata": {},
   "source": [
    "## Seeing Which Tables Have Multiple Rows Per Song"
   ]
  },
  {
   "cell_type": "code",
   "execution_count": 6,
   "metadata": {},
   "outputs": [
    {
     "data": {
      "text/html": [
       "<div>\n",
       "<style scoped>\n",
       "    .dataframe tbody tr th:only-of-type {\n",
       "        vertical-align: middle;\n",
       "    }\n",
       "\n",
       "    .dataframe tbody tr th {\n",
       "        vertical-align: top;\n",
       "    }\n",
       "\n",
       "    .dataframe thead th {\n",
       "        text-align: right;\n",
       "    }\n",
       "</style>\n",
       "<table border=\"1\" class=\"dataframe\">\n",
       "  <thead>\n",
       "    <tr style=\"text-align: right;\">\n",
       "      <th></th>\n",
       "      <th>reviewid</th>\n",
       "      <th>label</th>\n",
       "    </tr>\n",
       "  </thead>\n",
       "  <tbody>\n",
       "    <tr>\n",
       "      <th>14612</th>\n",
       "      <td>2626</td>\n",
       "      <td>cleopatra</td>\n",
       "    </tr>\n",
       "    <tr>\n",
       "      <th>14613</th>\n",
       "      <td>2626</td>\n",
       "      <td>alternative tentacles</td>\n",
       "    </tr>\n",
       "    <tr>\n",
       "      <th>14614</th>\n",
       "      <td>2626</td>\n",
       "      <td>manifesto</td>\n",
       "    </tr>\n",
       "    <tr>\n",
       "      <th>14615</th>\n",
       "      <td>2626</td>\n",
       "      <td>cherry red</td>\n",
       "    </tr>\n",
       "    <tr>\n",
       "      <th>14616</th>\n",
       "      <td>2626</td>\n",
       "      <td>irs</td>\n",
       "    </tr>\n",
       "  </tbody>\n",
       "</table>\n",
       "</div>"
      ],
      "text/plain": [
       "       reviewid                  label\n",
       "14612      2626              cleopatra\n",
       "14613      2626  alternative tentacles\n",
       "14614      2626              manifesto\n",
       "14615      2626             cherry red\n",
       "14616      2626                    irs"
      ]
     },
     "execution_count": 6,
     "metadata": {},
     "output_type": "execute_result"
    }
   ],
   "source": [
    "labels_df.loc[labels_df['reviewid'] == 2626]\n",
    "#example, song 6523 has 4 artists"
   ]
  },
  {
   "cell_type": "markdown",
   "metadata": {},
   "source": [
    "In researching our data, we found that many tables had multiple genres and labels per album."
   ]
  },
  {
   "cell_type": "code",
   "execution_count": 7,
   "metadata": {},
   "outputs": [
    {
     "data": {
      "text/html": [
       "<div>\n",
       "<style scoped>\n",
       "    .dataframe tbody tr th:only-of-type {\n",
       "        vertical-align: middle;\n",
       "    }\n",
       "\n",
       "    .dataframe tbody tr th {\n",
       "        vertical-align: top;\n",
       "    }\n",
       "\n",
       "    .dataframe thead th {\n",
       "        text-align: right;\n",
       "    }\n",
       "</style>\n",
       "<table border=\"1\" class=\"dataframe\">\n",
       "  <thead>\n",
       "    <tr style=\"text-align: right;\">\n",
       "      <th></th>\n",
       "      <th>reviewid</th>\n",
       "      <th>title</th>\n",
       "      <th>artist</th>\n",
       "      <th>url</th>\n",
       "      <th>score</th>\n",
       "      <th>best_new_music</th>\n",
       "      <th>author</th>\n",
       "      <th>author_type</th>\n",
       "      <th>pub_date</th>\n",
       "      <th>pub_weekday</th>\n",
       "      <th>pub_day</th>\n",
       "      <th>pub_month</th>\n",
       "      <th>pub_year</th>\n",
       "    </tr>\n",
       "  </thead>\n",
       "  <tbody>\n",
       "    <tr>\n",
       "      <th>13198</th>\n",
       "      <td>2626</td>\n",
       "      <td>fresh fruit for rotting vegetables</td>\n",
       "      <td>dead kennedys</td>\n",
       "      <td>http://pitchfork.com/reviews/albums/2626-fresh...</td>\n",
       "      <td>7.0</td>\n",
       "      <td>0</td>\n",
       "      <td>cory d. byrom</td>\n",
       "      <td>None</td>\n",
       "      <td>2005-11-09</td>\n",
       "      <td>2</td>\n",
       "      <td>9</td>\n",
       "      <td>11</td>\n",
       "      <td>2005</td>\n",
       "    </tr>\n",
       "  </tbody>\n",
       "</table>\n",
       "</div>"
      ],
      "text/plain": [
       "       reviewid                               title         artist  \\\n",
       "13198      2626  fresh fruit for rotting vegetables  dead kennedys   \n",
       "\n",
       "                                                     url  score  \\\n",
       "13198  http://pitchfork.com/reviews/albums/2626-fresh...    7.0   \n",
       "\n",
       "       best_new_music         author author_type    pub_date  pub_weekday  \\\n",
       "13198               0  cory d. byrom        None  2005-11-09            2   \n",
       "\n",
       "       pub_day  pub_month  pub_year  \n",
       "13198        9         11      2005  "
      ]
     },
     "execution_count": 7,
     "metadata": {},
     "output_type": "execute_result"
    }
   ],
   "source": [
    "reviews_df.loc[reviews_df['reviewid']==2626]"
   ]
  },
  {
   "cell_type": "markdown",
   "metadata": {},
   "source": [
    "* Review Table -- has 4 songs that have 2 reviewid's... i believe this is an error as all rows are identical\n",
    "* Content Table -- also has 4 songs with 2 reviewid's... will remove the duplicated rows\n",
    "* Genres Tabel -- Many songs have 2+ genres\n",
    "* Labels Tabel -- Many songs have 2+ labels\n",
    "* Artists Tabel -- Many songs have 2+ artists\n",
    "* Year Tabel -- Many songs have 2+ release years... this may be an error... considering keeping only oldest year"
   ]
  },
  {
   "cell_type": "code",
   "execution_count": 8,
   "metadata": {},
   "outputs": [
    {
     "data": {
      "text/plain": [
       "2626     5\n",
       "21550    5\n",
       "21387    4\n",
       "17112    4\n",
       "9505     4\n",
       "17920    4\n",
       "16092    4\n",
       "16384    4\n",
       "22065    4\n",
       "22567    3\n",
       "Name: reviewid, dtype: int64"
      ]
     },
     "execution_count": 8,
     "metadata": {},
     "output_type": "execute_result"
    }
   ],
   "source": [
    "labels_df['reviewid'].value_counts().head(10)"
   ]
  },
  {
   "cell_type": "markdown",
   "metadata": {},
   "source": [
    "## Combining Genre and Review Tables"
   ]
  },
  {
   "cell_type": "markdown",
   "metadata": {},
   "source": [
    "Since we have albums that are listed under multiple genres, we needed to one hot encode our genres and then connect that data to our album table."
   ]
  },
  {
   "cell_type": "code",
   "execution_count": 9,
   "metadata": {},
   "outputs": [
    {
     "data": {
      "text/html": [
       "<div>\n",
       "<style scoped>\n",
       "    .dataframe tbody tr th:only-of-type {\n",
       "        vertical-align: middle;\n",
       "    }\n",
       "\n",
       "    .dataframe tbody tr th {\n",
       "        vertical-align: top;\n",
       "    }\n",
       "\n",
       "    .dataframe thead th {\n",
       "        text-align: right;\n",
       "    }\n",
       "</style>\n",
       "<table border=\"1\" class=\"dataframe\">\n",
       "  <thead>\n",
       "    <tr style=\"text-align: right;\">\n",
       "      <th></th>\n",
       "      <th>reviewid</th>\n",
       "      <th>electronic</th>\n",
       "      <th>experimental</th>\n",
       "      <th>folk/country</th>\n",
       "      <th>global</th>\n",
       "      <th>jazz</th>\n",
       "      <th>metal</th>\n",
       "      <th>pop/r&amp;b</th>\n",
       "      <th>rap</th>\n",
       "      <th>rock</th>\n",
       "    </tr>\n",
       "  </thead>\n",
       "  <tbody>\n",
       "    <tr>\n",
       "      <th>0</th>\n",
       "      <td>22703</td>\n",
       "      <td>1</td>\n",
       "      <td>0</td>\n",
       "      <td>0</td>\n",
       "      <td>0</td>\n",
       "      <td>0</td>\n",
       "      <td>0</td>\n",
       "      <td>0</td>\n",
       "      <td>0</td>\n",
       "      <td>0</td>\n",
       "    </tr>\n",
       "    <tr>\n",
       "      <th>1</th>\n",
       "      <td>22721</td>\n",
       "      <td>0</td>\n",
       "      <td>0</td>\n",
       "      <td>0</td>\n",
       "      <td>0</td>\n",
       "      <td>0</td>\n",
       "      <td>1</td>\n",
       "      <td>0</td>\n",
       "      <td>0</td>\n",
       "      <td>0</td>\n",
       "    </tr>\n",
       "    <tr>\n",
       "      <th>2</th>\n",
       "      <td>22659</td>\n",
       "      <td>0</td>\n",
       "      <td>0</td>\n",
       "      <td>0</td>\n",
       "      <td>0</td>\n",
       "      <td>0</td>\n",
       "      <td>0</td>\n",
       "      <td>0</td>\n",
       "      <td>0</td>\n",
       "      <td>1</td>\n",
       "    </tr>\n",
       "    <tr>\n",
       "      <th>3</th>\n",
       "      <td>22661</td>\n",
       "      <td>0</td>\n",
       "      <td>0</td>\n",
       "      <td>0</td>\n",
       "      <td>0</td>\n",
       "      <td>0</td>\n",
       "      <td>0</td>\n",
       "      <td>0</td>\n",
       "      <td>0</td>\n",
       "      <td>1</td>\n",
       "    </tr>\n",
       "    <tr>\n",
       "      <th>4</th>\n",
       "      <td>22725</td>\n",
       "      <td>1</td>\n",
       "      <td>0</td>\n",
       "      <td>0</td>\n",
       "      <td>0</td>\n",
       "      <td>0</td>\n",
       "      <td>0</td>\n",
       "      <td>0</td>\n",
       "      <td>0</td>\n",
       "      <td>0</td>\n",
       "    </tr>\n",
       "  </tbody>\n",
       "</table>\n",
       "</div>"
      ],
      "text/plain": [
       "   reviewid  electronic  experimental  folk/country  global  jazz  metal  \\\n",
       "0     22703           1             0             0       0     0      0   \n",
       "1     22721           0             0             0       0     0      1   \n",
       "2     22659           0             0             0       0     0      0   \n",
       "3     22661           0             0             0       0     0      0   \n",
       "4     22725           1             0             0       0     0      0   \n",
       "\n",
       "   pop/r&b  rap  rock  \n",
       "0        0    0     0  \n",
       "1        0    0     0  \n",
       "2        0    0     1  \n",
       "3        0    0     1  \n",
       "4        0    0     0  "
      ]
     },
     "execution_count": 9,
     "metadata": {},
     "output_type": "execute_result"
    }
   ],
   "source": [
    "genres_one_hot = pd.get_dummies(genres_df['genre'])\n",
    "genres_hot_df = pd.concat([genres_df, genres_one_hot], axis = 1)\n",
    "genres_hot_df.drop('genre', axis=1, inplace=True)\n",
    "genres_hot_df.head()"
   ]
  },
  {
   "cell_type": "markdown",
   "metadata": {},
   "source": [
    "Second, we filtered our genres table for only "
   ]
  },
  {
   "cell_type": "code",
   "execution_count": 10,
   "metadata": {},
   "outputs": [
    {
     "data": {
      "text/html": [
       "<div>\n",
       "<style scoped>\n",
       "    .dataframe tbody tr th:only-of-type {\n",
       "        vertical-align: middle;\n",
       "    }\n",
       "\n",
       "    .dataframe tbody tr th {\n",
       "        vertical-align: top;\n",
       "    }\n",
       "\n",
       "    .dataframe thead th {\n",
       "        text-align: right;\n",
       "    }\n",
       "</style>\n",
       "<table border=\"1\" class=\"dataframe\">\n",
       "  <thead>\n",
       "    <tr style=\"text-align: right;\">\n",
       "      <th></th>\n",
       "      <th>reviewid</th>\n",
       "      <th>electronic</th>\n",
       "      <th>pop/r&amp;b</th>\n",
       "    </tr>\n",
       "  </thead>\n",
       "  <tbody>\n",
       "    <tr>\n",
       "      <th>0</th>\n",
       "      <td>22703</td>\n",
       "      <td>1</td>\n",
       "      <td>0</td>\n",
       "    </tr>\n",
       "    <tr>\n",
       "      <th>4</th>\n",
       "      <td>22725</td>\n",
       "      <td>1</td>\n",
       "      <td>0</td>\n",
       "    </tr>\n",
       "    <tr>\n",
       "      <th>7</th>\n",
       "      <td>22694</td>\n",
       "      <td>1</td>\n",
       "      <td>0</td>\n",
       "    </tr>\n",
       "    <tr>\n",
       "      <th>12</th>\n",
       "      <td>22700</td>\n",
       "      <td>1</td>\n",
       "      <td>0</td>\n",
       "    </tr>\n",
       "    <tr>\n",
       "      <th>18</th>\n",
       "      <td>22719</td>\n",
       "      <td>0</td>\n",
       "      <td>1</td>\n",
       "    </tr>\n",
       "  </tbody>\n",
       "</table>\n",
       "</div>"
      ],
      "text/plain": [
       "    reviewid  electronic  pop/r&b\n",
       "0      22703           1        0\n",
       "4      22725           1        0\n",
       "7      22694           1        0\n",
       "12     22700           1        0\n",
       "18     22719           0        1"
      ]
     },
     "execution_count": 10,
     "metadata": {},
     "output_type": "execute_result"
    }
   ],
   "source": [
    "pop_elec_genres = genres_hot_df.loc[((genres_hot_df['pop/r&b'] == 1) | (genres_hot_df['electronic'] == 1)),\n",
    "                                   ['reviewid', 'electronic', 'pop/r&b']]\n",
    "pop_elec_genres.head()"
   ]
  },
  {
   "cell_type": "markdown",
   "metadata": {},
   "source": [
    "Third, add value_count column in order to remove any albums that fall under both electronic & pop."
   ]
  },
  {
   "cell_type": "code",
   "execution_count": 11,
   "metadata": {},
   "outputs": [
    {
     "data": {
      "text/html": [
       "<div>\n",
       "<style scoped>\n",
       "    .dataframe tbody tr th:only-of-type {\n",
       "        vertical-align: middle;\n",
       "    }\n",
       "\n",
       "    .dataframe tbody tr th {\n",
       "        vertical-align: top;\n",
       "    }\n",
       "\n",
       "    .dataframe thead th {\n",
       "        text-align: right;\n",
       "    }\n",
       "</style>\n",
       "<table border=\"1\" class=\"dataframe\">\n",
       "  <thead>\n",
       "    <tr style=\"text-align: right;\">\n",
       "      <th></th>\n",
       "      <th>reviewid</th>\n",
       "      <th>electronic</th>\n",
       "      <th>pop/r&amp;b</th>\n",
       "      <th>value_count</th>\n",
       "    </tr>\n",
       "  </thead>\n",
       "  <tbody>\n",
       "    <tr>\n",
       "      <th>0</th>\n",
       "      <td>22703</td>\n",
       "      <td>1</td>\n",
       "      <td>0</td>\n",
       "      <td>1</td>\n",
       "    </tr>\n",
       "    <tr>\n",
       "      <th>4</th>\n",
       "      <td>22725</td>\n",
       "      <td>1</td>\n",
       "      <td>0</td>\n",
       "      <td>1</td>\n",
       "    </tr>\n",
       "    <tr>\n",
       "      <th>7</th>\n",
       "      <td>22694</td>\n",
       "      <td>1</td>\n",
       "      <td>0</td>\n",
       "      <td>1</td>\n",
       "    </tr>\n",
       "    <tr>\n",
       "      <th>12</th>\n",
       "      <td>22700</td>\n",
       "      <td>1</td>\n",
       "      <td>0</td>\n",
       "      <td>1</td>\n",
       "    </tr>\n",
       "    <tr>\n",
       "      <th>18</th>\n",
       "      <td>22719</td>\n",
       "      <td>0</td>\n",
       "      <td>1</td>\n",
       "      <td>1</td>\n",
       "    </tr>\n",
       "  </tbody>\n",
       "</table>\n",
       "</div>"
      ],
      "text/plain": [
       "    reviewid  electronic  pop/r&b  value_count\n",
       "0      22703           1        0            1\n",
       "4      22725           1        0            1\n",
       "7      22694           1        0            1\n",
       "12     22700           1        0            1\n",
       "18     22719           0        1            1"
      ]
     },
     "execution_count": 11,
     "metadata": {},
     "output_type": "execute_result"
    }
   ],
   "source": [
    "genre_counts = pop_elec_genres['reviewid'].value_counts()\n",
    "genre_dict = genre_counts.to_dict()\n",
    "pop_elec_genres['value_count'] = pop_elec_genres['reviewid'].apply(lambda x: genre_dict[x])\n",
    "pop_elec_genres.head()"
   ]
  },
  {
   "cell_type": "markdown",
   "metadata": {},
   "source": [
    "Remove albums with both electronic and pop (where value_counts = 2)"
   ]
  },
  {
   "cell_type": "code",
   "execution_count": 12,
   "metadata": {},
   "outputs": [],
   "source": [
    "albums_to_drop = pop_elec_genres[pop_elec_genres['value_count'] >= 2]\n",
    "pop_elec_genre_df = pop_elec_genres.drop(albums_to_drop.index, axis=0)"
   ]
  },
  {
   "cell_type": "code",
   "execution_count": 13,
   "metadata": {},
   "outputs": [
    {
     "data": {
      "text/html": [
       "<div>\n",
       "<style scoped>\n",
       "    .dataframe tbody tr th:only-of-type {\n",
       "        vertical-align: middle;\n",
       "    }\n",
       "\n",
       "    .dataframe tbody tr th {\n",
       "        vertical-align: top;\n",
       "    }\n",
       "\n",
       "    .dataframe thead th {\n",
       "        text-align: right;\n",
       "    }\n",
       "</style>\n",
       "<table border=\"1\" class=\"dataframe\">\n",
       "  <thead>\n",
       "    <tr style=\"text-align: right;\">\n",
       "      <th></th>\n",
       "      <th>reviewid</th>\n",
       "      <th>electronic</th>\n",
       "      <th>pop/r&amp;b</th>\n",
       "      <th>value_count</th>\n",
       "    </tr>\n",
       "  </thead>\n",
       "  <tbody>\n",
       "    <tr>\n",
       "      <th>0</th>\n",
       "      <td>22703</td>\n",
       "      <td>1</td>\n",
       "      <td>0</td>\n",
       "      <td>1</td>\n",
       "    </tr>\n",
       "    <tr>\n",
       "      <th>4</th>\n",
       "      <td>22725</td>\n",
       "      <td>1</td>\n",
       "      <td>0</td>\n",
       "      <td>1</td>\n",
       "    </tr>\n",
       "    <tr>\n",
       "      <th>7</th>\n",
       "      <td>22694</td>\n",
       "      <td>1</td>\n",
       "      <td>0</td>\n",
       "      <td>1</td>\n",
       "    </tr>\n",
       "    <tr>\n",
       "      <th>12</th>\n",
       "      <td>22700</td>\n",
       "      <td>1</td>\n",
       "      <td>0</td>\n",
       "      <td>1</td>\n",
       "    </tr>\n",
       "    <tr>\n",
       "      <th>18</th>\n",
       "      <td>22719</td>\n",
       "      <td>0</td>\n",
       "      <td>1</td>\n",
       "      <td>1</td>\n",
       "    </tr>\n",
       "  </tbody>\n",
       "</table>\n",
       "</div>"
      ],
      "text/plain": [
       "    reviewid  electronic  pop/r&b  value_count\n",
       "0      22703           1        0            1\n",
       "4      22725           1        0            1\n",
       "7      22694           1        0            1\n",
       "12     22700           1        0            1\n",
       "18     22719           0        1            1"
      ]
     },
     "execution_count": 13,
     "metadata": {},
     "output_type": "execute_result"
    }
   ],
   "source": [
    "pop_elec_genre_df.head()"
   ]
  },
  {
   "cell_type": "markdown",
   "metadata": {},
   "source": [
    "Merge the new Genre Table with the existing Review Table"
   ]
  },
  {
   "cell_type": "code",
   "execution_count": 14,
   "metadata": {},
   "outputs": [
    {
     "data": {
      "text/html": [
       "<div>\n",
       "<style scoped>\n",
       "    .dataframe tbody tr th:only-of-type {\n",
       "        vertical-align: middle;\n",
       "    }\n",
       "\n",
       "    .dataframe tbody tr th {\n",
       "        vertical-align: top;\n",
       "    }\n",
       "\n",
       "    .dataframe thead th {\n",
       "        text-align: right;\n",
       "    }\n",
       "</style>\n",
       "<table border=\"1\" class=\"dataframe\">\n",
       "  <thead>\n",
       "    <tr style=\"text-align: right;\">\n",
       "      <th></th>\n",
       "      <th>reviewid</th>\n",
       "      <th>title</th>\n",
       "      <th>artist</th>\n",
       "      <th>url</th>\n",
       "      <th>score</th>\n",
       "      <th>best_new_music</th>\n",
       "      <th>author</th>\n",
       "      <th>author_type</th>\n",
       "      <th>pub_date</th>\n",
       "      <th>pub_weekday</th>\n",
       "      <th>pub_day</th>\n",
       "      <th>pub_month</th>\n",
       "      <th>pub_year</th>\n",
       "      <th>electronic</th>\n",
       "      <th>pop/r&amp;b</th>\n",
       "      <th>value_count</th>\n",
       "    </tr>\n",
       "  </thead>\n",
       "  <tbody>\n",
       "    <tr>\n",
       "      <th>0</th>\n",
       "      <td>22703</td>\n",
       "      <td>mezzanine</td>\n",
       "      <td>massive attack</td>\n",
       "      <td>http://pitchfork.com/reviews/albums/22703-mezz...</td>\n",
       "      <td>9.3</td>\n",
       "      <td>0</td>\n",
       "      <td>nate patrin</td>\n",
       "      <td>contributor</td>\n",
       "      <td>2017-01-08</td>\n",
       "      <td>6</td>\n",
       "      <td>8</td>\n",
       "      <td>1</td>\n",
       "      <td>2017</td>\n",
       "      <td>1</td>\n",
       "      <td>0</td>\n",
       "      <td>1</td>\n",
       "    </tr>\n",
       "    <tr>\n",
       "      <th>1</th>\n",
       "      <td>22725</td>\n",
       "      <td>new start</td>\n",
       "      <td>taso</td>\n",
       "      <td>http://pitchfork.com/reviews/albums/22725-new-...</td>\n",
       "      <td>8.1</td>\n",
       "      <td>0</td>\n",
       "      <td>kevin lozano</td>\n",
       "      <td>tracks coordinator</td>\n",
       "      <td>2017-01-06</td>\n",
       "      <td>4</td>\n",
       "      <td>6</td>\n",
       "      <td>1</td>\n",
       "      <td>2017</td>\n",
       "      <td>1</td>\n",
       "      <td>0</td>\n",
       "      <td>1</td>\n",
       "    </tr>\n",
       "    <tr>\n",
       "      <th>2</th>\n",
       "      <td>22694</td>\n",
       "      <td>tehillim</td>\n",
       "      <td>yotam avni</td>\n",
       "      <td>http://pitchfork.com/reviews/albums/22694-tehi...</td>\n",
       "      <td>7.0</td>\n",
       "      <td>0</td>\n",
       "      <td>andy beta</td>\n",
       "      <td>contributor</td>\n",
       "      <td>2017-01-05</td>\n",
       "      <td>3</td>\n",
       "      <td>5</td>\n",
       "      <td>1</td>\n",
       "      <td>2017</td>\n",
       "      <td>1</td>\n",
       "      <td>0</td>\n",
       "      <td>1</td>\n",
       "    </tr>\n",
       "    <tr>\n",
       "      <th>3</th>\n",
       "      <td>22700</td>\n",
       "      <td>nadir</td>\n",
       "      <td>steven warwick</td>\n",
       "      <td>http://pitchfork.com/reviews/albums/22700-nadir/</td>\n",
       "      <td>7.6</td>\n",
       "      <td>0</td>\n",
       "      <td>thea ballard</td>\n",
       "      <td>contributor</td>\n",
       "      <td>2017-01-03</td>\n",
       "      <td>1</td>\n",
       "      <td>3</td>\n",
       "      <td>1</td>\n",
       "      <td>2017</td>\n",
       "      <td>1</td>\n",
       "      <td>0</td>\n",
       "      <td>1</td>\n",
       "    </tr>\n",
       "    <tr>\n",
       "      <th>4</th>\n",
       "      <td>22719</td>\n",
       "      <td>merry christmas lil mama</td>\n",
       "      <td>chance the rapper, jeremih</td>\n",
       "      <td>http://pitchfork.com/reviews/albums/22719-merr...</td>\n",
       "      <td>8.1</td>\n",
       "      <td>0</td>\n",
       "      <td>sheldon pearce</td>\n",
       "      <td>associate staff writer</td>\n",
       "      <td>2016-12-30</td>\n",
       "      <td>4</td>\n",
       "      <td>30</td>\n",
       "      <td>12</td>\n",
       "      <td>2016</td>\n",
       "      <td>0</td>\n",
       "      <td>1</td>\n",
       "      <td>1</td>\n",
       "    </tr>\n",
       "  </tbody>\n",
       "</table>\n",
       "</div>"
      ],
      "text/plain": [
       "   reviewid                     title                      artist  \\\n",
       "0     22703                 mezzanine              massive attack   \n",
       "1     22725                 new start                        taso   \n",
       "2     22694                  tehillim                  yotam avni   \n",
       "3     22700                     nadir              steven warwick   \n",
       "4     22719  merry christmas lil mama  chance the rapper, jeremih   \n",
       "\n",
       "                                                 url  score  best_new_music  \\\n",
       "0  http://pitchfork.com/reviews/albums/22703-mezz...    9.3               0   \n",
       "1  http://pitchfork.com/reviews/albums/22725-new-...    8.1               0   \n",
       "2  http://pitchfork.com/reviews/albums/22694-tehi...    7.0               0   \n",
       "3   http://pitchfork.com/reviews/albums/22700-nadir/    7.6               0   \n",
       "4  http://pitchfork.com/reviews/albums/22719-merr...    8.1               0   \n",
       "\n",
       "           author             author_type    pub_date  pub_weekday  pub_day  \\\n",
       "0     nate patrin             contributor  2017-01-08            6        8   \n",
       "1    kevin lozano      tracks coordinator  2017-01-06            4        6   \n",
       "2       andy beta             contributor  2017-01-05            3        5   \n",
       "3    thea ballard             contributor  2017-01-03            1        3   \n",
       "4  sheldon pearce  associate staff writer  2016-12-30            4       30   \n",
       "\n",
       "   pub_month  pub_year  electronic  pop/r&b  value_count  \n",
       "0          1      2017           1        0            1  \n",
       "1          1      2017           1        0            1  \n",
       "2          1      2017           1        0            1  \n",
       "3          1      2017           1        0            1  \n",
       "4         12      2016           0        1            1  "
      ]
     },
     "execution_count": 14,
     "metadata": {},
     "output_type": "execute_result"
    }
   ],
   "source": [
    "rg_df = reviews_df.merge(pop_elec_genre_df, left_on='reviewid', right_on='reviewid')\n",
    "rg_df.head()"
   ]
  },
  {
   "cell_type": "markdown",
   "metadata": {},
   "source": [
    "## Hypothesis Test #1 \n",
    "* Null: There is no statistically significant difference between the reviews for Pop/R&B albums and Electronic music albums.\n",
    "* Alternative: The reviews for Pop/R&B albums and Electronic albums have a statistically significant difference between how they are reviewed, either positively or negatively. "
   ]
  },
  {
   "cell_type": "code",
   "execution_count": 15,
   "metadata": {},
   "outputs": [],
   "source": [
    "pop_df = rg_df[rg_df['pop/r&b'] == 1].copy()\n",
    "elec_df = rg_df[rg_df['electronic'] == 1].copy()"
   ]
  },
  {
   "cell_type": "code",
   "execution_count": 16,
   "metadata": {},
   "outputs": [
    {
     "data": {
      "image/png": "[encoded data removed]",
      "text/plain": [
       "<Figure size 792x360 with 1 Axes>"
      ]
     },
     "metadata": {},
     "output_type": "display_data"
    }
   ],
   "source": [
    "plt.style.use('ggplot')\n",
    "plt.figure(figsize=(11,5))\n",
    "sns.distplot(pop_df['score'], label=\"Pop/R&B Music\")\n",
    "sns.distplot(elec_df['score'], label=\"Electronic Music\")\n",
    "plt.title(\"Review Scores of Pop/R&B v. Electronic albums\")\n",
    "plt.xlabel('Score')\n",
    "plt.xticks(np.arange(0,10.5, .5))\n",
    "plt.tight_layout()\n",
    "plt.legend()\n",
    "plt.show();"
   ]
  },
  {
   "cell_type": "code",
   "execution_count": 17,
   "metadata": {},
   "outputs": [
    {
     "name": "stdout",
     "output_type": "stream",
     "text": [
      "Sample 1 Review Mean:  6.918853820598006\n",
      "Sampe 2 Review Mean:  6.934585847504114\n",
      "Difference:  -0.01573202690610831\n",
      "T-Statistic: -0.36421091026425517\n",
      "P-Value: 0.7157164040794012\n"
     ]
    }
   ],
   "source": [
    "# Created a helper function for Two Sample T-Test for our categorical comparissions.\n",
    "two_sample_ttest_stats(pop_df['score'], elec_df['score'])"
   ]
  },
  {
   "cell_type": "markdown",
   "metadata": {},
   "source": [
    "#### Bootstrap Check\n",
    "We further performed bootstrap sampling on our data, to see if the values we arrived at are in line with what we might find from other samples of this data. "
   ]
  },
  {
   "cell_type": "markdown",
   "metadata": {},
   "source": [
    "##### Finding Appropriate Sample Size"
   ]
  },
  {
   "cell_type": "code",
   "execution_count": 18,
   "metadata": {},
   "outputs": [
    {
     "data": {
      "text/plain": [
       "87.64595381733723"
      ]
     },
     "execution_count": 18,
     "metadata": {},
     "output_type": "execute_result"
    }
   ],
   "source": [
    "# Using sample size calculation converted into a function\n",
    "sample_size_calc(pop_df['score'],elec_df['score'], moe=.5)"
   ]
  },
  {
   "cell_type": "markdown",
   "metadata": {},
   "source": [
    "Appropriate sample size must be greater than 87.6"
   ]
  },
  {
   "cell_type": "code",
   "execution_count": 19,
   "metadata": {},
   "outputs": [],
   "source": [
    "samp_size = 90"
   ]
  },
  {
   "cell_type": "code",
   "execution_count": 20,
   "metadata": {},
   "outputs": [
    {
     "name": "stdout",
     "output_type": "stream",
     "text": [
      "Pop Sample Means Stdv: 0.1383\n",
      "Pop 2.5 Percentile: 6.6132\n",
      "Pop 97.5 Percentile: 7.1695\n"
     ]
    }
   ],
   "source": [
    "std, low_p, high_p = bootstrap_mean_stats(pop_df['score'], sample_size=90, n_tests=100)\n",
    "print(f\"Pop Sample Means Stdv: {std}\\nPop 2.5 Percentile: {low_p}\\nPop 97.5 Percentile: {high_p}\")"
   ]
  },
  {
   "cell_type": "code",
   "execution_count": 21,
   "metadata": {},
   "outputs": [
    {
     "name": "stdout",
     "output_type": "stream",
     "text": [
      "Elec Sample Means Stdv: 0.1299\n",
      "Elec 2.5 Percentile: 6.6983\n",
      "Elec 97.5 Percentile: 7.1734\n"
     ]
    }
   ],
   "source": [
    "std, low_p, high_p = bootstrap_mean_stats(elec_df['score'], sample_size=90, n_tests=100)\n",
    "print(f\"Elec Sample Means Stdv: {std}\\nElec 2.5 Percentile: {low_p}\\nElec 97.5 Percentile: {high_p}\")"
   ]
  },
  {
   "cell_type": "markdown",
   "metadata": {},
   "source": [
    "#### Summary: Hypothesis #1\n",
    "\n",
    "Through our exploration, we found there to be very little variability between the rating of the two genres. We found a p-value of .716, which far exceeds our threshold of .05, telling us that we must accept our null hypothesis that there is not a statistically significant difference between the rating of Pop/R&B and Electronic albums.\n",
    "\n",
    "In our further bootstrap test, sampling our data, we did not find significant variability in the performance of our two groups."
   ]
  },
  {
   "cell_type": "markdown",
   "metadata": {},
   "source": [
    "## Hypothesis Test #2\n",
    "* Null: In sampling the 500 worst and 500 best reviewed albums, there is no statistically significant difference in the genres each represents with regards to score. \n",
    "* Alternative: The 500 worst reviewed and 500 best reviewed albums have a statistically significant difference in the genres they have. "
   ]
  },
  {
   "cell_type": "markdown",
   "metadata": {},
   "source": [
    "### 500 Best Rated Albums"
   ]
  },
  {
   "cell_type": "code",
   "execution_count": 22,
   "metadata": {},
   "outputs": [
    {
     "data": {
      "text/html": [
       "<div>\n",
       "<style scoped>\n",
       "    .dataframe tbody tr th:only-of-type {\n",
       "        vertical-align: middle;\n",
       "    }\n",
       "\n",
       "    .dataframe tbody tr th {\n",
       "        vertical-align: top;\n",
       "    }\n",
       "\n",
       "    .dataframe thead th {\n",
       "        text-align: right;\n",
       "    }\n",
       "</style>\n",
       "<table border=\"1\" class=\"dataframe\">\n",
       "  <thead>\n",
       "    <tr style=\"text-align: right;\">\n",
       "      <th></th>\n",
       "      <th>reviewid</th>\n",
       "      <th>electronic</th>\n",
       "      <th>experimental</th>\n",
       "      <th>folk/country</th>\n",
       "      <th>global</th>\n",
       "      <th>jazz</th>\n",
       "      <th>metal</th>\n",
       "      <th>pop/r&amp;b</th>\n",
       "      <th>rap</th>\n",
       "      <th>rock</th>\n",
       "      <th>score</th>\n",
       "      <th>author</th>\n",
       "      <th>author_type</th>\n",
       "    </tr>\n",
       "  </thead>\n",
       "  <tbody>\n",
       "    <tr>\n",
       "      <th>0</th>\n",
       "      <td>22703</td>\n",
       "      <td>1</td>\n",
       "      <td>0</td>\n",
       "      <td>0</td>\n",
       "      <td>0</td>\n",
       "      <td>0</td>\n",
       "      <td>0</td>\n",
       "      <td>0</td>\n",
       "      <td>0</td>\n",
       "      <td>0</td>\n",
       "      <td>9.3</td>\n",
       "      <td>nate patrin</td>\n",
       "      <td>contributor</td>\n",
       "    </tr>\n",
       "    <tr>\n",
       "      <th>1</th>\n",
       "      <td>22661</td>\n",
       "      <td>0</td>\n",
       "      <td>0</td>\n",
       "      <td>0</td>\n",
       "      <td>0</td>\n",
       "      <td>0</td>\n",
       "      <td>0</td>\n",
       "      <td>0</td>\n",
       "      <td>0</td>\n",
       "      <td>1</td>\n",
       "      <td>9.0</td>\n",
       "      <td>jenn pelly</td>\n",
       "      <td>associate reviews editor</td>\n",
       "    </tr>\n",
       "    <tr>\n",
       "      <th>2</th>\n",
       "      <td>22707</td>\n",
       "      <td>0</td>\n",
       "      <td>0</td>\n",
       "      <td>0</td>\n",
       "      <td>0</td>\n",
       "      <td>1</td>\n",
       "      <td>0</td>\n",
       "      <td>0</td>\n",
       "      <td>0</td>\n",
       "      <td>0</td>\n",
       "      <td>9.0</td>\n",
       "      <td>seth colter-walls</td>\n",
       "      <td>contributor</td>\n",
       "    </tr>\n",
       "    <tr>\n",
       "      <th>3</th>\n",
       "      <td>22643</td>\n",
       "      <td>0</td>\n",
       "      <td>0</td>\n",
       "      <td>0</td>\n",
       "      <td>0</td>\n",
       "      <td>0</td>\n",
       "      <td>0</td>\n",
       "      <td>0</td>\n",
       "      <td>0</td>\n",
       "      <td>1</td>\n",
       "      <td>9.3</td>\n",
       "      <td>jesse jarnow</td>\n",
       "      <td>contributor</td>\n",
       "    </tr>\n",
       "    <tr>\n",
       "      <th>4</th>\n",
       "      <td>22555</td>\n",
       "      <td>1</td>\n",
       "      <td>0</td>\n",
       "      <td>0</td>\n",
       "      <td>0</td>\n",
       "      <td>0</td>\n",
       "      <td>0</td>\n",
       "      <td>0</td>\n",
       "      <td>0</td>\n",
       "      <td>0</td>\n",
       "      <td>9.5</td>\n",
       "      <td>andy beta</td>\n",
       "      <td>contributor</td>\n",
       "    </tr>\n",
       "  </tbody>\n",
       "</table>\n",
       "</div>"
      ],
      "text/plain": [
       "   reviewid  electronic  experimental  folk/country  global  jazz  metal  \\\n",
       "0     22703           1             0             0       0     0      0   \n",
       "1     22661           0             0             0       0     0      0   \n",
       "2     22707           0             0             0       0     1      0   \n",
       "3     22643           0             0             0       0     0      0   \n",
       "4     22555           1             0             0       0     0      0   \n",
       "\n",
       "   pop/r&b  rap  rock  score             author               author_type  \n",
       "0        0    0     0    9.3        nate patrin               contributor  \n",
       "1        0    0     1    9.0         jenn pelly  associate reviews editor  \n",
       "2        0    0     0    9.0  seth colter-walls               contributor  \n",
       "3        0    0     1    9.3       jesse jarnow               contributor  \n",
       "4        0    0     0    9.5          andy beta               contributor  "
      ]
     },
     "execution_count": 22,
     "metadata": {},
     "output_type": "execute_result"
    }
   ],
   "source": [
    "query = \"\"\"\n",
    "SELECT \n",
    "    reviewid\n",
    ",   score\n",
    ",   author\n",
    ",   author_type\n",
    "FROM \n",
    "    reviews\n",
    "ORDER BY \n",
    "    score DESC\n",
    "LIMIT 500;\n",
    "\"\"\"\n",
    "\n",
    "cur = conn.cursor()\n",
    "cur.execute(query)\n",
    "names = [description[0] for description in cur.description]\n",
    "best_100 = pd.DataFrame(cur.fetchall(),columns=names)\n",
    "best_wgenres = genres_hot_df.merge(best_100, on='reviewid')\n",
    "best_wgenres.head()"
   ]
  },
  {
   "cell_type": "markdown",
   "metadata": {},
   "source": [
    "### 500 Worst Rated Albums"
   ]
  },
  {
   "cell_type": "code",
   "execution_count": 23,
   "metadata": {},
   "outputs": [
    {
     "data": {
      "text/html": [
       "<div>\n",
       "<style scoped>\n",
       "    .dataframe tbody tr th:only-of-type {\n",
       "        vertical-align: middle;\n",
       "    }\n",
       "\n",
       "    .dataframe tbody tr th {\n",
       "        vertical-align: top;\n",
       "    }\n",
       "\n",
       "    .dataframe thead th {\n",
       "        text-align: right;\n",
       "    }\n",
       "</style>\n",
       "<table border=\"1\" class=\"dataframe\">\n",
       "  <thead>\n",
       "    <tr style=\"text-align: right;\">\n",
       "      <th></th>\n",
       "      <th>reviewid</th>\n",
       "      <th>electronic</th>\n",
       "      <th>experimental</th>\n",
       "      <th>folk/country</th>\n",
       "      <th>global</th>\n",
       "      <th>jazz</th>\n",
       "      <th>metal</th>\n",
       "      <th>pop/r&amp;b</th>\n",
       "      <th>rap</th>\n",
       "      <th>rock</th>\n",
       "      <th>score</th>\n",
       "      <th>author</th>\n",
       "      <th>author_type</th>\n",
       "    </tr>\n",
       "  </thead>\n",
       "  <tbody>\n",
       "    <tr>\n",
       "      <th>0</th>\n",
       "      <td>22720</td>\n",
       "      <td>0</td>\n",
       "      <td>0</td>\n",
       "      <td>0</td>\n",
       "      <td>0</td>\n",
       "      <td>0</td>\n",
       "      <td>0</td>\n",
       "      <td>0</td>\n",
       "      <td>1</td>\n",
       "      <td>0</td>\n",
       "      <td>3.5</td>\n",
       "      <td>marcus j. moore</td>\n",
       "      <td>contributor</td>\n",
       "    </tr>\n",
       "    <tr>\n",
       "      <th>1</th>\n",
       "      <td>22589</td>\n",
       "      <td>1</td>\n",
       "      <td>0</td>\n",
       "      <td>0</td>\n",
       "      <td>0</td>\n",
       "      <td>0</td>\n",
       "      <td>0</td>\n",
       "      <td>0</td>\n",
       "      <td>0</td>\n",
       "      <td>0</td>\n",
       "      <td>3.5</td>\n",
       "      <td>kevin lozano</td>\n",
       "      <td>tracks coordinator</td>\n",
       "    </tr>\n",
       "    <tr>\n",
       "      <th>2</th>\n",
       "      <td>22319</td>\n",
       "      <td>0</td>\n",
       "      <td>0</td>\n",
       "      <td>0</td>\n",
       "      <td>0</td>\n",
       "      <td>0</td>\n",
       "      <td>0</td>\n",
       "      <td>0</td>\n",
       "      <td>0</td>\n",
       "      <td>1</td>\n",
       "      <td>2.0</td>\n",
       "      <td>ian cohen</td>\n",
       "      <td>contributor</td>\n",
       "    </tr>\n",
       "    <tr>\n",
       "      <th>3</th>\n",
       "      <td>22319</td>\n",
       "      <td>0</td>\n",
       "      <td>0</td>\n",
       "      <td>0</td>\n",
       "      <td>0</td>\n",
       "      <td>0</td>\n",
       "      <td>0</td>\n",
       "      <td>0</td>\n",
       "      <td>1</td>\n",
       "      <td>0</td>\n",
       "      <td>2.0</td>\n",
       "      <td>ian cohen</td>\n",
       "      <td>contributor</td>\n",
       "    </tr>\n",
       "    <tr>\n",
       "      <th>4</th>\n",
       "      <td>22143</td>\n",
       "      <td>1</td>\n",
       "      <td>0</td>\n",
       "      <td>0</td>\n",
       "      <td>0</td>\n",
       "      <td>0</td>\n",
       "      <td>0</td>\n",
       "      <td>0</td>\n",
       "      <td>0</td>\n",
       "      <td>0</td>\n",
       "      <td>2.5</td>\n",
       "      <td>stacey anderson</td>\n",
       "      <td>associate features editor</td>\n",
       "    </tr>\n",
       "  </tbody>\n",
       "</table>\n",
       "</div>"
      ],
      "text/plain": [
       "   reviewid  electronic  experimental  folk/country  global  jazz  metal  \\\n",
       "0     22720           0             0             0       0     0      0   \n",
       "1     22589           1             0             0       0     0      0   \n",
       "2     22319           0             0             0       0     0      0   \n",
       "3     22319           0             0             0       0     0      0   \n",
       "4     22143           1             0             0       0     0      0   \n",
       "\n",
       "   pop/r&b  rap  rock  score           author                author_type  \n",
       "0        0    1     0    3.5  marcus j. moore                contributor  \n",
       "1        0    0     0    3.5     kevin lozano         tracks coordinator  \n",
       "2        0    0     1    2.0        ian cohen                contributor  \n",
       "3        0    1     0    2.0        ian cohen                contributor  \n",
       "4        0    0     0    2.5  stacey anderson  associate features editor  "
      ]
     },
     "execution_count": 23,
     "metadata": {},
     "output_type": "execute_result"
    }
   ],
   "source": [
    "query = \"\"\"\n",
    "SELECT \n",
    "    reviewid\n",
    ",   score\n",
    ",   author\n",
    ",   author_type\n",
    "FROM \n",
    "    reviews\n",
    "ORDER BY \n",
    "    score ASC\n",
    "LIMIT 500;\n",
    "\"\"\"\n",
    "\n",
    "cur = conn.cursor()\n",
    "cur.execute(query)\n",
    "names = [description[0] for description in cur.description]\n",
    "worst_100 = pd.DataFrame(cur.fetchall(),columns=names)\n",
    "worst_wgenres = genres_hot_df.merge(worst_100, on='reviewid')\n",
    "worst_wgenres.head()"
   ]
  },
  {
   "cell_type": "code",
   "execution_count": 24,
   "metadata": {},
   "outputs": [],
   "source": [
    "# Correcting column names for use in ANOVA test\n",
    "best_wgenres.rename(columns={'pop/r&b': 'pop_rb', 'folk/country': 'folk_country'}, inplace=True)\n",
    "worst_wgenres.rename(columns={'pop/r&b': 'pop_rb', 'folk/country': 'folk_country'}, inplace=True)"
   ]
  },
  {
   "cell_type": "code",
   "execution_count": 25,
   "metadata": {},
   "outputs": [
    {
     "name": "stdout",
     "output_type": "stream",
     "text": [
      "                    sum_sq     df          F    PR(>F)\n",
      "C(rock)           0.407402    1.0   3.708124  0.054633\n",
      "C(electronic)     0.018879    1.0   0.171834  0.678639\n",
      "C(rap)            0.544781    1.0   4.958531  0.026342\n",
      "C(metal)          0.062107    1.0   0.565292  0.452438\n",
      "C(experimental)   0.019272    1.0   0.175411  0.675500\n",
      "C(jazz)           0.157476    1.0   1.433328  0.231707\n",
      "C(pop_rb)         1.148879    1.0  10.456954  0.001291\n",
      "C(folk_country)   0.019713    1.0   0.179424  0.672025\n",
      "Residual         64.272491  585.0        NaN       NaN\n"
     ]
    }
   ],
   "source": [
    "formula = \"\"\"score ~ C(rock) + C(electronic) + C(rap) + C(metal) \n",
    "            + C(experimental) +C(jazz) + C(pop_rb) + C(folk_country)\"\"\"\n",
    "lm = ols(formula, best_wgenres).fit()\n",
    "table = sm.stats.anova_lm(lm, typ=2)\n",
    "print(table)"
   ]
  },
  {
   "cell_type": "markdown",
   "metadata": {},
   "source": [
    "Looking at the P-values of our ANOVA test, we found that those albums appearing in the top 500 reviewed albums that received higher scores appeared to be highly correlated to being either Pop/R&B or Rap (with Rock being very close as well)."
   ]
  },
  {
   "cell_type": "markdown",
   "metadata": {},
   "source": [
    "### Creating ANOVA tables for Worst rated songs:"
   ]
  },
  {
   "cell_type": "code",
   "execution_count": 26,
   "metadata": {},
   "outputs": [
    {
     "name": "stdout",
     "output_type": "stream",
     "text": [
      "                     sum_sq     df         F    PR(>F)\n",
      "C(rock)            0.172404    1.0  0.225969  0.634690\n",
      "C(electronic)      1.091531    1.0  1.430664  0.232096\n",
      "C(rap)             0.101879    1.0  0.133532  0.714918\n",
      "C(metal)           0.023072    1.0  0.030241  0.862000\n",
      "C(experimental)    0.146514    1.0  0.192035  0.661375\n",
      "C(jazz)            0.686205    1.0  0.899406  0.343297\n",
      "C(pop_rb)          0.126617    1.0  0.165956  0.683867\n",
      "C(folk_country)    0.556711    1.0  0.729678  0.393305\n",
      "Residual         491.342202  644.0       NaN       NaN\n"
     ]
    }
   ],
   "source": [
    "formula = \"\"\"score ~ C(rock) + C(electronic) + C(rap) + C(metal) \n",
    "            + C(experimental) +C(jazz) + C(pop_rb) + C(folk_country)\"\"\"\n",
    "lm = ols(formula, worst_wgenres).fit()\n",
    "table = sm.stats.anova_lm(lm, typ=2)\n",
    "print(table)"
   ]
  },
  {
   "cell_type": "markdown",
   "metadata": {},
   "source": [
    "For our ANOVA test on the worst rated albums, we did not find any genre with a statisttically significant relation to the score they received.  This being said, it would appear that bad albums are considered such, and there is potentially no bias for this based genre."
   ]
  },
  {
   "cell_type": "markdown",
   "metadata": {},
   "source": [
    "Based on these results, we decided to drill more into the reviewers and how they scored.  Here is a brief digression into the scoring of top 500 reviews by the author type:"
   ]
  },
  {
   "cell_type": "markdown",
   "metadata": {},
   "source": [
    "#### Creating encoding for review by author type:"
   ]
  },
  {
   "cell_type": "code",
   "execution_count": 27,
   "metadata": {},
   "outputs": [
    {
     "data": {
      "text/plain": [
       "{'contributor': 'contributor',\n",
       " 'executive editor': 'executive_editor',\n",
       " 'senior editor': 'senior_editor',\n",
       " 'editor-in-chief': 'editor-in-chief',\n",
       " 'contributing editor': 'contributing_editor',\n",
       " 'associate reviews editor': 'associate_reviews_editor',\n",
       " 'senior staff writer': 'senior_staff_writer',\n",
       " 'deputy news editor': 'deputy_news_editor'}"
      ]
     },
     "execution_count": 27,
     "metadata": {},
     "output_type": "execute_result"
    }
   ],
   "source": [
    "# Create reviewer types\n",
    "reviewer = list(best_wgenres['author_type'].value_counts().index)\n",
    "\n",
    "rev_names = {}\n",
    "for r in reviewer:\n",
    "    rev_names[r] = r.replace(\" \",\"_\")\n",
    "rev_names"
   ]
  },
  {
   "cell_type": "code",
   "execution_count": 28,
   "metadata": {},
   "outputs": [],
   "source": [
    "# Performing manual one hot encoding on reviews by author type:\n",
    "for old, new in rev_names.items():\n",
    "    best_wgenres[new] = best_wgenres['author_type'].apply(lambda x: 1 if x == old else 0)\n",
    "    worst_wgenres[new] = worst_wgenres['author_type'].apply(lambda x: 1 if x == old else 0)"
   ]
  },
  {
   "cell_type": "code",
   "execution_count": 29,
   "metadata": {},
   "outputs": [],
   "source": [
    "best_wgenres.rename(columns={'editor-in-chief':'ec'}, inplace=True)\n",
    "worst_wgenres.rename(columns={'editor-in-chief':'ec'}, inplace=True)"
   ]
  },
  {
   "cell_type": "markdown",
   "metadata": {},
   "source": [
    "####  ANOVA Table for author type by review score: Best scores"
   ]
  },
  {
   "cell_type": "code",
   "execution_count": 30,
   "metadata": {},
   "outputs": [
    {
     "name": "stdout",
     "output_type": "stream",
     "text": [
      "                                sum_sq     df         F    PR(>F)\n",
      "C(contributor)                0.099847    1.0  0.895279  0.344441\n",
      "C(executive_editor)           0.632875    1.0  5.674655  0.017530\n",
      "C(senior_editor)              0.080004    1.0  0.717355  0.397359\n",
      "C(ec)                         0.200698    1.0  1.799553  0.180287\n",
      "C(contributing_editor)        0.066484    1.0  0.596123  0.440373\n",
      "C(associate_reviews_editor)   0.277094    1.0  2.484554  0.115510\n",
      "C(senior_staff_writer)        0.099482    1.0  0.892007  0.345324\n",
      "C(deputy_news_editor)         0.047042    1.0  0.421799  0.516296\n",
      "Residual                     65.243010  585.0       NaN       NaN\n"
     ]
    }
   ],
   "source": [
    "formula = \"\"\"score ~ C(contributor) + C(executive_editor) + C(senior_editor) \n",
    "            + C(ec) + C(contributing_editor) + C(associate_reviews_editor) \n",
    "            + C(senior_staff_writer) + C(deputy_news_editor)\"\"\"\n",
    "lm = ols(formula, best_wgenres).fit()\n",
    "table = sm.stats.anova_lm(lm, typ=2)\n",
    "print(table)"
   ]
  },
  {
   "cell_type": "markdown",
   "metadata": {},
   "source": [
    "#### ANOVA Table for author type by review score: Worst scores"
   ]
  },
  {
   "cell_type": "code",
   "execution_count": 31,
   "metadata": {},
   "outputs": [
    {
     "name": "stdout",
     "output_type": "stream",
     "text": [
      "                            sum_sq     df         F    PR(>F)\n",
      "C(contributor)            0.207015    1.0  0.273110  0.601432\n",
      "C(executive_editor)       0.398292    1.0  0.525460  0.468784\n",
      "C(senior_editor)          0.463840    1.0  0.611935  0.434346\n",
      "C(ec)                     2.182150    1.0  2.878869  0.090230\n",
      "C(senior_staff_writer)    0.470435    1.0  0.620636  0.431099\n",
      "Residual                490.418612  647.0       NaN       NaN\n"
     ]
    }
   ],
   "source": [
    "formula = \"\"\"score ~ C(contributor) + C(executive_editor) + C(senior_editor) \n",
    "            + C(ec) + C(senior_staff_writer)\"\"\"\n",
    "worst = ols(formula, worst_wgenres).fit()\n",
    "table = sm.stats.anova_lm(worst, typ=2)\n",
    "print(table)"
   ]
  },
  {
   "cell_type": "markdown",
   "metadata": {},
   "source": [
    "#### Summary: Hypothesis #2\n",
    "\n",
    "Based on the results of our ANOVA test, we were able to reject our null hypothesis and say that there is a statistically significant difference between how genres are scored between the top 500 rated albums and the worst 500 rated albums.  Pop/R&B and Rap albums appear to be correlated to higher scores within the top 500 rated albums. To further look into this, we can see that part of the reason may be that there are so few albums of these genres are actually represented in the top 500. "
   ]
  },
  {
   "cell_type": "code",
   "execution_count": 32,
   "metadata": {
    "scrolled": true
   },
   "outputs": [
    {
     "name": "stdout",
     "output_type": "stream",
     "text": [
      " Percent of Top 500 Rap or Pop/R&B: 10.77% \n"
     ]
    }
   ],
   "source": [
    "print(f\"\"\" Percent of Top 500 Rap or Pop/R&B: {round((((len(best_wgenres[best_wgenres['rap'] == 1]) +\n",
    " len(best_wgenres[best_wgenres['pop_rb'] == 1])) / best_wgenres.shape[0]) * 100), 2)}% \"\"\")"
   ]
  },
  {
   "cell_type": "markdown",
   "metadata": {},
   "source": [
    "In reviewing scores by author type, there does seem to be some correlation between the Executive Editor and the score those in the top 500 receive.  This could be understood as that position getting the best assignments that come in based on their musical knowledge, but with this showing significance, it seemed worth looking into how different reviewers score albums.  "
   ]
  },
  {
   "cell_type": "markdown",
   "metadata": {},
   "source": [
    "## Hypothesis Test #3\n",
    "* Null Hypothesis: There is no statistical difference between the top reviewers (5 reviewers who scored the most albums) scores between genres.\n",
    "* Alternative: There is a statistical difference between the top reviewers (5 reviewers who scored the most albums) scores between genres."
   ]
  },
  {
   "cell_type": "code",
   "execution_count": 33,
   "metadata": {},
   "outputs": [
    {
     "data": {
      "text/html": [
       "<div>\n",
       "<style scoped>\n",
       "    .dataframe tbody tr th:only-of-type {\n",
       "        vertical-align: middle;\n",
       "    }\n",
       "\n",
       "    .dataframe tbody tr th {\n",
       "        vertical-align: top;\n",
       "    }\n",
       "\n",
       "    .dataframe thead th {\n",
       "        text-align: right;\n",
       "    }\n",
       "</style>\n",
       "<table border=\"1\" class=\"dataframe\">\n",
       "  <thead>\n",
       "    <tr style=\"text-align: right;\">\n",
       "      <th></th>\n",
       "      <th>author</th>\n",
       "      <th>review_count</th>\n",
       "    </tr>\n",
       "  </thead>\n",
       "  <tbody>\n",
       "    <tr>\n",
       "      <th>0</th>\n",
       "      <td>joe tangari</td>\n",
       "      <td>816</td>\n",
       "    </tr>\n",
       "    <tr>\n",
       "      <th>1</th>\n",
       "      <td>stephen m. deusner</td>\n",
       "      <td>725</td>\n",
       "    </tr>\n",
       "    <tr>\n",
       "      <th>2</th>\n",
       "      <td>ian cohen</td>\n",
       "      <td>699</td>\n",
       "    </tr>\n",
       "    <tr>\n",
       "      <th>3</th>\n",
       "      <td>brian howe</td>\n",
       "      <td>500</td>\n",
       "    </tr>\n",
       "    <tr>\n",
       "      <th>4</th>\n",
       "      <td>mark richardson</td>\n",
       "      <td>476</td>\n",
       "    </tr>\n",
       "  </tbody>\n",
       "</table>\n",
       "</div>"
      ],
      "text/plain": [
       "               author  review_count\n",
       "0         joe tangari           816\n",
       "1  stephen m. deusner           725\n",
       "2           ian cohen           699\n",
       "3          brian howe           500\n",
       "4     mark richardson           476"
      ]
     },
     "execution_count": 33,
     "metadata": {},
     "output_type": "execute_result"
    }
   ],
   "source": [
    "# Top 5 reviewers\n",
    "query = \"\"\"\n",
    "SELECT \n",
    "    author\n",
    ",   COUNT(*) review_count\n",
    "FROM \n",
    "    reviews\n",
    "GROUP BY\n",
    "    author\n",
    "ORDER BY\n",
    "    review_count DESC\n",
    "LIMIT 5\n",
    "\"\"\"\n",
    "\n",
    "top_5 = query_to_df(query)\n",
    "top_5"
   ]
  },
  {
   "cell_type": "code",
   "execution_count": 34,
   "metadata": {},
   "outputs": [
    {
     "data": {
      "text/html": [
       "<div>\n",
       "<style scoped>\n",
       "    .dataframe tbody tr th:only-of-type {\n",
       "        vertical-align: middle;\n",
       "    }\n",
       "\n",
       "    .dataframe tbody tr th {\n",
       "        vertical-align: top;\n",
       "    }\n",
       "\n",
       "    .dataframe thead th {\n",
       "        text-align: right;\n",
       "    }\n",
       "</style>\n",
       "<table border=\"1\" class=\"dataframe\">\n",
       "  <thead>\n",
       "    <tr style=\"text-align: right;\">\n",
       "      <th></th>\n",
       "      <th>author</th>\n",
       "      <th>reviewid</th>\n",
       "      <th>title</th>\n",
       "      <th>artist</th>\n",
       "      <th>url</th>\n",
       "      <th>score</th>\n",
       "      <th>best_new_music</th>\n",
       "      <th>author_type</th>\n",
       "      <th>pub_date</th>\n",
       "      <th>pub_weekday</th>\n",
       "      <th>pub_day</th>\n",
       "      <th>pub_month</th>\n",
       "      <th>pub_year</th>\n",
       "      <th>greater_than_100</th>\n",
       "    </tr>\n",
       "  </thead>\n",
       "  <tbody>\n",
       "    <tr>\n",
       "      <th>0</th>\n",
       "      <td>nate patrin</td>\n",
       "      <td>22703</td>\n",
       "      <td>mezzanine</td>\n",
       "      <td>massive attack</td>\n",
       "      <td>http://pitchfork.com/reviews/albums/22703-mezz...</td>\n",
       "      <td>9.3</td>\n",
       "      <td>0</td>\n",
       "      <td>contributor</td>\n",
       "      <td>2017-01-08</td>\n",
       "      <td>6</td>\n",
       "      <td>8</td>\n",
       "      <td>1</td>\n",
       "      <td>2017</td>\n",
       "      <td>1</td>\n",
       "    </tr>\n",
       "    <tr>\n",
       "      <th>1</th>\n",
       "      <td>zoe camp</td>\n",
       "      <td>22721</td>\n",
       "      <td>prelapsarian</td>\n",
       "      <td>krallice</td>\n",
       "      <td>http://pitchfork.com/reviews/albums/22721-prel...</td>\n",
       "      <td>7.9</td>\n",
       "      <td>0</td>\n",
       "      <td>contributor</td>\n",
       "      <td>2017-01-07</td>\n",
       "      <td>5</td>\n",
       "      <td>7</td>\n",
       "      <td>1</td>\n",
       "      <td>2017</td>\n",
       "      <td>0</td>\n",
       "    </tr>\n",
       "    <tr>\n",
       "      <th>2</th>\n",
       "      <td>david glickman</td>\n",
       "      <td>22659</td>\n",
       "      <td>all of them naturals</td>\n",
       "      <td>uranium club</td>\n",
       "      <td>http://pitchfork.com/reviews/albums/22659-all-...</td>\n",
       "      <td>7.3</td>\n",
       "      <td>0</td>\n",
       "      <td>contributor</td>\n",
       "      <td>2017-01-07</td>\n",
       "      <td>5</td>\n",
       "      <td>7</td>\n",
       "      <td>1</td>\n",
       "      <td>2017</td>\n",
       "      <td>0</td>\n",
       "    </tr>\n",
       "    <tr>\n",
       "      <th>3</th>\n",
       "      <td>jenn pelly</td>\n",
       "      <td>22661</td>\n",
       "      <td>first songs</td>\n",
       "      <td>kleenex, liliput</td>\n",
       "      <td>http://pitchfork.com/reviews/albums/22661-firs...</td>\n",
       "      <td>9.0</td>\n",
       "      <td>1</td>\n",
       "      <td>associate reviews editor</td>\n",
       "      <td>2017-01-06</td>\n",
       "      <td>4</td>\n",
       "      <td>6</td>\n",
       "      <td>1</td>\n",
       "      <td>2017</td>\n",
       "      <td>0</td>\n",
       "    </tr>\n",
       "    <tr>\n",
       "      <th>4</th>\n",
       "      <td>kevin lozano</td>\n",
       "      <td>22725</td>\n",
       "      <td>new start</td>\n",
       "      <td>taso</td>\n",
       "      <td>http://pitchfork.com/reviews/albums/22725-new-...</td>\n",
       "      <td>8.1</td>\n",
       "      <td>0</td>\n",
       "      <td>tracks coordinator</td>\n",
       "      <td>2017-01-06</td>\n",
       "      <td>4</td>\n",
       "      <td>6</td>\n",
       "      <td>1</td>\n",
       "      <td>2017</td>\n",
       "      <td>0</td>\n",
       "    </tr>\n",
       "  </tbody>\n",
       "</table>\n",
       "</div>"
      ],
      "text/plain": [
       "           author  reviewid                 title            artist  \\\n",
       "0     nate patrin     22703             mezzanine    massive attack   \n",
       "1        zoe camp     22721          prelapsarian          krallice   \n",
       "2  david glickman     22659  all of them naturals      uranium club   \n",
       "3      jenn pelly     22661           first songs  kleenex, liliput   \n",
       "4    kevin lozano     22725             new start              taso   \n",
       "\n",
       "                                                 url  score  best_new_music  \\\n",
       "0  http://pitchfork.com/reviews/albums/22703-mezz...    9.3               0   \n",
       "1  http://pitchfork.com/reviews/albums/22721-prel...    7.9               0   \n",
       "2  http://pitchfork.com/reviews/albums/22659-all-...    7.3               0   \n",
       "3  http://pitchfork.com/reviews/albums/22661-firs...    9.0               1   \n",
       "4  http://pitchfork.com/reviews/albums/22725-new-...    8.1               0   \n",
       "\n",
       "                author_type    pub_date  pub_weekday  pub_day  pub_month  \\\n",
       "0               contributor  2017-01-08            6        8          1   \n",
       "1               contributor  2017-01-07            5        7          1   \n",
       "2               contributor  2017-01-07            5        7          1   \n",
       "3  associate reviews editor  2017-01-06            4        6          1   \n",
       "4        tracks coordinator  2017-01-06            4        6          1   \n",
       "\n",
       "   pub_year  greater_than_100  \n",
       "0      2017                 1  \n",
       "1      2017                 0  \n",
       "2      2017                 0  \n",
       "3      2017                 0  \n",
       "4      2017                 0  "
      ]
     },
     "execution_count": 34,
     "metadata": {},
     "output_type": "execute_result"
    }
   ],
   "source": [
    "# Gathering all reviewers with over 100 reviews.\n",
    "query = \"\"\"\n",
    "SELECT \n",
    "    *\n",
    "FROM \n",
    "    reviews\n",
    "INNER JOIN\n",
    "    (SELECT \n",
    "        author,\n",
    "        CASE WHEN COUNT(*) > 100 THEN 1 ELSE 0 END as greater_than_100\n",
    "     FROM \n",
    "        reviews\n",
    "     GROUP BY\n",
    "        author) as auth_reviews\n",
    "USING (author)\n",
    "\"\"\"\n",
    "\n",
    "author_reviews = query_to_df(query)\n",
    "author_reviews.head()"
   ]
  },
  {
   "cell_type": "code",
   "execution_count": 37,
   "metadata": {},
   "outputs": [],
   "source": [
    "#Author & Genre DB all with binary encoded values\n",
    "author_gen_df = author_reviews.merge(genres_hot_df, left_on='reviewid', right_on='reviewid')"
   ]
  },
  {
   "cell_type": "code",
   "execution_count": 38,
   "metadata": {},
   "outputs": [],
   "source": [
    "#Each genre for authors with >100 reviews:\n",
    "elec_df = author_gen_df[(author_gen_df['electronic'] == 1) & (author_gen_df['greater_than_100'] == 1)]\n",
    "pop_df = author_gen_df[(author_gen_df['pop/r&b'] == 1) & (author_gen_df['greater_than_100'] == 1)]"
   ]
  },
  {
   "cell_type": "code",
   "execution_count": 39,
   "metadata": {},
   "outputs": [],
   "source": [
    "# Exploring the Top 5 reviewers\n",
    "reviewers = ['joe tangari', 'ian cohen', 'mark richardson', 'stephen m. deusner']"
   ]
  },
  {
   "cell_type": "code",
   "execution_count": 40,
   "metadata": {},
   "outputs": [
    {
     "name": "stdout",
     "output_type": "stream",
     "text": [
      "Top Reviewers Pop/R&B Scores\n",
      "\n",
      "Joe Tangari: \n",
      "    Mean Score: 7.434\n",
      "    Std Dev: 0.799\n",
      "Ian Cohen: \n",
      "    Mean Score: 6.538\n",
      "    Std Dev: 1.433\n",
      "Mark Richardson: \n",
      "    Mean Score: 7.029\n",
      "    Std Dev: 1.593\n",
      "Stephen M. Deusner: \n",
      "    Mean Score: 6.866\n",
      "    Std Dev: 1.295\n"
     ]
    }
   ],
   "source": [
    "print(\"Top Reviewers Pop/R&B Scores\\n\")\n",
    "for name in reviewers:\n",
    "    print(f\"\"\"{name.title()}: \n",
    "    Mean Score: {round(pop_df.loc[pop_df['author'] == name, 'score'].mean(),3)}\n",
    "    Std Dev: {round(pop_df.loc[pop_df['author'] == name, 'score'].std(),3)}\"\"\")"
   ]
  },
  {
   "cell_type": "code",
   "execution_count": 41,
   "metadata": {},
   "outputs": [
    {
     "data": {
      "image/png": "[encoded data removed]",
      "text/plain": [
       "<Figure size 792x432 with 1 Axes>"
      ]
     },
     "metadata": {},
     "output_type": "display_data"
    }
   ],
   "source": [
    "#Graph of Top 5 reviewers score of Pop/R&B Albums\n",
    "plt.figure(figsize=(11,6))\n",
    "for name in reviewers:\n",
    "    sns.distplot(pop_df.loc[pop_df['author'] == name, 'score'],\n",
    "                 label=name.title(), hist=True, kde=True)\n",
    "plt.title(\"Reviews of Pop/R&B Albums by Top 5 Authors\")\n",
    "plt.xlabel(\"Score\")\n",
    "plt.legend()\n",
    "plt.show();"
   ]
  },
  {
   "cell_type": "code",
   "execution_count": 42,
   "metadata": {},
   "outputs": [
    {
     "name": "stdout",
     "output_type": "stream",
     "text": [
      "Top Reviewers Electronic Scores\n",
      "\n",
      "Joe Tangari: \n",
      "    Mean Score: 7.273\n",
      "    Std Dev: 0.882\n",
      "Ian Cohen: \n",
      "    Mean Score: 5.934\n",
      "    Std Dev: 1.799\n",
      "Mark Richardson: \n",
      "    Mean Score: 7.377\n",
      "    Std Dev: 1.228\n",
      "Stephen M. Deusner: \n",
      "    Mean Score: 6.874\n",
      "    Std Dev: 1.208\n"
     ]
    }
   ],
   "source": [
    "print(\"Top Reviewers Electronic Scores\\n\")\n",
    "for name in reviewers:\n",
    "    print(f\"\"\"{name.title()}: \n",
    "    Mean Score: {round(elec_df.loc[elec_df['author'] == name, 'score'].mean(), 3)}\n",
    "    Std Dev: {round(elec_df.loc[elec_df['author'] == name, 'score'].std(),3)}\"\"\")"
   ]
  },
  {
   "cell_type": "code",
   "execution_count": 43,
   "metadata": {},
   "outputs": [
    {
     "data": {
      "image/png": "[encoded data removed]",
      "text/plain": [
       "<Figure size 792x432 with 1 Axes>"
      ]
     },
     "metadata": {},
     "output_type": "display_data"
    }
   ],
   "source": [
    "#Graph of Top 5 reviewers score of Pop/R&B Albums\n",
    "plt.figure(figsize=(11,6))\n",
    "for name in reviewers:\n",
    "    sns.distplot(elec_df.loc[elec_df['author'] == name, 'score'], label=name.title(), hist=True, kde=True)\n",
    "plt.title(\"Reviews of Electronic Albums by Top 5 Authors\")\n",
    "plt.xlabel(\"Score\")\n",
    "plt.legend()\n",
    "plt.show();"
   ]
  },
  {
   "cell_type": "code",
   "execution_count": 44,
   "metadata": {},
   "outputs": [
    {
     "name": "stdout",
     "output_type": "stream",
     "text": [
      "('joe tangari', 'ian cohen')\n",
      "Sample 1 Review Mean:  7.433802816901408\n",
      "Sampe 2 Review Mean:  6.537777777777777\n",
      "Difference:  0.8960250391236313\n",
      "T-Statistic: 4.320562728882836\n",
      "P-Value: 3.341563304143575e-05\n",
      "\n",
      "\n",
      "('joe tangari', 'mark richardson')\n",
      "Sample 1 Review Mean:  7.433802816901408\n",
      "Sampe 2 Review Mean:  7.0285714285714285\n",
      "Difference:  0.4052313883299794\n",
      "T-Statistic: 1.5841638110459617\n",
      "P-Value: 0.11666419657870923\n",
      "\n",
      "\n",
      "('joe tangari', 'stephen m. deusner')\n",
      "Sample 1 Review Mean:  7.433802816901408\n",
      "Sampe 2 Review Mean:  6.86590909090909\n",
      "Difference:  0.5678937259923176\n",
      "T-Statistic: 2.9111091591865117\n",
      "P-Value: 0.0043395818277747\n",
      "\n",
      "\n",
      "('ian cohen', 'mark richardson')\n",
      "Sample 1 Review Mean:  6.537777777777777\n",
      "Sampe 2 Review Mean:  7.0285714285714285\n",
      "Difference:  -0.4907936507936519\n",
      "T-Statistic: -1.250974380466433\n",
      "P-Value: 0.21549769531905105\n",
      "\n",
      "\n",
      "('ian cohen', 'stephen m. deusner')\n",
      "Sample 1 Review Mean:  6.537777777777777\n",
      "Sampe 2 Review Mean:  6.86590909090909\n",
      "Difference:  -0.3281313131313137\n",
      "T-Statistic: -1.1327105259438668\n",
      "P-Value: 0.26044791765231695\n",
      "\n",
      "\n",
      "('mark richardson', 'stephen m. deusner')\n",
      "Sample 1 Review Mean:  7.0285714285714285\n",
      "Sampe 2 Review Mean:  6.86590909090909\n",
      "Difference:  0.16266233766233817\n",
      "T-Statistic: 0.4392370868592848\n",
      "P-Value: 0.6619926590459997\n",
      "\n",
      "\n"
     ]
    }
   ],
   "source": [
    "# Looking at how much each of Top 5 reviewers differ from each other on Pop/R&B scores with Two Sample T-Test\n",
    "for com in combinations(reviewers,2):\n",
    "    print(com)\n",
    "    two_sample_ttest_stats(pop_df.loc[pop_df['author'] == com[0], 'score'], \n",
    "                           pop_df.loc[pop_df['author'] == com[1], 'score'])\n",
    "    print('\\n')"
   ]
  },
  {
   "cell_type": "code",
   "execution_count": 45,
   "metadata": {},
   "outputs": [
    {
     "name": "stdout",
     "output_type": "stream",
     "text": [
      "Joe Tangari v. all others - Pop/R&B\n",
      "Sample 1 Review Mean:  7.433802816901408\n",
      "Sampe 2 Review Mean:  6.829999999999999\n",
      "Difference:  0.6038028169014087\n",
      "T-Statistic: 3.780454572238638\n",
      "P-Value: 0.0001674971905368177\n",
      "\n",
      "\n",
      "Ian Cohen v. all others - Pop/R&B\n",
      "Sample 1 Review Mean:  6.537777777777777\n",
      "Sampe 2 Review Mean:  6.899503722084368\n",
      "Difference:  -0.361725944306591\n",
      "T-Statistic: -1.8211575146393946\n",
      "P-Value: 0.06893474620182803\n",
      "\n",
      "\n",
      "Mark Richardson v. all others - Pop/R&B\n",
      "Sample 1 Review Mean:  7.0285714285714285\n",
      "Sampe 2 Review Mean:  6.876626506024097\n",
      "Difference:  0.15194492254733127\n",
      "T-Statistic: 0.5293634936838577\n",
      "P-Value: 0.5966917001244822\n",
      "\n",
      "\n",
      "Stephen M. Deusner v. all others - Pop/R&B\n",
      "Sample 1 Review Mean:  6.86590909090909\n",
      "Sampe 2 Review Mean:  6.881164807930608\n",
      "Difference:  -0.015255717021517512\n",
      "T-Statistic: -0.07584808890471785\n",
      "P-Value: 0.9395578256480192\n",
      "\n",
      "\n"
     ]
    }
   ],
   "source": [
    "# Top 5 reviewers v. all others on Pop/R&B Albums\n",
    "for name in reviewers:\n",
    "    print(f\"{name.title()} v. all others - Pop/R&B\")\n",
    "    two_sample_ttest_stats(pop_df.loc[pop_df['author'] == name, 'score'], \n",
    "                           pop_df.loc[pop_df['author'] != name, 'score'])\n",
    "    print('\\n')"
   ]
  },
  {
   "cell_type": "code",
   "execution_count": 46,
   "metadata": {},
   "outputs": [
    {
     "data": {
      "image/png": "[encoded data removed]",
      "text/plain": [
       "<Figure size 792x432 with 1 Axes>"
      ]
     },
     "metadata": {},
     "output_type": "display_data"
    }
   ],
   "source": [
    "plt.figure(figsize=(11,6))\n",
    "\n",
    "sns.distplot(pop_df.loc[pop_df['author'] == 'joe tangari', 'score'],\n",
    "             label='Joe Tangari', hist=True, kde=True)\n",
    "sns.distplot(pop_df.loc[pop_df['author'] != 'joe tangari', 'score'],\n",
    "             label='All others', hist=True, kde=True, color='blue')\n",
    "plt.title(\"Joe Tangari v. all others: Pop/R&B albumns\")\n",
    "plt.xlabel(\"Score\")\n",
    "plt.legend()\n",
    "plt.show();"
   ]
  },
  {
   "cell_type": "code",
   "execution_count": 47,
   "metadata": {},
   "outputs": [
    {
     "data": {
      "image/png": "[encoded data removed]",
      "text/plain": [
       "<Figure size 792x432 with 1 Axes>"
      ]
     },
     "metadata": {},
     "output_type": "display_data"
    }
   ],
   "source": [
    "plt.figure(figsize=(11,6))\n",
    "\n",
    "sns.distplot(pop_df.loc[pop_df['author'] == 'ian cohen', 'score'], bins=15,\n",
    "             label='Ian Cohen', hist=True, kde=True, color='green')\n",
    "sns.distplot(pop_df.loc[pop_df['author'] != 'ian cohen', 'score'], bins=15,\n",
    "             label='All others', hist=True, kde=True, color='blue')\n",
    "plt.title(\"Ian Cohen v. all others: Pop/R&B albumns\")\n",
    "plt.xlabel(\"Score\")\n",
    "plt.legend()\n",
    "plt.show();"
   ]
  },
  {
   "cell_type": "code",
   "execution_count": 48,
   "metadata": {},
   "outputs": [
    {
     "name": "stdout",
     "output_type": "stream",
     "text": [
      "('joe tangari', 'ian cohen')\n",
      "Sample 1 Review Mean:  7.273417721518986\n",
      "Sampe 2 Review Mean:  5.934343434343433\n",
      "Difference:  1.3390742871755528\n",
      "T-Statistic: 6.056563092058852\n",
      "P-Value: 8.203704143786283e-09\n",
      "\n",
      "\n",
      "('joe tangari', 'mark richardson')\n",
      "Sample 1 Review Mean:  7.273417721518986\n",
      "Sampe 2 Review Mean:  7.377435897435897\n",
      "Difference:  -0.1040181759169112\n",
      "T-Statistic: -0.6842955243514649\n",
      "P-Value: 0.4943711829530054\n",
      "\n",
      "\n",
      "('joe tangari', 'stephen m. deusner')\n",
      "Sample 1 Review Mean:  7.273417721518986\n",
      "Sampe 2 Review Mean:  6.8741935483870975\n",
      "Difference:  0.3992241731318886\n",
      "T-Statistic: 1.9152418324630343\n",
      "P-Value: 0.05810660455179533\n",
      "\n",
      "\n",
      "('ian cohen', 'mark richardson')\n",
      "Sample 1 Review Mean:  5.934343434343433\n",
      "Sampe 2 Review Mean:  7.377435897435897\n",
      "Difference:  -1.443092463092464\n",
      "T-Statistic: -8.090463051689461\n",
      "P-Value: 1.6092604672962214e-14\n",
      "\n",
      "\n",
      "('ian cohen', 'stephen m. deusner')\n",
      "Sample 1 Review Mean:  5.934343434343433\n",
      "Sampe 2 Review Mean:  6.8741935483870975\n",
      "Difference:  -0.9398501140436641\n",
      "T-Statistic: -2.7186355954800487\n",
      "P-Value: 0.007464756488257391\n",
      "\n",
      "\n",
      "('mark richardson', 'stephen m. deusner')\n",
      "Sample 1 Review Mean:  7.377435897435897\n",
      "Sampe 2 Review Mean:  6.8741935483870975\n",
      "Difference:  0.5032423490487998\n",
      "T-Statistic: 2.1235644603457207\n",
      "P-Value: 0.034803383200908346\n",
      "\n",
      "\n"
     ]
    }
   ],
   "source": [
    "# Looking at how much each of Top 5 reviewers differ from each other on Electronic scores with Two Sample T-Test\n",
    "for com in combinations(reviewers,2):\n",
    "    print(com)\n",
    "    two_sample_ttest_stats(elec_df.loc[elec_df['author'] == com[0], 'score'], \n",
    "                           elec_df.loc[elec_df['author'] == com[1], 'score'])\n",
    "    print('\\n')"
   ]
  },
  {
   "cell_type": "code",
   "execution_count": 49,
   "metadata": {},
   "outputs": [
    {
     "name": "stdout",
     "output_type": "stream",
     "text": [
      "Joe Tangari v. all others - Electronic\n",
      "Sample 1 Review Mean:  7.273417721518986\n",
      "Sampe 2 Review Mean:  6.923762010347376\n",
      "Difference:  0.3496557111716099\n",
      "T-Statistic: 2.322957970558429\n",
      "P-Value: 0.020253158670236762\n",
      "\n",
      "\n",
      "Ian Cohen v. all others - Electronic\n",
      "Sample 1 Review Mean:  5.934343434343433\n",
      "Sampe 2 Review Mean:  6.970513775130305\n",
      "Difference:  -1.0361703407868719\n",
      "T-Statistic: -7.752540033739438\n",
      "P-Value: 1.25350200783666e-14\n",
      "\n",
      "\n",
      "Mark Richardson v. all others - Electronic\n",
      "Sample 1 Review Mean:  7.377435897435897\n",
      "Sampe 2 Review Mean:  6.900270270270269\n",
      "Difference:  0.47716562716562816\n",
      "T-Statistic: 4.888727510765283\n",
      "P-Value: 1.072525667502017e-06\n",
      "\n",
      "\n",
      "Stephen M. Deusner v. all others - Electronic\n",
      "Sample 1 Review Mean:  6.8741935483870975\n",
      "Sampe 2 Review Mean:  6.9343500363108195\n",
      "Difference:  -0.06015648792372197\n",
      "T-Statistic: -0.2523207151759934\n",
      "P-Value: 0.8008118104968299\n",
      "\n",
      "\n"
     ]
    }
   ],
   "source": [
    "# Top 5 reviewers v. all others on Electronic albums\n",
    "for name in reviewers:\n",
    "    print(f\"{name.title()} v. all others - Electronic\")\n",
    "    two_sample_ttest_stats(elec_df.loc[elec_df['author'] == name, 'score'], \n",
    "                           elec_df.loc[elec_df['author'] != name, 'score'])\n",
    "    print('\\n')"
   ]
  },
  {
   "cell_type": "code",
   "execution_count": 50,
   "metadata": {},
   "outputs": [
    {
     "data": {
      "image/png": "[encoded data removed]",
      "text/plain": [
       "<Figure size 792x432 with 1 Axes>"
      ]
     },
     "metadata": {},
     "output_type": "display_data"
    }
   ],
   "source": [
    "plt.figure(figsize=(11,6))\n",
    "\n",
    "sns.distplot(elec_df.loc[elec_df['author'] == 'joe tangari', 'score'],\n",
    "             label='Joe Tangari', hist=True, kde=True)\n",
    "sns.distplot(elec_df.loc[elec_df['author'] != 'joe tangari', 'score'],\n",
    "             label='All others', hist=True, kde=True, color='blue')\n",
    "plt.title(\"Joe Tangari v. all others: Electronic albumns\")\n",
    "plt.xlabel(\"Score\")\n",
    "plt.legend()\n",
    "plt.show();"
   ]
  },
  {
   "cell_type": "code",
   "execution_count": 51,
   "metadata": {},
   "outputs": [
    {
     "data": {
      "image/png": "[encoded data removed]",
      "text/plain": [
       "<Figure size 792x432 with 1 Axes>"
      ]
     },
     "metadata": {},
     "output_type": "display_data"
    }
   ],
   "source": [
    "plt.figure(figsize=(11,6))\n",
    "\n",
    "sns.distplot(elec_df.loc[elec_df['author'] == 'ian cohen', 'score'],\n",
    "             label='Ian Cohen', hist=True, kde=True, color='green')\n",
    "sns.distplot(elec_df.loc[elec_df['author'] != 'ian cohen', 'score'],\n",
    "             label='All others', hist=True, kde=True,color='blue')\n",
    "plt.title(\"Ian Cohen v. all others: Electronic albumns\")\n",
    "plt.xlabel(\"Score\")\n",
    "plt.legend()\n",
    "plt.show();"
   ]
  },
  {
   "cell_type": "markdown",
   "metadata": {},
   "source": [
    "#### Summary: Hypothesis #3\n",
    "\n",
    "Based on the results, we reject the null hypothesis and accept that there are certain reviewers who write more favorable reviews for different genres. In particular, Ian tends to review albums with greater variability and critic than others. Although Mark tends to score slightly higher than Joe, it is not statistically significant.   "
   ]
  },
  {
   "cell_type": "markdown",
   "metadata": {},
   "source": [
    "## Hypothesis Test #4\n",
    "* Null: There is no statistically significant difference between self-released album ratings and all others. \n",
    "* Alternative: Self-released albums have a statistically significant decrease in ratings compared to other labels."
   ]
  },
  {
   "cell_type": "code",
   "execution_count": 52,
   "metadata": {},
   "outputs": [
    {
     "data": {
      "text/html": [
       "<div>\n",
       "<style scoped>\n",
       "    .dataframe tbody tr th:only-of-type {\n",
       "        vertical-align: middle;\n",
       "    }\n",
       "\n",
       "    .dataframe tbody tr th {\n",
       "        vertical-align: top;\n",
       "    }\n",
       "\n",
       "    .dataframe thead th {\n",
       "        text-align: right;\n",
       "    }\n",
       "</style>\n",
       "<table border=\"1\" class=\"dataframe\">\n",
       "  <thead>\n",
       "    <tr style=\"text-align: right;\">\n",
       "      <th></th>\n",
       "      <th>reviewid</th>\n",
       "      <th>label</th>\n",
       "      <th>label count</th>\n",
       "    </tr>\n",
       "  </thead>\n",
       "  <tbody>\n",
       "    <tr>\n",
       "      <th>0</th>\n",
       "      <td>22703</td>\n",
       "      <td>virgin</td>\n",
       "      <td>1</td>\n",
       "    </tr>\n",
       "    <tr>\n",
       "      <th>1</th>\n",
       "      <td>22721</td>\n",
       "      <td>hathenter</td>\n",
       "      <td>1</td>\n",
       "    </tr>\n",
       "    <tr>\n",
       "      <th>2</th>\n",
       "      <td>22659</td>\n",
       "      <td>static shock</td>\n",
       "      <td>2</td>\n",
       "    </tr>\n",
       "    <tr>\n",
       "      <th>3</th>\n",
       "      <td>22659</td>\n",
       "      <td>fashionable idiots</td>\n",
       "      <td>2</td>\n",
       "    </tr>\n",
       "    <tr>\n",
       "      <th>4</th>\n",
       "      <td>22661</td>\n",
       "      <td>kill rock stars</td>\n",
       "      <td>2</td>\n",
       "    </tr>\n",
       "  </tbody>\n",
       "</table>\n",
       "</div>"
      ],
      "text/plain": [
       "   reviewid               label  label count\n",
       "0     22703              virgin            1\n",
       "1     22721           hathenter            1\n",
       "2     22659        static shock            2\n",
       "3     22659  fashionable idiots            2\n",
       "4     22661     kill rock stars            2"
      ]
     },
     "execution_count": 52,
     "metadata": {},
     "output_type": "execute_result"
    }
   ],
   "source": [
    "# Finding albums with multiple labels\n",
    "multi_label = dict(labels_df['reviewid'].value_counts())\n",
    "labels_df['label count'] = labels_df['reviewid'].apply(lambda x: multi_label[x])\n",
    "labels_df.head()"
   ]
  },
  {
   "cell_type": "code",
   "execution_count": 53,
   "metadata": {},
   "outputs": [],
   "source": [
    "# removing duplicate labels per album\n",
    "to_drop = labels_df[labels_df['label count'] > 1]\n",
    "label_solo_df = labels_df.drop(to_drop.index, axis=0)\n",
    "revlab_df = reviews_df.merge(label_solo_df, left_on='reviewid', right_on='reviewid')"
   ]
  },
  {
   "cell_type": "code",
   "execution_count": 54,
   "metadata": {},
   "outputs": [],
   "source": [
    "self_df = revlab_df[revlab_df['label'] == 'self-released'].copy()\n",
    "label_df = revlab_df[revlab_df['label'] != 'self-released'].copy()"
   ]
  },
  {
   "cell_type": "code",
   "execution_count": 55,
   "metadata": {},
   "outputs": [
    {
     "data": {
      "image/png": "[encoded data removed]",
      "text/plain": [
       "<Figure size 792x432 with 1 Axes>"
      ]
     },
     "metadata": {},
     "output_type": "display_data"
    }
   ],
   "source": [
    "plt.figure(figsize=(11,6))\n",
    "sns.distplot(self_df['score'], label='Self-released albums');\n",
    "sns.distplot(label_df['score'], label='Label released albums');\n",
    "plt.legend()\n",
    "plt.show();"
   ]
  },
  {
   "cell_type": "code",
   "execution_count": 56,
   "metadata": {},
   "outputs": [
    {
     "name": "stdout",
     "output_type": "stream",
     "text": [
      "Sample 1 Review Mean:  6.918181818181819\n",
      "Sampe 2 Review Mean:  7.009612678210855\n",
      "Difference:  -0.09143086002903633\n",
      "T-Statistic: -1.4400160399176198\n",
      "P-Value: 0.14988154041527244\n"
     ]
    }
   ],
   "source": [
    "two_sample_ttest_stats(self_df['score'], label_df['score'])"
   ]
  },
  {
   "cell_type": "code",
   "execution_count": 57,
   "metadata": {},
   "outputs": [
    {
     "data": {
      "text/plain": [
       "20.742462442038583"
      ]
     },
     "execution_count": 57,
     "metadata": {},
     "output_type": "execute_result"
    }
   ],
   "source": [
    "sample_size_calc(self_df['score'], label_df['score'])"
   ]
  },
  {
   "cell_type": "code",
   "execution_count": 60,
   "metadata": {},
   "outputs": [
    {
     "name": "stdout",
     "output_type": "stream",
     "text": [
      "Label Sample Means Stdv: 0.2627\n",
      "Pop 2.5 Percentile: 6.579\n",
      "Pop 97.5 Percentile: 7.5107\n"
     ]
    }
   ],
   "source": [
    "std, low_p, high_p = bootstrap_mean_stats(label_df['score'], sample_size=25, n_tests=100)\n",
    "print(f\"Label Sample Means Stdv: {std}\\nPop 2.5 Percentile: {low_p}\\nPop 97.5 Percentile: {high_p}\")"
   ]
  },
  {
   "cell_type": "code",
   "execution_count": 61,
   "metadata": {},
   "outputs": [
    {
     "name": "stdout",
     "output_type": "stream",
     "text": [
      "Label Sample Means Stdv: 0.2131\n",
      "Pop 2.5 Percentile: 6.552\n",
      "Pop 97.5 Percentile: 7.3002\n"
     ]
    }
   ],
   "source": [
    "std, low_p, high_p = bootstrap_mean_stats(self_df['score'], sample_size=25, n_tests=100)\n",
    "print(f\"Label Sample Means Stdv: {std}\\nPop 2.5 Percentile: {low_p}\\nPop 97.5 Percentile: {high_p}\")"
   ]
  },
  {
   "cell_type": "markdown",
   "metadata": {},
   "source": [
    "#### Summary: Hypothesis #4\n",
    "\n",
    "Based on the results, we accept our null hypothesis, due to our two sample t-test resulting in a P-value of .149. The review scores for both self published and label publshed do no appear to have favorable scores. "
   ]
  },
  {
   "cell_type": "markdown",
   "metadata": {},
   "source": [
    "## Additional Work - Twitter Followers"
   ]
  },
  {
   "cell_type": "code",
   "execution_count": 72,
   "metadata": {},
   "outputs": [
    {
     "data": {
      "text/html": [
       "<div>\n",
       "<style scoped>\n",
       "    .dataframe tbody tr th:only-of-type {\n",
       "        vertical-align: middle;\n",
       "    }\n",
       "\n",
       "    .dataframe tbody tr th {\n",
       "        vertical-align: top;\n",
       "    }\n",
       "\n",
       "    .dataframe thead th {\n",
       "        text-align: right;\n",
       "    }\n",
       "</style>\n",
       "<table border=\"1\" class=\"dataframe\">\n",
       "  <thead>\n",
       "    <tr style=\"text-align: right;\">\n",
       "      <th></th>\n",
       "      <th>followers</th>\n",
       "      <th>author</th>\n",
       "      <th>twitter</th>\n",
       "    </tr>\n",
       "  </thead>\n",
       "  <tbody>\n",
       "    <tr>\n",
       "      <th>29</th>\n",
       "      <td>44768</td>\n",
       "      <td>laura snapes</td>\n",
       "      <td>@laurasnapes</td>\n",
       "    </tr>\n",
       "    <tr>\n",
       "      <th>15</th>\n",
       "      <td>25361</td>\n",
       "      <td>brandon stosuy</td>\n",
       "      <td>@brandonstosuy</td>\n",
       "    </tr>\n",
       "    <tr>\n",
       "      <th>24</th>\n",
       "      <td>20121</td>\n",
       "      <td>lindsay zoladz</td>\n",
       "      <td>@lindsayzoladz</td>\n",
       "    </tr>\n",
       "    <tr>\n",
       "      <th>25</th>\n",
       "      <td>19338</td>\n",
       "      <td>ian cohen</td>\n",
       "      <td>@en_cohen</td>\n",
       "    </tr>\n",
       "    <tr>\n",
       "      <th>33</th>\n",
       "      <td>18929</td>\n",
       "      <td>mark richardson</td>\n",
       "      <td>@markrichardson</td>\n",
       "    </tr>\n",
       "  </tbody>\n",
       "</table>\n",
       "</div>"
      ],
      "text/plain": [
       "    followers           author          twitter\n",
       "29      44768     laura snapes     @laurasnapes\n",
       "15      25361   brandon stosuy   @brandonstosuy\n",
       "24      20121   lindsay zoladz   @lindsayzoladz\n",
       "25      19338        ian cohen        @en_cohen\n",
       "33      18929  mark richardson  @markrichardson"
      ]
     },
     "execution_count": 72,
     "metadata": {},
     "output_type": "execute_result"
    }
   ],
   "source": [
    "# Mean difference between these categories and others\n",
    "# If possible pull out Twitter stats for writers\n",
    "top_authors = ['joe tangari', 'ian cohen', 'stephen m. deusner', 'brian howe', 'mark richardson']\n",
    "author_tw = pd.read_csv('author_twitter.csv', index_col=0)\n",
    "author_tw.sort_values(by=['followers'], ascending=False).head()"
   ]
  },
  {
   "cell_type": "code",
   "execution_count": 120,
   "metadata": {},
   "outputs": [
    {
     "data": {
      "image/png": "[encoded data removed]",
      "text/plain": [
       "<Figure size 792x432 with 1 Axes>"
      ]
     },
     "metadata": {
      "needs_background": "light"
     },
     "output_type": "display_data"
    }
   ],
   "source": [
    "top_tweeters = ['laura snapes', 'brandon stosuy', 'lindsay zoladz', 'ian cohen', 'mark richardson']\n",
    "\n",
    "plt.figure(figsize=(11,6))\n",
    "for name in top_tweeters:\n",
    "    sns.distplot(author_gen_df.loc[author_gen_df['author'] == name, 'score'],\n",
    "                 label=name.title(), hist=True, kde=True)\n",
    "plt.title(\"Reviews of Authors by Top 5 Twitter Followers\")\n",
    "plt.xlabel(\"Score\")\n",
    "plt.legend()\n",
    "plt.show();"
   ]
  },
  {
   "cell_type": "code",
   "execution_count": 121,
   "metadata": {},
   "outputs": [
    {
     "name": "stdout",
     "output_type": "stream",
     "text": [
      "Laura Snapes v. all others - Electronic\n",
      "Sample 1 Review Mean:  6.86\n",
      "Sampe 2 Review Mean:  6.934079422382672\n",
      "Difference:  -0.07407942238267129\n",
      "T-Statistic: -0.2167651292085414\n",
      "P-Value: 0.8284072768686802\n",
      "\n",
      "\n",
      "Brandon Stosuy v. all others - Electronic\n",
      "Sample 1 Review Mean:  7.322857142857143\n",
      "Sampe 2 Review Mean:  6.928727272727273\n",
      "Difference:  0.3941298701298699\n",
      "T-Statistic: 1.7562360961997954\n",
      "P-Value: 0.07915808468252286\n",
      "\n",
      "\n",
      "Lindsay Zoladz v. all others - Electronic\n",
      "Sample 1 Review Mean:  7.241666666666666\n",
      "Sampe 2 Review Mean:  6.932347637937252\n",
      "Difference:  0.30931902872941386\n",
      "T-Statistic: 0.8100765186722234\n",
      "P-Value: 0.41796545878818936\n",
      "\n",
      "\n",
      "Ian Cohen v. all others - Electronic\n",
      "Sample 1 Review Mean:  5.934343434343433\n",
      "Sampe 2 Review Mean:  6.970513775130305\n",
      "Difference:  -1.0361703407868719\n",
      "T-Statistic: -7.752540033739438\n",
      "P-Value: 1.25350200783666e-14\n",
      "\n",
      "\n",
      "Mark Richardson v. all others - Electronic\n",
      "Sample 1 Review Mean:  7.377435897435897\n",
      "Sampe 2 Review Mean:  6.900270270270269\n",
      "Difference:  0.47716562716562816\n",
      "T-Statistic: 4.888727510765283\n",
      "P-Value: 1.072525667502017e-06\n",
      "\n",
      "\n"
     ]
    }
   ],
   "source": [
    "# Top social v. all others on Electronic albums\n",
    "for name in top_tweeters:\n",
    "    print(f\"{name.title()} v. all others - Electronic\")\n",
    "    two_sample_ttest_stats(elec_df.loc[elec_df['author'] == name, 'score'], \n",
    "                           elec_df.loc[elec_df['author'] != name, 'score'])\n",
    "    print('\\n')"
   ]
  },
  {
   "cell_type": "code",
   "execution_count": 122,
   "metadata": {},
   "outputs": [
    {
     "name": "stdout",
     "output_type": "stream",
     "text": [
      "Laura Snapes v. all others - Pop/R&B\n",
      "Sample 1 Review Mean:  7.247368421052633\n",
      "Sampe 2 Review Mean:  6.8719951923076925\n",
      "Difference:  0.37537322874494006\n",
      "T-Statistic: 1.2463676161059265\n",
      "P-Value: 0.21297324589415156\n",
      "\n",
      "\n",
      "Brandon Stosuy v. all others - Pop/R&B\n",
      "Sample 1 Review Mean:  6.866666666666667\n",
      "Sampe 2 Review Mean:  6.880424528301886\n",
      "Difference:  -0.013757861635219193\n",
      "T-Statistic: -0.018308679312946743\n",
      "P-Value: 0.9853969052175285\n",
      "\n",
      "\n",
      "Lindsay Zoladz v. all others - Pop/R&B\n",
      "Sample 1 Review Mean:  6.857142857142857\n",
      "Sampe 2 Review Mean:  6.880963855421687\n",
      "Difference:  -0.023820998278829997\n",
      "T-Statistic: -0.08297702378395043\n",
      "P-Value: 0.9338893681480673\n",
      "\n",
      "\n",
      "Ian Cohen v. all others - Pop/R&B\n",
      "Sample 1 Review Mean:  6.537777777777777\n",
      "Sampe 2 Review Mean:  6.899503722084368\n",
      "Difference:  -0.361725944306591\n",
      "T-Statistic: -1.8211575146393946\n",
      "P-Value: 0.06893474620182803\n",
      "\n",
      "\n",
      "Mark Richardson v. all others - Pop/R&B\n",
      "Sample 1 Review Mean:  7.0285714285714285\n",
      "Sampe 2 Review Mean:  6.876626506024097\n",
      "Difference:  0.15194492254733127\n",
      "T-Statistic: 0.5293634936838577\n",
      "P-Value: 0.5966917001244822\n",
      "\n",
      "\n"
     ]
    }
   ],
   "source": [
    "# Top 5 reviewers v. all others on Pop/R&B Albums\n",
    "for name in top_tweeters:\n",
    "    print(f\"{name.title()} v. all others - Pop/R&B\")\n",
    "    two_sample_ttest_stats(pop_df.loc[pop_df['author'] == name, 'score'], \n",
    "                           pop_df.loc[pop_df['author'] != name, 'score'])\n",
    "    print('\\n')"
   ]
  },
  {
   "cell_type": "code",
   "execution_count": 125,
   "metadata": {},
   "outputs": [
    {
     "name": "stderr",
     "output_type": "stream",
     "text": [
      "/Users/nawjux/anaconda3/envs/learn-env/lib/python3.6/site-packages/numpy/core/_methods.py:140: RuntimeWarning: Degrees of freedom <= 0 for slice\n",
      "  keepdims=keepdims)\n",
      "/Users/nawjux/anaconda3/envs/learn-env/lib/python3.6/site-packages/numpy/core/_methods.py:132: RuntimeWarning: invalid value encountered in double_scalars\n",
      "  ret = ret.dtype.type(ret / rcount)\n"
     ]
    },
    {
     "data": {
      "image/png": "[encoded data removed]",
      "text/plain": [
       "<Figure size 792x432 with 1 Axes>"
      ]
     },
     "metadata": {
      "needs_background": "light"
     },
     "output_type": "display_data"
    }
   ],
   "source": [
    "genres = list(set(genres_df['genre']))\n",
    "genres.remove(None)\n",
    "\n",
    "plt.figure(figsize=(11,6))\n",
    "for genre in genres:\n",
    "    sns.distplot(author_gen_df.loc[((author_gen_df['author'] == 'ian cohen') &\n",
    "                                    (author_gen_df[genre] == 1)), 'score'],\n",
    "                 label=genre, hist=True, kde=True)\n",
    "plt.title(\"Ian Cohen - Reviews by Genre\")\n",
    "plt.xlabel(\"Score\")\n",
    "plt.legend()\n",
    "plt.show();"
   ]
  },
  {
   "cell_type": "code",
   "execution_count": 127,
   "metadata": {},
   "outputs": [
    {
     "data": {
      "image/png": "[encoded data removed]",
      "text/plain": [
       "<Figure size 792x432 with 1 Axes>"
      ]
     },
     "metadata": {
      "needs_background": "light"
     },
     "output_type": "display_data"
    }
   ],
   "source": [
    "plt.figure(figsize=(11,6))\n",
    "sns.distplot(author_gen_df.loc[author_gen_df['author'] == 'ian cohen', 'score'],\n",
    "                 label='Ian Cohen', hist=True, kde=True)\n",
    "sns.distplot(author_gen_df.loc[author_gen_df['author'] != 'ian cohen', 'score'],\n",
    "                 label='All others', hist=True, kde=True)\n",
    "plt.title(\"Ian Cohen v. all others\")\n",
    "plt.xlabel(\"Score\")\n",
    "plt.legend()\n",
    "plt.show();"
   ]
  }
 ],
 "metadata": {
  "kernelspec": {
   "display_name": "Python 3",
   "language": "python",
   "name": "python3"
  },
  "language_info": {
   "codemirror_mode": {
    "name": "ipython",
    "version": 3
   },
   "file_extension": ".py",
   "mimetype": "text/x-python",
   "name": "python",
   "nbconvert_exporter": "python",
   "pygments_lexer": "ipython3",
   "version": "3.6.6"
  }
 },
 "nbformat": 4,
 "nbformat_minor": 2
}
